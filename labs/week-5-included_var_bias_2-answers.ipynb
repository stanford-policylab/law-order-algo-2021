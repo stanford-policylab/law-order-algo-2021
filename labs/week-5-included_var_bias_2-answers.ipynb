{
 "cells": [
  {
   "cell_type": "markdown",
   "metadata": {},
   "source": [
    "# Law, Bias, and Algorithms\n",
    "## Included variable bias (2/2)"
   ]
  },
  {
   "cell_type": "code",
   "execution_count": 1,
   "metadata": {},
   "outputs": [
    {
     "name": "stderr",
     "output_type": "stream",
     "text": [
      "── Attaching packages ─────────────────────────────────────── tidyverse 1.2.1 ──\n",
      "✔ ggplot2 3.0.0     ✔ purrr   0.3.2\n",
      "✔ tibble  1.4.2     ✔ dplyr   0.7.6\n",
      "✔ tidyr   0.8.1     ✔ stringr 1.3.1\n",
      "✔ readr   1.1.1     ✔ forcats 0.2.0\n",
      "── Conflicts ────────────────────────────────────────── tidyverse_conflicts() ──\n",
      "✖ dplyr::filter() masks stats::filter()\n",
      "✖ dplyr::lag()    masks stats::lag()\n"
     ]
    }
   ],
   "source": [
    "# Some initial setup\n",
    "options(digits = 3)\n",
    "library(tidyverse)\n",
    "\n",
    "theme_set(theme_bw())\n",
    "\n",
    "# Read the data\n",
    "stop_df <- read_rds(\"../data/sqf_sample.rds\")"
   ]
  },
  {
   "cell_type": "markdown",
   "metadata": {},
   "source": [
    "## Included-variable bias"
   ]
  },
  {
   "cell_type": "markdown",
   "metadata": {},
   "source": [
    "As we discussed last time, one common method for measuring disparities while addressing some of the omitted-variable bias concerns is to include _all_ recorded data that would have been available to the officer at the time of making the decision (to frisk an individual). This is also known as the \"kitchen sink\" approach."
   ]
  },
  {
   "cell_type": "code",
   "execution_count": 2,
   "metadata": {},
   "outputs": [
    {
     "name": "stdout",
     "output_type": "stream",
     "text": [
      "   suspect_raceblack suspect_racehispanic \n",
      "               0.191                0.173 \n"
     ]
    }
   ],
   "source": [
    "# Use race_coefs(m) to inspect just the race coefficients of any fitted model m\n",
    "race_coefs <- function(m) {\n",
    "    coef(m)[c(\"suspect_raceblack\", \"suspect_racehispanic\")]\n",
    "}\n",
    "\n",
    "feats <- c(\n",
    "    \"suspected_crime\",\n",
    "    \"precinct\",\n",
    "    \"location_housing\",\n",
    "    \"suspect_sex\",\n",
    "    \"suspect_age\",\n",
    "    \"suspect_height\",\n",
    "    \"suspect_weight\",\n",
    "    \"suspect_hair\",\n",
    "    \"suspect_eye\",\n",
    "    \"suspect_build\",\n",
    "    \"additional_report\",\n",
    "    \"additional_investigation\",\n",
    "    \"additional_proximity\",\n",
    "    \"additional_evasive\",\n",
    "    \"additional_associating\",\n",
    "    \"additional_direction\",\n",
    "    \"additional_highcrime\",\n",
    "    \"additional_time\",\n",
    "    \"additional_sights\",\n",
    "    \"additional_other\",\n",
    "    \"stop_reason_object\",\n",
    "    \"stop_reason_desc\",\n",
    "    \"stop_reason_casing\",\n",
    "    \"stop_reason_lookout\",\n",
    "    \"stop_reason_clothing\",\n",
    "    \"stop_reason_drugs\",\n",
    "    \"stop_reason_furtive\",\n",
    "    \"stop_reason_violent\",\n",
    "    \"stop_reason_bulge\",\n",
    "    \"stop_reason_other\",\n",
    "    \"suspect_race\"\n",
    ")\n",
    "\n",
    "# This creates a formula with a specified left-hand side (frisked), and using \n",
    "# all the variables in feats on the right-hand side. \n",
    "# Constructing a formula in this way (instead of typing out all the variable names)\n",
    "# is helpful for constructing multiple models that share a long list of variables in the right-hand side.\n",
    "kitchen_sink_formula <- reformulate(feats, response = \"frisked\")\n",
    "\n",
    "# We are only interested in the race coefficients\n",
    "ks_model <- glm(kitchen_sink_formula, stop_df, family = binomial)\n",
    "print(race_coefs(ks_model))"
   ]
  },
  {
   "cell_type": "markdown",
   "metadata": {},
   "source": [
    "But the problem with including all variables in measuring disparate impact is that an empirical connection between a factor and a decision is not necessarily justified.\n",
    "An obvious example would be something like \"skin color\", where including skin color in the regression will likely account for observed disparities in race,\n",
    "but the correlation between skin color and frisk decisions is unlikely to be justified!\n",
    "On the other hand, a less obvious example would be an officer's suspicion of `cpw`.\n",
    "While it seems reasonable that an officer would frisk individuals suspected of posessing a weapon more frequently,\n",
    "the suspicion itself would only be justified if, and to the degree that, it is predictive of achieving the goal of a frisk: recovering weapons.\n",
    "\n",
    "Blindly including a variable in a regression fails to take into account this _degree_ of justification, \n",
    "potentially overcompensating for variables that are correlated with race.\n",
    "This is the problem known as _included-variable bias_."
   ]
  },
  {
   "cell_type": "markdown",
   "metadata": {},
   "source": [
    "## Risk-adjusted regression"
   ]
  },
  {
   "cell_type": "markdown",
   "metadata": {},
   "source": [
    "As we briefly discussed, adjusting for any variable (i.e., including it in the regression) may only be justified to the degree that the variable is _predictive of the outcome we are ultimately interested in_ (in this case, recovering a weapon). But the extent to which each variable is justified is rarely clear.\n",
    "\n",
    "One simple idea for addressing this concern of included-variable bias is to control for an explicit measure of **risk**, instead of controling for invididual variables.\n",
    "Intuitively, we wish to know whether individuals who have _similar risk_ (of carrying a weapon) were treated (frisked) equally."
   ]
  },
  {
   "cell_type": "markdown",
   "metadata": {},
   "source": [
    "### Exercise 1: Estimating risk\n",
    "\n",
    "In order to adjust for risk, we must first estimate it. This is relatively straightforward in the context of frisk decisions in stop-and-frisk, \n",
    "because the goal of a frisk is relatively clear---we wish to recover weapons. \n",
    "In other words, we want to predict whether a weapon would be found if an individual is frisked. \n",
    "\n",
    "* **Step 1**: `filter` the `stop_df` data to those individuals _who were frisked_. We will call this new data frame `frisked_df`\n",
    "\n",
    "The _risk_ that we are interested in estimating is the probability that a weapon is recovered given that we _frisk_ someone who has already been stopped.\n",
    "While there are many ways to achieve this, one simple way is to build a predictive model, estimating the probability that a weapon is recovered, \n",
    "using just the data for stopped individuals who happened to be frisked. \n",
    "(Implicitly, this relies on an assumption of [_ignorability_](https://en.wikipedia.org/wiki/Ignorability).)"
   ]
  },
  {
   "cell_type": "code",
   "execution_count": 3,
   "metadata": {},
   "outputs": [],
   "source": [
    "# Subset the stop_df data to train cases where the individual was frisked\n",
    "# WRITE CODE HERE\n",
    "# START solution\n",
    "frisked_df <- stop_df %>%\n",
    "    filter(frisked)\n",
    "# END solution"
   ]
  },
  {
   "cell_type": "markdown",
   "metadata": {},
   "source": [
    "* **Step 2**: Using the `frisked_df` data, fit a logistic regression model to predict whether or not a weapon is found using all features that would reasonably be available to an officer (as listed in `feats` above). Let's call this model `risk_model`. \n",
    "\n",
    "Note that we use logistic regression here for simplicity, but more complex methods for predictive modeling could be employed, with additional measures to avoid overfitting (such as splitting the data and regularizing)."
   ]
  },
  {
   "cell_type": "code",
   "execution_count": 4,
   "metadata": {},
   "outputs": [],
   "source": [
    "# Using the subset of data from Step 2, fit the logistic regression model: found_weapon ~ (all legitimate features in feats) \n",
    "# WRITE CODE HERE\n",
    "# START solution\n",
    "risk_formula <- reformulate(feats, response = \"found_weapon\")\n",
    "risk_model <- glm(risk_formula, data = frisked_df, family = binomial)\n",
    "# END solution"
   ]
  },
  {
   "cell_type": "markdown",
   "metadata": {},
   "source": [
    "* **Step 3**: Use the `risk_model` from above to generate a column of model estimated risk (we'll name this column `risk`) on the original `stop_df` data. \n",
    "\n",
    "_Tip_: Given a `glm` model named `risk_model`, a vector of probability predictions for `stop_df` can be created with the command `predict(risk_model, stop_df, type = \"response\")`."
   ]
  },
  {
   "cell_type": "code",
   "execution_count": 5,
   "metadata": {},
   "outputs": [],
   "source": [
    "# Generate a column of predicted risk \n",
    "# WRITE CODE HERE\n",
    "# START solution\n",
    "stop_df <- stop_df %>%\n",
    "    mutate(risk = predict(risk_model, ., type = \"response\"))\n",
    "# END solution"
   ]
  },
  {
   "cell_type": "markdown",
   "metadata": {},
   "source": [
    "## Distribution of risk\n",
    "\n",
    "Now that we have an estimate of risk, we can explore the distribution of risk across race groups."
   ]
  },
  {
   "cell_type": "code",
   "execution_count": 6,
   "metadata": {},
   "outputs": [
    {
     "data": {},
     "metadata": {},
     "output_type": "display_data"
    },
    {
     "data": {
      "image/png": "[encoded data removed]",
      "text/plain": [
       "plot without title"
      ]
     },
     "metadata": {},
     "output_type": "display_data",
     "source": "R display func"
    }
   ],
   "source": [
    "ggplot(stop_df, aes(x = risk)) +\n",
    "geom_histogram(binwidth = .01) +\n",
    "facet_wrap(~ suspect_race) +\n",
    "scale_x_continuous(\"Estimated probability of recovering weapon if frisked\",\n",
    "                   labels = scales::percent_format()) +\n",
    "coord_cartesian(xlim = c(0, .1))"
   ]
  },
  {
   "cell_type": "markdown",
   "metadata": {},
   "source": [
    "### Exercise 2: Frisk rates by estimated risk\n",
    "\n",
    "Given risk estimates, consider individuals who have estimated risk between 4% and 5%. \n",
    "For each race group within this range of risk, compute: (1) the number stops; and (2) frisk rate.\n",
    "\n",
    "Explore different ranges of risk. It might be helpful to refer to the histogram above to see roughly how many cases exist for each race group within each range of estimated risk.\n",
    "Discuss your findings with your partner. What are some implications of these findings?"
   ]
  },
  {
   "cell_type": "code",
   "execution_count": 7,
   "metadata": {},
   "outputs": [
    {
     "data": {
      "text/html": [
       "<table>\n",
       "<thead><tr><th scope=col>suspect_race</th><th scope=col>N</th><th scope=col>p_frisk</th></tr></thead>\n",
       "<tbody>\n",
       "\t<tr><td>white   </td><td> 476    </td><td>0.532   </td></tr>\n",
       "\t<tr><td>black   </td><td>2185    </td><td>0.834   </td></tr>\n",
       "\t<tr><td>hispanic</td><td>1258    </td><td>0.781   </td></tr>\n",
       "</tbody>\n",
       "</table>\n"
      ],
      "text/latex": [
       "\\begin{tabular}{r|lll}\n",
       " suspect\\_race & N & p\\_frisk\\\\\n",
       "\\hline\n",
       "\t white    &  476     & 0.532   \\\\\n",
       "\t black    & 2185     & 0.834   \\\\\n",
       "\t hispanic & 1258     & 0.781   \\\\\n",
       "\\end{tabular}\n"
      ],
      "text/plain": [
       "  suspect_race N    p_frisk\n",
       "1 white         476 0.532  \n",
       "2 black        2185 0.834  \n",
       "3 hispanic     1258 0.781  "
      ]
     },
     "metadata": {},
     "output_type": "display_data"
    }
   ],
   "source": [
    "# WRITE CODE HERE\n",
    "# START solution\n",
    "stop_df %>%\n",
    "    filter(risk >= .04, risk <= .05) %>%\n",
    "    group_by(suspect_race) %>%\n",
    "    summarize(N = n(),\n",
    "              p_frisk = mean(frisked))\n",
    "# END solution"
   ]
  },
  {
   "cell_type": "markdown",
   "metadata": {},
   "source": [
    "### Exercise 3: Risk-adjusted regression\n",
    "\n",
    "Now compute risk-adjusted frisk rates for stopped individuals across different race groups.\n",
    "\n",
    "How do these results compare to both the naive base rates and the \"kitchen sink\" approach?"
   ]
  },
  {
   "cell_type": "code",
   "execution_count": 8,
   "metadata": {},
   "outputs": [
    {
     "name": "stdout",
     "output_type": "stream",
     "text": [
      "\n",
      "Call:\n",
      "glm(formula = frisked ~ suspect_race + risk, family = binomial, \n",
      "    data = stop_df)\n",
      "\n",
      "Deviance Residuals: \n",
      "   Min      1Q  Median      3Q     Max  \n",
      "-3.253  -1.294   0.783   0.811   1.116  \n",
      "\n",
      "Coefficients:\n",
      "                     Estimate Std. Error z value Pr(>|z|)    \n",
      "(Intercept)            0.1436     0.0189    7.59  3.2e-14 ***\n",
      "suspect_raceblack      0.7891     0.0206   38.23  < 2e-16 ***\n",
      "suspect_racehispanic   0.6599     0.0220   30.03  < 2e-16 ***\n",
      "risk                   5.0839     0.2012   25.27  < 2e-16 ***\n",
      "---\n",
      "Signif. codes:  0 ‘***’ 0.001 ‘**’ 0.01 ‘*’ 0.05 ‘.’ 0.1 ‘ ’ 1\n",
      "\n",
      "(Dispersion parameter for binomial family taken to be 1)\n",
      "\n",
      "    Null deviance: 120059  on 99999  degrees of freedom\n",
      "Residual deviance: 117842  on 99996  degrees of freedom\n",
      "AIC: 117850\n",
      "\n",
      "Number of Fisher Scoring iterations: 4\n",
      "\n"
     ]
    }
   ],
   "source": [
    "# WRITE CODE HERE\n",
    "# START solution\n",
    "rar_model <- glm(frisked ~ suspect_race + risk, stop_df, family = binomial)\n",
    "print(summary(rar_model))\n",
    "# END solution"
   ]
  },
  {
   "cell_type": "markdown",
   "metadata": {},
   "source": [
    "### Exercise 4: Additional considerations\n",
    "\n",
    "Even after adjusting for risk, disparities across certain features may still be justified.\n",
    "For example, officers might enforce different standards for different location types: frisking individuals stopped in `transit` who they would not have frisked\n",
    "if found in `housing`.  \n",
    "\n",
    "Given the risk-adjusted regression results, what may be some other legitimate concerns? \n",
    "What are possible justifications for the racial disparities that persist after adjusting for risk? \n",
    "How could we revise our model to further account for such possibilities."
   ]
  },
  {
   "cell_type": "code",
   "execution_count": 9,
   "metadata": {},
   "outputs": [
    {
     "name": "stdout",
     "output_type": "stream",
     "text": [
      "\n",
      "Call:\n",
      "glm(formula = frisked ~ suspect_race + risk + location_housing, \n",
      "    family = binomial, data = stop_df)\n",
      "\n",
      "Deviance Residuals: \n",
      "   Min      1Q  Median      3Q     Max  \n",
      "-3.433  -1.283   0.744   0.801   1.403  \n",
      "\n",
      "Coefficients:\n",
      "                        Estimate Std. Error z value Pr(>|z|)    \n",
      "(Intercept)               0.4875     0.0352    13.8   <2e-16 ***\n",
      "suspect_raceblack         0.8394     0.0210    40.0   <2e-16 ***\n",
      "suspect_racehispanic      0.7013     0.0222    31.6   <2e-16 ***\n",
      "risk                      5.6908     0.1989    28.6   <2e-16 ***\n",
      "location_housingneither  -0.3108     0.0305   -10.2   <2e-16 ***\n",
      "location_housingtransit  -1.0178     0.0342   -29.7   <2e-16 ***\n",
      "---\n",
      "Signif. codes:  0 ‘***’ 0.001 ‘**’ 0.01 ‘*’ 0.05 ‘.’ 0.1 ‘ ’ 1\n",
      "\n",
      "(Dispersion parameter for binomial family taken to be 1)\n",
      "\n",
      "    Null deviance: 120059  on 99999  degrees of freedom\n",
      "Residual deviance: 116351  on 99994  degrees of freedom\n",
      "AIC: 116363\n",
      "\n",
      "Number of Fisher Scoring iterations: 4\n",
      "\n"
     ]
    }
   ],
   "source": [
    "# WRITE CODE HERE\n",
    "# START solution\n",
    "rar_model <- glm(frisked ~ suspect_race + risk + location_housing, stop_df, family = binomial)\n",
    "print(summary(rar_model))\n",
    "# END solution"
   ]
  }
 ],
 "metadata": {
  "kernelspec": {
   "display_name": "R",
   "language": "R",
   "name": "ir"
  },
  "language_info": {
   "codemirror_mode": "r",
   "file_extension": ".r",
   "mimetype": "text/x-r-source",
   "name": "R",
   "pygments_lexer": "r",
   "version": "3.4.4"
  }
 },
 "nbformat": 4,
 "nbformat_minor": 2
}
