{
 "cells": [
  {
   "cell_type": "markdown",
   "metadata": {},
   "source": [
    "# Law, Bias, and Algorithms\n",
    "## Tests for discrimination"
   ]
  },
  {
   "cell_type": "code",
   "execution_count": 1,
   "metadata": {},
   "outputs": [
    {
     "name": "stderr",
     "output_type": "stream",
     "text": [
      "── \u001b[1mAttaching packages\u001b[22m ─────────────────────────────────────── tidyverse 1.3.0 ──\n",
      "\u001b[32m✔\u001b[39m \u001b[34mggplot2\u001b[39m 3.3.2     \u001b[32m✔\u001b[39m \u001b[34mpurrr  \u001b[39m 0.3.4\n",
      "\u001b[32m✔\u001b[39m \u001b[34mtibble \u001b[39m 3.0.3     \u001b[32m✔\u001b[39m \u001b[34mdplyr  \u001b[39m 1.0.0\n",
      "\u001b[32m✔\u001b[39m \u001b[34mtidyr  \u001b[39m 1.1.0     \u001b[32m✔\u001b[39m \u001b[34mstringr\u001b[39m 1.4.0\n",
      "\u001b[32m✔\u001b[39m \u001b[34mreadr  \u001b[39m 1.3.1     \u001b[32m✔\u001b[39m \u001b[34mforcats\u001b[39m 0.4.0\n",
      "── \u001b[1mConflicts\u001b[22m ────────────────────────────────────────── tidyverse_conflicts() ──\n",
      "\u001b[31m✖\u001b[39m \u001b[34mdplyr\u001b[39m::\u001b[32mfilter()\u001b[39m masks \u001b[34mstats\u001b[39m::filter()\n",
      "\u001b[31m✖\u001b[39m \u001b[34mdplyr\u001b[39m::\u001b[32mlag()\u001b[39m    masks \u001b[34mstats\u001b[39m::lag()\n",
      "\n",
      "Attaching package: ‘lubridate’\n",
      "\n",
      "The following object is masked from ‘package:base’:\n",
      "\n",
      "    date\n",
      "\n"
     ]
    }
   ],
   "source": [
    "# Some initial setup\n",
    "options(digits = 3)\n",
    "\n",
    "library(tidyverse)\n",
    "library(lubridate)\n",
    "\n",
    "theme_set(theme_bw())\n",
    "\n",
    "# Read the data\n",
    "stop_df <- read_rds(\"../data/sqf_sample.rds\")\n"
   ]
  },
  {
   "cell_type": "markdown",
   "metadata": {},
   "source": [
    "### The data\n",
    "\n",
    "The loaded data frame, `stop_df`, is a sample of stops in NYC, recorded on a \n",
    "[UF-250 form][uf250_link]\n",
    "\n",
    "Below is a list of columns in the data, roughly corresponding to the [UF-250 form][uf250_link]:\n",
    "\n",
    "* Base information regarding each stop:\n",
    "    * `id`, `year`, `date`, `time`, `precinct`, `location_housing`, \n",
    "      `suspected_crime`\n",
    "\n",
    "* Circumstances which led to the stop:\n",
    "    * `stop_reason_object`, `stop_reason_desc`, `stop_reason_casing`,\n",
    "      `stop_reason_lookout`, `stop_reason_clothing`, `stop_reason_drugs`,\n",
    "      `stop_reason_furtive`, `stop_reason_violent`, `stop_reason_bulge`,\n",
    "      `stop_reason_other` \n",
    "    \n",
    "* Suspect demographics:\n",
    "    * `suspect_dob`, `suspect_id_type`, `suspect_sex`, `suspect_race`,\n",
    "      `suspect_hispanic`, `suspect_age`, `suspect_height`, `suspect_weight`,\n",
    "      `suspect_hair`, `suspect_eye`, `suspect_build`, `reason_explained`,\n",
    "      `others_stopped`\n",
    "\n",
    "* Whether physical force was used:\n",
    "    * `force_hands`, `force_wall`, `force_ground`, `force_drawn`,\n",
    "      `force_pointed`, `force_baton`, `force_handcuffs`,\n",
    "      `force_pepper`, `force_other`\n",
    "\n",
    "* Was suspect arrested?: `arrested`\n",
    "\n",
    "* Was summons issued?: `summons_issued`\n",
    "\n",
    "* Officer in uniform?: `officer_uniform`, `officer_verbal`, `officer_shield`\n",
    "\n",
    "* Was person frisked?: `frisked`\n",
    "    * if yes: `frisk_reason_suspected_crime`, `frisk_reason_weapons`, \n",
    "      `frisk_reason_attire`, `frisk_reason_actual_crime`, \n",
    "      `frisk_reason_noncompliance`, `frisk_reason_threats`,\n",
    "      `frisk_reason_prior`, `frisk_reason_furtive`, `frisk_reason_bulge`\n",
    "\n",
    "* Was person searched?: `searched`,\n",
    "    * if yes: `searched_hardobject`, `searched_outline`,\n",
    "      `searched_admission`, `searched_other`\n",
    "\n",
    "* Was weapon found?: `found_weapon`\n",
    "    * if yes: `found_gun`, `found_pistol`, `found_rifle`, `found_assault`,\n",
    "      `found_knife`, `found_machinegun`, `found_other`\n",
    "      \n",
    "* Was other contraband found?: `found_contraband`\n",
    "\n",
    "* Additional circumstances/factors\n",
    "    * `additional_report`, `additional_investigation`, `additional_proximity`, \n",
    "      `additional_evasive`, `additional_associating`, `additional_direction`, \n",
    "      `additional_highcrime`, `additional_time`, `additional_sights`, \n",
    "      `additional_other`\n",
    "\n",
    "* Additional reports prepared: `extra_reports`\n",
    "\n",
    "[uf250_link]: https://www.prisonlegalnews.org/media/publications/Blank%20UF-250%20Form%20-%20Stop%2C%20Question%20and%20Frisk%20Report%20Worksheet%2C%20NYPD%2C%202016.pdf\n",
    "      "
   ]
  },
  {
   "cell_type": "markdown",
   "metadata": {},
   "source": [
    "### Exercise 1: Initial exploration\n",
    "\n",
    "* Compare columns of `stop_df` with the fields in the [UF-250 form][uf250_link].\n",
    "* Explore basic statistics, e.g.,\n",
    "    * What date range does our data cover?\n",
    "    * What is the proportion of stops by `suspect_race`?\n",
    "    * What are the five most common suspected crimes for a stop?\n",
    "    * What proportion of stops result in retrieval of weapon or contraband?\n",
    "* If you were to predict whether an officer would frisk a stopped individual, which columns/fields could you use? (i.e., which of the columns are pre/post frisk?)\n",
    "\n",
    "[uf250_link]: https://www.prisonlegalnews.org/media/publications/Blank%20UF-250%20Form%20-%20Stop%2C%20Question%20and%20Frisk%20Report%20Worksheet%2C%20NYPD%2C%202016.pdf\n"
   ]
  },
  {
   "cell_type": "code",
   "execution_count": 2,
   "metadata": {},
   "outputs": [
    {
     "data": {
      "text/html": [
       "<table>\n",
       "<caption>A tibble: 1 × 2</caption>\n",
       "<thead>\n",
       "\t<tr><th scope=col>start</th><th scope=col>end</th></tr>\n",
       "\t<tr><th scope=col>&lt;date&gt;</th><th scope=col>&lt;date&gt;</th></tr>\n",
       "</thead>\n",
       "<tbody>\n",
       "\t<tr><td>2007-01-01</td><td>2013-12-31</td></tr>\n",
       "</tbody>\n",
       "</table>\n"
      ],
      "text/latex": [
       "A tibble: 1 × 2\n",
       "\\begin{tabular}{r|ll}\n",
       " start & end\\\\\n",
       " <date> & <date>\\\\\n",
       "\\hline\n",
       "\t 2007-01-01 & 2013-12-31\\\\\n",
       "\\end{tabular}\n"
      ],
      "text/markdown": [
       "\n",
       "A tibble: 1 × 2\n",
       "\n",
       "| start &lt;date&gt; | end &lt;date&gt; |\n",
       "|---|---|\n",
       "| 2007-01-01 | 2013-12-31 |\n",
       "\n"
      ],
      "text/plain": [
       "  start      end       \n",
       "1 2007-01-01 2013-12-31"
      ]
     },
     "metadata": {},
     "output_type": "display_data"
    },
    {
     "name": "stderr",
     "output_type": "stream",
     "text": [
      "`summarise()` ungrouping output (override with `.groups` argument)\n"
     ]
    },
    {
     "data": {
      "text/html": [
       "<table>\n",
       "<caption>A tibble: 7 × 2</caption>\n",
       "<thead>\n",
       "\t<tr><th scope=col>suspect_race</th><th scope=col>stop_prop</th></tr>\n",
       "\t<tr><th scope=col>&lt;fct&gt;</th><th scope=col>&lt;dbl&gt;</th></tr>\n",
       "</thead>\n",
       "<tbody>\n",
       "\t<tr><td>black          </td><td>0.52245</td></tr>\n",
       "\t<tr><td>hispanic       </td><td>0.31144</td></tr>\n",
       "\t<tr><td>white          </td><td>0.09808</td></tr>\n",
       "\t<tr><td>asian          </td><td>0.03178</td></tr>\n",
       "\t<tr><td>other          </td><td>0.02608</td></tr>\n",
       "\t<tr><td>NA             </td><td>0.00616</td></tr>\n",
       "\t<tr><td>native american</td><td>0.00402</td></tr>\n",
       "</tbody>\n",
       "</table>\n"
      ],
      "text/latex": [
       "A tibble: 7 × 2\n",
       "\\begin{tabular}{r|ll}\n",
       " suspect\\_race & stop\\_prop\\\\\n",
       " <fct> & <dbl>\\\\\n",
       "\\hline\n",
       "\t black           & 0.52245\\\\\n",
       "\t hispanic        & 0.31144\\\\\n",
       "\t white           & 0.09808\\\\\n",
       "\t asian           & 0.03178\\\\\n",
       "\t other           & 0.02608\\\\\n",
       "\t NA              & 0.00616\\\\\n",
       "\t native american & 0.00402\\\\\n",
       "\\end{tabular}\n"
      ],
      "text/markdown": [
       "\n",
       "A tibble: 7 × 2\n",
       "\n",
       "| suspect_race &lt;fct&gt; | stop_prop &lt;dbl&gt; |\n",
       "|---|---|\n",
       "| black           | 0.52245 |\n",
       "| hispanic        | 0.31144 |\n",
       "| white           | 0.09808 |\n",
       "| asian           | 0.03178 |\n",
       "| other           | 0.02608 |\n",
       "| NA              | 0.00616 |\n",
       "| native american | 0.00402 |\n",
       "\n"
      ],
      "text/plain": [
       "  suspect_race    stop_prop\n",
       "1 black           0.52245  \n",
       "2 hispanic        0.31144  \n",
       "3 white           0.09808  \n",
       "4 asian           0.03178  \n",
       "5 other           0.02608  \n",
       "6 NA              0.00616  \n",
       "7 native american 0.00402  "
      ]
     },
     "metadata": {},
     "output_type": "display_data"
    },
    {
     "name": "stderr",
     "output_type": "stream",
     "text": [
      "`summarise()` ungrouping output (override with `.groups` argument)\n"
     ]
    },
    {
     "data": {
      "text/html": [
       "<table>\n",
       "<caption>A tibble: 5 × 2</caption>\n",
       "<thead>\n",
       "\t<tr><th scope=col>suspected_crime</th><th scope=col>count</th></tr>\n",
       "\t<tr><th scope=col>&lt;chr&gt;</th><th scope=col>&lt;int&gt;</th></tr>\n",
       "</thead>\n",
       "<tbody>\n",
       "\t<tr><td>cpw               </td><td>258706</td></tr>\n",
       "\t<tr><td>robbery           </td><td>173946</td></tr>\n",
       "\t<tr><td>burglary          </td><td>102423</td></tr>\n",
       "\t<tr><td>criminal trespass </td><td> 98809</td></tr>\n",
       "\t<tr><td>grand larceny auto</td><td> 97928</td></tr>\n",
       "</tbody>\n",
       "</table>\n"
      ],
      "text/latex": [
       "A tibble: 5 × 2\n",
       "\\begin{tabular}{r|ll}\n",
       " suspected\\_crime & count\\\\\n",
       " <chr> & <int>\\\\\n",
       "\\hline\n",
       "\t cpw                & 258706\\\\\n",
       "\t robbery            & 173946\\\\\n",
       "\t burglary           & 102423\\\\\n",
       "\t criminal trespass  &  98809\\\\\n",
       "\t grand larceny auto &  97928\\\\\n",
       "\\end{tabular}\n"
      ],
      "text/markdown": [
       "\n",
       "A tibble: 5 × 2\n",
       "\n",
       "| suspected_crime &lt;chr&gt; | count &lt;int&gt; |\n",
       "|---|---|\n",
       "| cpw                | 258706 |\n",
       "| robbery            | 173946 |\n",
       "| burglary           | 102423 |\n",
       "| criminal trespass  |  98809 |\n",
       "| grand larceny auto |  97928 |\n",
       "\n"
      ],
      "text/plain": [
       "  suspected_crime    count \n",
       "1 cpw                258706\n",
       "2 robbery            173946\n",
       "3 burglary           102423\n",
       "4 criminal trespass   98809\n",
       "5 grand larceny auto  97928"
      ]
     },
     "metadata": {},
     "output_type": "display_data"
    },
    {
     "data": {
      "text/html": [
       "<table>\n",
       "<caption>A tibble: 1 × 1</caption>\n",
       "<thead>\n",
       "\t<tr><th scope=col>p_success</th></tr>\n",
       "\t<tr><th scope=col>&lt;dbl&gt;</th></tr>\n",
       "</thead>\n",
       "<tbody>\n",
       "\t<tr><td>0.0286</td></tr>\n",
       "</tbody>\n",
       "</table>\n"
      ],
      "text/latex": [
       "A tibble: 1 × 1\n",
       "\\begin{tabular}{r|l}\n",
       " p\\_success\\\\\n",
       " <dbl>\\\\\n",
       "\\hline\n",
       "\t 0.0286\\\\\n",
       "\\end{tabular}\n"
      ],
      "text/markdown": [
       "\n",
       "A tibble: 1 × 1\n",
       "\n",
       "| p_success &lt;dbl&gt; |\n",
       "|---|\n",
       "| 0.0286 |\n",
       "\n"
      ],
      "text/plain": [
       "  p_success\n",
       "1 0.0286   "
      ]
     },
     "metadata": {},
     "output_type": "display_data"
    }
   ],
   "source": [
    "# WRITE CODE HERE\n",
    "# START solution\n",
    "# Date range\n",
    "\n",
    "stop_df %>%\n",
    "    filter(!is.na(date), year(date) > 1900) %>%\n",
    "    summarize(\n",
    "        start = min(date),\n",
    "        end = max(date)\n",
    "    ) \n",
    "\n",
    "# Proportion of stops by suspect race\n",
    "stop_df %>%\n",
    "    group_by(suspect_race) %>%\n",
    "    summarize(stop_prop = n()/nrow(.)) %>%\n",
    "    arrange(desc(stop_prop)) \n",
    "\n",
    "# Top five suspected crimes\n",
    "stop_df %>%\n",
    "    group_by(suspected_crime) %>%\n",
    "    summarize(count = n()) %>%\n",
    "    top_n(5, count) %>%\n",
    "    arrange(desc(count)) \n",
    "\n",
    "# Proportion of stops that are \"successful\" (weapon or contraband found)\n",
    "stop_df %>% \n",
    "    mutate(success = (found_weapon | found_contraband)) %>%\n",
    "    summarize(p_success = mean(success, na.rm = TRUE))\n",
    "# END solution"
   ]
  },
  {
   "cell_type": "markdown",
   "metadata": {},
   "source": [
    "For the rest of this exercise, we'll be focusing on the frisk data."
   ]
  },
  {
   "cell_type": "markdown",
   "metadata": {},
   "source": [
    "### Exercise 2: Frisk rates \n",
    "\n",
    "In considering whether there are racial disparities at the decision to frisk, we can compare frisk rates of minorities to frisk rates of white individuals. In other words, are white people who are stopped frisked more or less often than minorities who are stopped? Recall that the legal justification for a frisk is reasonable articulable suspicion (RAS) that the suspect posesses a weapon. Comparing frisk rates thus relies on the assumption that RAS is equally distributed among the stopped population. In this context, the stopped population is often called the *benchmark*.)\n",
    "\n",
    "* What is the proportion of frisks by `suspect_race`? \n",
    "* What are the frisk rates (i.e., frisks benchmarked to the stopped population) by `suspect_race`? \n",
    "* What information can you draw from these two tables?"
   ]
  },
  {
   "cell_type": "code",
   "execution_count": 3,
   "metadata": {},
   "outputs": [
    {
     "name": "stderr",
     "output_type": "stream",
     "text": [
      "`summarise()` ungrouping output (override with `.groups` argument)\n"
     ]
    },
    {
     "data": {
      "text/html": [
       "<table>\n",
       "<caption>A tibble: 7 × 2</caption>\n",
       "<thead>\n",
       "\t<tr><th scope=col>suspect_race</th><th scope=col>prop</th></tr>\n",
       "\t<tr><th scope=col>&lt;fct&gt;</th><th scope=col>&lt;dbl&gt;</th></tr>\n",
       "</thead>\n",
       "<tbody>\n",
       "\t<tr><td>black          </td><td>0.53721</td></tr>\n",
       "\t<tr><td>hispanic       </td><td>0.32559</td></tr>\n",
       "\t<tr><td>white          </td><td>0.07750</td></tr>\n",
       "\t<tr><td>asian          </td><td>0.02687</td></tr>\n",
       "\t<tr><td>other          </td><td>0.02422</td></tr>\n",
       "\t<tr><td>NA             </td><td>0.00522</td></tr>\n",
       "\t<tr><td>native american</td><td>0.00339</td></tr>\n",
       "</tbody>\n",
       "</table>\n"
      ],
      "text/latex": [
       "A tibble: 7 × 2\n",
       "\\begin{tabular}{r|ll}\n",
       " suspect\\_race & prop\\\\\n",
       " <fct> & <dbl>\\\\\n",
       "\\hline\n",
       "\t black           & 0.53721\\\\\n",
       "\t hispanic        & 0.32559\\\\\n",
       "\t white           & 0.07750\\\\\n",
       "\t asian           & 0.02687\\\\\n",
       "\t other           & 0.02422\\\\\n",
       "\t NA              & 0.00522\\\\\n",
       "\t native american & 0.00339\\\\\n",
       "\\end{tabular}\n"
      ],
      "text/markdown": [
       "\n",
       "A tibble: 7 × 2\n",
       "\n",
       "| suspect_race &lt;fct&gt; | prop &lt;dbl&gt; |\n",
       "|---|---|\n",
       "| black           | 0.53721 |\n",
       "| hispanic        | 0.32559 |\n",
       "| white           | 0.07750 |\n",
       "| asian           | 0.02687 |\n",
       "| other           | 0.02422 |\n",
       "| NA              | 0.00522 |\n",
       "| native american | 0.00339 |\n",
       "\n"
      ],
      "text/plain": [
       "  suspect_race    prop   \n",
       "1 black           0.53721\n",
       "2 hispanic        0.32559\n",
       "3 white           0.07750\n",
       "4 asian           0.02687\n",
       "5 other           0.02422\n",
       "6 NA              0.00522\n",
       "7 native american 0.00339"
      ]
     },
     "metadata": {},
     "output_type": "display_data"
    },
    {
     "name": "stderr",
     "output_type": "stream",
     "text": [
      "`summarise()` ungrouping output (override with `.groups` argument)\n"
     ]
    },
    {
     "data": {
      "text/html": [
       "<table>\n",
       "<caption>A tibble: 7 × 2</caption>\n",
       "<thead>\n",
       "\t<tr><th scope=col>suspect_race</th><th scope=col>p_frisked</th></tr>\n",
       "\t<tr><th scope=col>&lt;fct&gt;</th><th scope=col>&lt;dbl&gt;</th></tr>\n",
       "</thead>\n",
       "<tbody>\n",
       "\t<tr><td>hispanic       </td><td>0.580</td></tr>\n",
       "\t<tr><td>black          </td><td>0.571</td></tr>\n",
       "\t<tr><td>other          </td><td>0.515</td></tr>\n",
       "\t<tr><td>NA             </td><td>0.471</td></tr>\n",
       "\t<tr><td>asian          </td><td>0.469</td></tr>\n",
       "\t<tr><td>native american</td><td>0.468</td></tr>\n",
       "\t<tr><td>white          </td><td>0.439</td></tr>\n",
       "</tbody>\n",
       "</table>\n"
      ],
      "text/latex": [
       "A tibble: 7 × 2\n",
       "\\begin{tabular}{r|ll}\n",
       " suspect\\_race & p\\_frisked\\\\\n",
       " <fct> & <dbl>\\\\\n",
       "\\hline\n",
       "\t hispanic        & 0.580\\\\\n",
       "\t black           & 0.571\\\\\n",
       "\t other           & 0.515\\\\\n",
       "\t NA              & 0.471\\\\\n",
       "\t asian           & 0.469\\\\\n",
       "\t native american & 0.468\\\\\n",
       "\t white           & 0.439\\\\\n",
       "\\end{tabular}\n"
      ],
      "text/markdown": [
       "\n",
       "A tibble: 7 × 2\n",
       "\n",
       "| suspect_race &lt;fct&gt; | p_frisked &lt;dbl&gt; |\n",
       "|---|---|\n",
       "| hispanic        | 0.580 |\n",
       "| black           | 0.571 |\n",
       "| other           | 0.515 |\n",
       "| NA              | 0.471 |\n",
       "| asian           | 0.469 |\n",
       "| native american | 0.468 |\n",
       "| white           | 0.439 |\n",
       "\n"
      ],
      "text/plain": [
       "  suspect_race    p_frisked\n",
       "1 hispanic        0.580    \n",
       "2 black           0.571    \n",
       "3 other           0.515    \n",
       "4 NA              0.471    \n",
       "5 asian           0.469    \n",
       "6 native american 0.468    \n",
       "7 white           0.439    "
      ]
     },
     "metadata": {},
     "output_type": "display_data"
    }
   ],
   "source": [
    "# WRITE CODE HERE\n",
    "# START solution\n",
    "# Proportion of frisks suspect race\n",
    "stop_df %>%\n",
    "    filter(frisked) %>%\n",
    "    group_by(suspect_race) %>%\n",
    "    summarize(prop = n()/nrow(.)) %>%\n",
    "    arrange(desc(prop))\n",
    "\n",
    "# Frisk rate for stopped suspects by suspect race\n",
    "stop_df %>%\n",
    "    group_by(suspect_race) %>%\n",
    "    summarize(p_frisked = mean(frisked)) %>%\n",
    "    arrange(desc(p_frisked))\n",
    "# END solution"
   ]
  },
  {
   "cell_type": "markdown",
   "metadata": {},
   "source": [
    "### Exercise 3: Dealing with confounders\n",
    "\n",
    "Even if one race group has higher frisk rates than another, one could make the argument that officers might have a legitimate reason to frisk certain types of individuals more often and that reason happens to correlate with race. Such a reason is often called a *confounding variable*. We'll discuss an example of this from our data in a moment.\n",
    "\n",
    "Presence of a confounding variable would imply that our assumption in Exercise 2 (that among stopped individuals, all race groups exhibit RAS at equal rates) is missing the mark. If this confounding variable is strongly correlated with RAS and is also unevenly distributed across race groups, then our benchmark (i.e., comparing frisk rates) would be misrepresenting disparities.\n",
    "\n",
    "Note from Exercise 1 that the most commonly suspected crime is *cpw*, criminal possession of a weapon. Given that the primary justification of a frisk is concern for officer safety, one could argue that it is reasonable for an officer to \n",
    "frisk individuals whom they have stopped under suspicion of criminal posession of weapons. It would thus make sense for cpw stops to have higher frisk rates. And if a larger proportion of minority stops were cpw stops, then we might correspondingly expect frisk rates to be higher among minority groups, due to this confounder.\n",
    "\n",
    "To test this theory, first create a new binary column in `stop_df` named `is_cpw` that is `TRUE` if `suspected_crime` is `cpw`. "
   ]
  },
  {
   "cell_type": "code",
   "execution_count": 4,
   "metadata": {},
   "outputs": [],
   "source": [
    "# WRITE CODE TO ADD is_cpw column HERE\n",
    "# START solution\n",
    "stop_df <- stop_df %>%\n",
    "    mutate(is_cpw = (suspected_crime == \"cpw\"))\n",
    "# END solution"
   ]
  },
  {
   "cell_type": "markdown",
   "metadata": {},
   "source": [
    "Now answer the following:\n",
    "* What proportion of stops were cpw stops, by `suspect_race`?\n",
    "* Among cpw stops, what are the frisk rates by `suspect_race`? Among non-cpw stops, what are the frisk rates by `suspect_race`?\n",
    "* *Hint:* For the two tasks above, your new `is_cpw` column might come in handy!\n",
    "* Summarize your findings. Does `is_cpw` seem like a confounding variable? Do there still appear to be racial disparities in frisk rates even after accounting for whether a stop was for cpw or not?"
   ]
  },
  {
   "cell_type": "code",
   "execution_count": 5,
   "metadata": {},
   "outputs": [
    {
     "name": "stderr",
     "output_type": "stream",
     "text": [
      "`summarise()` ungrouping output (override with `.groups` argument)\n"
     ]
    },
    {
     "data": {
      "text/html": [
       "<table>\n",
       "<caption>A tibble: 7 × 2</caption>\n",
       "<thead>\n",
       "\t<tr><th scope=col>suspect_race</th><th scope=col>p_cpw</th></tr>\n",
       "\t<tr><th scope=col>&lt;fct&gt;</th><th scope=col>&lt;dbl&gt;</th></tr>\n",
       "</thead>\n",
       "<tbody>\n",
       "\t<tr><td>black          </td><td>0.301</td></tr>\n",
       "\t<tr><td>other          </td><td>0.274</td></tr>\n",
       "\t<tr><td>hispanic       </td><td>0.248</td></tr>\n",
       "\t<tr><td>NA             </td><td>0.238</td></tr>\n",
       "\t<tr><td>native american</td><td>0.147</td></tr>\n",
       "\t<tr><td>white          </td><td>0.113</td></tr>\n",
       "\t<tr><td>asian          </td><td>0.112</td></tr>\n",
       "</tbody>\n",
       "</table>\n"
      ],
      "text/latex": [
       "A tibble: 7 × 2\n",
       "\\begin{tabular}{r|ll}\n",
       " suspect\\_race & p\\_cpw\\\\\n",
       " <fct> & <dbl>\\\\\n",
       "\\hline\n",
       "\t black           & 0.301\\\\\n",
       "\t other           & 0.274\\\\\n",
       "\t hispanic        & 0.248\\\\\n",
       "\t NA              & 0.238\\\\\n",
       "\t native american & 0.147\\\\\n",
       "\t white           & 0.113\\\\\n",
       "\t asian           & 0.112\\\\\n",
       "\\end{tabular}\n"
      ],
      "text/markdown": [
       "\n",
       "A tibble: 7 × 2\n",
       "\n",
       "| suspect_race &lt;fct&gt; | p_cpw &lt;dbl&gt; |\n",
       "|---|---|\n",
       "| black           | 0.301 |\n",
       "| other           | 0.274 |\n",
       "| hispanic        | 0.248 |\n",
       "| NA              | 0.238 |\n",
       "| native american | 0.147 |\n",
       "| white           | 0.113 |\n",
       "| asian           | 0.112 |\n",
       "\n"
      ],
      "text/plain": [
       "  suspect_race    p_cpw\n",
       "1 black           0.301\n",
       "2 other           0.274\n",
       "3 hispanic        0.248\n",
       "4 NA              0.238\n",
       "5 native american 0.147\n",
       "6 white           0.113\n",
       "7 asian           0.112"
      ]
     },
     "metadata": {},
     "output_type": "display_data"
    },
    {
     "name": "stderr",
     "output_type": "stream",
     "text": [
      "`summarise()` regrouping output by 'is_cpw' (override with `.groups` argument)\n"
     ]
    },
    {
     "data": {
      "text/html": [
       "<table>\n",
       "<caption>A grouped_df: 20 × 3</caption>\n",
       "<thead>\n",
       "\t<tr><th scope=col>is_cpw</th><th scope=col>suspect_race</th><th scope=col>p_frisked</th></tr>\n",
       "\t<tr><th scope=col>&lt;lgl&gt;</th><th scope=col>&lt;fct&gt;</th><th scope=col>&lt;dbl&gt;</th></tr>\n",
       "</thead>\n",
       "<tbody>\n",
       "\t<tr><td>FALSE</td><td>hispanic       </td><td>0.478</td></tr>\n",
       "\t<tr><td>FALSE</td><td>black          </td><td>0.435</td></tr>\n",
       "\t<tr><td>FALSE</td><td>asian          </td><td>0.419</td></tr>\n",
       "\t<tr><td>FALSE</td><td>native american</td><td>0.403</td></tr>\n",
       "\t<tr><td>FALSE</td><td>white          </td><td>0.387</td></tr>\n",
       "\t<tr><td>FALSE</td><td>other          </td><td>0.384</td></tr>\n",
       "\t<tr><td>FALSE</td><td>NA             </td><td>0.374</td></tr>\n",
       "\t<tr><td> TRUE</td><td>hispanic       </td><td>0.889</td></tr>\n",
       "\t<tr><td> TRUE</td><td>black          </td><td>0.885</td></tr>\n",
       "\t<tr><td> TRUE</td><td>asian          </td><td>0.865</td></tr>\n",
       "\t<tr><td> TRUE</td><td>other          </td><td>0.862</td></tr>\n",
       "\t<tr><td> TRUE</td><td>native american</td><td>0.846</td></tr>\n",
       "\t<tr><td> TRUE</td><td>white          </td><td>0.846</td></tr>\n",
       "\t<tr><td> TRUE</td><td>NA             </td><td>0.781</td></tr>\n",
       "\t<tr><td>   NA</td><td>black          </td><td>0.800</td></tr>\n",
       "\t<tr><td>   NA</td><td>hispanic       </td><td>0.667</td></tr>\n",
       "\t<tr><td>   NA</td><td>asian          </td><td>0.000</td></tr>\n",
       "\t<tr><td>   NA</td><td>white          </td><td>0.000</td></tr>\n",
       "\t<tr><td>   NA</td><td>other          </td><td>0.000</td></tr>\n",
       "\t<tr><td>   NA</td><td>NA             </td><td>0.000</td></tr>\n",
       "</tbody>\n",
       "</table>\n"
      ],
      "text/latex": [
       "A grouped_df: 20 × 3\n",
       "\\begin{tabular}{r|lll}\n",
       " is\\_cpw & suspect\\_race & p\\_frisked\\\\\n",
       " <lgl> & <fct> & <dbl>\\\\\n",
       "\\hline\n",
       "\t FALSE & hispanic        & 0.478\\\\\n",
       "\t FALSE & black           & 0.435\\\\\n",
       "\t FALSE & asian           & 0.419\\\\\n",
       "\t FALSE & native american & 0.403\\\\\n",
       "\t FALSE & white           & 0.387\\\\\n",
       "\t FALSE & other           & 0.384\\\\\n",
       "\t FALSE & NA              & 0.374\\\\\n",
       "\t  TRUE & hispanic        & 0.889\\\\\n",
       "\t  TRUE & black           & 0.885\\\\\n",
       "\t  TRUE & asian           & 0.865\\\\\n",
       "\t  TRUE & other           & 0.862\\\\\n",
       "\t  TRUE & native american & 0.846\\\\\n",
       "\t  TRUE & white           & 0.846\\\\\n",
       "\t  TRUE & NA              & 0.781\\\\\n",
       "\t    NA & black           & 0.800\\\\\n",
       "\t    NA & hispanic        & 0.667\\\\\n",
       "\t    NA & asian           & 0.000\\\\\n",
       "\t    NA & white           & 0.000\\\\\n",
       "\t    NA & other           & 0.000\\\\\n",
       "\t    NA & NA              & 0.000\\\\\n",
       "\\end{tabular}\n"
      ],
      "text/markdown": [
       "\n",
       "A grouped_df: 20 × 3\n",
       "\n",
       "| is_cpw &lt;lgl&gt; | suspect_race &lt;fct&gt; | p_frisked &lt;dbl&gt; |\n",
       "|---|---|---|\n",
       "| FALSE | hispanic        | 0.478 |\n",
       "| FALSE | black           | 0.435 |\n",
       "| FALSE | asian           | 0.419 |\n",
       "| FALSE | native american | 0.403 |\n",
       "| FALSE | white           | 0.387 |\n",
       "| FALSE | other           | 0.384 |\n",
       "| FALSE | NA              | 0.374 |\n",
       "|  TRUE | hispanic        | 0.889 |\n",
       "|  TRUE | black           | 0.885 |\n",
       "|  TRUE | asian           | 0.865 |\n",
       "|  TRUE | other           | 0.862 |\n",
       "|  TRUE | native american | 0.846 |\n",
       "|  TRUE | white           | 0.846 |\n",
       "|  TRUE | NA              | 0.781 |\n",
       "|    NA | black           | 0.800 |\n",
       "|    NA | hispanic        | 0.667 |\n",
       "|    NA | asian           | 0.000 |\n",
       "|    NA | white           | 0.000 |\n",
       "|    NA | other           | 0.000 |\n",
       "|    NA | NA              | 0.000 |\n",
       "\n"
      ],
      "text/plain": [
       "   is_cpw suspect_race    p_frisked\n",
       "1  FALSE  hispanic        0.478    \n",
       "2  FALSE  black           0.435    \n",
       "3  FALSE  asian           0.419    \n",
       "4  FALSE  native american 0.403    \n",
       "5  FALSE  white           0.387    \n",
       "6  FALSE  other           0.384    \n",
       "7  FALSE  NA              0.374    \n",
       "8   TRUE  hispanic        0.889    \n",
       "9   TRUE  black           0.885    \n",
       "10  TRUE  asian           0.865    \n",
       "11  TRUE  other           0.862    \n",
       "12  TRUE  native american 0.846    \n",
       "13  TRUE  white           0.846    \n",
       "14  TRUE  NA              0.781    \n",
       "15    NA  black           0.800    \n",
       "16    NA  hispanic        0.667    \n",
       "17    NA  asian           0.000    \n",
       "18    NA  white           0.000    \n",
       "19    NA  other           0.000    \n",
       "20    NA  NA              0.000    "
      ]
     },
     "metadata": {},
     "output_type": "display_data"
    }
   ],
   "source": [
    "# WRITE CODE HERE\n",
    "# START solution\n",
    "# Proportion of stops that were cpw, by suspect race\n",
    "stop_df %>%\n",
    "    group_by(suspect_race) %>%\n",
    "    summarize(p_cpw = mean(is_cpw, na.rm = TRUE)) %>%\n",
    "    arrange(desc(p_cpw))\n",
    "\n",
    "# Frisk rate for stopped suspects by suspect race and cpw\n",
    "stop_df %>%\n",
    "    group_by(is_cpw, suspect_race) %>%\n",
    "    summarize(p_frisked = mean(frisked, na.rm = TRUE)) %>%\n",
    "    arrange(is_cpw, desc(p_frisked))\n",
    "# END solution"
   ]
  },
  {
   "cell_type": "markdown",
   "metadata": {},
   "source": [
    "This change in frisk rate differences after controlling for `cpw` is due to what's known as \"omitted variable bias\"."
   ]
  },
  {
   "cell_type": "markdown",
   "metadata": {},
   "source": [
    "Following the above logic, there could be multiple legitimate factors that account for the observed discrepency of being frisked between different race groups. (We'll do this with a more formal statistical model in a later lab.)\n",
    "\n",
    "The notion that there's some additional factor that we're not accounting for that would \"explain away\" the disparities is called *omitted variable bias*. The argument is often made that the omitted variable is something that's not even recorded in the data."
   ]
  },
  {
   "cell_type": "markdown",
   "metadata": {},
   "source": [
    "\n",
    "### The outcome test\n",
    "\n",
    "The outcome test, first proposed by Gary Becker in 1957, attempts to get around *omitted variable bias* by focusing on differences in outcomes of post-stop actions (for example, recovery of weapons from frisks), and checking if outcomes differ systematically between whites and minorities. If frisked minorities are less likely than whites to have weapons, it suggests that the bar for frisking minorities is lower than the bar for frisking whites. That lower bar is de facto discrimination.\n",
    "\n",
    "**Discuss with a partner:** \n",
    "* How does the outcome test circumvent omitted variable bias? \n",
    "* What is implied by accounting for confounders in the outcome test versus the original benchmarking context?\n",
    "* How could the outcome test be applied to test discrimination/bias in the case of lending decisions? Editorial acceptance decisions? What would evidence of bias against minorities look like in each of these three decision-making arenas?\n",
    "\n",
    "### Exercise 4: Computing hit rates\n",
    "\n",
    "Jumping back to our NYC data, to apply the outcome test, we want to compute weapon recovery rates (or \"hit rates\") by race. \n",
    "\n",
    "* **Step 1:** Compute hit rates by race: weapons found divided by frisks conducted."
   ]
  },
  {
   "cell_type": "code",
   "execution_count": 6,
   "metadata": {},
   "outputs": [
    {
     "name": "stderr",
     "output_type": "stream",
     "text": [
      "`summarise()` ungrouping output (override with `.groups` argument)\n"
     ]
    },
    {
     "data": {
      "text/html": [
       "<table>\n",
       "<caption>A tibble: 7 × 2</caption>\n",
       "<thead>\n",
       "\t<tr><th scope=col>suspect_race</th><th scope=col>hit_rate</th></tr>\n",
       "\t<tr><th scope=col>&lt;fct&gt;</th><th scope=col>&lt;dbl&gt;</th></tr>\n",
       "</thead>\n",
       "<tbody>\n",
       "\t<tr><td>other          </td><td>0.0132</td></tr>\n",
       "\t<tr><td>NA             </td><td>0.0138</td></tr>\n",
       "\t<tr><td>native american</td><td>0.0149</td></tr>\n",
       "\t<tr><td>black          </td><td>0.0176</td></tr>\n",
       "\t<tr><td>asian          </td><td>0.0198</td></tr>\n",
       "\t<tr><td>hispanic       </td><td>0.0206</td></tr>\n",
       "\t<tr><td>white          </td><td>0.0360</td></tr>\n",
       "</tbody>\n",
       "</table>\n"
      ],
      "text/latex": [
       "A tibble: 7 × 2\n",
       "\\begin{tabular}{r|ll}\n",
       " suspect\\_race & hit\\_rate\\\\\n",
       " <fct> & <dbl>\\\\\n",
       "\\hline\n",
       "\t other           & 0.0132\\\\\n",
       "\t NA              & 0.0138\\\\\n",
       "\t native american & 0.0149\\\\\n",
       "\t black           & 0.0176\\\\\n",
       "\t asian           & 0.0198\\\\\n",
       "\t hispanic        & 0.0206\\\\\n",
       "\t white           & 0.0360\\\\\n",
       "\\end{tabular}\n"
      ],
      "text/markdown": [
       "\n",
       "A tibble: 7 × 2\n",
       "\n",
       "| suspect_race &lt;fct&gt; | hit_rate &lt;dbl&gt; |\n",
       "|---|---|\n",
       "| other           | 0.0132 |\n",
       "| NA              | 0.0138 |\n",
       "| native american | 0.0149 |\n",
       "| black           | 0.0176 |\n",
       "| asian           | 0.0198 |\n",
       "| hispanic        | 0.0206 |\n",
       "| white           | 0.0360 |\n",
       "\n"
      ],
      "text/plain": [
       "  suspect_race    hit_rate\n",
       "1 other           0.0132  \n",
       "2 NA              0.0138  \n",
       "3 native american 0.0149  \n",
       "4 black           0.0176  \n",
       "5 asian           0.0198  \n",
       "6 hispanic        0.0206  \n",
       "7 white           0.0360  "
      ]
     },
     "metadata": {},
     "output_type": "display_data"
    }
   ],
   "source": [
    "# Compute hit rates by race\n",
    "# WRITE CODE HERE\n",
    "# START solution\n",
    "stop_df %>% \n",
    "  filter(frisked) %>%\n",
    "  group_by(suspect_race) %>%\n",
    "  summarize(hit_rate = mean(found_weapon)) %>%\n",
    "  arrange(hit_rate)\n",
    "# END solution"
   ]
  },
  {
   "cell_type": "markdown",
   "metadata": {},
   "source": [
    "* **Discuss with a partner:** What do you find? How can that be interpreted?\n",
    "\n",
    "An important thing to note is that all the work we've done so far has been citywide.\n",
    "\n",
    "* **Step 2**: Compute hit rates by race and precinct. The output data frame should have three columns: `suspect_race`, `precinct`, and `hit_rate`."
   ]
  },
  {
   "cell_type": "code",
   "execution_count": 7,
   "metadata": {},
   "outputs": [
    {
     "name": "stderr",
     "output_type": "stream",
     "text": [
      "`summarise()` regrouping output by 'suspect_race' (override with `.groups` argument)\n"
     ]
    }
   ],
   "source": [
    "# Compute hit rates by race and department\n",
    "# Save your result to `precinct_hit_rates_by_race`\n",
    "precinct_hit_rates_by_race <-\n",
    "# WRITE CODE HERE\n",
    "# START solution\n",
    "  stop_df %>%\n",
    "    filter(frisked) %>%\n",
    "    group_by(suspect_race, precinct) %>%\n",
    "    summarize(hit_rate = mean(found_weapon))\n",
    "# END solution"
   ]
  },
  {
   "cell_type": "markdown",
   "metadata": {},
   "source": [
    "Next we want to explore these hit rates by police precinct, comparing white versus minority hit rates. Reshaping the data might be helpful in doing this:"
   ]
  },
  {
   "cell_type": "code",
   "execution_count": 8,
   "metadata": {},
   "outputs": [
    {
     "data": {
      "text/html": [
       "<table>\n",
       "<caption>A tibble: 6 × 8</caption>\n",
       "<thead>\n",
       "\t<tr><th scope=col>precinct</th><th scope=col>asian</th><th scope=col>native american</th><th scope=col>white_rate</th><th scope=col>other</th><th scope=col>&lt;NA&gt;</th><th scope=col>minority_race</th><th scope=col>minority_rate</th></tr>\n",
       "\t<tr><th scope=col>&lt;fct&gt;</th><th scope=col>&lt;dbl&gt;</th><th scope=col>&lt;dbl&gt;</th><th scope=col>&lt;dbl&gt;</th><th scope=col>&lt;dbl&gt;</th><th scope=col>&lt;dbl&gt;</th><th scope=col>&lt;chr&gt;</th><th scope=col>&lt;dbl&gt;</th></tr>\n",
       "</thead>\n",
       "<tbody>\n",
       "\t<tr><td>1  </td><td>0.1087</td><td>0</td><td>0.0926</td><td>0</td><td>0.1000</td><td>black   </td><td>0.0191</td></tr>\n",
       "\t<tr><td>1  </td><td>0.1087</td><td>0</td><td>0.0926</td><td>0</td><td>0.1000</td><td>hispanic</td><td>0.0402</td></tr>\n",
       "\t<tr><td>10 </td><td>0.0893</td><td>0</td><td>0.0789</td><td>0</td><td>0.0263</td><td>black   </td><td>0.0302</td></tr>\n",
       "\t<tr><td>10 </td><td>0.0893</td><td>0</td><td>0.0789</td><td>0</td><td>0.0263</td><td>hispanic</td><td>0.0364</td></tr>\n",
       "\t<tr><td>100</td><td>0.0000</td><td>0</td><td>0.0311</td><td>0</td><td>0.0000</td><td>black   </td><td>0.0211</td></tr>\n",
       "\t<tr><td>100</td><td>0.0000</td><td>0</td><td>0.0311</td><td>0</td><td>0.0000</td><td>hispanic</td><td>0.0299</td></tr>\n",
       "</tbody>\n",
       "</table>\n"
      ],
      "text/latex": [
       "A tibble: 6 × 8\n",
       "\\begin{tabular}{r|llllllll}\n",
       " precinct & asian & native american & white\\_rate & other & <NA> & minority\\_race & minority\\_rate\\\\\n",
       " <fct> & <dbl> & <dbl> & <dbl> & <dbl> & <dbl> & <chr> & <dbl>\\\\\n",
       "\\hline\n",
       "\t 1   & 0.1087 & 0 & 0.0926 & 0 & 0.1000 & black    & 0.0191\\\\\n",
       "\t 1   & 0.1087 & 0 & 0.0926 & 0 & 0.1000 & hispanic & 0.0402\\\\\n",
       "\t 10  & 0.0893 & 0 & 0.0789 & 0 & 0.0263 & black    & 0.0302\\\\\n",
       "\t 10  & 0.0893 & 0 & 0.0789 & 0 & 0.0263 & hispanic & 0.0364\\\\\n",
       "\t 100 & 0.0000 & 0 & 0.0311 & 0 & 0.0000 & black    & 0.0211\\\\\n",
       "\t 100 & 0.0000 & 0 & 0.0311 & 0 & 0.0000 & hispanic & 0.0299\\\\\n",
       "\\end{tabular}\n"
      ],
      "text/markdown": [
       "\n",
       "A tibble: 6 × 8\n",
       "\n",
       "| precinct &lt;fct&gt; | asian &lt;dbl&gt; | native american &lt;dbl&gt; | white_rate &lt;dbl&gt; | other &lt;dbl&gt; | &lt;NA&gt; &lt;dbl&gt; | minority_race &lt;chr&gt; | minority_rate &lt;dbl&gt; |\n",
       "|---|---|---|---|---|---|---|---|\n",
       "| 1   | 0.1087 | 0 | 0.0926 | 0 | 0.1000 | black    | 0.0191 |\n",
       "| 1   | 0.1087 | 0 | 0.0926 | 0 | 0.1000 | hispanic | 0.0402 |\n",
       "| 10  | 0.0893 | 0 | 0.0789 | 0 | 0.0263 | black    | 0.0302 |\n",
       "| 10  | 0.0893 | 0 | 0.0789 | 0 | 0.0263 | hispanic | 0.0364 |\n",
       "| 100 | 0.0000 | 0 | 0.0311 | 0 | 0.0000 | black    | 0.0211 |\n",
       "| 100 | 0.0000 | 0 | 0.0311 | 0 | 0.0000 | hispanic | 0.0299 |\n",
       "\n"
      ],
      "text/plain": [
       "  precinct asian  native american white_rate other <NA>   minority_race\n",
       "1 1        0.1087 0               0.0926     0     0.1000 black        \n",
       "2 1        0.1087 0               0.0926     0     0.1000 hispanic     \n",
       "3 10       0.0893 0               0.0789     0     0.0263 black        \n",
       "4 10       0.0893 0               0.0789     0     0.0263 hispanic     \n",
       "5 100      0.0000 0               0.0311     0     0.0000 black        \n",
       "6 100      0.0000 0               0.0311     0     0.0000 hispanic     \n",
       "  minority_rate\n",
       "1 0.0191       \n",
       "2 0.0402       \n",
       "3 0.0302       \n",
       "4 0.0364       \n",
       "5 0.0211       \n",
       "6 0.0299       "
      ]
     },
     "metadata": {},
     "output_type": "display_data"
    }
   ],
   "source": [
    "# Reshape data to have a white_rate, minority_rate, and minority_race column\n",
    "# Save your result to `white_vs_minority_rates`\n",
    "white_vs_minority_rates <-\n",
    "  precinct_hit_rates_by_race %>%\n",
    "  spread(suspect_race, hit_rate) %>%\n",
    "  rename(white_rate = white) %>%\n",
    "  gather(minority_race, minority_rate, c(black, hispanic)) %>%\n",
    "  filter(!is.na(minority_rate), !is.na(white_rate)) \n",
    "\n",
    "white_vs_minority_rates %>% arrange(precinct) %>% head()"
   ]
  },
  {
   "cell_type": "markdown",
   "metadata": {},
   "source": [
    "**Visualizing hit rates**\n",
    "\n",
    "At this point, with over 200 hit rates to compare (1 for each race group and precinct), in order to really understand citywide trends, we need some way to visualize our findings. Run the code below to generate a plot for hit rates by race and precinct."
   ]
  },
  {
   "cell_type": "code",
   "execution_count": 9,
   "metadata": {},
   "outputs": [
    {
     "name": "stderr",
     "output_type": "stream",
     "text": [
      "Warning message:\n",
      "“Transformation introduced infinite values in continuous x-axis”Warning message:\n",
      "“Removed 10 rows containing missing values (geom_point).”"
     ]
    },
    {
     "data": {
      "image/png": "[encoded data removed]",
      "text/plain": [
       "plot without title"
      ]
     },
     "metadata": {},
     "output_type": "display_data"
    }
   ],
   "source": [
    "# to ensure our visualization isn't biased by precincts with little data,\n",
    "# we filter to the precincts that have some minimum number of frisks, MIN_FRISKS,\n",
    "# for each race\n",
    "MIN_FRISKS <- 20\n",
    "\n",
    "n_frisks <-\n",
    "    stop_df %>%\n",
    "    filter(frisked) %>%\n",
    "    count(precinct, suspect_race) %>%\n",
    "    spread(suspect_race, n) %>%\n",
    "    filter(black > MIN_FRISKS, white > MIN_FRISKS, hispanic > MIN_FRISKS) %>%\n",
    "    gather(minority_race, n, black, hispanic) %>%\n",
    "    mutate(n_frisks = white + n) %>%\n",
    "    select(precinct, minority_race, n_frisks)\n",
    "\n",
    "hit_rates <- inner_join(\n",
    "    white_vs_minority_rates,\n",
    "    n_frisks,\n",
    "    by = c(\"precinct\", \"minority_race\")\n",
    "  ) %>% \n",
    "    mutate(minority_race = str_to_title(minority_race))\n",
    "\n",
    "hit_rates %>%\n",
    "  ggplot(aes(x = white_rate, y = minority_rate)) +\n",
    "  geom_point(aes(size = n_frisks), shape = 1, alpha = 0.5) +\n",
    "  geom_abline(linetype = \"dashed\") +\n",
    "  facet_grid(cols = vars(minority_race)) +\n",
    "  coord_fixed() +\n",
    "  scale_x_log10(limits = c(0.01, .5), labels = scales::percent_format()) +\n",
    "  scale_y_log10(limits = c(0.01, .5), labels = scales::percent_format()) +\n",
    "  scale_size_area(max_size = 8, labels = scales::comma, breaks = c(150, 500, 1500)) +\n",
    "  labs(\n",
    "    x = \"White hit rates\",\n",
    "    y = \"Minority hit rates\",\n",
    "    size = \"Number of frisks\",\n",
    "    title = \"NYC frisk weapon recovery rates\"\n",
    "  )"
   ]
  },
  {
   "cell_type": "markdown",
   "metadata": {},
   "source": [
    "**Discuss with a partner:** \n",
    "* What do you see in the plot? How would you interpret this? \n",
    "* What do you think might change if we considered `is_cpw`? Is it valid to consider `is_cpw` in this context?"
   ]
  },
  {
   "cell_type": "markdown",
   "metadata": {},
   "source": [
    "If you have time, you can explore `precinct_hit_rates_by_race` and `white_vs_minority_rates` a bit more. Here are some questions to get you started, but you're encouraged to explore your own questions!\n",
    "*  Do precincts have similar hit rates, or is there a wide spread?\n",
    "*  What's the precinct with the highest hit rates? The lowest hit rates?\n",
    "*  What's the precinct with the largest disparity between Black and white hit rates?\n",
    "\n",
    "**Discuss with a partner:** Talk about your findings above. Do differences in hit rates imply officers of certain precincts are more discriminatory than others? What if frisk policies vary by location? What would it mean for different precincts in the city to encourage more or less stringent standards of suspicion prior to conducting frisks?"
   ]
  },
  {
   "cell_type": "code",
   "execution_count": null,
   "metadata": {},
   "outputs": [],
   "source": []
  }
 ],
 "metadata": {
  "kernelspec": {
   "display_name": "R",
   "language": "R",
   "name": "ir"
  },
  "language_info": {
   "codemirror_mode": "r",
   "file_extension": ".r",
   "mimetype": "text/x-r-source",
   "name": "R",
   "pygments_lexer": "r",
   "version": "3.6.3"
  }
 },
 "nbformat": 4,
 "nbformat_minor": 4
}
