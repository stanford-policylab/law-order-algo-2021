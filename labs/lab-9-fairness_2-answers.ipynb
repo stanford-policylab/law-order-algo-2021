{
 "cells": [
  {
   "cell_type": "markdown",
   "metadata": {},
   "source": [
    "# Law, Order, and Algorithms\n",
    "## Algorithmic fairness (2/2)\n",
    "\n",
    "Today, we will continue building and evaluating our own risk assessment tool using the COMPAS data to examine some other aspects of fairness.\n",
    "\n",
    "To recap from last week, let's start by loading the data and refitting the model:"
   ]
  },
  {
   "cell_type": "code",
   "execution_count": 1,
   "metadata": {},
   "outputs": [
    {
     "name": "stderr",
     "output_type": "stream",
     "text": [
      "── \u001b[1mAttaching packages\u001b[22m ─────────────────────────────────────── tidyverse 1.3.0 ──\n",
      "\u001b[32m✔\u001b[39m \u001b[34mggplot2\u001b[39m 3.3.2     \u001b[32m✔\u001b[39m \u001b[34mpurrr  \u001b[39m 0.3.4\n",
      "\u001b[32m✔\u001b[39m \u001b[34mtibble \u001b[39m 3.0.3     \u001b[32m✔\u001b[39m \u001b[34mdplyr  \u001b[39m 1.0.0\n",
      "\u001b[32m✔\u001b[39m \u001b[34mtidyr  \u001b[39m 1.1.0     \u001b[32m✔\u001b[39m \u001b[34mstringr\u001b[39m 1.4.0\n",
      "\u001b[32m✔\u001b[39m \u001b[34mreadr  \u001b[39m 1.3.1     \u001b[32m✔\u001b[39m \u001b[34mforcats\u001b[39m 0.4.0\n",
      "── \u001b[1mConflicts\u001b[22m ────────────────────────────────────────── tidyverse_conflicts() ──\n",
      "\u001b[31m✖\u001b[39m \u001b[34mdplyr\u001b[39m::\u001b[32mfilter()\u001b[39m masks \u001b[34mstats\u001b[39m::filter()\n",
      "\u001b[31m✖\u001b[39m \u001b[34mdplyr\u001b[39m::\u001b[32mlag()\u001b[39m    masks \u001b[34mstats\u001b[39m::lag()\n"
     ]
    }
   ],
   "source": [
    "# Some initial setup\n",
    "options(digits = 3)\n",
    "library(tidyverse) \n",
    "\n",
    "theme_set(theme_bw())\n",
    "\n",
    "# Because huge plots are ugly\n",
    "options(repr.plot.width = 6, repr.plot.height = 4)\n",
    "\n",
    "# Read the data\n",
    "compas_df <- read_rds(\"../data/compas.rds\")\n",
    "\n",
    "# Recap the model\n",
    "recid_model <- glm(is_recid ~ priors_count + age, data = compas_df, family = \"binomial\")\n",
    "compas_df <- compas_df %>%\n",
    "    mutate(\n",
    "        risk = predict(recid_model, type = \"response\"),\n",
    "        risk_bin = round(risk * 10),\n",
    "        binary_recid = risk >= 0.5\n",
    "    )"
   ]
  },
  {
   "cell_type": "markdown",
   "metadata": {},
   "source": [
    "## COMPAS data revisited"
   ]
  },
  {
   "cell_type": "markdown",
   "metadata": {},
   "source": [
    "Recall that the cleaned version of the COMPAS data is loaded as `compas_df`, with the following columns\n",
    "\n",
    "* `id`: unique identifiers for each case\n",
    "* `sex`, `dob`, `age`, `race`: demographic information for each defendant\n",
    "* `recid_score`, `violence_score`: COMPAS scores assessing risk that a defendant will recidivate (`violence_score` for violent crimes) within two years of release (higher score correspond to higher risk)\n",
    "* `priors_count`: number of prior arrests\n",
    "* `is_recid`, `is_violent_recid`: Indicator variable that is `1` if the defendant was arrested for a new (violent) crime within two years of release, and `0` otherwise.\n",
    "\n",
    "and after fitting our model, we have added the following columns\n",
    "\n",
    "* `risk`: the model-predicted probability of recidivism\n",
    "* `predicted_risk_score`: a integer risk score between 0 and 10\n",
    "* `pred_recid`: a binary prediction of whether each defendant will recidivate"
   ]
  },
  {
   "cell_type": "code",
   "execution_count": 2,
   "metadata": {},
   "outputs": [
    {
     "data": {
      "text/html": [
       "<table>\n",
       "<caption>A tibble: 6 × 13</caption>\n",
       "<thead>\n",
       "\t<tr><th scope=col>id</th><th scope=col>sex</th><th scope=col>dob</th><th scope=col>age</th><th scope=col>race</th><th scope=col>recid_score</th><th scope=col>violence_score</th><th scope=col>priors_count</th><th scope=col>is_recid</th><th scope=col>is_violent_recid</th><th scope=col>risk</th><th scope=col>risk_bin</th><th scope=col>binary_recid</th></tr>\n",
       "\t<tr><th scope=col>&lt;dbl&gt;</th><th scope=col>&lt;chr&gt;</th><th scope=col>&lt;date&gt;</th><th scope=col>&lt;dbl&gt;</th><th scope=col>&lt;chr&gt;</th><th scope=col>&lt;dbl&gt;</th><th scope=col>&lt;dbl&gt;</th><th scope=col>&lt;dbl&gt;</th><th scope=col>&lt;dbl&gt;</th><th scope=col>&lt;dbl&gt;</th><th scope=col>&lt;dbl&gt;</th><th scope=col>&lt;dbl&gt;</th><th scope=col>&lt;lgl&gt;</th></tr>\n",
       "</thead>\n",
       "<tbody>\n",
       "\t<tr><td> 3</td><td>Male  </td><td>1982-01-22</td><td>34</td><td>African-American</td><td>3</td><td>1</td><td> 0</td><td>1</td><td>1</td><td>0.365</td><td>4</td><td>FALSE</td></tr>\n",
       "\t<tr><td> 4</td><td>Male  </td><td>1991-05-14</td><td>24</td><td>African-American</td><td>4</td><td>3</td><td> 4</td><td>1</td><td>0</td><td>0.641</td><td>6</td><td> TRUE</td></tr>\n",
       "\t<tr><td> 5</td><td>Male  </td><td>1993-01-21</td><td>23</td><td>African-American</td><td>8</td><td>6</td><td> 1</td><td>0</td><td>0</td><td>0.535</td><td>5</td><td> TRUE</td></tr>\n",
       "\t<tr><td> 8</td><td>Male  </td><td>1974-07-23</td><td>41</td><td>Caucasian       </td><td>6</td><td>2</td><td>14</td><td>1</td><td>0</td><td>0.800</td><td>8</td><td> TRUE</td></tr>\n",
       "\t<tr><td>10</td><td>Female</td><td>1976-06-03</td><td>39</td><td>Caucasian       </td><td>1</td><td>1</td><td> 0</td><td>0</td><td>0</td><td>0.311</td><td>3</td><td>FALSE</td></tr>\n",
       "\t<tr><td>13</td><td>Male  </td><td>1994-06-10</td><td>21</td><td>Caucasian       </td><td>3</td><td>5</td><td> 1</td><td>1</td><td>1</td><td>0.559</td><td>6</td><td> TRUE</td></tr>\n",
       "</tbody>\n",
       "</table>\n"
      ],
      "text/latex": [
       "A tibble: 6 × 13\n",
       "\\begin{tabular}{r|lllllllllllll}\n",
       " id & sex & dob & age & race & recid\\_score & violence\\_score & priors\\_count & is\\_recid & is\\_violent\\_recid & risk & risk\\_bin & binary\\_recid\\\\\n",
       " <dbl> & <chr> & <date> & <dbl> & <chr> & <dbl> & <dbl> & <dbl> & <dbl> & <dbl> & <dbl> & <dbl> & <lgl>\\\\\n",
       "\\hline\n",
       "\t  3 & Male   & 1982-01-22 & 34 & African-American & 3 & 1 &  0 & 1 & 1 & 0.365 & 4 & FALSE\\\\\n",
       "\t  4 & Male   & 1991-05-14 & 24 & African-American & 4 & 3 &  4 & 1 & 0 & 0.641 & 6 &  TRUE\\\\\n",
       "\t  5 & Male   & 1993-01-21 & 23 & African-American & 8 & 6 &  1 & 0 & 0 & 0.535 & 5 &  TRUE\\\\\n",
       "\t  8 & Male   & 1974-07-23 & 41 & Caucasian        & 6 & 2 & 14 & 1 & 0 & 0.800 & 8 &  TRUE\\\\\n",
       "\t 10 & Female & 1976-06-03 & 39 & Caucasian        & 1 & 1 &  0 & 0 & 0 & 0.311 & 3 & FALSE\\\\\n",
       "\t 13 & Male   & 1994-06-10 & 21 & Caucasian        & 3 & 5 &  1 & 1 & 1 & 0.559 & 6 &  TRUE\\\\\n",
       "\\end{tabular}\n"
      ],
      "text/markdown": [
       "\n",
       "A tibble: 6 × 13\n",
       "\n",
       "| id &lt;dbl&gt; | sex &lt;chr&gt; | dob &lt;date&gt; | age &lt;dbl&gt; | race &lt;chr&gt; | recid_score &lt;dbl&gt; | violence_score &lt;dbl&gt; | priors_count &lt;dbl&gt; | is_recid &lt;dbl&gt; | is_violent_recid &lt;dbl&gt; | risk &lt;dbl&gt; | risk_bin &lt;dbl&gt; | binary_recid &lt;lgl&gt; |\n",
       "|---|---|---|---|---|---|---|---|---|---|---|---|---|\n",
       "|  3 | Male   | 1982-01-22 | 34 | African-American | 3 | 1 |  0 | 1 | 1 | 0.365 | 4 | FALSE |\n",
       "|  4 | Male   | 1991-05-14 | 24 | African-American | 4 | 3 |  4 | 1 | 0 | 0.641 | 6 |  TRUE |\n",
       "|  5 | Male   | 1993-01-21 | 23 | African-American | 8 | 6 |  1 | 0 | 0 | 0.535 | 5 |  TRUE |\n",
       "|  8 | Male   | 1974-07-23 | 41 | Caucasian        | 6 | 2 | 14 | 1 | 0 | 0.800 | 8 |  TRUE |\n",
       "| 10 | Female | 1976-06-03 | 39 | Caucasian        | 1 | 1 |  0 | 0 | 0 | 0.311 | 3 | FALSE |\n",
       "| 13 | Male   | 1994-06-10 | 21 | Caucasian        | 3 | 5 |  1 | 1 | 1 | 0.559 | 6 |  TRUE |\n",
       "\n"
      ],
      "text/plain": [
       "  id sex    dob        age race             recid_score violence_score\n",
       "1  3 Male   1982-01-22 34  African-American 3           1             \n",
       "2  4 Male   1991-05-14 24  African-American 4           3             \n",
       "3  5 Male   1993-01-21 23  African-American 8           6             \n",
       "4  8 Male   1974-07-23 41  Caucasian        6           2             \n",
       "5 10 Female 1976-06-03 39  Caucasian        1           1             \n",
       "6 13 Male   1994-06-10 21  Caucasian        3           5             \n",
       "  priors_count is_recid is_violent_recid risk  risk_bin binary_recid\n",
       "1  0           1        1                0.365 4        FALSE       \n",
       "2  4           1        0                0.641 6         TRUE       \n",
       "3  1           0        0                0.535 5         TRUE       \n",
       "4 14           1        0                0.800 8         TRUE       \n",
       "5  0           0        0                0.311 3        FALSE       \n",
       "6  1           1        1                0.559 6         TRUE       "
      ]
     },
     "metadata": {},
     "output_type": "display_data"
    }
   ],
   "source": [
    "head(compas_df)"
   ]
  },
  {
   "cell_type": "markdown",
   "metadata": {},
   "source": [
    "### Exercise 1: Calibration by gender"
   ]
  },
  {
   "cell_type": "markdown",
   "metadata": {},
   "source": [
    "Last week we examined how our recidivism prediction model performed for different racial groups, and it turned out our model was well calibrated for white and Black defendants.\n",
    "\n",
    "For this exercise, we will continue examining calibration of our model predictions, but for different genders.\n",
    "\n",
    "We will reuse the `risk_bin` we calculated last week, which is a discretized (rounded) version of predicted risk probability.\n",
    "\n",
    "For Exercise 1, calculate recidivism rates for male and female defendants in our dataset by creating a data frame called `calibration_by_gender` containing three columns: `sex`, `risk_bin`, and `recidivism_rate`.\n",
    "Additionally, to ensure we have enough defendents of each gender in every score bucket, we will limit our maximum score to 8 and remove everyone with score greater than 8."
   ]
  },
  {
   "cell_type": "code",
   "execution_count": 3,
   "metadata": {},
   "outputs": [
    {
     "name": "stderr",
     "output_type": "stream",
     "text": [
      "`summarise()` regrouping output by 'sex' (override with `.groups` argument)\n",
      "`summarise()` ungrouping output (override with `.groups` argument)\n"
     ]
    },
    {
     "data": {
      "text/html": [
       "<table>\n",
       "<caption>A tibble: 8 × 4</caption>\n",
       "<thead>\n",
       "\t<tr><th scope=col>risk_bin</th><th scope=col>n</th><th scope=col>Female</th><th scope=col>Male</th></tr>\n",
       "\t<tr><th scope=col>&lt;dbl&gt;</th><th scope=col>&lt;int&gt;</th><th scope=col>&lt;dbl&gt;</th><th scope=col>&lt;dbl&gt;</th></tr>\n",
       "</thead>\n",
       "<tbody>\n",
       "\t<tr><td>1</td><td> 127</td><td>0.125</td><td>0.158</td></tr>\n",
       "\t<tr><td>2</td><td> 519</td><td>0.164</td><td>0.237</td></tr>\n",
       "\t<tr><td>3</td><td> 690</td><td>0.247</td><td>0.309</td></tr>\n",
       "\t<tr><td>4</td><td> 943</td><td>0.312</td><td>0.395</td></tr>\n",
       "\t<tr><td>5</td><td>1727</td><td>0.363</td><td>0.486</td></tr>\n",
       "\t<tr><td>6</td><td>1025</td><td>0.632</td><td>0.683</td></tr>\n",
       "\t<tr><td>7</td><td> 505</td><td>0.759</td><td>0.767</td></tr>\n",
       "\t<tr><td>8</td><td> 329</td><td>0.714</td><td>0.793</td></tr>\n",
       "</tbody>\n",
       "</table>\n"
      ],
      "text/latex": [
       "A tibble: 8 × 4\n",
       "\\begin{tabular}{r|llll}\n",
       " risk\\_bin & n & Female & Male\\\\\n",
       " <dbl> & <int> & <dbl> & <dbl>\\\\\n",
       "\\hline\n",
       "\t 1 &  127 & 0.125 & 0.158\\\\\n",
       "\t 2 &  519 & 0.164 & 0.237\\\\\n",
       "\t 3 &  690 & 0.247 & 0.309\\\\\n",
       "\t 4 &  943 & 0.312 & 0.395\\\\\n",
       "\t 5 & 1727 & 0.363 & 0.486\\\\\n",
       "\t 6 & 1025 & 0.632 & 0.683\\\\\n",
       "\t 7 &  505 & 0.759 & 0.767\\\\\n",
       "\t 8 &  329 & 0.714 & 0.793\\\\\n",
       "\\end{tabular}\n"
      ],
      "text/markdown": [
       "\n",
       "A tibble: 8 × 4\n",
       "\n",
       "| risk_bin &lt;dbl&gt; | n &lt;int&gt; | Female &lt;dbl&gt; | Male &lt;dbl&gt; |\n",
       "|---|---|---|---|\n",
       "| 1 |  127 | 0.125 | 0.158 |\n",
       "| 2 |  519 | 0.164 | 0.237 |\n",
       "| 3 |  690 | 0.247 | 0.309 |\n",
       "| 4 |  943 | 0.312 | 0.395 |\n",
       "| 5 | 1727 | 0.363 | 0.486 |\n",
       "| 6 | 1025 | 0.632 | 0.683 |\n",
       "| 7 |  505 | 0.759 | 0.767 |\n",
       "| 8 |  329 | 0.714 | 0.793 |\n",
       "\n"
      ],
      "text/plain": [
       "  risk_bin n    Female Male \n",
       "1 1         127 0.125  0.158\n",
       "2 2         519 0.164  0.237\n",
       "3 3         690 0.247  0.309\n",
       "4 4         943 0.312  0.395\n",
       "5 5        1727 0.363  0.486\n",
       "6 6        1025 0.632  0.683\n",
       "7 7         505 0.759  0.767\n",
       "8 8         329 0.714  0.793"
      ]
     },
     "metadata": {},
     "output_type": "display_data"
    }
   ],
   "source": [
    "# Calculate discretized risk score\n",
    "# group people with risk score equal or gretaer than 8\n",
    "\n",
    "calibration_by_gender <- compas_df %>%\n",
    "# WRITE CODE HERE\n",
    "# START solution\n",
    "    filter(risk_bin <= 8) %>%\n",
    "    group_by(sex, risk_bin) %>%\n",
    "    summarize(\n",
    "        recidivism_rate = mean(is_recid),\n",
    "        n = n()\n",
    "    )\n",
    "# END solution\n",
    "\n",
    "# Put the recidivism rates of different races side by side\n",
    "calibration_by_gender %>%\n",
    "    spread(sex, recidivism_rate) %>%\n",
    "    group_by(risk_bin) %>%\n",
    "    summarize(\n",
    "        n = sum(n),\n",
    "        Female = first(na.omit(Female)),\n",
    "        Male = first(na.omit(Male))\n",
    "    )"
   ]
  },
  {
   "cell_type": "code",
   "execution_count": 4,
   "metadata": {},
   "outputs": [
    {
     "name": "stderr",
     "output_type": "stream",
     "text": [
      "`geom_smooth()` using formula 'y ~ x'\n"
     ]
    },
    {
     "data": {
      "image/png": "[encoded data removed]",
      "text/plain": [
       "plot without title"
      ]
     },
     "metadata": {},
     "output_type": "display_data"
    }
   ],
   "source": [
    "# Calibration plot\n",
    "\n",
    "ggplot(compas_df, \n",
    "       aes(x = risk_bin, y = is_recid, color = sex, group=sex)) + \n",
    "    geom_smooth(method=\"glm\", method.args=list(family=\"binomial\")) +\n",
    "    scale_y_continuous(labels = scales::percent_format(), limits = c(0, 1))+\n",
    "    scale_x_continuous(breaks = seq(0, 10, 2), limits = c(1, 10))+\n",
    "    labs(x = \"\\nDiscretized risk score\",\n",
    "         y = \"Recidivism rate\\n\")"
   ]
  },
  {
   "cell_type": "markdown",
   "metadata": {},
   "source": [
    "#### Discussion\n",
    "Given the plot above, do you think a gender-blind model is \"fair\"?"
   ]
  },
  {
   "cell_type": "markdown",
   "metadata": {},
   "source": [
    "### Exercise 2: Re-fit the model by including gender"
   ]
  },
  {
   "cell_type": "markdown",
   "metadata": {},
   "source": [
    "Note that we observe roughly up to a 1-point difference for male and female risk scores from the plot above.\n",
    "For example, male defendants who were scored as `4` recidivated at a rate of 40%, while females who recidivated at a similar rate were given a higher score of `5`. \n",
    "Because the model is \"blind\" to gender, women have lower risk compared to their male counterparts who have the same score.\n",
    "\n",
    "One way to reduce this gender disparity is to explicitly include gender (`sex`) as a variable.\n",
    "In this exercise, build a gender-aware ricidivism prediction model with `priors_count`, `age`, `sex` and add two columns `gender_specific_risk` and `gender_specific_risk_bin` (the prediction rounded to the nearest 10%) to the data frame."
   ]
  },
  {
   "cell_type": "code",
   "execution_count": 5,
   "metadata": {},
   "outputs": [
    {
     "data": {
      "text/plain": [
       "\n",
       "Call:\n",
       "glm(formula = is_recid ~ priors_count + age + sex, family = \"binomial\", \n",
       "    data = compas_df)\n",
       "\n",
       "Deviance Residuals: \n",
       "   Min      1Q  Median      3Q     Max  \n",
       "-3.113  -1.068  -0.431   1.067   2.238  \n",
       "\n",
       "Coefficients:\n",
       "             Estimate Std. Error z value Pr(>|z|)    \n",
       "(Intercept)   0.79305    0.10227    7.75  8.9e-15 ***\n",
       "priors_count  0.15836    0.00736   21.53  < 2e-16 ***\n",
       "age          -0.04802    0.00256  -18.79  < 2e-16 ***\n",
       "sexMale       0.37449    0.06954    5.39  7.2e-08 ***\n",
       "---\n",
       "Signif. codes:  0 ‘***’ 0.001 ‘**’ 0.01 ‘*’ 0.05 ‘.’ 0.1 ‘ ’ 1\n",
       "\n",
       "(Dispersion parameter for binomial family taken to be 1)\n",
       "\n",
       "    Null deviance: 8525.6  on 6149  degrees of freedom\n",
       "Residual deviance: 7582.5  on 6146  degrees of freedom\n",
       "AIC: 7590\n",
       "\n",
       "Number of Fisher Scoring iterations: 4\n"
      ]
     },
     "metadata": {},
     "output_type": "display_data"
    }
   ],
   "source": [
    "# Refit the model by including gender, look at the coefficients of the fitted model, \n",
    "# and generate gender-specific recidivism rate by risk score\n",
    "\n",
    "# WRITE CODE HERE\n",
    "# START solution\n",
    "recid_gender_model <- glm(is_recid ~ priors_count + age + sex, data = compas_df, family = \"binomial\")\n",
    "\n",
    "# Show model coeffients\n",
    "summary(recid_gender_model)\n",
    "\n",
    "compas_df <- compas_df %>%\n",
    "    mutate(\n",
    "        gender_specific_risk = predict(recid_gender_model, type = \"response\"),\n",
    "        gender_specific_risk_score = round(gender_specific_risk * 10)\n",
    "    )\n",
    "# END solution"
   ]
  },
  {
   "cell_type": "code",
   "execution_count": 6,
   "metadata": {},
   "outputs": [
    {
     "name": "stderr",
     "output_type": "stream",
     "text": [
      "`summarise()` regrouping output by 'sex' (override with `.groups` argument)\n"
     ]
    },
    {
     "data": {
      "text/html": [
       "<table>\n",
       "<caption>A tibble: 8 × 3</caption>\n",
       "<thead>\n",
       "\t<tr><th scope=col>gender_specific_risk_score</th><th scope=col>Female</th><th scope=col>Male</th></tr>\n",
       "\t<tr><th scope=col>&lt;dbl&gt;</th><th scope=col>&lt;dbl&gt;</th><th scope=col>&lt;dbl&gt;</th></tr>\n",
       "</thead>\n",
       "<tbody>\n",
       "\t<tr><td>1</td><td>0.164</td><td>0.155</td></tr>\n",
       "\t<tr><td>2</td><td>0.235</td><td>0.232</td></tr>\n",
       "\t<tr><td>3</td><td>0.262</td><td>0.310</td></tr>\n",
       "\t<tr><td>4</td><td>0.340</td><td>0.373</td></tr>\n",
       "\t<tr><td>5</td><td>0.550</td><td>0.447</td></tr>\n",
       "\t<tr><td>6</td><td>0.754</td><td>0.658</td></tr>\n",
       "\t<tr><td>7</td><td>0.789</td><td>0.750</td></tr>\n",
       "\t<tr><td>8</td><td>0.696</td><td>0.794</td></tr>\n",
       "</tbody>\n",
       "</table>\n"
      ],
      "text/latex": [
       "A tibble: 8 × 3\n",
       "\\begin{tabular}{r|lll}\n",
       " gender\\_specific\\_risk\\_score & Female & Male\\\\\n",
       " <dbl> & <dbl> & <dbl>\\\\\n",
       "\\hline\n",
       "\t 1 & 0.164 & 0.155\\\\\n",
       "\t 2 & 0.235 & 0.232\\\\\n",
       "\t 3 & 0.262 & 0.310\\\\\n",
       "\t 4 & 0.340 & 0.373\\\\\n",
       "\t 5 & 0.550 & 0.447\\\\\n",
       "\t 6 & 0.754 & 0.658\\\\\n",
       "\t 7 & 0.789 & 0.750\\\\\n",
       "\t 8 & 0.696 & 0.794\\\\\n",
       "\\end{tabular}\n"
      ],
      "text/markdown": [
       "\n",
       "A tibble: 8 × 3\n",
       "\n",
       "| gender_specific_risk_score &lt;dbl&gt; | Female &lt;dbl&gt; | Male &lt;dbl&gt; |\n",
       "|---|---|---|\n",
       "| 1 | 0.164 | 0.155 |\n",
       "| 2 | 0.235 | 0.232 |\n",
       "| 3 | 0.262 | 0.310 |\n",
       "| 4 | 0.340 | 0.373 |\n",
       "| 5 | 0.550 | 0.447 |\n",
       "| 6 | 0.754 | 0.658 |\n",
       "| 7 | 0.789 | 0.750 |\n",
       "| 8 | 0.696 | 0.794 |\n",
       "\n"
      ],
      "text/plain": [
       "  gender_specific_risk_score Female Male \n",
       "1 1                          0.164  0.155\n",
       "2 2                          0.235  0.232\n",
       "3 3                          0.262  0.310\n",
       "4 4                          0.340  0.373\n",
       "5 5                          0.550  0.447\n",
       "6 6                          0.754  0.658\n",
       "7 7                          0.789  0.750\n",
       "8 8                          0.696  0.794"
      ]
     },
     "metadata": {},
     "output_type": "display_data"
    }
   ],
   "source": [
    "# compute calibration by gender\n",
    "calibration_by_gender <- compas_df %>%\n",
    "    filter(gender_specific_risk_score <= 8) %>%\n",
    "    group_by(sex, gender_specific_risk_score) %>%\n",
    "    summarize(recidivism_rate = mean(is_recid))\n",
    "\n",
    "# Put the recidivism rates of different races side by side\n",
    "calibration_by_gender %>%\n",
    "    spread(sex, recidivism_rate)"
   ]
  },
  {
   "cell_type": "code",
   "execution_count": 7,
   "metadata": {},
   "outputs": [
    {
     "name": "stderr",
     "output_type": "stream",
     "text": [
      "`geom_smooth()` using formula 'y ~ x'\n"
     ]
    },
    {
     "data": {
      "image/png": "[encoded data removed]",
      "text/plain": [
       "plot without title"
      ]
     },
     "metadata": {},
     "output_type": "display_data"
    }
   ],
   "source": [
    "# Calibration plot\n",
    "ggplot(compas_df, \n",
    "       aes(x = gender_specific_risk_score, y = is_recid, color = sex, group=sex)) + \n",
    "    geom_smooth(method=\"glm\", method.args=list(family=\"binomial\")) +\n",
    "    scale_y_continuous(labels = scales::percent_format(), limits = c(0, 1))+\n",
    "    scale_x_continuous(breaks = seq(0, 10, 2), limits = c(1, 10))+\n",
    "    labs(x = \"\\nDiscretized risk score\",\n",
    "         y = \"Recidivism rate\\n\")"
   ]
  },
  {
   "cell_type": "markdown",
   "metadata": {},
   "source": [
    "### Exercise 3: Compare gender-specific and gender-blind models"
   ]
  },
  {
   "cell_type": "markdown",
   "metadata": {},
   "source": [
    "Now, let's compare our gender-specific and gender-blind models by examining the number of men and women detained at a detention risk threshold of 50%."
   ]
  },
  {
   "cell_type": "code",
   "execution_count": 8,
   "metadata": {},
   "outputs": [
    {
     "name": "stderr",
     "output_type": "stream",
     "text": [
      "`summarise()` ungrouping output (override with `.groups` argument)\n"
     ]
    },
    {
     "data": {
      "text/html": [
       "<table>\n",
       "<caption>A tibble: 2 × 3</caption>\n",
       "<thead>\n",
       "\t<tr><th scope=col>sex</th><th scope=col>n_detained</th><th scope=col>n_gender_specific_detained</th></tr>\n",
       "\t<tr><th scope=col>&lt;chr&gt;</th><th scope=col>&lt;int&gt;</th><th scope=col>&lt;int&gt;</th></tr>\n",
       "</thead>\n",
       "<tbody>\n",
       "\t<tr><td>Female</td><td> 473</td><td> 220</td></tr>\n",
       "\t<tr><td>Male  </td><td>2611</td><td>2893</td></tr>\n",
       "</tbody>\n",
       "</table>\n"
      ],
      "text/latex": [
       "A tibble: 2 × 3\n",
       "\\begin{tabular}{r|lll}\n",
       " sex & n\\_detained & n\\_gender\\_specific\\_detained\\\\\n",
       " <chr> & <int> & <int>\\\\\n",
       "\\hline\n",
       "\t Female &  473 &  220\\\\\n",
       "\t Male   & 2611 & 2893\\\\\n",
       "\\end{tabular}\n"
      ],
      "text/markdown": [
       "\n",
       "A tibble: 2 × 3\n",
       "\n",
       "| sex &lt;chr&gt; | n_detained &lt;int&gt; | n_gender_specific_detained &lt;int&gt; |\n",
       "|---|---|---|\n",
       "| Female |  473 |  220 |\n",
       "| Male   | 2611 | 2893 |\n",
       "\n"
      ],
      "text/plain": [
       "  sex    n_detained n_gender_specific_detained\n",
       "1 Female  473        220                      \n",
       "2 Male   2611       2893                      "
      ]
     },
     "metadata": {},
     "output_type": "display_data"
    }
   ],
   "source": [
    "# Calculate number of men and women detained for gender-specific and gender-blind models\n",
    "\n",
    "# WRITE CODE HERE\n",
    "compas_df %>%\n",
    "# START solution\n",
    "    mutate(\n",
    "        detained = risk > 0.5,\n",
    "        gender_specific_detained = gender_specific_risk > 0.5\n",
    "    ) %>%\n",
    "    group_by(sex) %>%\n",
    "    summarize(\n",
    "        n_detained = sum(detained),\n",
    "        n_gender_specific_detained = sum(gender_specific_detained)\n",
    "    )\n",
    "# END solution"
   ]
  },
  {
   "cell_type": "markdown",
   "metadata": {},
   "source": [
    "By including gender in our model, we are able to obtain a calibrated model with fewer number of women detained.\n",
    "However, by explicitly using gender, we violate anti-classification.\n",
    "What do you think of this approach?"
   ]
  },
  {
   "cell_type": "markdown",
   "metadata": {},
   "source": [
    "### Exercise 4: False positive rate and false negative rate"
   ]
  },
  {
   "cell_type": "markdown",
   "metadata": {},
   "source": [
    "We now introduce _false positive rate (FPR)_ and _false negative rate (FNR)_, two common metrics for evaluating model performance.\n",
    "\n",
    "In our application, the false positive rate is the proporition of people who are flagged as high risk by the algorithm, among those who ultimately did not recidivate. Conversely, the false negative rate is the proportion of people who are flagged as low risk by the algorithmic, among those who ultimately did recidivate. \n",
    "\n",
    "To more formally define these error rates, we introduce a few more terms:\n",
    "\n",
    "* $N_+$: the number of real positive cases in the data\n",
    "* $N_-$: the number of real negative cases in the data\n",
    "* TP: true positives; the number of predicted positive cases that were real positives \n",
    "* TN: true negatives; the number of predicted negative cases that were real negatives \n",
    "* FP: false positives; the number of predicted positives that were actually negative in the data (false alarms, Type I error)\n",
    "* FN: false negatives; the number of predicted negatives that were actually positive in the data (Type II error) \n",
    "\n",
    "Their definitions can be illustrated using following table:\n",
    "\n",
    "\n",
    "| <div></div> | Real positive | Real negative |\n",
    "|--------------------|---------------|---------------|\n",
    "| Predicted positive |       TP      |            FP |\n",
    "| Predicted negative |       FN      |            TN |\n",
    "\n",
    "\n",
    "Then the false positive rate (FPR) is given by: \n",
    "\n",
    "\\begin{equation}\n",
    "  FPR = \\frac{FP}{N_-} = \\frac{FP}{FP + TN}\n",
    "\\end{equation}\n",
    "\n",
    "Similarly, the false negative rate (FNR) is given by: \n",
    "\n",
    "\\begin{equation}\n",
    "  FNR = \\frac{FN}{N_+} = \\frac{FN}{TP + FN}\n",
    "\\end{equation}"
   ]
  },
  {
   "cell_type": "markdown",
   "metadata": {},
   "source": [
    "Coming back to the racial disparity we observed last week, in this exercise, let's calculate our model's FPR and FNR for white and Black defendants using a threshold of 50\\% for our binary prediction (`binary_recid`)."
   ]
  },
  {
   "cell_type": "code",
   "execution_count": 9,
   "metadata": {},
   "outputs": [
    {
     "name": "stderr",
     "output_type": "stream",
     "text": [
      "`summarise()` ungrouping output (override with `.groups` argument)\n"
     ]
    },
    {
     "data": {
      "text/html": [
       "<table>\n",
       "<caption>A tibble: 2 × 3</caption>\n",
       "<thead>\n",
       "\t<tr><th scope=col>race</th><th scope=col>fpr</th><th scope=col>fnr</th></tr>\n",
       "\t<tr><th scope=col>&lt;chr&gt;</th><th scope=col>&lt;dbl&gt;</th><th scope=col>&lt;dbl&gt;</th></tr>\n",
       "</thead>\n",
       "<tbody>\n",
       "\t<tr><td>African-American</td><td>0.413</td><td>0.240</td></tr>\n",
       "\t<tr><td>Caucasian       </td><td>0.228</td><td>0.487</td></tr>\n",
       "</tbody>\n",
       "</table>\n"
      ],
      "text/latex": [
       "A tibble: 2 × 3\n",
       "\\begin{tabular}{r|lll}\n",
       " race & fpr & fnr\\\\\n",
       " <chr> & <dbl> & <dbl>\\\\\n",
       "\\hline\n",
       "\t African-American & 0.413 & 0.240\\\\\n",
       "\t Caucasian        & 0.228 & 0.487\\\\\n",
       "\\end{tabular}\n"
      ],
      "text/markdown": [
       "\n",
       "A tibble: 2 × 3\n",
       "\n",
       "| race &lt;chr&gt; | fpr &lt;dbl&gt; | fnr &lt;dbl&gt; |\n",
       "|---|---|---|\n",
       "| African-American | 0.413 | 0.240 |\n",
       "| Caucasian        | 0.228 | 0.487 |\n",
       "\n"
      ],
      "text/plain": [
       "  race             fpr   fnr  \n",
       "1 African-American 0.413 0.240\n",
       "2 Caucasian        0.228 0.487"
      ]
     },
     "metadata": {},
     "output_type": "display_data"
    }
   ],
   "source": [
    "# Complete the function calc_fpr_fnr, which takes a data frame that has at least three columns: race, is_recid, and binary_recid,\n",
    "# and returns a data frame with three columns: race, FPR, and FNR\n",
    "\n",
    "calc_fpr_fnr <- function(df) {\n",
    "# WRITE CODE HERE\n",
    "# START solution\n",
    "    df %>%\n",
    "    group_by(race) %>%\n",
    "    summarize(\n",
    "        fp = sum((is_recid == 0) & (binary_recid)),\n",
    "        fn = sum((is_recid == 1) & (!binary_recid)),\n",
    "        positives = sum(is_recid),\n",
    "        negatives = sum(!is_recid),\n",
    "        fpr = fp/negatives,\n",
    "        fnr = fn/positives\n",
    "    ) %>%\n",
    "    select(race, fpr, fnr)\n",
    "# END solution\n",
    "}\n",
    "\n",
    "calc_fpr_fnr(compas_df)"
   ]
  },
  {
   "cell_type": "markdown",
   "metadata": {},
   "source": [
    "#### Discuss!"
   ]
  },
  {
   "cell_type": "markdown",
   "metadata": {},
   "source": [
    "### Exercise 5: Equalizing false positive rates"
   ]
  },
  {
   "cell_type": "markdown",
   "metadata": {},
   "source": [
    "Some have advocated for equalizing FPR to create a \"fair\" model.\n",
    "One way to do that is to set different thresholds for white defendants and Black defendants.\n",
    "To do so, we will fix our classification threshold for white defendants at 50% and tune the threshold for Black defendants so that the false positive rates are equal for both groups.\n",
    "\n",
    "Similarly, find the threshold for Black defendants that equalizes the false negative rates for both groups."
   ]
  },
  {
   "cell_type": "code",
   "execution_count": 10,
   "metadata": {},
   "outputs": [
    {
     "name": "stderr",
     "output_type": "stream",
     "text": [
      "`summarise()` ungrouping output (override with `.groups` argument)\n"
     ]
    },
    {
     "data": {
      "text/html": [
       "<table>\n",
       "<caption>A tibble: 2 × 3</caption>\n",
       "<thead>\n",
       "\t<tr><th scope=col>race</th><th scope=col>fpr</th><th scope=col>fnr</th></tr>\n",
       "\t<tr><th scope=col>&lt;chr&gt;</th><th scope=col>&lt;dbl&gt;</th><th scope=col>&lt;dbl&gt;</th></tr>\n",
       "</thead>\n",
       "<tbody>\n",
       "\t<tr><td>African-American</td><td>0.413</td><td>0.240</td></tr>\n",
       "\t<tr><td>Caucasian       </td><td>0.228</td><td>0.487</td></tr>\n",
       "</tbody>\n",
       "</table>\n"
      ],
      "text/latex": [
       "A tibble: 2 × 3\n",
       "\\begin{tabular}{r|lll}\n",
       " race & fpr & fnr\\\\\n",
       " <chr> & <dbl> & <dbl>\\\\\n",
       "\\hline\n",
       "\t African-American & 0.413 & 0.240\\\\\n",
       "\t Caucasian        & 0.228 & 0.487\\\\\n",
       "\\end{tabular}\n"
      ],
      "text/markdown": [
       "\n",
       "A tibble: 2 × 3\n",
       "\n",
       "| race &lt;chr&gt; | fpr &lt;dbl&gt; | fnr &lt;dbl&gt; |\n",
       "|---|---|---|\n",
       "| African-American | 0.413 | 0.240 |\n",
       "| Caucasian        | 0.228 | 0.487 |\n",
       "\n"
      ],
      "text/plain": [
       "  race             fpr   fnr  \n",
       "1 African-American 0.413 0.240\n",
       "2 Caucasian        0.228 0.487"
      ]
     },
     "metadata": {},
     "output_type": "display_data"
    },
    {
     "data": {
      "image/png": "[encoded data removed]",
      "text/plain": [
       "plot without title"
      ]
     },
     "metadata": {},
     "output_type": "display_data"
    }
   ],
   "source": [
    "white_threshold = 0.5\n",
    "black_threshold = 0.5 # WRITE CODE HERE\n",
    "# START solution\n",
    "# 0.573 # for equalizing FNR\n",
    "# 0.555 # for equalizing FPR\n",
    "# END solution\n",
    "\n",
    "# Calculate detention and recidivism rate by race\n",
    "compas_df %>%\n",
    "    mutate(binary_recid = risk > if_else(race == \"Caucasian\", white_threshold, black_threshold)) %>%\n",
    "    calc_fpr_fnr()\n",
    "\n",
    "# See where the thresholds are on the risk distribution\n",
    "options(repr.plot.width = 7, repr.plot.height = 3.5)\n",
    "\n",
    "# Recall this risk distribution plot\n",
    "# Now we add our thresholds in the plots\n",
    "ggplot(compas_df, aes(x = risk, fill = race)) +\n",
    "    geom_density(alpha = 0.5, color = NA) +\n",
    "    scale_x_continuous(\"Estimated risk\", labels = scales::percent_format(), expand = c(0, 0)) +\n",
    "    scale_y_continuous(element_blank(), expand = c(0, 0)) +\n",
    "    theme(axis.ticks.y = element_blank(),\n",
    "          axis.text.y = element_blank())+\n",
    "    geom_vline(\n",
    "        xintercept = c(black_threshold, white_threshold), \n",
    "        color = c(\"red\", \"blue\"),\n",
    "        alpha = 0.5\n",
    "    )"
   ]
  },
  {
   "cell_type": "markdown",
   "metadata": {},
   "source": [
    "#### Discuss."
   ]
  }
 ],
 "metadata": {
  "kernelspec": {
   "display_name": "R",
   "language": "R",
   "name": "ir"
  },
  "language_info": {
   "codemirror_mode": "r",
   "file_extension": ".r",
   "mimetype": "text/x-r-source",
   "name": "R",
   "pygments_lexer": "r",
   "version": "3.6.3"
  }
 },
 "nbformat": 4,
 "nbformat_minor": 4
}
