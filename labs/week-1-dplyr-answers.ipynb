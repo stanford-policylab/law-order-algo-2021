{
 "cells": [
  {
   "cell_type": "markdown",
   "metadata": {},
   "source": [
    "# Law, Bias, and Algorithms\n",
    "## Introduction to `R` and `dplyr` (2/2)"
   ]
  },
  {
   "cell_type": "code",
   "execution_count": 1,
   "metadata": {},
   "outputs": [],
   "source": [
    "# Some initial setup\n",
    "options(digits = 3, repr.matrix.max.rows = 6)"
   ]
  },
  {
   "cell_type": "markdown",
   "metadata": {},
   "source": [
    "In this section, and throughout most of the course, we will be using packages that are part of the [`tidyverse`](https://www.tidyverse.org/)."
   ]
  },
  {
   "cell_type": "code",
   "execution_count": 2,
   "metadata": {},
   "outputs": [
    {
     "name": "stderr",
     "output_type": "stream",
     "text": [
      "── Attaching packages ─────────────────────────────────────── tidyverse 1.2.1 ──\n",
      "✔ ggplot2 3.0.0     ✔ purrr   0.2.5\n",
      "✔ tibble  1.4.2     ✔ dplyr   0.7.6\n",
      "✔ tidyr   0.8.1     ✔ stringr 1.3.1\n",
      "✔ readr   1.1.1     ✔ forcats 0.3.0\n",
      "── Conflicts ────────────────────────────────────────── tidyverse_conflicts() ──\n",
      "✖ dplyr::filter() masks stats::filter()\n",
      "✖ dplyr::lag()    masks stats::lag()\n"
     ]
    }
   ],
   "source": [
    "# If you haven't already done so, install tidyverse via\n",
    "#   install.packages(\"tidyverse\")\n",
    "# and then load it via:\n",
    "library(tidyverse)"
   ]
  },
  {
   "cell_type": "markdown",
   "metadata": {},
   "source": [
    "The [tidyverse](https://www.tidyverse.org) is a collection of actively-developed `R` packages that follow a certain principle of writing code.\n",
    "Here, we will primarily focus on `dplyr`, which is the part of `tidyverse` which deals with data manipulation.\n",
    "\n",
    "First, we will start by reading some data. \n",
    "There are many functions in `tidyverse` (and `R` in general) for reading various data formats into the `R` environment as a table of data (or, `data.table`).\n",
    "For example, either `read_csv` (from `tidyverse`) or `read.csv` (base `R`) can be used to read a `csv` file (e.g., a file where each line represents a row in the table, and the columns are separated by a `,`).\n",
    "\n",
    "For this course, we have prepared a table of data in the `rds` format.\n",
    "You can download it (and other data required for this course) by running the `get_data.sh` script, included at the root of this repository.\n",
    "\n",
    "After downloading the data, we can read the `sqf_sample.rds` file into the current `R` session with the `read_rds` function.\n",
    "Let's name this table `stops_df`."
   ]
  },
  {
   "cell_type": "code",
   "execution_count": 3,
   "metadata": {},
   "outputs": [],
   "source": [
    "# Read the data\n",
    "stop_df <- read_rds(\"../data/sqf_sample.rds\")"
   ]
  },
  {
   "cell_type": "markdown",
   "metadata": {},
   "source": [
    "### The data\n",
    "\n",
    "The loaded data frame, `stop_df`, is a sample of stops in NYC, recorded on a \n",
    "[UF-250 form][uf250_link].\n",
    "\n",
    "Each row corresponds to a stop that an officer made, and the columns represent various entries in the [UF-250 form][uf250_link].\n",
    "\n",
    "\n",
    "Below is a list of columns in the data, roughly corresponding to the [UF-250 form][uf250_link]:\n",
    "\n",
    "* Base information regarding stop:\n",
    "    * `id`, `year`, `date`, `time`, `precinct`, `location_housing`, \n",
    "      `suspected_crime`\n",
    "\n",
    "* Circumstances which led to stop:\n",
    "    * `stop_reason_object`, `stop_reason_desc`, `stop_reason_casing`,\n",
    "      `stop_reason_lookout`, `stop_reason_clothing`, `stop_reason_drugs`,\n",
    "      `stop_reason_furtive`, `stop_reason_violent`, `stop_reason_bulge`,\n",
    "      `stop_reason_other` \n",
    "    \n",
    "* Suspect demographics:\n",
    "    * `suspect_dob`, `suspect_id_type`, `suspect_sex`, `suspect_race`,\n",
    "      `suspect_hispanic`, `suspect_age`, `suspect_height`, `suspect_weight`,\n",
    "      `suspect_hair`, `suspect_eye`, `suspect_build`, `reason_explained`,\n",
    "      `others_stopped`\n",
    "\n",
    "* Whether physical force was used:\n",
    "    * `force_hands`, `force_wall`, `force_ground`, `force_drawn`,\n",
    "      `force_pointed`, `force_baton`, `force_handcuffs`,\n",
    "      `force_pepper`, `force_other`\n",
    "\n",
    "* Was suspect arrested?: `arrested`\n",
    "\n",
    "* Was summons issued?: `summons_issued`\n",
    "\n",
    "* Officer in uniform?: `officer_uniform`, `officer_verbal`, `officer_shield`\n",
    "\n",
    "* Was person frisked?: `frisked`\n",
    "    * if yes: `frisk_reason_suspected_crime`, `frisk_reason_weapons`, \n",
    "      `frisk_reason_attire`, `frisk_reason_actual_crime`, \n",
    "      `frisk_reason_noncompliance`, `frisk_reason_threats`,\n",
    "      `frisk_reason_prior`, `frisk_reason_furtive`, `frisk_reason_bulge`\n",
    "\n",
    "* Was person searched?: `searched`,\n",
    "    * if yes: `searched_hardobject`, `searched_outline`,\n",
    "      `searched_admission`, `searched_other`\n",
    "\n",
    "* Was weapon found?: `found_weapon`\n",
    "    * if yes: `found_gun`, `found_pistol`, `found_rifle`, `found_assault`,\n",
    "      `found_knife`, `found_machinegun`, `found_other`\n",
    "      \n",
    "* Was other contraband found?: `found_contraband`\n",
    "\n",
    "* Additional circumstances/factors\n",
    "    * `additional_report`, `additional_investigation`, `additional_proximity`, \n",
    "      `additional_evasive`, `additional_associating`, `additional_direction`, \n",
    "      `additional_highcrime`, `additional_time`, `additional_sights`, \n",
    "      `additional_other`\n",
    "\n",
    "* Additional reports prepared: `extra_reports`\n",
    "\n",
    "[uf250_link]: https://www.prisonlegalnews.org/media/publications/Blank%20UF-250%20Form%20-%20Stop%2C%20Question%20and%20Frisk%20Report%20Worksheet%2C%20NYPD%2C%202016.pdf\n",
    "      "
   ]
  },
  {
   "cell_type": "markdown",
   "metadata": {},
   "source": [
    "We can also use some base `R` functions to explore the data.\n",
    "\n",
    "### Exercise: understanding the data\n",
    "\n",
    "Run `str(stop_df)` and `summary(stop_df)`.\n",
    "Compare the output to the **UF-250 form** and the column descriptions above.\n",
    "The goal is to understand what each column means, and how that information is stored (e.g., numbers, strings, logical values)"
   ]
  },
  {
   "cell_type": "code",
   "execution_count": 4,
   "metadata": {},
   "outputs": [
    {
     "name": "stdout",
     "output_type": "stream",
     "text": [
      "'data.frame':\t100000 obs. of  81 variables:\n",
      " $ id                          : int  2686798 2075967 1268296 2522700 2722653 2333983 1680748 3352766 2408866 2187979 ...\n",
      " $ year                        : int  2010 2009 2008 2010 2011 2010 2009 2011 2010 2010 ...\n",
      " $ date                        : chr  \"2010-12-17\" \"2009-12-08\" \"2008-07-12\" \"2010-09-08\" ...\n",
      " $ time                        : chr  \"15:15\" \"15:19\" \"14:45\" \"21:55\" ...\n",
      " $ precinct                    : Factor w/ 77 levels \"1\",\"5\",\"6\",\"7\",..: 53 23 7 26 74 37 36 56 49 1 ...\n",
      " $ location_housing            : Factor w/ 3 levels \"housing\",\"neither\",..: 2 2 3 1 2 2 2 2 3 2 ...\n",
      " $ suspected_crime             : Factor w/ 11 levels \"burglary\",\"cpw\",..: 1 2 7 2 10 8 5 2 10 11 ...\n",
      " $ stop_reason_object          : logi  FALSE FALSE FALSE FALSE FALSE FALSE ...\n",
      " $ stop_reason_desc            : logi  FALSE FALSE TRUE FALSE FALSE FALSE ...\n",
      " $ stop_reason_casing          : logi  TRUE FALSE TRUE FALSE TRUE TRUE ...\n",
      " $ stop_reason_lookout         : logi  FALSE FALSE FALSE FALSE TRUE TRUE ...\n",
      " $ stop_reason_clothing        : logi  TRUE FALSE FALSE FALSE FALSE FALSE ...\n",
      " $ stop_reason_drugs           : logi  FALSE FALSE FALSE FALSE FALSE FALSE ...\n",
      " $ stop_reason_furtive         : logi  FALSE TRUE FALSE TRUE TRUE FALSE ...\n",
      " $ stop_reason_violent         : logi  TRUE FALSE FALSE FALSE TRUE FALSE ...\n",
      " $ stop_reason_bulge           : logi  FALSE FALSE FALSE FALSE FALSE FALSE ...\n",
      " $ stop_reason_other           : logi  FALSE FALSE FALSE FALSE FALSE FALSE ...\n",
      " $ suspect_dob                 : chr  \"1998-10-12\" \"1990-06-01\" \"1959-07-12\" \"1987-03-04\" ...\n",
      " $ suspect_id_type             : Factor w/ 4 levels \"other\",\"photo\",..: 2 4 2 2 4 4 4 2 4 2 ...\n",
      " $ suspect_sex                 : Factor w/ 2 levels \"male\",\"female\": 1 1 1 1 1 1 1 1 1 1 ...\n",
      " $ suspect_race                : Factor w/ 3 levels \"white\",\"black\",..: 3 2 2 2 2 1 1 3 2 2 ...\n",
      " $ suspect_hispanic            : logi  TRUE FALSE FALSE FALSE FALSE FALSE ...\n",
      " $ suspect_age                 : int  12 19 47 23 30 24 37 27 44 22 ...\n",
      " $ suspect_height              : num  5 6 5.83 5.83 6.08 ...\n",
      " $ suspect_weight              : int  130 170 200 170 220 155 215 180 180 190 ...\n",
      " $ suspect_hair                : Factor w/ 8 levels \"bald\",\"black\",..: 4 2 4 2 2 3 2 2 2 2 ...\n",
      " $ suspect_eye                 : Factor w/ 8 levels \"black\",\"blue\",..: 3 3 3 3 3 3 2 3 3 3 ...\n",
      " $ suspect_build               : Factor w/ 5 levels \"heavy\",\"medium\",..: 2 4 2 1 1 2 1 2 2 4 ...\n",
      " $ reason_explained            : logi  TRUE TRUE TRUE TRUE TRUE TRUE ...\n",
      " $ others_stopped              : logi  FALSE FALSE FALSE TRUE TRUE FALSE ...\n",
      " $ force_hands                 : logi  FALSE FALSE FALSE FALSE TRUE FALSE ...\n",
      " $ force_wall                  : logi  FALSE FALSE FALSE TRUE FALSE FALSE ...\n",
      " $ force_ground                : logi  FALSE FALSE FALSE FALSE FALSE FALSE ...\n",
      " $ force_drawn                 : logi  FALSE FALSE FALSE FALSE FALSE FALSE ...\n",
      " $ force_pointed               : logi  FALSE FALSE FALSE FALSE FALSE FALSE ...\n",
      " $ force_baton                 : logi  FALSE FALSE FALSE FALSE FALSE FALSE ...\n",
      " $ force_handcuffs             : logi  FALSE FALSE FALSE FALSE FALSE FALSE ...\n",
      " $ force_pepper                : logi  FALSE FALSE FALSE FALSE FALSE FALSE ...\n",
      " $ force_other                 : logi  TRUE FALSE FALSE FALSE FALSE FALSE ...\n",
      " $ arrested                    : logi  FALSE TRUE FALSE FALSE FALSE FALSE ...\n",
      " $ summons_issued              : logi  FALSE FALSE FALSE FALSE FALSE FALSE ...\n",
      " $ officer_uniform             : logi  FALSE FALSE FALSE FALSE FALSE FALSE ...\n",
      " $ officer_verbal              : logi  TRUE TRUE TRUE TRUE TRUE TRUE ...\n",
      " $ officer_shield              : logi  TRUE TRUE TRUE TRUE TRUE TRUE ...\n",
      " $ frisked                     : logi  TRUE TRUE FALSE TRUE TRUE TRUE ...\n",
      " $ frisk_reason_suspected_crime: logi  TRUE TRUE FALSE FALSE TRUE FALSE ...\n",
      " $ frisk_reason_weapons        : logi  FALSE FALSE FALSE FALSE FALSE FALSE ...\n",
      " $ frisk_reason_attire         : logi  FALSE FALSE FALSE FALSE FALSE FALSE ...\n",
      " $ frisk_reason_actual_crime   : logi  TRUE FALSE FALSE FALSE TRUE FALSE ...\n",
      " $ frisk_reason_noncompliance  : logi  FALSE FALSE FALSE FALSE FALSE FALSE ...\n",
      " $ frisk_reason_threats        : logi  FALSE FALSE FALSE FALSE FALSE FALSE ...\n",
      " $ frisk_reason_prior          : logi  FALSE FALSE FALSE FALSE FALSE FALSE ...\n",
      " $ frisk_reason_furtive        : logi  FALSE FALSE FALSE TRUE TRUE TRUE ...\n",
      " $ frisk_reason_bulge          : logi  FALSE FALSE FALSE FALSE FALSE FALSE ...\n",
      " $ searched                    : logi  FALSE FALSE FALSE TRUE FALSE FALSE ...\n",
      " $ searched_hardobject         : logi  FALSE FALSE FALSE TRUE FALSE FALSE ...\n",
      " $ searched_outline            : logi  FALSE FALSE FALSE FALSE FALSE FALSE ...\n",
      " $ searched_admission          : logi  FALSE FALSE FALSE FALSE FALSE FALSE ...\n",
      " $ searched_other              : logi  FALSE FALSE FALSE FALSE FALSE FALSE ...\n",
      " $ additional_report           : logi  FALSE FALSE FALSE FALSE FALSE FALSE ...\n",
      " $ additional_investigation    : logi  FALSE FALSE FALSE FALSE FALSE FALSE ...\n",
      " $ additional_proximity        : logi  TRUE FALSE FALSE FALSE FALSE FALSE ...\n",
      " $ additional_evasive          : logi  FALSE FALSE TRUE FALSE TRUE FALSE ...\n",
      " $ additional_associating      : logi  FALSE TRUE FALSE FALSE FALSE FALSE ...\n",
      " $ additional_direction        : logi  FALSE TRUE FALSE TRUE FALSE FALSE ...\n",
      " $ additional_highcrime        : logi  TRUE TRUE TRUE TRUE FALSE FALSE ...\n",
      " $ additional_time             : logi  FALSE FALSE FALSE TRUE FALSE FALSE ...\n",
      " $ additional_sights           : logi  FALSE FALSE FALSE FALSE TRUE FALSE ...\n",
      " $ additional_other            : logi  FALSE FALSE FALSE FALSE FALSE FALSE ...\n",
      " $ found_weapon                : logi  FALSE TRUE FALSE FALSE FALSE FALSE ...\n",
      " $ found_pistol                : logi  FALSE TRUE FALSE FALSE FALSE FALSE ...\n",
      " $ found_rifle                 : logi  FALSE FALSE FALSE FALSE FALSE FALSE ...\n",
      " $ found_assault               : logi  FALSE FALSE FALSE FALSE FALSE FALSE ...\n",
      " $ found_knife                 : logi  FALSE FALSE FALSE FALSE FALSE FALSE ...\n",
      " $ found_machinegun            : logi  FALSE FALSE FALSE FALSE FALSE FALSE ...\n",
      " $ found_other                 : logi  FALSE FALSE FALSE FALSE FALSE FALSE ...\n",
      " $ found_gun                   : logi  FALSE TRUE FALSE FALSE FALSE FALSE ...\n",
      " $ found_contraband            : logi  FALSE FALSE FALSE FALSE FALSE FALSE ...\n",
      " $ extra_reports               : logi  FALSE FALSE FALSE FALSE FALSE FALSE ...\n",
      " $ hour                        : int  15 15 14 21 23 19 13 18 1 21 ...\n",
      " $ month                       : int  12 12 7 9 1 5 3 12 6 2 ...\n"
     ]
    },
    {
     "data": {
      "text/plain": [
       "       id               year          date               time          \n",
       " Min.   : 978652   Min.   :2008   Length:100000      Length:100000     \n",
       " 1st Qu.:1492175   1st Qu.:2008   Class :character   Class :character  \n",
       " Median :1984018   Median :2009   Mode  :character   Mode  :character  \n",
       " Mean   :2033863   Mean   :2009                                        \n",
       " 3rd Qu.:2490719   3rd Qu.:2010                                        \n",
       " Max.   :3386938   Max.   :2011                                        \n",
       "                                                                       \n",
       "    precinct     location_housing           suspected_crime  stop_reason_object\n",
       " 75     : 4089   housing: 7161    cpw               :29087   Mode :logical     \n",
       " 120    : 3855   neither:78749    robbery           :21230   FALSE:97020       \n",
       " 14     : 3558   transit:14090    burglary          :10424   TRUE :2980        \n",
       " 60     : 2920                    grand larceny auto:10005                     \n",
       " 61     : 2100                    other             : 8192                     \n",
       " 90     : 2081                    grand larceny     : 7556                     \n",
       " (Other):81397                    (Other)           :13506                     \n",
       " stop_reason_desc stop_reason_casing stop_reason_lookout stop_reason_clothing\n",
       " Mode :logical    Mode :logical      Mode :logical       Mode :logical       \n",
       " FALSE:87865      FALSE:59401        FALSE:79367         FALSE:94895         \n",
       " TRUE :12135      TRUE :40599        TRUE :20633         TRUE :5105          \n",
       "                                                                             \n",
       "                                                                             \n",
       "                                                                             \n",
       "                                                                             \n",
       " stop_reason_drugs stop_reason_furtive stop_reason_violent stop_reason_bulge\n",
       " Mode :logical     Mode :logical       Mode :logical       Mode :logical    \n",
       " FALSE:91473       FALSE:44216         FALSE:88474         FALSE:93315      \n",
       " TRUE :8527        TRUE :55784         TRUE :11526         TRUE :6685       \n",
       "                                                                            \n",
       "                                                                            \n",
       "                                                                            \n",
       "                                                                            \n",
       " stop_reason_other suspect_dob        suspect_id_type suspect_sex   \n",
       " Mode :logical     Length:100000      other  : 1235   male  :95799  \n",
       " FALSE:87658       Class :character   photo  :50653   female: 4201  \n",
       " TRUE :12342       Mode  :character   refused:  590                 \n",
       "                                      verbal :47522                 \n",
       "                                                                    \n",
       "                                                                    \n",
       "                                                                    \n",
       "   suspect_race   suspect_hispanic  suspect_age   suspect_height suspect_weight\n",
       " white   :12682   Mode :logical    Min.   :10.0   Min.   :3.00   Min.   :  1   \n",
       " black   :54806   FALSE:67488      1st Qu.:19.0   1st Qu.:5.58   1st Qu.:150   \n",
       " hispanic:32512   TRUE :32512      Median :24.0   Median :5.75   Median :170   \n",
       "                                   Mean   :27.4   Mean   :5.74   Mean   :171   \n",
       "                                   3rd Qu.:33.0   3rd Qu.:5.92   3rd Qu.:185   \n",
       "                                   Max.   :80.0   Max.   :7.92   Max.   :780   \n",
       "                                                                               \n",
       "          suspect_hair    suspect_eye     suspect_build   reason_explained\n",
       " black          :73466   brown  :90172   heavy   : 7846   Mode :logical   \n",
       " brown          :21645   black  : 5536   medium  :61571   FALSE:70        \n",
       " bald           : 1708   blue   : 1898   muscular:  355   TRUE :99930     \n",
       " blond          : 1269   green  :  886   thin    :29536                   \n",
       " gray           :  659   hazel  :  854   unknown :  692                   \n",
       " salt and pepper:  635   unknown:  302                                    \n",
       " (Other)        :  618   (Other):  352                                    \n",
       " others_stopped  force_hands     force_wall      force_ground   \n",
       " Mode :logical   Mode :logical   Mode :logical   Mode :logical  \n",
       " FALSE:76433     FALSE:72927     FALSE:95353     FALSE:99375    \n",
       " TRUE :23567     TRUE :27073     TRUE :4647      TRUE :625      \n",
       "                                                                \n",
       "                                                                \n",
       "                                                                \n",
       "                                                                \n",
       " force_drawn     force_pointed   force_baton     force_handcuffs\n",
       " Mode :logical   Mode :logical   Mode :logical   Mode :logical  \n",
       " FALSE:99824     FALSE:99674     FALSE:99989     FALSE:94686    \n",
       " TRUE :176       TRUE :326       TRUE :11        TRUE :5314     \n",
       "                                                                \n",
       "                                                                \n",
       "                                                                \n",
       "                                                                \n",
       " force_pepper    force_other      arrested       summons_issued \n",
       " Mode :logical   Mode :logical   Mode :logical   Mode :logical  \n",
       " FALSE:99979     FALSE:99551     FALSE:90098     FALSE:98232    \n",
       " TRUE :21        TRUE :449       TRUE :9902      TRUE :1768     \n",
       "                                                                \n",
       "                                                                \n",
       "                                                                \n",
       "                                                                \n",
       " officer_uniform officer_verbal officer_shield  frisked       \n",
       " Mode :logical   Mode:logical   Mode:logical   Mode :logical  \n",
       " FALSE:100000    TRUE:100000    TRUE:100000    FALSE:28794    \n",
       "                                               TRUE :71206    \n",
       "                                                              \n",
       "                                                              \n",
       "                                                              \n",
       "                                                              \n",
       " frisk_reason_suspected_crime frisk_reason_weapons frisk_reason_attire\n",
       " Mode :logical                Mode :logical        Mode :logical      \n",
       " FALSE:82401                  FALSE:96213          FALSE:89141        \n",
       " TRUE :17599                  TRUE :3787           TRUE :10859        \n",
       "                                                                      \n",
       "                                                                      \n",
       "                                                                      \n",
       "                                                                      \n",
       " frisk_reason_actual_crime frisk_reason_noncompliance frisk_reason_threats\n",
       " Mode :logical             Mode :logical              Mode :logical       \n",
       " FALSE:91066               FALSE:86329                FALSE:99393         \n",
       " TRUE :8934                TRUE :13671                TRUE :607           \n",
       "                                                                          \n",
       "                                                                          \n",
       "                                                                          \n",
       "                                                                          \n",
       " frisk_reason_prior frisk_reason_furtive frisk_reason_bulge  searched      \n",
       " Mode :logical      Mode :logical        Mode :logical      Mode :logical  \n",
       " FALSE:97325        FALSE:46604          FALSE:93162        FALSE:87265    \n",
       " TRUE :2675         TRUE :53396          TRUE :6838         TRUE :12735    \n",
       "                                                                           \n",
       "                                                                           \n",
       "                                                                           \n",
       "                                                                           \n",
       " searched_hardobject searched_outline searched_admission searched_other \n",
       " Mode :logical       Mode :logical    Mode :logical      Mode :logical  \n",
       " FALSE:93712         FALSE:99266      FALSE:99413        FALSE:94365    \n",
       " TRUE :6288          TRUE :734        TRUE :587          TRUE :5635     \n",
       "                                                                        \n",
       "                                                                        \n",
       "                                                                        \n",
       "                                                                        \n",
       " additional_report additional_investigation additional_proximity\n",
       " Mode :logical     Mode :logical            Mode :logical       \n",
       " FALSE:92545       FALSE:78977              FALSE:83913         \n",
       " TRUE :7455        TRUE :21023              TRUE :16087         \n",
       "                                                                \n",
       "                                                                \n",
       "                                                                \n",
       "                                                                \n",
       " additional_evasive additional_associating additional_direction\n",
       " Mode :logical      Mode :logical          Mode :logical       \n",
       " FALSE:73397        FALSE:94712            FALSE:67749         \n",
       " TRUE :26603        TRUE :5288             TRUE :32251         \n",
       "                                                               \n",
       "                                                               \n",
       "                                                               \n",
       "                                                               \n",
       " additional_highcrime additional_time additional_sights additional_other\n",
       " Mode :logical        Mode :logical   Mode :logical     Mode :logical   \n",
       " FALSE:38709          FALSE:57803     FALSE:96983       FALSE:97587     \n",
       " TRUE :61291          TRUE :42197     TRUE :3017        TRUE :2413      \n",
       "                                                                        \n",
       "                                                                        \n",
       "                                                                        \n",
       "                                                                        \n",
       " found_weapon    found_pistol    found_rifle     found_assault  \n",
       " Mode :logical   Mode :logical   Mode :logical   Mode :logical  \n",
       " FALSE:97695     FALSE:99633     FALSE:99985     FALSE:99978    \n",
       " TRUE :2305      TRUE :367       TRUE :15        TRUE :22       \n",
       "                                                                \n",
       "                                                                \n",
       "                                                                \n",
       "                                                                \n",
       " found_knife     found_machinegun found_other     found_gun      \n",
       " Mode :logical   Mode :logical    Mode :logical   Mode :logical  \n",
       " FALSE:98388     FALSE:99994      FALSE:99587     FALSE:99599    \n",
       " TRUE :1612      TRUE :6          TRUE :413       TRUE :401      \n",
       "                                                                 \n",
       "                                                                 \n",
       "                                                                 \n",
       "                                                                 \n",
       " found_contraband extra_reports        hour          month      \n",
       " Mode :logical    Mode :logical   Min.   : 0.0   Min.   : 1.00  \n",
       " FALSE:96832      FALSE:100000    1st Qu.:12.0   1st Qu.: 3.00  \n",
       " TRUE :3168                       Median :16.0   Median : 6.00  \n",
       "                                  Mean   :14.6   Mean   : 6.17  \n",
       "                                  3rd Qu.:21.0   3rd Qu.: 9.00  \n",
       "                                  Max.   :23.0   Max.   :12.00  \n",
       "                                                                "
      ]
     },
     "metadata": {},
     "output_type": "display_data"
    }
   ],
   "source": [
    "# WRITE CODE HERE\n",
    "# START solution\n",
    "str(stop_df)\n",
    "summary(stop_df)\n",
    "# END solution"
   ]
  },
  {
   "cell_type": "markdown",
   "metadata": {},
   "source": [
    "## Introduction to `dplyr` verbs\n",
    "\n",
    "In the world of `dplyr`, a _verb_ is a function that\n",
    "\n",
    "* takes a data frame as its first argument, and\n",
    "* returns another data frame as a result\n",
    "\n",
    "Any function that meets this criteria, even if it's not necessarily a function in the `dplyr` package, can be considered a _verb_.\n",
    "\n",
    "For example, the `head()` function in `R`, if applied to a data frame, will return a first `n` rows of a data frame."
   ]
  },
  {
   "cell_type": "code",
   "execution_count": 5,
   "metadata": {},
   "outputs": [
    {
     "data": {
      "text/html": [
       "<table>\n",
       "<thead><tr><th></th><th scope=col>id</th><th scope=col>year</th><th scope=col>date</th><th scope=col>time</th><th scope=col>precinct</th><th scope=col>location_housing</th><th scope=col>suspected_crime</th><th scope=col>stop_reason_object</th><th scope=col>stop_reason_desc</th><th scope=col>stop_reason_casing</th><th scope=col>⋯</th><th scope=col>found_rifle</th><th scope=col>found_assault</th><th scope=col>found_knife</th><th scope=col>found_machinegun</th><th scope=col>found_other</th><th scope=col>found_gun</th><th scope=col>found_contraband</th><th scope=col>extra_reports</th><th scope=col>hour</th><th scope=col>month</th></tr></thead>\n",
       "<tbody>\n",
       "\t<tr><th scope=row>322910</th><td>2686798      </td><td>2010         </td><td>2010-12-17   </td><td>15:15        </td><td>83           </td><td>neither      </td><td>burglary     </td><td>FALSE        </td><td>FALSE        </td><td> TRUE        </td><td>⋯            </td><td>FALSE        </td><td>FALSE        </td><td>FALSE        </td><td>FALSE        </td><td>FALSE        </td><td>FALSE        </td><td>FALSE        </td><td>FALSE        </td><td>15           </td><td>12           </td></tr>\n",
       "\t<tr><th scope=row>218707</th><td>2075967      </td><td>2009         </td><td>2009-12-08   </td><td>15:19        </td><td>40           </td><td>neither      </td><td>cpw          </td><td>FALSE        </td><td>FALSE        </td><td>FALSE        </td><td>⋯            </td><td>FALSE        </td><td>FALSE        </td><td>FALSE        </td><td>FALSE        </td><td>FALSE        </td><td> TRUE        </td><td>FALSE        </td><td>FALSE        </td><td>15           </td><td>12           </td></tr>\n",
       "\t<tr><th scope=row>53361</th><td>1268296      </td><td>2008         </td><td>2008-07-12   </td><td>14:45        </td><td>13           </td><td>transit      </td><td>grand larceny</td><td>FALSE        </td><td> TRUE        </td><td> TRUE        </td><td>⋯            </td><td>FALSE        </td><td>FALSE        </td><td>FALSE        </td><td>FALSE        </td><td>FALSE        </td><td>FALSE        </td><td>FALSE        </td><td>FALSE        </td><td>14           </td><td> 7           </td></tr>\n",
       "</tbody>\n",
       "</table>\n"
      ],
      "text/latex": [
       "\\begin{tabular}{r|lllllllllllllllllllllllllllllllllllllllllllllllllllllllllllllllllllllllllllllllll}\n",
       "  & id & year & date & time & precinct & location\\_housing & suspected\\_crime & stop\\_reason\\_object & stop\\_reason\\_desc & stop\\_reason\\_casing & ⋯ & found\\_rifle & found\\_assault & found\\_knife & found\\_machinegun & found\\_other & found\\_gun & found\\_contraband & extra\\_reports & hour & month\\\\\n",
       "\\hline\n",
       "\t322910 & 2686798       & 2010          & 2010-12-17    & 15:15         & 83            & neither       & burglary      & FALSE         & FALSE         &  TRUE         & ⋯             & FALSE         & FALSE         & FALSE         & FALSE         & FALSE         & FALSE         & FALSE         & FALSE         & 15            & 12           \\\\\n",
       "\t218707 & 2075967       & 2009          & 2009-12-08    & 15:19         & 40            & neither       & cpw           & FALSE         & FALSE         & FALSE         & ⋯             & FALSE         & FALSE         & FALSE         & FALSE         & FALSE         &  TRUE         & FALSE         & FALSE         & 15            & 12           \\\\\n",
       "\t53361 & 1268296       & 2008          & 2008-07-12    & 14:45         & 13            & transit       & grand larceny & FALSE         &  TRUE         &  TRUE         & ⋯             & FALSE         & FALSE         & FALSE         & FALSE         & FALSE         & FALSE         & FALSE         & FALSE         & 14            &  7           \\\\\n",
       "\\end{tabular}\n"
      ],
      "text/plain": [
       "       id      year date       time  precinct location_housing suspected_crime\n",
       "322910 2686798 2010 2010-12-17 15:15 83       neither          burglary       \n",
       "218707 2075967 2009 2009-12-08 15:19 40       neither          cpw            \n",
       "53361  1268296 2008 2008-07-12 14:45 13       transit          grand larceny  \n",
       "       stop_reason_object stop_reason_desc stop_reason_casing ⋯ found_rifle\n",
       "322910 FALSE              FALSE             TRUE              ⋯ FALSE      \n",
       "218707 FALSE              FALSE            FALSE              ⋯ FALSE      \n",
       "53361  FALSE               TRUE             TRUE              ⋯ FALSE      \n",
       "       found_assault found_knife found_machinegun found_other found_gun\n",
       "322910 FALSE         FALSE       FALSE            FALSE       FALSE    \n",
       "218707 FALSE         FALSE       FALSE            FALSE        TRUE    \n",
       "53361  FALSE         FALSE       FALSE            FALSE       FALSE    \n",
       "       found_contraband extra_reports hour month\n",
       "322910 FALSE            FALSE         15   12   \n",
       "218707 FALSE            FALSE         15   12   \n",
       "53361  FALSE            FALSE         14    7   "
      ]
     },
     "metadata": {},
     "output_type": "display_data"
    }
   ],
   "source": [
    "head(stop_df, n = 3)  # Return a data frame that consists of the first three rows of stop_df"
   ]
  },
  {
   "cell_type": "markdown",
   "metadata": {},
   "source": [
    "In this sense, the base `R` function `head()` is a verb.\n",
    "\n",
    "The **core idea** of `dplyr` is that a vast majority of data manipulation needs can be satisfied through a combination of five verbs.\n",
    "\n",
    "verb                 | action\n",
    "-------------------- | ---------\n",
    "`filter(df, ...)`    | select a subset of _rows_ by some specified condition\n",
    "`select(df, ...)`    | select a subset of _columns_\n",
    "`mutate(df, ...)`    | create a _new column_ (often as a function of existing columns)\n",
    "`arrange(df, ...)`   | reorder (sort) _rows_ according to values of specific _columns_\n",
    "`summarize(df, ...)` | aggregate and reduce a vector (column) to a single value\n",
    "\n",
    "We will explore each of these verbs (and some additional variations within each category) below."
   ]
  },
  {
   "cell_type": "markdown",
   "metadata": {},
   "source": [
    "### Selecting rows (1/5)\n",
    "\n",
    "The `filter(df, ...)` verb is used to select a subset of _rows_ that satisfy the conditions specified in `...`. \n",
    "The conditions must be written in a form that would evaluate to either `TRUE` or `FALSE`.\n",
    "\n",
    "For example, if we want a data frame of stops in precinct `22`,"
   ]
  },
  {
   "cell_type": "code",
   "execution_count": 6,
   "metadata": {},
   "outputs": [
    {
     "data": {
      "text/html": [
       "<table>\n",
       "<thead><tr><th scope=col>id</th><th scope=col>year</th><th scope=col>date</th><th scope=col>time</th><th scope=col>precinct</th><th scope=col>location_housing</th><th scope=col>suspected_crime</th><th scope=col>stop_reason_object</th><th scope=col>stop_reason_desc</th><th scope=col>stop_reason_casing</th><th scope=col>⋯</th><th scope=col>found_rifle</th><th scope=col>found_assault</th><th scope=col>found_knife</th><th scope=col>found_machinegun</th><th scope=col>found_other</th><th scope=col>found_gun</th><th scope=col>found_contraband</th><th scope=col>extra_reports</th><th scope=col>hour</th><th scope=col>month</th></tr></thead>\n",
       "<tbody>\n",
       "\t<tr><td>1392818                         </td><td>2008                            </td><td>2008-10-09                      </td><td>18:20                           </td><td>22                              </td><td>neither                         </td><td>criminal possession of marihuana</td><td>FALSE                           </td><td>FALSE                           </td><td>FALSE                           </td><td>⋯                               </td><td>FALSE                           </td><td>FALSE                           </td><td>FALSE                           </td><td>FALSE                           </td><td>FALSE                           </td><td>FALSE                           </td><td>FALSE                           </td><td>FALSE                           </td><td>18                              </td><td>10                              </td></tr>\n",
       "\t<tr><td>1894160                         </td><td>2009                            </td><td>2009-08-11                      </td><td>02:00                           </td><td>22                              </td><td>neither                         </td><td>robbery                         </td><td>FALSE                           </td><td>FALSE                           </td><td>FALSE                           </td><td>⋯                               </td><td>FALSE                           </td><td>FALSE                           </td><td>FALSE                           </td><td>FALSE                           </td><td>FALSE                           </td><td>FALSE                           </td><td>FALSE                           </td><td>FALSE                           </td><td> 2                              </td><td> 8                              </td></tr>\n",
       "\t<tr><td>2074901                         </td><td>2009                            </td><td>2009-12-07                      </td><td>16:40                           </td><td>22                              </td><td>neither                         </td><td>criminal possession of marihuana</td><td>FALSE                           </td><td>FALSE                           </td><td>FALSE                           </td><td>⋯                               </td><td>FALSE                           </td><td>FALSE                           </td><td>FALSE                           </td><td>FALSE                           </td><td>FALSE                           </td><td>FALSE                           </td><td>FALSE                           </td><td>FALSE                           </td><td>16                              </td><td>12                              </td></tr>\n",
       "\t<tr><td>⋮</td><td>⋮</td><td>⋮</td><td>⋮</td><td>⋮</td><td>⋮</td><td>⋮</td><td>⋮</td><td>⋮</td><td>⋮</td><td>⋱</td><td>⋮</td><td>⋮</td><td>⋮</td><td>⋮</td><td>⋮</td><td>⋮</td><td>⋮</td><td>⋮</td><td>⋮</td><td>⋮</td></tr>\n",
       "\t<tr><td>2267825                         </td><td>2010                            </td><td>2010-04-10                      </td><td>23:00                           </td><td>22                              </td><td>neither                         </td><td>other                           </td><td>FALSE                           </td><td>FALSE                           </td><td>FALSE                           </td><td>⋯                               </td><td>FALSE                           </td><td>FALSE                           </td><td>FALSE                           </td><td>FALSE                           </td><td>FALSE                           </td><td>FALSE                           </td><td>FALSE                           </td><td>FALSE                           </td><td>23                              </td><td>4                               </td></tr>\n",
       "\t<tr><td>2271913                         </td><td>2010                            </td><td>2010-04-13                      </td><td>16:55                           </td><td>22                              </td><td>neither                         </td><td>criminal possession of marihuana</td><td>FALSE                           </td><td>FALSE                           </td><td>FALSE                           </td><td>⋯                               </td><td>FALSE                           </td><td>FALSE                           </td><td>FALSE                           </td><td>FALSE                           </td><td>FALSE                           </td><td>FALSE                           </td><td>FALSE                           </td><td>FALSE                           </td><td>16                              </td><td>4                               </td></tr>\n",
       "\t<tr><td>1658966                         </td><td>2009                            </td><td>2009-03-13                      </td><td>16:05                           </td><td>22                              </td><td>neither                         </td><td>robbery                         </td><td>FALSE                           </td><td> TRUE                           </td><td> TRUE                           </td><td>⋯                               </td><td>FALSE                           </td><td>FALSE                           </td><td>FALSE                           </td><td>FALSE                           </td><td>FALSE                           </td><td>FALSE                           </td><td>FALSE                           </td><td>FALSE                           </td><td>16                              </td><td>3                               </td></tr>\n",
       "</tbody>\n",
       "</table>\n"
      ],
      "text/latex": [
       "\\begin{tabular}{r|lllllllllllllllllllllllllllllllllllllllllllllllllllllllllllllllllllllllllllllllll}\n",
       " id & year & date & time & precinct & location\\_housing & suspected\\_crime & stop\\_reason\\_object & stop\\_reason\\_desc & stop\\_reason\\_casing & ⋯ & found\\_rifle & found\\_assault & found\\_knife & found\\_machinegun & found\\_other & found\\_gun & found\\_contraband & extra\\_reports & hour & month\\\\\n",
       "\\hline\n",
       "\t 1392818                          & 2008                             & 2008-10-09                       & 18:20                            & 22                               & neither                          & criminal possession of marihuana & FALSE                            & FALSE                            & FALSE                            & ⋯                                & FALSE                            & FALSE                            & FALSE                            & FALSE                            & FALSE                            & FALSE                            & FALSE                            & FALSE                            & 18                               & 10                              \\\\\n",
       "\t 1894160                          & 2009                             & 2009-08-11                       & 02:00                            & 22                               & neither                          & robbery                          & FALSE                            & FALSE                            & FALSE                            & ⋯                                & FALSE                            & FALSE                            & FALSE                            & FALSE                            & FALSE                            & FALSE                            & FALSE                            & FALSE                            &  2                               &  8                              \\\\\n",
       "\t 2074901                          & 2009                             & 2009-12-07                       & 16:40                            & 22                               & neither                          & criminal possession of marihuana & FALSE                            & FALSE                            & FALSE                            & ⋯                                & FALSE                            & FALSE                            & FALSE                            & FALSE                            & FALSE                            & FALSE                            & FALSE                            & FALSE                            & 16                               & 12                              \\\\\n",
       "\t ⋮ & ⋮ & ⋮ & ⋮ & ⋮ & ⋮ & ⋮ & ⋮ & ⋮ & ⋮ & ⋱ & ⋮ & ⋮ & ⋮ & ⋮ & ⋮ & ⋮ & ⋮ & ⋮ & ⋮ & ⋮\\\\\n",
       "\t 2267825                          & 2010                             & 2010-04-10                       & 23:00                            & 22                               & neither                          & other                            & FALSE                            & FALSE                            & FALSE                            & ⋯                                & FALSE                            & FALSE                            & FALSE                            & FALSE                            & FALSE                            & FALSE                            & FALSE                            & FALSE                            & 23                               & 4                               \\\\\n",
       "\t 2271913                          & 2010                             & 2010-04-13                       & 16:55                            & 22                               & neither                          & criminal possession of marihuana & FALSE                            & FALSE                            & FALSE                            & ⋯                                & FALSE                            & FALSE                            & FALSE                            & FALSE                            & FALSE                            & FALSE                            & FALSE                            & FALSE                            & 16                               & 4                               \\\\\n",
       "\t 1658966                          & 2009                             & 2009-03-13                       & 16:05                            & 22                               & neither                          & robbery                          & FALSE                            &  TRUE                            &  TRUE                            & ⋯                                & FALSE                            & FALSE                            & FALSE                            & FALSE                            & FALSE                            & FALSE                            & FALSE                            & FALSE                            & 16                               & 3                               \\\\\n",
       "\\end{tabular}\n"
      ],
      "text/plain": [
       "    id      year date       time  precinct location_housing\n",
       "1   1392818 2008 2008-10-09 18:20 22       neither         \n",
       "2   1894160 2009 2009-08-11 02:00 22       neither         \n",
       "3   2074901 2009 2009-12-07 16:40 22       neither         \n",
       "⋮   ⋮       ⋮    ⋮          ⋮     ⋮        ⋮               \n",
       "178 2267825 2010 2010-04-10 23:00 22       neither         \n",
       "179 2271913 2010 2010-04-13 16:55 22       neither         \n",
       "180 1658966 2009 2009-03-13 16:05 22       neither         \n",
       "    suspected_crime                  stop_reason_object stop_reason_desc\n",
       "1   criminal possession of marihuana FALSE              FALSE           \n",
       "2   robbery                          FALSE              FALSE           \n",
       "3   criminal possession of marihuana FALSE              FALSE           \n",
       "⋮   ⋮                                ⋮                  ⋮               \n",
       "178 other                            FALSE              FALSE           \n",
       "179 criminal possession of marihuana FALSE              FALSE           \n",
       "180 robbery                          FALSE               TRUE           \n",
       "    stop_reason_casing ⋯ found_rifle found_assault found_knife found_machinegun\n",
       "1   FALSE              ⋯ FALSE       FALSE         FALSE       FALSE           \n",
       "2   FALSE              ⋯ FALSE       FALSE         FALSE       FALSE           \n",
       "3   FALSE              ⋯ FALSE       FALSE         FALSE       FALSE           \n",
       "⋮   ⋮                  ⋱ ⋮           ⋮             ⋮           ⋮               \n",
       "178 FALSE              ⋯ FALSE       FALSE         FALSE       FALSE           \n",
       "179 FALSE              ⋯ FALSE       FALSE         FALSE       FALSE           \n",
       "180  TRUE              ⋯ FALSE       FALSE         FALSE       FALSE           \n",
       "    found_other found_gun found_contraband extra_reports hour month\n",
       "1   FALSE       FALSE     FALSE            FALSE         18   10   \n",
       "2   FALSE       FALSE     FALSE            FALSE          2    8   \n",
       "3   FALSE       FALSE     FALSE            FALSE         16   12   \n",
       "⋮   ⋮           ⋮         ⋮                ⋮             ⋮    ⋮    \n",
       "178 FALSE       FALSE     FALSE            FALSE         23   4    \n",
       "179 FALSE       FALSE     FALSE            FALSE         16   4    \n",
       "180 FALSE       FALSE     FALSE            FALSE         16   3    "
      ]
     },
     "metadata": {},
     "output_type": "display_data"
    }
   ],
   "source": [
    "filter(stop_df, precinct == 22)"
   ]
  },
  {
   "cell_type": "markdown",
   "metadata": {},
   "source": [
    "Multiple conditions can also be specified.\n",
    "\n",
    "For example, if we want a data frame of stops in precinct `22` in which a weapon was found,"
   ]
  },
  {
   "cell_type": "code",
   "execution_count": 7,
   "metadata": {},
   "outputs": [
    {
     "data": {
      "text/html": [
       "<table>\n",
       "<thead><tr><th scope=col>id</th><th scope=col>year</th><th scope=col>date</th><th scope=col>time</th><th scope=col>precinct</th><th scope=col>location_housing</th><th scope=col>suspected_crime</th><th scope=col>stop_reason_object</th><th scope=col>stop_reason_desc</th><th scope=col>stop_reason_casing</th><th scope=col>⋯</th><th scope=col>found_rifle</th><th scope=col>found_assault</th><th scope=col>found_knife</th><th scope=col>found_machinegun</th><th scope=col>found_other</th><th scope=col>found_gun</th><th scope=col>found_contraband</th><th scope=col>extra_reports</th><th scope=col>hour</th><th scope=col>month</th></tr></thead>\n",
       "<tbody>\n",
       "\t<tr><td>2392428   </td><td>2010      </td><td>2010-06-13</td><td>15:05     </td><td>22        </td><td>neither   </td><td>cpw       </td><td>FALSE     </td><td>FALSE     </td><td>FALSE     </td><td>⋯         </td><td>FALSE     </td><td>FALSE     </td><td>FALSE     </td><td>FALSE     </td><td>TRUE      </td><td>FALSE     </td><td>FALSE     </td><td>FALSE     </td><td>15        </td><td>6         </td></tr>\n",
       "</tbody>\n",
       "</table>\n"
      ],
      "text/latex": [
       "\\begin{tabular}{r|lllllllllllllllllllllllllllllllllllllllllllllllllllllllllllllllllllllllllllllllll}\n",
       " id & year & date & time & precinct & location\\_housing & suspected\\_crime & stop\\_reason\\_object & stop\\_reason\\_desc & stop\\_reason\\_casing & ⋯ & found\\_rifle & found\\_assault & found\\_knife & found\\_machinegun & found\\_other & found\\_gun & found\\_contraband & extra\\_reports & hour & month\\\\\n",
       "\\hline\n",
       "\t 2392428    & 2010       & 2010-06-13 & 15:05      & 22         & neither    & cpw        & FALSE      & FALSE      & FALSE      & ⋯          & FALSE      & FALSE      & FALSE      & FALSE      & TRUE       & FALSE      & FALSE      & FALSE      & 15         & 6         \\\\\n",
       "\\end{tabular}\n"
      ],
      "text/plain": [
       "  id      year date       time  precinct location_housing suspected_crime\n",
       "1 2392428 2010 2010-06-13 15:05 22       neither          cpw            \n",
       "  stop_reason_object stop_reason_desc stop_reason_casing ⋯ found_rifle\n",
       "1 FALSE              FALSE            FALSE              ⋯ FALSE      \n",
       "  found_assault found_knife found_machinegun found_other found_gun\n",
       "1 FALSE         FALSE       FALSE            TRUE        FALSE    \n",
       "  found_contraband extra_reports hour month\n",
       "1 FALSE            FALSE         15   6    "
      ]
     },
     "metadata": {},
     "output_type": "display_data"
    }
   ],
   "source": [
    "filter(stop_df, precinct == 22, found_weapon)\n",
    "# Note that we could also write\n",
    "#   filter(stop_df, precinct == 22, found_weapon == TRUE)\n",
    "# but given that the found_weapon column is already a logical value,\n",
    "# the \"== TRUE\" would be redundant."
   ]
  },
  {
   "cell_type": "markdown",
   "metadata": {},
   "source": [
    "By default, `filter()` will combine multiple conditions as `AND` operations.\n",
    "In the example above, we are returned stops where `precinct == 22` _**AND**_ `found_weapon == TRUE`.\n",
    "\n",
    "We can specify an OR condition by using the `|` operator.\n",
    "\n",
    "For example, if we want stops in precinct `22` where either a weapon _**OR**_ contraband was found,"
   ]
  },
  {
   "cell_type": "code",
   "execution_count": 8,
   "metadata": {},
   "outputs": [
    {
     "data": {
      "text/html": [
       "<table>\n",
       "<thead><tr><th scope=col>id</th><th scope=col>year</th><th scope=col>date</th><th scope=col>time</th><th scope=col>precinct</th><th scope=col>location_housing</th><th scope=col>suspected_crime</th><th scope=col>stop_reason_object</th><th scope=col>stop_reason_desc</th><th scope=col>stop_reason_casing</th><th scope=col>⋯</th><th scope=col>found_rifle</th><th scope=col>found_assault</th><th scope=col>found_knife</th><th scope=col>found_machinegun</th><th scope=col>found_other</th><th scope=col>found_gun</th><th scope=col>found_contraband</th><th scope=col>extra_reports</th><th scope=col>hour</th><th scope=col>month</th></tr></thead>\n",
       "<tbody>\n",
       "\t<tr><td>1232958                                   </td><td>2008                                      </td><td>2008-06-11                                </td><td>10:38                                     </td><td>22                                        </td><td>neither                                   </td><td>criminal possesion of controlled substance</td><td>FALSE                                     </td><td>FALSE                                     </td><td> TRUE                                     </td><td>⋯                                         </td><td>FALSE                                     </td><td>FALSE                                     </td><td>FALSE                                     </td><td>FALSE                                     </td><td>FALSE                                     </td><td>FALSE                                     </td><td>TRUE                                      </td><td>FALSE                                     </td><td>10                                        </td><td>6                                         </td></tr>\n",
       "\t<tr><td>1081888                                   </td><td>2008                                      </td><td>2008-03-04                                </td><td>19:20                                     </td><td>22                                        </td><td>neither                                   </td><td>criminal possession of marihuana          </td><td>FALSE                                     </td><td>FALSE                                     </td><td>FALSE                                     </td><td>⋯                                         </td><td>FALSE                                     </td><td>FALSE                                     </td><td>FALSE                                     </td><td>FALSE                                     </td><td>FALSE                                     </td><td>FALSE                                     </td><td>TRUE                                      </td><td>FALSE                                     </td><td>19                                        </td><td>3                                         </td></tr>\n",
       "\t<tr><td>1231180                                   </td><td>2008                                      </td><td>2008-06-09                                </td><td>15:38                                     </td><td>22                                        </td><td>neither                                   </td><td>cpw                                       </td><td>FALSE                                     </td><td>FALSE                                     </td><td>FALSE                                     </td><td>⋯                                         </td><td>FALSE                                     </td><td>FALSE                                     </td><td>FALSE                                     </td><td>FALSE                                     </td><td>FALSE                                     </td><td>FALSE                                     </td><td>TRUE                                      </td><td>FALSE                                     </td><td>15                                        </td><td>6                                         </td></tr>\n",
       "\t<tr><td>⋮</td><td>⋮</td><td>⋮</td><td>⋮</td><td>⋮</td><td>⋮</td><td>⋮</td><td>⋮</td><td>⋮</td><td>⋮</td><td>⋱</td><td>⋮</td><td>⋮</td><td>⋮</td><td>⋮</td><td>⋮</td><td>⋮</td><td>⋮</td><td>⋮</td><td>⋮</td><td>⋮</td></tr>\n",
       "\t<tr><td>1110803                         </td><td>2008                            </td><td>2008-03-21                      </td><td>15:50                           </td><td>22                              </td><td>neither                         </td><td>criminal possession of marihuana</td><td>FALSE                           </td><td>FALSE                           </td><td>FALSE                           </td><td>⋯                               </td><td>FALSE                           </td><td>FALSE                           </td><td>FALSE                           </td><td>FALSE                           </td><td>FALSE                           </td><td>FALSE                           </td><td>TRUE                            </td><td>FALSE                           </td><td>15                              </td><td>3                               </td></tr>\n",
       "\t<tr><td>1214689                         </td><td>2008                            </td><td>2008-05-28                      </td><td>13:10                           </td><td>22                              </td><td>neither                         </td><td>criminal possession of marihuana</td><td>FALSE                           </td><td>FALSE                           </td><td>FALSE                           </td><td>⋯                               </td><td>FALSE                           </td><td>FALSE                           </td><td>FALSE                           </td><td>FALSE                           </td><td>FALSE                           </td><td>FALSE                           </td><td>TRUE                            </td><td>FALSE                           </td><td>13                              </td><td>5                               </td></tr>\n",
       "\t<tr><td>1312725                         </td><td>2008                            </td><td>2008-08-16                      </td><td>15:40                           </td><td>22                              </td><td>neither                         </td><td>grand larceny                   </td><td>FALSE                           </td><td>FALSE                           </td><td> TRUE                           </td><td>⋯                               </td><td>FALSE                           </td><td>FALSE                           </td><td>FALSE                           </td><td>FALSE                           </td><td>FALSE                           </td><td>FALSE                           </td><td>TRUE                            </td><td>FALSE                           </td><td>15                              </td><td>8                               </td></tr>\n",
       "</tbody>\n",
       "</table>\n"
      ],
      "text/latex": [
       "\\begin{tabular}{r|lllllllllllllllllllllllllllllllllllllllllllllllllllllllllllllllllllllllllllllllll}\n",
       " id & year & date & time & precinct & location\\_housing & suspected\\_crime & stop\\_reason\\_object & stop\\_reason\\_desc & stop\\_reason\\_casing & ⋯ & found\\_rifle & found\\_assault & found\\_knife & found\\_machinegun & found\\_other & found\\_gun & found\\_contraband & extra\\_reports & hour & month\\\\\n",
       "\\hline\n",
       "\t 1232958                                    & 2008                                       & 2008-06-11                                 & 10:38                                      & 22                                         & neither                                    & criminal possesion of controlled substance & FALSE                                      & FALSE                                      &  TRUE                                      & ⋯                                          & FALSE                                      & FALSE                                      & FALSE                                      & FALSE                                      & FALSE                                      & FALSE                                      & TRUE                                       & FALSE                                      & 10                                         & 6                                         \\\\\n",
       "\t 1081888                                    & 2008                                       & 2008-03-04                                 & 19:20                                      & 22                                         & neither                                    & criminal possession of marihuana           & FALSE                                      & FALSE                                      & FALSE                                      & ⋯                                          & FALSE                                      & FALSE                                      & FALSE                                      & FALSE                                      & FALSE                                      & FALSE                                      & TRUE                                       & FALSE                                      & 19                                         & 3                                         \\\\\n",
       "\t 1231180                                    & 2008                                       & 2008-06-09                                 & 15:38                                      & 22                                         & neither                                    & cpw                                        & FALSE                                      & FALSE                                      & FALSE                                      & ⋯                                          & FALSE                                      & FALSE                                      & FALSE                                      & FALSE                                      & FALSE                                      & FALSE                                      & TRUE                                       & FALSE                                      & 15                                         & 6                                         \\\\\n",
       "\t ⋮ & ⋮ & ⋮ & ⋮ & ⋮ & ⋮ & ⋮ & ⋮ & ⋮ & ⋮ & ⋱ & ⋮ & ⋮ & ⋮ & ⋮ & ⋮ & ⋮ & ⋮ & ⋮ & ⋮ & ⋮\\\\\n",
       "\t 1110803                          & 2008                             & 2008-03-21                       & 15:50                            & 22                               & neither                          & criminal possession of marihuana & FALSE                            & FALSE                            & FALSE                            & ⋯                                & FALSE                            & FALSE                            & FALSE                            & FALSE                            & FALSE                            & FALSE                            & TRUE                             & FALSE                            & 15                               & 3                               \\\\\n",
       "\t 1214689                          & 2008                             & 2008-05-28                       & 13:10                            & 22                               & neither                          & criminal possession of marihuana & FALSE                            & FALSE                            & FALSE                            & ⋯                                & FALSE                            & FALSE                            & FALSE                            & FALSE                            & FALSE                            & FALSE                            & TRUE                             & FALSE                            & 13                               & 5                               \\\\\n",
       "\t 1312725                          & 2008                             & 2008-08-16                       & 15:40                            & 22                               & neither                          & grand larceny                    & FALSE                            & FALSE                            &  TRUE                            & ⋯                                & FALSE                            & FALSE                            & FALSE                            & FALSE                            & FALSE                            & FALSE                            & TRUE                             & FALSE                            & 15                               & 8                               \\\\\n",
       "\\end{tabular}\n"
      ],
      "text/plain": [
       "   id      year date       time  precinct location_housing\n",
       "1  1232958 2008 2008-06-11 10:38 22       neither         \n",
       "2  1081888 2008 2008-03-04 19:20 22       neither         \n",
       "3  1231180 2008 2008-06-09 15:38 22       neither         \n",
       "⋮  ⋮       ⋮    ⋮          ⋮     ⋮        ⋮               \n",
       "8  1110803 2008 2008-03-21 15:50 22       neither         \n",
       "9  1214689 2008 2008-05-28 13:10 22       neither         \n",
       "10 1312725 2008 2008-08-16 15:40 22       neither         \n",
       "   suspected_crime                            stop_reason_object\n",
       "1  criminal possesion of controlled substance FALSE             \n",
       "2  criminal possession of marihuana           FALSE             \n",
       "3  cpw                                        FALSE             \n",
       "⋮  ⋮                                          ⋮                 \n",
       "8  criminal possession of marihuana           FALSE             \n",
       "9  criminal possession of marihuana           FALSE             \n",
       "10 grand larceny                              FALSE             \n",
       "   stop_reason_desc stop_reason_casing ⋯ found_rifle found_assault found_knife\n",
       "1  FALSE             TRUE              ⋯ FALSE       FALSE         FALSE      \n",
       "2  FALSE            FALSE              ⋯ FALSE       FALSE         FALSE      \n",
       "3  FALSE            FALSE              ⋯ FALSE       FALSE         FALSE      \n",
       "⋮  ⋮                ⋮                  ⋱ ⋮           ⋮             ⋮          \n",
       "8  FALSE            FALSE              ⋯ FALSE       FALSE         FALSE      \n",
       "9  FALSE            FALSE              ⋯ FALSE       FALSE         FALSE      \n",
       "10 FALSE             TRUE              ⋯ FALSE       FALSE         FALSE      \n",
       "   found_machinegun found_other found_gun found_contraband extra_reports hour\n",
       "1  FALSE            FALSE       FALSE     TRUE             FALSE         10  \n",
       "2  FALSE            FALSE       FALSE     TRUE             FALSE         19  \n",
       "3  FALSE            FALSE       FALSE     TRUE             FALSE         15  \n",
       "⋮  ⋮                ⋮           ⋮         ⋮                ⋮             ⋮   \n",
       "8  FALSE            FALSE       FALSE     TRUE             FALSE         15  \n",
       "9  FALSE            FALSE       FALSE     TRUE             FALSE         13  \n",
       "10 FALSE            FALSE       FALSE     TRUE             FALSE         15  \n",
       "   month\n",
       "1  6    \n",
       "2  3    \n",
       "3  6    \n",
       "⋮  ⋮    \n",
       "8  3    \n",
       "9  5    \n",
       "10 8    "
      ]
     },
     "metadata": {},
     "output_type": "display_data"
    }
   ],
   "source": [
    "filter(stop_df, \n",
    "       precinct == 22, \n",
    "       found_weapon | found_contraband)\n",
    "\n",
    "# Note that, within a set of parentheses, you can have as many line breaks as you want.\n",
    "# It's generally easier to read (and modify) if you have each condition on a new line.\n",
    "# For example, if you quickly wanted to check what the result looks like for _all_ precincts,\n",
    "# in the above code, you could just \"comment out\" the precinct == 22 condition by adding a \"#\" at the begining of the line"
   ]
  },
  {
   "cell_type": "markdown",
   "metadata": {},
   "source": [
    "Use the `%in%` operator to filter to values that match a collection of values. \n",
    "\n",
    "For example, suppose we are primarily interested in `burglary`, `robbery`, and `grand larceny`."
   ]
  },
  {
   "cell_type": "code",
   "execution_count": 9,
   "metadata": {},
   "outputs": [
    {
     "data": {
      "text/html": [
       "<table>\n",
       "<thead><tr><th scope=col>id</th><th scope=col>year</th><th scope=col>date</th><th scope=col>time</th><th scope=col>precinct</th><th scope=col>location_housing</th><th scope=col>suspected_crime</th><th scope=col>stop_reason_object</th><th scope=col>stop_reason_desc</th><th scope=col>stop_reason_casing</th><th scope=col>⋯</th><th scope=col>found_rifle</th><th scope=col>found_assault</th><th scope=col>found_knife</th><th scope=col>found_machinegun</th><th scope=col>found_other</th><th scope=col>found_gun</th><th scope=col>found_contraband</th><th scope=col>extra_reports</th><th scope=col>hour</th><th scope=col>month</th></tr></thead>\n",
       "<tbody>\n",
       "\t<tr><td>2686798      </td><td>2010         </td><td>2010-12-17   </td><td>15:15        </td><td>83           </td><td>neither      </td><td>burglary     </td><td>FALSE        </td><td>FALSE        </td><td>TRUE         </td><td>⋯            </td><td>FALSE        </td><td>FALSE        </td><td>FALSE        </td><td>FALSE        </td><td>FALSE        </td><td>FALSE        </td><td>FALSE        </td><td>FALSE        </td><td>15           </td><td>12           </td></tr>\n",
       "\t<tr><td>1268296      </td><td>2008         </td><td>2008-07-12   </td><td>14:45        </td><td>13           </td><td>transit      </td><td>grand larceny</td><td>FALSE        </td><td> TRUE        </td><td>TRUE         </td><td>⋯            </td><td>FALSE        </td><td>FALSE        </td><td>FALSE        </td><td>FALSE        </td><td>FALSE        </td><td>FALSE        </td><td>FALSE        </td><td>FALSE        </td><td>14           </td><td> 7           </td></tr>\n",
       "\t<tr><td>2722653      </td><td>2011         </td><td>2011-01-13   </td><td>23:28        </td><td>120          </td><td>neither      </td><td>robbery      </td><td>FALSE        </td><td>FALSE        </td><td>TRUE         </td><td>⋯            </td><td>FALSE        </td><td>FALSE        </td><td>FALSE        </td><td>FALSE        </td><td>FALSE        </td><td>FALSE        </td><td>FALSE        </td><td>FALSE        </td><td>23           </td><td> 1           </td></tr>\n",
       "\t<tr><td>⋮</td><td>⋮</td><td>⋮</td><td>⋮</td><td>⋮</td><td>⋮</td><td>⋮</td><td>⋮</td><td>⋮</td><td>⋮</td><td>⋱</td><td>⋮</td><td>⋮</td><td>⋮</td><td>⋮</td><td>⋮</td><td>⋮</td><td>⋮</td><td>⋮</td><td>⋮</td><td>⋮</td></tr>\n",
       "\t<tr><td>1953331      </td><td>2009         </td><td>2009-09-18   </td><td>11:20        </td><td>72           </td><td>neither      </td><td>robbery      </td><td>FALSE        </td><td>FALSE        </td><td>TRUE         </td><td>⋯            </td><td>FALSE        </td><td>FALSE        </td><td>FALSE        </td><td>FALSE        </td><td>FALSE        </td><td>FALSE        </td><td>FALSE        </td><td>FALSE        </td><td>11           </td><td>9            </td></tr>\n",
       "\t<tr><td>2455369      </td><td>2010         </td><td>2010-07-24   </td><td>20:10        </td><td>6            </td><td>transit      </td><td>grand larceny</td><td>FALSE        </td><td>FALSE        </td><td>TRUE         </td><td>⋯            </td><td>FALSE        </td><td>FALSE        </td><td>FALSE        </td><td>FALSE        </td><td>FALSE        </td><td>FALSE        </td><td>FALSE        </td><td>FALSE        </td><td>20           </td><td>7            </td></tr>\n",
       "\t<tr><td>2419926      </td><td>2010         </td><td>2010-07-01   </td><td>00:10        </td><td>50           </td><td>transit      </td><td>grand larceny</td><td>FALSE        </td><td>FALSE        </td><td>TRUE         </td><td>⋯            </td><td>FALSE        </td><td>FALSE        </td><td>FALSE        </td><td>FALSE        </td><td>FALSE        </td><td>FALSE        </td><td>FALSE        </td><td>FALSE        </td><td> 0           </td><td>7            </td></tr>\n",
       "</tbody>\n",
       "</table>\n"
      ],
      "text/latex": [
       "\\begin{tabular}{r|lllllllllllllllllllllllllllllllllllllllllllllllllllllllllllllllllllllllllllllllll}\n",
       " id & year & date & time & precinct & location\\_housing & suspected\\_crime & stop\\_reason\\_object & stop\\_reason\\_desc & stop\\_reason\\_casing & ⋯ & found\\_rifle & found\\_assault & found\\_knife & found\\_machinegun & found\\_other & found\\_gun & found\\_contraband & extra\\_reports & hour & month\\\\\n",
       "\\hline\n",
       "\t 2686798       & 2010          & 2010-12-17    & 15:15         & 83            & neither       & burglary      & FALSE         & FALSE         & TRUE          & ⋯             & FALSE         & FALSE         & FALSE         & FALSE         & FALSE         & FALSE         & FALSE         & FALSE         & 15            & 12           \\\\\n",
       "\t 1268296       & 2008          & 2008-07-12    & 14:45         & 13            & transit       & grand larceny & FALSE         &  TRUE         & TRUE          & ⋯             & FALSE         & FALSE         & FALSE         & FALSE         & FALSE         & FALSE         & FALSE         & FALSE         & 14            &  7           \\\\\n",
       "\t 2722653       & 2011          & 2011-01-13    & 23:28         & 120           & neither       & robbery       & FALSE         & FALSE         & TRUE          & ⋯             & FALSE         & FALSE         & FALSE         & FALSE         & FALSE         & FALSE         & FALSE         & FALSE         & 23            &  1           \\\\\n",
       "\t ⋮ & ⋮ & ⋮ & ⋮ & ⋮ & ⋮ & ⋮ & ⋮ & ⋮ & ⋮ & ⋱ & ⋮ & ⋮ & ⋮ & ⋮ & ⋮ & ⋮ & ⋮ & ⋮ & ⋮ & ⋮\\\\\n",
       "\t 1953331       & 2009          & 2009-09-18    & 11:20         & 72            & neither       & robbery       & FALSE         & FALSE         & TRUE          & ⋯             & FALSE         & FALSE         & FALSE         & FALSE         & FALSE         & FALSE         & FALSE         & FALSE         & 11            & 9            \\\\\n",
       "\t 2455369       & 2010          & 2010-07-24    & 20:10         & 6             & transit       & grand larceny & FALSE         & FALSE         & TRUE          & ⋯             & FALSE         & FALSE         & FALSE         & FALSE         & FALSE         & FALSE         & FALSE         & FALSE         & 20            & 7            \\\\\n",
       "\t 2419926       & 2010          & 2010-07-01    & 00:10         & 50            & transit       & grand larceny & FALSE         & FALSE         & TRUE          & ⋯             & FALSE         & FALSE         & FALSE         & FALSE         & FALSE         & FALSE         & FALSE         & FALSE         &  0            & 7            \\\\\n",
       "\\end{tabular}\n"
      ],
      "text/plain": [
       "      id      year date       time  precinct location_housing suspected_crime\n",
       "1     2686798 2010 2010-12-17 15:15 83       neither          burglary       \n",
       "2     1268296 2008 2008-07-12 14:45 13       transit          grand larceny  \n",
       "3     2722653 2011 2011-01-13 23:28 120      neither          robbery        \n",
       "⋮     ⋮       ⋮    ⋮          ⋮     ⋮        ⋮                ⋮              \n",
       "39208 1953331 2009 2009-09-18 11:20 72       neither          robbery        \n",
       "39209 2455369 2010 2010-07-24 20:10 6        transit          grand larceny  \n",
       "39210 2419926 2010 2010-07-01 00:10 50       transit          grand larceny  \n",
       "      stop_reason_object stop_reason_desc stop_reason_casing ⋯ found_rifle\n",
       "1     FALSE              FALSE            TRUE               ⋯ FALSE      \n",
       "2     FALSE               TRUE            TRUE               ⋯ FALSE      \n",
       "3     FALSE              FALSE            TRUE               ⋯ FALSE      \n",
       "⋮     ⋮                  ⋮                ⋮                  ⋱ ⋮          \n",
       "39208 FALSE              FALSE            TRUE               ⋯ FALSE      \n",
       "39209 FALSE              FALSE            TRUE               ⋯ FALSE      \n",
       "39210 FALSE              FALSE            TRUE               ⋯ FALSE      \n",
       "      found_assault found_knife found_machinegun found_other found_gun\n",
       "1     FALSE         FALSE       FALSE            FALSE       FALSE    \n",
       "2     FALSE         FALSE       FALSE            FALSE       FALSE    \n",
       "3     FALSE         FALSE       FALSE            FALSE       FALSE    \n",
       "⋮     ⋮             ⋮           ⋮                ⋮           ⋮        \n",
       "39208 FALSE         FALSE       FALSE            FALSE       FALSE    \n",
       "39209 FALSE         FALSE       FALSE            FALSE       FALSE    \n",
       "39210 FALSE         FALSE       FALSE            FALSE       FALSE    \n",
       "      found_contraband extra_reports hour month\n",
       "1     FALSE            FALSE         15   12   \n",
       "2     FALSE            FALSE         14    7   \n",
       "3     FALSE            FALSE         23    1   \n",
       "⋮     ⋮                ⋮             ⋮    ⋮    \n",
       "39208 FALSE            FALSE         11   9    \n",
       "39209 FALSE            FALSE         20   7    \n",
       "39210 FALSE            FALSE          0   7    "
      ]
     },
     "metadata": {},
     "output_type": "display_data"
    }
   ],
   "source": [
    "filter(stop_df, \n",
    "       suspected_crime %in% c(\"burglary\", \"robbery\", \"grand larceny\"))"
   ]
  },
  {
   "cell_type": "markdown",
   "metadata": {},
   "source": [
    "As a side note, a preferred way of writing the above filter would be to first create a vector of the crimes that we are interested in.\n",
    "That way, it's easier for us to (1) understand the code and (2) change the code later, e.g., if we decide we're interested in different type of crime."
   ]
  },
  {
   "cell_type": "code",
   "execution_count": 10,
   "metadata": {},
   "outputs": [
    {
     "data": {
      "text/html": [
       "<table>\n",
       "<thead><tr><th scope=col>id</th><th scope=col>year</th><th scope=col>date</th><th scope=col>time</th><th scope=col>precinct</th><th scope=col>location_housing</th><th scope=col>suspected_crime</th><th scope=col>stop_reason_object</th><th scope=col>stop_reason_desc</th><th scope=col>stop_reason_casing</th><th scope=col>⋯</th><th scope=col>found_rifle</th><th scope=col>found_assault</th><th scope=col>found_knife</th><th scope=col>found_machinegun</th><th scope=col>found_other</th><th scope=col>found_gun</th><th scope=col>found_contraband</th><th scope=col>extra_reports</th><th scope=col>hour</th><th scope=col>month</th></tr></thead>\n",
       "<tbody>\n",
       "\t<tr><td>2686798      </td><td>2010         </td><td>2010-12-17   </td><td>15:15        </td><td>83           </td><td>neither      </td><td>burglary     </td><td>FALSE        </td><td>FALSE        </td><td>TRUE         </td><td>⋯            </td><td>FALSE        </td><td>FALSE        </td><td>FALSE        </td><td>FALSE        </td><td>FALSE        </td><td>FALSE        </td><td>FALSE        </td><td>FALSE        </td><td>15           </td><td>12           </td></tr>\n",
       "\t<tr><td>1268296      </td><td>2008         </td><td>2008-07-12   </td><td>14:45        </td><td>13           </td><td>transit      </td><td>grand larceny</td><td>FALSE        </td><td> TRUE        </td><td>TRUE         </td><td>⋯            </td><td>FALSE        </td><td>FALSE        </td><td>FALSE        </td><td>FALSE        </td><td>FALSE        </td><td>FALSE        </td><td>FALSE        </td><td>FALSE        </td><td>14           </td><td> 7           </td></tr>\n",
       "\t<tr><td>2722653      </td><td>2011         </td><td>2011-01-13   </td><td>23:28        </td><td>120          </td><td>neither      </td><td>robbery      </td><td>FALSE        </td><td>FALSE        </td><td>TRUE         </td><td>⋯            </td><td>FALSE        </td><td>FALSE        </td><td>FALSE        </td><td>FALSE        </td><td>FALSE        </td><td>FALSE        </td><td>FALSE        </td><td>FALSE        </td><td>23           </td><td> 1           </td></tr>\n",
       "\t<tr><td>⋮</td><td>⋮</td><td>⋮</td><td>⋮</td><td>⋮</td><td>⋮</td><td>⋮</td><td>⋮</td><td>⋮</td><td>⋮</td><td>⋱</td><td>⋮</td><td>⋮</td><td>⋮</td><td>⋮</td><td>⋮</td><td>⋮</td><td>⋮</td><td>⋮</td><td>⋮</td><td>⋮</td></tr>\n",
       "\t<tr><td>1953331      </td><td>2009         </td><td>2009-09-18   </td><td>11:20        </td><td>72           </td><td>neither      </td><td>robbery      </td><td>FALSE        </td><td>FALSE        </td><td>TRUE         </td><td>⋯            </td><td>FALSE        </td><td>FALSE        </td><td>FALSE        </td><td>FALSE        </td><td>FALSE        </td><td>FALSE        </td><td>FALSE        </td><td>FALSE        </td><td>11           </td><td>9            </td></tr>\n",
       "\t<tr><td>2455369      </td><td>2010         </td><td>2010-07-24   </td><td>20:10        </td><td>6            </td><td>transit      </td><td>grand larceny</td><td>FALSE        </td><td>FALSE        </td><td>TRUE         </td><td>⋯            </td><td>FALSE        </td><td>FALSE        </td><td>FALSE        </td><td>FALSE        </td><td>FALSE        </td><td>FALSE        </td><td>FALSE        </td><td>FALSE        </td><td>20           </td><td>7            </td></tr>\n",
       "\t<tr><td>2419926      </td><td>2010         </td><td>2010-07-01   </td><td>00:10        </td><td>50           </td><td>transit      </td><td>grand larceny</td><td>FALSE        </td><td>FALSE        </td><td>TRUE         </td><td>⋯            </td><td>FALSE        </td><td>FALSE        </td><td>FALSE        </td><td>FALSE        </td><td>FALSE        </td><td>FALSE        </td><td>FALSE        </td><td>FALSE        </td><td> 0           </td><td>7            </td></tr>\n",
       "</tbody>\n",
       "</table>\n"
      ],
      "text/latex": [
       "\\begin{tabular}{r|lllllllllllllllllllllllllllllllllllllllllllllllllllllllllllllllllllllllllllllllll}\n",
       " id & year & date & time & precinct & location\\_housing & suspected\\_crime & stop\\_reason\\_object & stop\\_reason\\_desc & stop\\_reason\\_casing & ⋯ & found\\_rifle & found\\_assault & found\\_knife & found\\_machinegun & found\\_other & found\\_gun & found\\_contraband & extra\\_reports & hour & month\\\\\n",
       "\\hline\n",
       "\t 2686798       & 2010          & 2010-12-17    & 15:15         & 83            & neither       & burglary      & FALSE         & FALSE         & TRUE          & ⋯             & FALSE         & FALSE         & FALSE         & FALSE         & FALSE         & FALSE         & FALSE         & FALSE         & 15            & 12           \\\\\n",
       "\t 1268296       & 2008          & 2008-07-12    & 14:45         & 13            & transit       & grand larceny & FALSE         &  TRUE         & TRUE          & ⋯             & FALSE         & FALSE         & FALSE         & FALSE         & FALSE         & FALSE         & FALSE         & FALSE         & 14            &  7           \\\\\n",
       "\t 2722653       & 2011          & 2011-01-13    & 23:28         & 120           & neither       & robbery       & FALSE         & FALSE         & TRUE          & ⋯             & FALSE         & FALSE         & FALSE         & FALSE         & FALSE         & FALSE         & FALSE         & FALSE         & 23            &  1           \\\\\n",
       "\t ⋮ & ⋮ & ⋮ & ⋮ & ⋮ & ⋮ & ⋮ & ⋮ & ⋮ & ⋮ & ⋱ & ⋮ & ⋮ & ⋮ & ⋮ & ⋮ & ⋮ & ⋮ & ⋮ & ⋮ & ⋮\\\\\n",
       "\t 1953331       & 2009          & 2009-09-18    & 11:20         & 72            & neither       & robbery       & FALSE         & FALSE         & TRUE          & ⋯             & FALSE         & FALSE         & FALSE         & FALSE         & FALSE         & FALSE         & FALSE         & FALSE         & 11            & 9            \\\\\n",
       "\t 2455369       & 2010          & 2010-07-24    & 20:10         & 6             & transit       & grand larceny & FALSE         & FALSE         & TRUE          & ⋯             & FALSE         & FALSE         & FALSE         & FALSE         & FALSE         & FALSE         & FALSE         & FALSE         & 20            & 7            \\\\\n",
       "\t 2419926       & 2010          & 2010-07-01    & 00:10         & 50            & transit       & grand larceny & FALSE         & FALSE         & TRUE          & ⋯             & FALSE         & FALSE         & FALSE         & FALSE         & FALSE         & FALSE         & FALSE         & FALSE         &  0            & 7            \\\\\n",
       "\\end{tabular}\n"
      ],
      "text/plain": [
       "      id      year date       time  precinct location_housing suspected_crime\n",
       "1     2686798 2010 2010-12-17 15:15 83       neither          burglary       \n",
       "2     1268296 2008 2008-07-12 14:45 13       transit          grand larceny  \n",
       "3     2722653 2011 2011-01-13 23:28 120      neither          robbery        \n",
       "⋮     ⋮       ⋮    ⋮          ⋮     ⋮        ⋮                ⋮              \n",
       "39208 1953331 2009 2009-09-18 11:20 72       neither          robbery        \n",
       "39209 2455369 2010 2010-07-24 20:10 6        transit          grand larceny  \n",
       "39210 2419926 2010 2010-07-01 00:10 50       transit          grand larceny  \n",
       "      stop_reason_object stop_reason_desc stop_reason_casing ⋯ found_rifle\n",
       "1     FALSE              FALSE            TRUE               ⋯ FALSE      \n",
       "2     FALSE               TRUE            TRUE               ⋯ FALSE      \n",
       "3     FALSE              FALSE            TRUE               ⋯ FALSE      \n",
       "⋮     ⋮                  ⋮                ⋮                  ⋱ ⋮          \n",
       "39208 FALSE              FALSE            TRUE               ⋯ FALSE      \n",
       "39209 FALSE              FALSE            TRUE               ⋯ FALSE      \n",
       "39210 FALSE              FALSE            TRUE               ⋯ FALSE      \n",
       "      found_assault found_knife found_machinegun found_other found_gun\n",
       "1     FALSE         FALSE       FALSE            FALSE       FALSE    \n",
       "2     FALSE         FALSE       FALSE            FALSE       FALSE    \n",
       "3     FALSE         FALSE       FALSE            FALSE       FALSE    \n",
       "⋮     ⋮             ⋮           ⋮                ⋮           ⋮        \n",
       "39208 FALSE         FALSE       FALSE            FALSE       FALSE    \n",
       "39209 FALSE         FALSE       FALSE            FALSE       FALSE    \n",
       "39210 FALSE         FALSE       FALSE            FALSE       FALSE    \n",
       "      found_contraband extra_reports hour month\n",
       "1     FALSE            FALSE         15   12   \n",
       "2     FALSE            FALSE         14    7   \n",
       "3     FALSE            FALSE         23    1   \n",
       "⋮     ⋮                ⋮             ⋮    ⋮    \n",
       "39208 FALSE            FALSE         11   9    \n",
       "39209 FALSE            FALSE         20   7    \n",
       "39210 FALSE            FALSE          0   7    "
      ]
     },
     "metadata": {},
     "output_type": "display_data"
    }
   ],
   "source": [
    "interesting_crimes <- c(\"burglary\", \"robbery\", \"grand larceny\")\n",
    "\n",
    "filter(stop_df, \n",
    "       suspected_crime %in% interesting_crimes)"
   ]
  },
  {
   "cell_type": "markdown",
   "metadata": {},
   "source": [
    "Finally, use `!` to negate any condition. \n",
    "\n",
    "For example, if we wanted to find all stops where the suspected crime is _not_ one of the `interesting_crimes`,"
   ]
  },
  {
   "cell_type": "code",
   "execution_count": 11,
   "metadata": {},
   "outputs": [
    {
     "data": {
      "text/html": [
       "<table>\n",
       "<thead><tr><th scope=col>id</th><th scope=col>year</th><th scope=col>date</th><th scope=col>time</th><th scope=col>precinct</th><th scope=col>location_housing</th><th scope=col>suspected_crime</th><th scope=col>stop_reason_object</th><th scope=col>stop_reason_desc</th><th scope=col>stop_reason_casing</th><th scope=col>⋯</th><th scope=col>found_rifle</th><th scope=col>found_assault</th><th scope=col>found_knife</th><th scope=col>found_machinegun</th><th scope=col>found_other</th><th scope=col>found_gun</th><th scope=col>found_contraband</th><th scope=col>extra_reports</th><th scope=col>hour</th><th scope=col>month</th></tr></thead>\n",
       "<tbody>\n",
       "\t<tr><td>2075967           </td><td>2009              </td><td>2009-12-08        </td><td>15:19             </td><td>40                </td><td>neither           </td><td>cpw               </td><td>FALSE             </td><td>FALSE             </td><td>FALSE             </td><td>⋯                 </td><td>FALSE             </td><td>FALSE             </td><td>FALSE             </td><td>FALSE             </td><td>FALSE             </td><td> TRUE             </td><td>FALSE             </td><td>FALSE             </td><td>15                </td><td>12                </td></tr>\n",
       "\t<tr><td>2522700           </td><td>2010              </td><td>2010-09-08        </td><td>21:55             </td><td>43                </td><td>housing           </td><td>cpw               </td><td>FALSE             </td><td>FALSE             </td><td>FALSE             </td><td>⋯                 </td><td>FALSE             </td><td>FALSE             </td><td>FALSE             </td><td>FALSE             </td><td>FALSE             </td><td>FALSE             </td><td>FALSE             </td><td>FALSE             </td><td>21                </td><td> 9                </td></tr>\n",
       "\t<tr><td>2333983           </td><td>2010              </td><td>2010-05-12        </td><td>19:55             </td><td>62                </td><td>neither           </td><td>grand larceny auto</td><td>FALSE             </td><td>FALSE             </td><td> TRUE             </td><td>⋯                 </td><td>FALSE             </td><td>FALSE             </td><td>FALSE             </td><td>FALSE             </td><td>FALSE             </td><td>FALSE             </td><td>FALSE             </td><td>FALSE             </td><td>19                </td><td> 5                </td></tr>\n",
       "\t<tr><td>⋮</td><td>⋮</td><td>⋮</td><td>⋮</td><td>⋮</td><td>⋮</td><td>⋮</td><td>⋮</td><td>⋮</td><td>⋮</td><td>⋱</td><td>⋮</td><td>⋮</td><td>⋮</td><td>⋮</td><td>⋮</td><td>⋮</td><td>⋮</td><td>⋮</td><td>⋮</td><td>⋮</td></tr>\n",
       "\t<tr><td>1891165                              </td><td>2009                                 </td><td>2009-08-08                           </td><td>19:56                                </td><td>50                                   </td><td>neither                              </td><td>grand larceny auto                   </td><td>FALSE                                </td><td> TRUE                                </td><td> TRUE                                </td><td>⋯                                    </td><td>FALSE                                </td><td>FALSE                                </td><td>FALSE                                </td><td>FALSE                                </td><td>FALSE                                </td><td>FALSE                                </td><td>FALSE                                </td><td>FALSE                                </td><td>19                                   </td><td>8                                    </td></tr>\n",
       "\t<tr><td>2801672                              </td><td>2011                                 </td><td>2011-02-19                           </td><td>19:01                                </td><td>13                                   </td><td>transit                              </td><td>cpw                                  </td><td>FALSE                                </td><td>FALSE                                </td><td>FALSE                                </td><td>⋯                                    </td><td>FALSE                                </td><td>FALSE                                </td><td> TRUE                                </td><td>FALSE                                </td><td>FALSE                                </td><td>FALSE                                </td><td>FALSE                                </td><td>FALSE                                </td><td>19                                   </td><td>2                                    </td></tr>\n",
       "\t<tr><td>1595066                              </td><td>2009                                 </td><td>2009-02-09                           </td><td>20:20                                </td><td>60                                   </td><td>neither                              </td><td>criminal sale of controlled substance</td><td>FALSE                                </td><td>FALSE                                </td><td>FALSE                                </td><td>⋯                                    </td><td>FALSE                                </td><td>FALSE                                </td><td>FALSE                                </td><td>FALSE                                </td><td>FALSE                                </td><td>FALSE                                </td><td>FALSE                                </td><td>FALSE                                </td><td>20                                   </td><td>2                                    </td></tr>\n",
       "</tbody>\n",
       "</table>\n"
      ],
      "text/latex": [
       "\\begin{tabular}{r|lllllllllllllllllllllllllllllllllllllllllllllllllllllllllllllllllllllllllllllllll}\n",
       " id & year & date & time & precinct & location\\_housing & suspected\\_crime & stop\\_reason\\_object & stop\\_reason\\_desc & stop\\_reason\\_casing & ⋯ & found\\_rifle & found\\_assault & found\\_knife & found\\_machinegun & found\\_other & found\\_gun & found\\_contraband & extra\\_reports & hour & month\\\\\n",
       "\\hline\n",
       "\t 2075967            & 2009               & 2009-12-08         & 15:19              & 40                 & neither            & cpw                & FALSE              & FALSE              & FALSE              & ⋯                  & FALSE              & FALSE              & FALSE              & FALSE              & FALSE              &  TRUE              & FALSE              & FALSE              & 15                 & 12                \\\\\n",
       "\t 2522700            & 2010               & 2010-09-08         & 21:55              & 43                 & housing            & cpw                & FALSE              & FALSE              & FALSE              & ⋯                  & FALSE              & FALSE              & FALSE              & FALSE              & FALSE              & FALSE              & FALSE              & FALSE              & 21                 &  9                \\\\\n",
       "\t 2333983            & 2010               & 2010-05-12         & 19:55              & 62                 & neither            & grand larceny auto & FALSE              & FALSE              &  TRUE              & ⋯                  & FALSE              & FALSE              & FALSE              & FALSE              & FALSE              & FALSE              & FALSE              & FALSE              & 19                 &  5                \\\\\n",
       "\t ⋮ & ⋮ & ⋮ & ⋮ & ⋮ & ⋮ & ⋮ & ⋮ & ⋮ & ⋮ & ⋱ & ⋮ & ⋮ & ⋮ & ⋮ & ⋮ & ⋮ & ⋮ & ⋮ & ⋮ & ⋮\\\\\n",
       "\t 1891165                               & 2009                                  & 2009-08-08                            & 19:56                                 & 50                                    & neither                               & grand larceny auto                    & FALSE                                 &  TRUE                                 &  TRUE                                 & ⋯                                     & FALSE                                 & FALSE                                 & FALSE                                 & FALSE                                 & FALSE                                 & FALSE                                 & FALSE                                 & FALSE                                 & 19                                    & 8                                    \\\\\n",
       "\t 2801672                               & 2011                                  & 2011-02-19                            & 19:01                                 & 13                                    & transit                               & cpw                                   & FALSE                                 & FALSE                                 & FALSE                                 & ⋯                                     & FALSE                                 & FALSE                                 &  TRUE                                 & FALSE                                 & FALSE                                 & FALSE                                 & FALSE                                 & FALSE                                 & 19                                    & 2                                    \\\\\n",
       "\t 1595066                               & 2009                                  & 2009-02-09                            & 20:20                                 & 60                                    & neither                               & criminal sale of controlled substance & FALSE                                 & FALSE                                 & FALSE                                 & ⋯                                     & FALSE                                 & FALSE                                 & FALSE                                 & FALSE                                 & FALSE                                 & FALSE                                 & FALSE                                 & FALSE                                 & 20                                    & 2                                    \\\\\n",
       "\\end{tabular}\n"
      ],
      "text/plain": [
       "      id      year date       time  precinct location_housing\n",
       "1     2075967 2009 2009-12-08 15:19 40       neither         \n",
       "2     2522700 2010 2010-09-08 21:55 43       housing         \n",
       "3     2333983 2010 2010-05-12 19:55 62       neither         \n",
       "⋮     ⋮       ⋮    ⋮          ⋮     ⋮        ⋮               \n",
       "60788 1891165 2009 2009-08-08 19:56 50       neither         \n",
       "60789 2801672 2011 2011-02-19 19:01 13       transit         \n",
       "60790 1595066 2009 2009-02-09 20:20 60       neither         \n",
       "      suspected_crime                       stop_reason_object stop_reason_desc\n",
       "1     cpw                                   FALSE              FALSE           \n",
       "2     cpw                                   FALSE              FALSE           \n",
       "3     grand larceny auto                    FALSE              FALSE           \n",
       "⋮     ⋮                                     ⋮                  ⋮               \n",
       "60788 grand larceny auto                    FALSE               TRUE           \n",
       "60789 cpw                                   FALSE              FALSE           \n",
       "60790 criminal sale of controlled substance FALSE              FALSE           \n",
       "      stop_reason_casing ⋯ found_rifle found_assault found_knife\n",
       "1     FALSE              ⋯ FALSE       FALSE         FALSE      \n",
       "2     FALSE              ⋯ FALSE       FALSE         FALSE      \n",
       "3      TRUE              ⋯ FALSE       FALSE         FALSE      \n",
       "⋮     ⋮                  ⋱ ⋮           ⋮             ⋮          \n",
       "60788  TRUE              ⋯ FALSE       FALSE         FALSE      \n",
       "60789 FALSE              ⋯ FALSE       FALSE          TRUE      \n",
       "60790 FALSE              ⋯ FALSE       FALSE         FALSE      \n",
       "      found_machinegun found_other found_gun found_contraband extra_reports\n",
       "1     FALSE            FALSE        TRUE     FALSE            FALSE        \n",
       "2     FALSE            FALSE       FALSE     FALSE            FALSE        \n",
       "3     FALSE            FALSE       FALSE     FALSE            FALSE        \n",
       "⋮     ⋮                ⋮           ⋮         ⋮                ⋮            \n",
       "60788 FALSE            FALSE       FALSE     FALSE            FALSE        \n",
       "60789 FALSE            FALSE       FALSE     FALSE            FALSE        \n",
       "60790 FALSE            FALSE       FALSE     FALSE            FALSE        \n",
       "      hour month\n",
       "1     15   12   \n",
       "2     21    9   \n",
       "3     19    5   \n",
       "⋮     ⋮    ⋮    \n",
       "60788 19   8    \n",
       "60789 19   2    \n",
       "60790 20   2    "
      ]
     },
     "metadata": {},
     "output_type": "display_data"
    }
   ],
   "source": [
    "filter(stop_df, \n",
    "       !(suspected_crime %in% interesting_crimes))"
   ]
  },
  {
   "cell_type": "markdown",
   "metadata": {},
   "source": [
    "or, if you want to exclude stops in 2008"
   ]
  },
  {
   "cell_type": "code",
   "execution_count": 12,
   "metadata": {},
   "outputs": [
    {
     "data": {
      "text/html": [
       "<table>\n",
       "<thead><tr><th scope=col>id</th><th scope=col>year</th><th scope=col>date</th><th scope=col>time</th><th scope=col>precinct</th><th scope=col>location_housing</th><th scope=col>suspected_crime</th><th scope=col>stop_reason_object</th><th scope=col>stop_reason_desc</th><th scope=col>stop_reason_casing</th><th scope=col>⋯</th><th scope=col>found_rifle</th><th scope=col>found_assault</th><th scope=col>found_knife</th><th scope=col>found_machinegun</th><th scope=col>found_other</th><th scope=col>found_gun</th><th scope=col>found_contraband</th><th scope=col>extra_reports</th><th scope=col>hour</th><th scope=col>month</th></tr></thead>\n",
       "<tbody>\n",
       "\t<tr><td>2686798   </td><td>2010      </td><td>2010-12-17</td><td>15:15     </td><td>83        </td><td>neither   </td><td>burglary  </td><td>FALSE     </td><td>FALSE     </td><td> TRUE     </td><td>⋯         </td><td>FALSE     </td><td>FALSE     </td><td>FALSE     </td><td>FALSE     </td><td>FALSE     </td><td>FALSE     </td><td>FALSE     </td><td>FALSE     </td><td>15        </td><td>12        </td></tr>\n",
       "\t<tr><td>2075967   </td><td>2009      </td><td>2009-12-08</td><td>15:19     </td><td>40        </td><td>neither   </td><td>cpw       </td><td>FALSE     </td><td>FALSE     </td><td>FALSE     </td><td>⋯         </td><td>FALSE     </td><td>FALSE     </td><td>FALSE     </td><td>FALSE     </td><td>FALSE     </td><td> TRUE     </td><td>FALSE     </td><td>FALSE     </td><td>15        </td><td>12        </td></tr>\n",
       "\t<tr><td>2522700   </td><td>2010      </td><td>2010-09-08</td><td>21:55     </td><td>43        </td><td>housing   </td><td>cpw       </td><td>FALSE     </td><td>FALSE     </td><td>FALSE     </td><td>⋯         </td><td>FALSE     </td><td>FALSE     </td><td>FALSE     </td><td>FALSE     </td><td>FALSE     </td><td>FALSE     </td><td>FALSE     </td><td>FALSE     </td><td>21        </td><td> 9        </td></tr>\n",
       "\t<tr><td>⋮</td><td>⋮</td><td>⋮</td><td>⋮</td><td>⋮</td><td>⋮</td><td>⋮</td><td>⋮</td><td>⋮</td><td>⋮</td><td>⋱</td><td>⋮</td><td>⋮</td><td>⋮</td><td>⋮</td><td>⋮</td><td>⋮</td><td>⋮</td><td>⋮</td><td>⋮</td><td>⋮</td></tr>\n",
       "\t<tr><td>2801672                              </td><td>2011                                 </td><td>2011-02-19                           </td><td>19:01                                </td><td>13                                   </td><td>transit                              </td><td>cpw                                  </td><td>FALSE                                </td><td>FALSE                                </td><td>FALSE                                </td><td>⋯                                    </td><td>FALSE                                </td><td>FALSE                                </td><td> TRUE                                </td><td>FALSE                                </td><td>FALSE                                </td><td>FALSE                                </td><td>FALSE                                </td><td>FALSE                                </td><td>19                                   </td><td>2                                    </td></tr>\n",
       "\t<tr><td>1595066                              </td><td>2009                                 </td><td>2009-02-09                           </td><td>20:20                                </td><td>60                                   </td><td>neither                              </td><td>criminal sale of controlled substance</td><td>FALSE                                </td><td>FALSE                                </td><td>FALSE                                </td><td>⋯                                    </td><td>FALSE                                </td><td>FALSE                                </td><td>FALSE                                </td><td>FALSE                                </td><td>FALSE                                </td><td>FALSE                                </td><td>FALSE                                </td><td>FALSE                                </td><td>20                                   </td><td>2                                    </td></tr>\n",
       "\t<tr><td>2419926                              </td><td>2010                                 </td><td>2010-07-01                           </td><td>00:10                                </td><td>50                                   </td><td>transit                              </td><td>grand larceny                        </td><td>FALSE                                </td><td>FALSE                                </td><td> TRUE                                </td><td>⋯                                    </td><td>FALSE                                </td><td>FALSE                                </td><td>FALSE                                </td><td>FALSE                                </td><td>FALSE                                </td><td>FALSE                                </td><td>FALSE                                </td><td>FALSE                                </td><td> 0                                   </td><td>7                                    </td></tr>\n",
       "</tbody>\n",
       "</table>\n"
      ],
      "text/latex": [
       "\\begin{tabular}{r|lllllllllllllllllllllllllllllllllllllllllllllllllllllllllllllllllllllllllllllllll}\n",
       " id & year & date & time & precinct & location\\_housing & suspected\\_crime & stop\\_reason\\_object & stop\\_reason\\_desc & stop\\_reason\\_casing & ⋯ & found\\_rifle & found\\_assault & found\\_knife & found\\_machinegun & found\\_other & found\\_gun & found\\_contraband & extra\\_reports & hour & month\\\\\n",
       "\\hline\n",
       "\t 2686798    & 2010       & 2010-12-17 & 15:15      & 83         & neither    & burglary   & FALSE      & FALSE      &  TRUE      & ⋯          & FALSE      & FALSE      & FALSE      & FALSE      & FALSE      & FALSE      & FALSE      & FALSE      & 15         & 12        \\\\\n",
       "\t 2075967    & 2009       & 2009-12-08 & 15:19      & 40         & neither    & cpw        & FALSE      & FALSE      & FALSE      & ⋯          & FALSE      & FALSE      & FALSE      & FALSE      & FALSE      &  TRUE      & FALSE      & FALSE      & 15         & 12        \\\\\n",
       "\t 2522700    & 2010       & 2010-09-08 & 21:55      & 43         & housing    & cpw        & FALSE      & FALSE      & FALSE      & ⋯          & FALSE      & FALSE      & FALSE      & FALSE      & FALSE      & FALSE      & FALSE      & FALSE      & 21         &  9        \\\\\n",
       "\t ⋮ & ⋮ & ⋮ & ⋮ & ⋮ & ⋮ & ⋮ & ⋮ & ⋮ & ⋮ & ⋱ & ⋮ & ⋮ & ⋮ & ⋮ & ⋮ & ⋮ & ⋮ & ⋮ & ⋮ & ⋮\\\\\n",
       "\t 2801672                               & 2011                                  & 2011-02-19                            & 19:01                                 & 13                                    & transit                               & cpw                                   & FALSE                                 & FALSE                                 & FALSE                                 & ⋯                                     & FALSE                                 & FALSE                                 &  TRUE                                 & FALSE                                 & FALSE                                 & FALSE                                 & FALSE                                 & FALSE                                 & 19                                    & 2                                    \\\\\n",
       "\t 1595066                               & 2009                                  & 2009-02-09                            & 20:20                                 & 60                                    & neither                               & criminal sale of controlled substance & FALSE                                 & FALSE                                 & FALSE                                 & ⋯                                     & FALSE                                 & FALSE                                 & FALSE                                 & FALSE                                 & FALSE                                 & FALSE                                 & FALSE                                 & FALSE                                 & 20                                    & 2                                    \\\\\n",
       "\t 2419926                               & 2010                                  & 2010-07-01                            & 00:10                                 & 50                                    & transit                               & grand larceny                         & FALSE                                 & FALSE                                 &  TRUE                                 & ⋯                                     & FALSE                                 & FALSE                                 & FALSE                                 & FALSE                                 & FALSE                                 & FALSE                                 & FALSE                                 & FALSE                                 &  0                                    & 7                                    \\\\\n",
       "\\end{tabular}\n"
      ],
      "text/plain": [
       "      id      year date       time  precinct location_housing\n",
       "1     2686798 2010 2010-12-17 15:15 83       neither         \n",
       "2     2075967 2009 2009-12-08 15:19 40       neither         \n",
       "3     2522700 2010 2010-09-08 21:55 43       housing         \n",
       "⋮     ⋮       ⋮    ⋮          ⋮     ⋮        ⋮               \n",
       "73692 2801672 2011 2011-02-19 19:01 13       transit         \n",
       "73693 1595066 2009 2009-02-09 20:20 60       neither         \n",
       "73694 2419926 2010 2010-07-01 00:10 50       transit         \n",
       "      suspected_crime                       stop_reason_object stop_reason_desc\n",
       "1     burglary                              FALSE              FALSE           \n",
       "2     cpw                                   FALSE              FALSE           \n",
       "3     cpw                                   FALSE              FALSE           \n",
       "⋮     ⋮                                     ⋮                  ⋮               \n",
       "73692 cpw                                   FALSE              FALSE           \n",
       "73693 criminal sale of controlled substance FALSE              FALSE           \n",
       "73694 grand larceny                         FALSE              FALSE           \n",
       "      stop_reason_casing ⋯ found_rifle found_assault found_knife\n",
       "1      TRUE              ⋯ FALSE       FALSE         FALSE      \n",
       "2     FALSE              ⋯ FALSE       FALSE         FALSE      \n",
       "3     FALSE              ⋯ FALSE       FALSE         FALSE      \n",
       "⋮     ⋮                  ⋱ ⋮           ⋮             ⋮          \n",
       "73692 FALSE              ⋯ FALSE       FALSE          TRUE      \n",
       "73693 FALSE              ⋯ FALSE       FALSE         FALSE      \n",
       "73694  TRUE              ⋯ FALSE       FALSE         FALSE      \n",
       "      found_machinegun found_other found_gun found_contraband extra_reports\n",
       "1     FALSE            FALSE       FALSE     FALSE            FALSE        \n",
       "2     FALSE            FALSE        TRUE     FALSE            FALSE        \n",
       "3     FALSE            FALSE       FALSE     FALSE            FALSE        \n",
       "⋮     ⋮                ⋮           ⋮         ⋮                ⋮            \n",
       "73692 FALSE            FALSE       FALSE     FALSE            FALSE        \n",
       "73693 FALSE            FALSE       FALSE     FALSE            FALSE        \n",
       "73694 FALSE            FALSE       FALSE     FALSE            FALSE        \n",
       "      hour month\n",
       "1     15   12   \n",
       "2     15   12   \n",
       "3     21    9   \n",
       "⋮     ⋮    ⋮    \n",
       "73692 19   2    \n",
       "73693 20   2    \n",
       "73694  0   7    "
      ]
     },
     "metadata": {},
     "output_type": "display_data"
    }
   ],
   "source": [
    "filter(stop_df, year != 2008)"
   ]
  },
  {
   "cell_type": "markdown",
   "metadata": {},
   "source": [
    "### Exercise: `filter()`\n",
    "\n",
    "1. Find all the minority (non-white) race (`suspect_race`) stops which took place in transit (`location_housing == \"transit\"`), \n",
    "   where the suspected crime was criminal possession of a weapon (`cpw`) and a gun was eventually found (`found_gun`).\n",
    "1. Find all stops that occurred in either 2008 _or_ 2011, in precinct 13, between the hours 0 and 2, \n",
    "   where a weapon was found, but no contraband was found"
   ]
  },
  {
   "cell_type": "code",
   "execution_count": 13,
   "metadata": {},
   "outputs": [
    {
     "data": {
      "text/html": [
       "<table>\n",
       "<thead><tr><th scope=col>id</th><th scope=col>year</th><th scope=col>date</th><th scope=col>time</th><th scope=col>precinct</th><th scope=col>location_housing</th><th scope=col>suspected_crime</th><th scope=col>stop_reason_object</th><th scope=col>stop_reason_desc</th><th scope=col>stop_reason_casing</th><th scope=col>⋯</th><th scope=col>found_rifle</th><th scope=col>found_assault</th><th scope=col>found_knife</th><th scope=col>found_machinegun</th><th scope=col>found_other</th><th scope=col>found_gun</th><th scope=col>found_contraband</th><th scope=col>extra_reports</th><th scope=col>hour</th><th scope=col>month</th></tr></thead>\n",
       "<tbody>\n",
       "\t<tr><td>1845792   </td><td>2009      </td><td>2009-07-08</td><td>18:55     </td><td>14        </td><td>transit   </td><td>cpw       </td><td>FALSE     </td><td>FALSE     </td><td>FALSE     </td><td>⋯         </td><td>FALSE     </td><td>FALSE     </td><td>FALSE     </td><td>FALSE     </td><td>FALSE     </td><td>TRUE      </td><td>FALSE     </td><td>FALSE     </td><td>18        </td><td> 7        </td></tr>\n",
       "\t<tr><td>1421012   </td><td>2008      </td><td>2008-10-25</td><td>11:54     </td><td>7         </td><td>transit   </td><td>cpw       </td><td>FALSE     </td><td>FALSE     </td><td>FALSE     </td><td>⋯         </td><td>FALSE     </td><td>FALSE     </td><td>FALSE     </td><td>FALSE     </td><td>FALSE     </td><td>TRUE      </td><td>FALSE     </td><td>FALSE     </td><td>11        </td><td>10        </td></tr>\n",
       "\t<tr><td>1416833   </td><td>2008      </td><td>2008-10-23</td><td>15:20     </td><td>73        </td><td>transit   </td><td>cpw       </td><td>FALSE     </td><td>FALSE     </td><td>FALSE     </td><td>⋯         </td><td>FALSE     </td><td>FALSE     </td><td>FALSE     </td><td>FALSE     </td><td>FALSE     </td><td>TRUE      </td><td>FALSE     </td><td>FALSE     </td><td>15        </td><td>10        </td></tr>\n",
       "\t<tr><td>2702721   </td><td>2011      </td><td>2011-01-02</td><td>01:40     </td><td>40        </td><td>transit   </td><td>cpw       </td><td>FALSE     </td><td>FALSE     </td><td>FALSE     </td><td>⋯         </td><td>FALSE     </td><td>FALSE     </td><td>FALSE     </td><td>FALSE     </td><td>FALSE     </td><td>TRUE      </td><td>FALSE     </td><td>FALSE     </td><td> 1        </td><td> 1        </td></tr>\n",
       "</tbody>\n",
       "</table>\n"
      ],
      "text/latex": [
       "\\begin{tabular}{r|lllllllllllllllllllllllllllllllllllllllllllllllllllllllllllllllllllllllllllllllll}\n",
       " id & year & date & time & precinct & location\\_housing & suspected\\_crime & stop\\_reason\\_object & stop\\_reason\\_desc & stop\\_reason\\_casing & ⋯ & found\\_rifle & found\\_assault & found\\_knife & found\\_machinegun & found\\_other & found\\_gun & found\\_contraband & extra\\_reports & hour & month\\\\\n",
       "\\hline\n",
       "\t 1845792    & 2009       & 2009-07-08 & 18:55      & 14         & transit    & cpw        & FALSE      & FALSE      & FALSE      & ⋯          & FALSE      & FALSE      & FALSE      & FALSE      & FALSE      & TRUE       & FALSE      & FALSE      & 18         &  7        \\\\\n",
       "\t 1421012    & 2008       & 2008-10-25 & 11:54      & 7          & transit    & cpw        & FALSE      & FALSE      & FALSE      & ⋯          & FALSE      & FALSE      & FALSE      & FALSE      & FALSE      & TRUE       & FALSE      & FALSE      & 11         & 10        \\\\\n",
       "\t 1416833    & 2008       & 2008-10-23 & 15:20      & 73         & transit    & cpw        & FALSE      & FALSE      & FALSE      & ⋯          & FALSE      & FALSE      & FALSE      & FALSE      & FALSE      & TRUE       & FALSE      & FALSE      & 15         & 10        \\\\\n",
       "\t 2702721    & 2011       & 2011-01-02 & 01:40      & 40         & transit    & cpw        & FALSE      & FALSE      & FALSE      & ⋯          & FALSE      & FALSE      & FALSE      & FALSE      & FALSE      & TRUE       & FALSE      & FALSE      &  1         &  1        \\\\\n",
       "\\end{tabular}\n"
      ],
      "text/plain": [
       "  id      year date       time  precinct location_housing suspected_crime\n",
       "1 1845792 2009 2009-07-08 18:55 14       transit          cpw            \n",
       "2 1421012 2008 2008-10-25 11:54 7        transit          cpw            \n",
       "3 1416833 2008 2008-10-23 15:20 73       transit          cpw            \n",
       "4 2702721 2011 2011-01-02 01:40 40       transit          cpw            \n",
       "  stop_reason_object stop_reason_desc stop_reason_casing ⋯ found_rifle\n",
       "1 FALSE              FALSE            FALSE              ⋯ FALSE      \n",
       "2 FALSE              FALSE            FALSE              ⋯ FALSE      \n",
       "3 FALSE              FALSE            FALSE              ⋯ FALSE      \n",
       "4 FALSE              FALSE            FALSE              ⋯ FALSE      \n",
       "  found_assault found_knife found_machinegun found_other found_gun\n",
       "1 FALSE         FALSE       FALSE            FALSE       TRUE     \n",
       "2 FALSE         FALSE       FALSE            FALSE       TRUE     \n",
       "3 FALSE         FALSE       FALSE            FALSE       TRUE     \n",
       "4 FALSE         FALSE       FALSE            FALSE       TRUE     \n",
       "  found_contraband extra_reports hour month\n",
       "1 FALSE            FALSE         18    7   \n",
       "2 FALSE            FALSE         11   10   \n",
       "3 FALSE            FALSE         15   10   \n",
       "4 FALSE            FALSE          1    1   "
      ]
     },
     "metadata": {},
     "output_type": "display_data"
    },
    {
     "data": {
      "text/html": [
       "<table>\n",
       "<thead><tr><th scope=col>id</th><th scope=col>year</th><th scope=col>date</th><th scope=col>time</th><th scope=col>precinct</th><th scope=col>location_housing</th><th scope=col>suspected_crime</th><th scope=col>stop_reason_object</th><th scope=col>stop_reason_desc</th><th scope=col>stop_reason_casing</th><th scope=col>⋯</th><th scope=col>found_rifle</th><th scope=col>found_assault</th><th scope=col>found_knife</th><th scope=col>found_machinegun</th><th scope=col>found_other</th><th scope=col>found_gun</th><th scope=col>found_contraband</th><th scope=col>extra_reports</th><th scope=col>hour</th><th scope=col>month</th></tr></thead>\n",
       "<tbody>\n",
       "\t<tr><td>3068765   </td><td>2011      </td><td>2011-07-09</td><td>00:10     </td><td>13        </td><td>neither   </td><td>cpw       </td><td>FALSE     </td><td>FALSE     </td><td>FALSE     </td><td>⋯         </td><td>FALSE     </td><td>FALSE     </td><td>TRUE      </td><td>FALSE     </td><td>FALSE     </td><td>FALSE     </td><td>FALSE     </td><td>FALSE     </td><td>0         </td><td> 7        </td></tr>\n",
       "\t<tr><td>1021848   </td><td>2008      </td><td>2008-01-27</td><td>01:50     </td><td>13        </td><td>neither   </td><td>cpw       </td><td> TRUE     </td><td>FALSE     </td><td>FALSE     </td><td>⋯         </td><td>FALSE     </td><td>FALSE     </td><td>TRUE      </td><td>FALSE     </td><td>FALSE     </td><td>FALSE     </td><td>FALSE     </td><td>FALSE     </td><td>1         </td><td> 1        </td></tr>\n",
       "\t<tr><td>3068829   </td><td>2011      </td><td>2011-07-10</td><td>02:30     </td><td>13        </td><td>transit   </td><td>cpw       </td><td>FALSE     </td><td>FALSE     </td><td>FALSE     </td><td>⋯         </td><td>FALSE     </td><td>FALSE     </td><td>TRUE      </td><td>FALSE     </td><td>FALSE     </td><td>FALSE     </td><td>FALSE     </td><td>FALSE     </td><td>2         </td><td> 7        </td></tr>\n",
       "\t<tr><td>1420365   </td><td>2008      </td><td>2008-10-25</td><td>00:45     </td><td>13        </td><td>neither   </td><td>cpw       </td><td>FALSE     </td><td> TRUE     </td><td>FALSE     </td><td>⋯         </td><td>FALSE     </td><td>FALSE     </td><td>TRUE      </td><td>FALSE     </td><td>FALSE     </td><td>FALSE     </td><td>FALSE     </td><td>FALSE     </td><td>0         </td><td>10        </td></tr>\n",
       "</tbody>\n",
       "</table>\n"
      ],
      "text/latex": [
       "\\begin{tabular}{r|lllllllllllllllllllllllllllllllllllllllllllllllllllllllllllllllllllllllllllllllll}\n",
       " id & year & date & time & precinct & location\\_housing & suspected\\_crime & stop\\_reason\\_object & stop\\_reason\\_desc & stop\\_reason\\_casing & ⋯ & found\\_rifle & found\\_assault & found\\_knife & found\\_machinegun & found\\_other & found\\_gun & found\\_contraband & extra\\_reports & hour & month\\\\\n",
       "\\hline\n",
       "\t 3068765    & 2011       & 2011-07-09 & 00:10      & 13         & neither    & cpw        & FALSE      & FALSE      & FALSE      & ⋯          & FALSE      & FALSE      & TRUE       & FALSE      & FALSE      & FALSE      & FALSE      & FALSE      & 0          &  7        \\\\\n",
       "\t 1021848    & 2008       & 2008-01-27 & 01:50      & 13         & neither    & cpw        &  TRUE      & FALSE      & FALSE      & ⋯          & FALSE      & FALSE      & TRUE       & FALSE      & FALSE      & FALSE      & FALSE      & FALSE      & 1          &  1        \\\\\n",
       "\t 3068829    & 2011       & 2011-07-10 & 02:30      & 13         & transit    & cpw        & FALSE      & FALSE      & FALSE      & ⋯          & FALSE      & FALSE      & TRUE       & FALSE      & FALSE      & FALSE      & FALSE      & FALSE      & 2          &  7        \\\\\n",
       "\t 1420365    & 2008       & 2008-10-25 & 00:45      & 13         & neither    & cpw        & FALSE      &  TRUE      & FALSE      & ⋯          & FALSE      & FALSE      & TRUE       & FALSE      & FALSE      & FALSE      & FALSE      & FALSE      & 0          & 10        \\\\\n",
       "\\end{tabular}\n"
      ],
      "text/plain": [
       "  id      year date       time  precinct location_housing suspected_crime\n",
       "1 3068765 2011 2011-07-09 00:10 13       neither          cpw            \n",
       "2 1021848 2008 2008-01-27 01:50 13       neither          cpw            \n",
       "3 3068829 2011 2011-07-10 02:30 13       transit          cpw            \n",
       "4 1420365 2008 2008-10-25 00:45 13       neither          cpw            \n",
       "  stop_reason_object stop_reason_desc stop_reason_casing ⋯ found_rifle\n",
       "1 FALSE              FALSE            FALSE              ⋯ FALSE      \n",
       "2  TRUE              FALSE            FALSE              ⋯ FALSE      \n",
       "3 FALSE              FALSE            FALSE              ⋯ FALSE      \n",
       "4 FALSE               TRUE            FALSE              ⋯ FALSE      \n",
       "  found_assault found_knife found_machinegun found_other found_gun\n",
       "1 FALSE         TRUE        FALSE            FALSE       FALSE    \n",
       "2 FALSE         TRUE        FALSE            FALSE       FALSE    \n",
       "3 FALSE         TRUE        FALSE            FALSE       FALSE    \n",
       "4 FALSE         TRUE        FALSE            FALSE       FALSE    \n",
       "  found_contraband extra_reports hour month\n",
       "1 FALSE            FALSE         0     7   \n",
       "2 FALSE            FALSE         1     1   \n",
       "3 FALSE            FALSE         2     7   \n",
       "4 FALSE            FALSE         0    10   "
      ]
     },
     "metadata": {},
     "output_type": "display_data"
    }
   ],
   "source": [
    "# WRITE CODE HERE\n",
    "# START solution\n",
    "# 1. \n",
    "filter(stop_df, \n",
    "       suspect_race != \"white\",\n",
    "       location_housing == \"transit\",\n",
    "       suspected_crime == \"cpw\",\n",
    "       found_gun)\n",
    "\n",
    "# 2. \n",
    "filter(stop_df, \n",
    "       year %in% c(2008, 2011),\n",
    "       precinct == 13,\n",
    "       hour >= 0,\n",
    "       hour <= 2,\n",
    "       found_weapon,\n",
    "       !found_contraband)\n",
    "# END solution"
   ]
  },
  {
   "cell_type": "markdown",
   "metadata": {},
   "source": [
    "### Selecting columns (2/5)\n",
    "\n",
    "Use `select(df, ...)` to either specify which columns to select,"
   ]
  },
  {
   "cell_type": "code",
   "execution_count": 14,
   "metadata": {},
   "outputs": [
    {
     "data": {
      "text/html": [
       "<table>\n",
       "<thead><tr><th></th><th scope=col>year</th><th scope=col>precinct</th><th scope=col>suspected_crime</th></tr></thead>\n",
       "<tbody>\n",
       "\t<tr><th scope=row>322910</th><td>2010         </td><td>83           </td><td>burglary     </td></tr>\n",
       "\t<tr><th scope=row>218707</th><td>2009         </td><td>40           </td><td>cpw          </td></tr>\n",
       "\t<tr><th scope=row>53361</th><td>2008         </td><td>13           </td><td>grand larceny</td></tr>\n",
       "\t<tr><th scope=row>⋮</th><td>⋮</td><td>⋮</td><td>⋮</td></tr>\n",
       "\t<tr><th scope=row>99998</th><td>2011                                 </td><td>13                                   </td><td>cpw                                  </td></tr>\n",
       "\t<tr><th scope=row>99999</th><td>2009                                 </td><td>60                                   </td><td>criminal sale of controlled substance</td></tr>\n",
       "\t<tr><th scope=row>100000</th><td>2010                                 </td><td>50                                   </td><td>grand larceny                        </td></tr>\n",
       "</tbody>\n",
       "</table>\n"
      ],
      "text/latex": [
       "\\begin{tabular}{r|lll}\n",
       "  & year & precinct & suspected\\_crime\\\\\n",
       "\\hline\n",
       "\t322910 & 2010          & 83            & burglary     \\\\\n",
       "\t218707 & 2009          & 40            & cpw          \\\\\n",
       "\t53361 & 2008          & 13            & grand larceny\\\\\n",
       "\t⋮ & ⋮ & ⋮ & ⋮\\\\\n",
       "\t99998 & 2011                                  & 13                                    & cpw                                  \\\\\n",
       "\t99999 & 2009                                  & 60                                    & criminal sale of controlled substance\\\\\n",
       "\t100000 & 2010                                  & 50                                    & grand larceny                        \\\\\n",
       "\\end{tabular}\n"
      ],
      "text/plain": [
       "       year precinct suspected_crime                      \n",
       "322910 2010 83       burglary                             \n",
       "218707 2009 40       cpw                                  \n",
       "53361  2008 13       grand larceny                        \n",
       "⋮      ⋮    ⋮        ⋮                                    \n",
       "99998  2011 13       cpw                                  \n",
       "99999  2009 60       criminal sale of controlled substance\n",
       "100000 2010 50       grand larceny                        "
      ]
     },
     "metadata": {},
     "output_type": "display_data"
    }
   ],
   "source": [
    "select(stop_df, year, precinct, suspected_crime)"
   ]
  },
  {
   "cell_type": "markdown",
   "metadata": {},
   "source": [
    "or to specify which columns to exclude, using `-`."
   ]
  },
  {
   "cell_type": "code",
   "execution_count": 15,
   "metadata": {},
   "outputs": [
    {
     "data": {
      "text/html": [
       "<table>\n",
       "<thead><tr><th></th><th scope=col>suspected_crime</th><th scope=col>stop_reason_object</th><th scope=col>stop_reason_desc</th><th scope=col>stop_reason_casing</th><th scope=col>stop_reason_lookout</th><th scope=col>stop_reason_clothing</th><th scope=col>stop_reason_drugs</th><th scope=col>stop_reason_furtive</th><th scope=col>stop_reason_violent</th><th scope=col>stop_reason_bulge</th><th scope=col>⋯</th><th scope=col>found_rifle</th><th scope=col>found_assault</th><th scope=col>found_knife</th><th scope=col>found_machinegun</th><th scope=col>found_other</th><th scope=col>found_gun</th><th scope=col>found_contraband</th><th scope=col>extra_reports</th><th scope=col>hour</th><th scope=col>month</th></tr></thead>\n",
       "<tbody>\n",
       "\t<tr><th scope=row>322910</th><td>burglary     </td><td>FALSE        </td><td>FALSE        </td><td> TRUE        </td><td>FALSE        </td><td> TRUE        </td><td>FALSE        </td><td>FALSE        </td><td> TRUE        </td><td>FALSE        </td><td>⋯            </td><td>FALSE        </td><td>FALSE        </td><td>FALSE        </td><td>FALSE        </td><td>FALSE        </td><td>FALSE        </td><td>FALSE        </td><td>FALSE        </td><td>15           </td><td>12           </td></tr>\n",
       "\t<tr><th scope=row>218707</th><td>cpw          </td><td>FALSE        </td><td>FALSE        </td><td>FALSE        </td><td>FALSE        </td><td>FALSE        </td><td>FALSE        </td><td> TRUE        </td><td>FALSE        </td><td>FALSE        </td><td>⋯            </td><td>FALSE        </td><td>FALSE        </td><td>FALSE        </td><td>FALSE        </td><td>FALSE        </td><td> TRUE        </td><td>FALSE        </td><td>FALSE        </td><td>15           </td><td>12           </td></tr>\n",
       "\t<tr><th scope=row>53361</th><td>grand larceny</td><td>FALSE        </td><td> TRUE        </td><td> TRUE        </td><td>FALSE        </td><td>FALSE        </td><td>FALSE        </td><td>FALSE        </td><td>FALSE        </td><td>FALSE        </td><td>⋯            </td><td>FALSE        </td><td>FALSE        </td><td>FALSE        </td><td>FALSE        </td><td>FALSE        </td><td>FALSE        </td><td>FALSE        </td><td>FALSE        </td><td>14           </td><td> 7           </td></tr>\n",
       "\t<tr><th scope=row>⋮</th><td>⋮</td><td>⋮</td><td>⋮</td><td>⋮</td><td>⋮</td><td>⋮</td><td>⋮</td><td>⋮</td><td>⋮</td><td>⋮</td><td>⋱</td><td>⋮</td><td>⋮</td><td>⋮</td><td>⋮</td><td>⋮</td><td>⋮</td><td>⋮</td><td>⋮</td><td>⋮</td><td>⋮</td></tr>\n",
       "\t<tr><th scope=row>99998</th><td>cpw                                  </td><td>FALSE                                </td><td>FALSE                                </td><td>FALSE                                </td><td>FALSE                                </td><td>FALSE                                </td><td>FALSE                                </td><td>FALSE                                </td><td>FALSE                                </td><td> TRUE                                </td><td>⋯                                    </td><td>FALSE                                </td><td>FALSE                                </td><td> TRUE                                </td><td>FALSE                                </td><td>FALSE                                </td><td>FALSE                                </td><td>FALSE                                </td><td>FALSE                                </td><td>19                                   </td><td>2                                    </td></tr>\n",
       "\t<tr><th scope=row>99999</th><td>criminal sale of controlled substance</td><td>FALSE                                </td><td>FALSE                                </td><td>FALSE                                </td><td>FALSE                                </td><td>FALSE                                </td><td> TRUE                                </td><td>FALSE                                </td><td>FALSE                                </td><td>FALSE                                </td><td>⋯                                    </td><td>FALSE                                </td><td>FALSE                                </td><td>FALSE                                </td><td>FALSE                                </td><td>FALSE                                </td><td>FALSE                                </td><td>FALSE                                </td><td>FALSE                                </td><td>20                                   </td><td>2                                    </td></tr>\n",
       "\t<tr><th scope=row>100000</th><td>grand larceny                        </td><td>FALSE                                </td><td>FALSE                                </td><td> TRUE                                </td><td>FALSE                                </td><td>FALSE                                </td><td>FALSE                                </td><td> TRUE                                </td><td>FALSE                                </td><td>FALSE                                </td><td>⋯                                    </td><td>FALSE                                </td><td>FALSE                                </td><td>FALSE                                </td><td>FALSE                                </td><td>FALSE                                </td><td>FALSE                                </td><td>FALSE                                </td><td>FALSE                                </td><td> 0                                   </td><td>7                                    </td></tr>\n",
       "</tbody>\n",
       "</table>\n"
      ],
      "text/latex": [
       "\\begin{tabular}{r|lllllllllllllllllllllllllllllllllllllllllllllllllllllllllllllllllllllllllll}\n",
       "  & suspected\\_crime & stop\\_reason\\_object & stop\\_reason\\_desc & stop\\_reason\\_casing & stop\\_reason\\_lookout & stop\\_reason\\_clothing & stop\\_reason\\_drugs & stop\\_reason\\_furtive & stop\\_reason\\_violent & stop\\_reason\\_bulge & ⋯ & found\\_rifle & found\\_assault & found\\_knife & found\\_machinegun & found\\_other & found\\_gun & found\\_contraband & extra\\_reports & hour & month\\\\\n",
       "\\hline\n",
       "\t322910 & burglary      & FALSE         & FALSE         &  TRUE         & FALSE         &  TRUE         & FALSE         & FALSE         &  TRUE         & FALSE         & ⋯             & FALSE         & FALSE         & FALSE         & FALSE         & FALSE         & FALSE         & FALSE         & FALSE         & 15            & 12           \\\\\n",
       "\t218707 & cpw           & FALSE         & FALSE         & FALSE         & FALSE         & FALSE         & FALSE         &  TRUE         & FALSE         & FALSE         & ⋯             & FALSE         & FALSE         & FALSE         & FALSE         & FALSE         &  TRUE         & FALSE         & FALSE         & 15            & 12           \\\\\n",
       "\t53361 & grand larceny & FALSE         &  TRUE         &  TRUE         & FALSE         & FALSE         & FALSE         & FALSE         & FALSE         & FALSE         & ⋯             & FALSE         & FALSE         & FALSE         & FALSE         & FALSE         & FALSE         & FALSE         & FALSE         & 14            &  7           \\\\\n",
       "\t⋮ & ⋮ & ⋮ & ⋮ & ⋮ & ⋮ & ⋮ & ⋮ & ⋮ & ⋮ & ⋮ & ⋱ & ⋮ & ⋮ & ⋮ & ⋮ & ⋮ & ⋮ & ⋮ & ⋮ & ⋮ & ⋮\\\\\n",
       "\t99998 & cpw                                   & FALSE                                 & FALSE                                 & FALSE                                 & FALSE                                 & FALSE                                 & FALSE                                 & FALSE                                 & FALSE                                 &  TRUE                                 & ⋯                                     & FALSE                                 & FALSE                                 &  TRUE                                 & FALSE                                 & FALSE                                 & FALSE                                 & FALSE                                 & FALSE                                 & 19                                    & 2                                    \\\\\n",
       "\t99999 & criminal sale of controlled substance & FALSE                                 & FALSE                                 & FALSE                                 & FALSE                                 & FALSE                                 &  TRUE                                 & FALSE                                 & FALSE                                 & FALSE                                 & ⋯                                     & FALSE                                 & FALSE                                 & FALSE                                 & FALSE                                 & FALSE                                 & FALSE                                 & FALSE                                 & FALSE                                 & 20                                    & 2                                    \\\\\n",
       "\t100000 & grand larceny                         & FALSE                                 & FALSE                                 &  TRUE                                 & FALSE                                 & FALSE                                 & FALSE                                 &  TRUE                                 & FALSE                                 & FALSE                                 & ⋯                                     & FALSE                                 & FALSE                                 & FALSE                                 & FALSE                                 & FALSE                                 & FALSE                                 & FALSE                                 & FALSE                                 &  0                                    & 7                                    \\\\\n",
       "\\end{tabular}\n"
      ],
      "text/plain": [
       "       suspected_crime                       stop_reason_object\n",
       "322910 burglary                              FALSE             \n",
       "218707 cpw                                   FALSE             \n",
       "53361  grand larceny                         FALSE             \n",
       "⋮      ⋮                                     ⋮                 \n",
       "99998  cpw                                   FALSE             \n",
       "99999  criminal sale of controlled substance FALSE             \n",
       "100000 grand larceny                         FALSE             \n",
       "       stop_reason_desc stop_reason_casing stop_reason_lookout\n",
       "322910 FALSE             TRUE              FALSE              \n",
       "218707 FALSE            FALSE              FALSE              \n",
       "53361   TRUE             TRUE              FALSE              \n",
       "⋮      ⋮                ⋮                  ⋮                  \n",
       "99998  FALSE            FALSE              FALSE              \n",
       "99999  FALSE            FALSE              FALSE              \n",
       "100000 FALSE             TRUE              FALSE              \n",
       "       stop_reason_clothing stop_reason_drugs stop_reason_furtive\n",
       "322910  TRUE                FALSE             FALSE              \n",
       "218707 FALSE                FALSE              TRUE              \n",
       "53361  FALSE                FALSE             FALSE              \n",
       "⋮      ⋮                    ⋮                 ⋮                  \n",
       "99998  FALSE                FALSE             FALSE              \n",
       "99999  FALSE                 TRUE             FALSE              \n",
       "100000 FALSE                FALSE              TRUE              \n",
       "       stop_reason_violent stop_reason_bulge ⋯ found_rifle found_assault\n",
       "322910  TRUE               FALSE             ⋯ FALSE       FALSE        \n",
       "218707 FALSE               FALSE             ⋯ FALSE       FALSE        \n",
       "53361  FALSE               FALSE             ⋯ FALSE       FALSE        \n",
       "⋮      ⋮                   ⋮                 ⋱ ⋮           ⋮            \n",
       "99998  FALSE                TRUE             ⋯ FALSE       FALSE        \n",
       "99999  FALSE               FALSE             ⋯ FALSE       FALSE        \n",
       "100000 FALSE               FALSE             ⋯ FALSE       FALSE        \n",
       "       found_knife found_machinegun found_other found_gun found_contraband\n",
       "322910 FALSE       FALSE            FALSE       FALSE     FALSE           \n",
       "218707 FALSE       FALSE            FALSE        TRUE     FALSE           \n",
       "53361  FALSE       FALSE            FALSE       FALSE     FALSE           \n",
       "⋮      ⋮           ⋮                ⋮           ⋮         ⋮               \n",
       "99998   TRUE       FALSE            FALSE       FALSE     FALSE           \n",
       "99999  FALSE       FALSE            FALSE       FALSE     FALSE           \n",
       "100000 FALSE       FALSE            FALSE       FALSE     FALSE           \n",
       "       extra_reports hour month\n",
       "322910 FALSE         15   12   \n",
       "218707 FALSE         15   12   \n",
       "53361  FALSE         14    7   \n",
       "⋮      ⋮             ⋮    ⋮    \n",
       "99998  FALSE         19   2    \n",
       "99999  FALSE         20   2    \n",
       "100000 FALSE          0   7    "
      ]
     },
     "metadata": {},
     "output_type": "display_data"
    }
   ],
   "source": [
    "select(stop_df, -id, -year, -date, -time, -precinct, -location_housing)"
   ]
  },
  {
   "cell_type": "markdown",
   "metadata": {},
   "source": [
    "`dplyr` also provides some useful helper functions to `select()` columns that match specific criteria.\n",
    "\n",
    "* `starts_with(x)`: match column names that start with `x`\n",
    "* `ends_with(x)`: match column names that end with `x`\n",
    "* `contains(x)`: match column names that contain `x`\n",
    "* `matches(x)`: match column names that match (the regular expression) `x`\n",
    "\n",
    "where `x` is a string (in either single- or double-quotes).\n",
    "\n",
    "For example, if we want all the columns indicating what was found,"
   ]
  },
  {
   "cell_type": "code",
   "execution_count": 16,
   "metadata": {},
   "outputs": [
    {
     "data": {
      "text/html": [
       "<table>\n",
       "<thead><tr><th></th><th scope=col>found_weapon</th><th scope=col>found_pistol</th><th scope=col>found_rifle</th><th scope=col>found_assault</th><th scope=col>found_knife</th><th scope=col>found_machinegun</th><th scope=col>found_other</th><th scope=col>found_gun</th><th scope=col>found_contraband</th></tr></thead>\n",
       "<tbody>\n",
       "\t<tr><th scope=row>322910</th><td>FALSE</td><td>FALSE</td><td>FALSE</td><td>FALSE</td><td>FALSE</td><td>FALSE</td><td>FALSE</td><td>FALSE</td><td>FALSE</td></tr>\n",
       "\t<tr><th scope=row>218707</th><td> TRUE</td><td> TRUE</td><td>FALSE</td><td>FALSE</td><td>FALSE</td><td>FALSE</td><td>FALSE</td><td> TRUE</td><td>FALSE</td></tr>\n",
       "\t<tr><th scope=row>53361</th><td>FALSE</td><td>FALSE</td><td>FALSE</td><td>FALSE</td><td>FALSE</td><td>FALSE</td><td>FALSE</td><td>FALSE</td><td>FALSE</td></tr>\n",
       "\t<tr><th scope=row>⋮</th><td>⋮</td><td>⋮</td><td>⋮</td><td>⋮</td><td>⋮</td><td>⋮</td><td>⋮</td><td>⋮</td><td>⋮</td></tr>\n",
       "\t<tr><th scope=row>99998</th><td> TRUE</td><td>FALSE</td><td>FALSE</td><td>FALSE</td><td> TRUE</td><td>FALSE</td><td>FALSE</td><td>FALSE</td><td>FALSE</td></tr>\n",
       "\t<tr><th scope=row>99999</th><td>FALSE</td><td>FALSE</td><td>FALSE</td><td>FALSE</td><td>FALSE</td><td>FALSE</td><td>FALSE</td><td>FALSE</td><td>FALSE</td></tr>\n",
       "\t<tr><th scope=row>100000</th><td>FALSE</td><td>FALSE</td><td>FALSE</td><td>FALSE</td><td>FALSE</td><td>FALSE</td><td>FALSE</td><td>FALSE</td><td>FALSE</td></tr>\n",
       "</tbody>\n",
       "</table>\n"
      ],
      "text/latex": [
       "\\begin{tabular}{r|lllllllll}\n",
       "  & found\\_weapon & found\\_pistol & found\\_rifle & found\\_assault & found\\_knife & found\\_machinegun & found\\_other & found\\_gun & found\\_contraband\\\\\n",
       "\\hline\n",
       "\t322910 & FALSE & FALSE & FALSE & FALSE & FALSE & FALSE & FALSE & FALSE & FALSE\\\\\n",
       "\t218707 &  TRUE &  TRUE & FALSE & FALSE & FALSE & FALSE & FALSE &  TRUE & FALSE\\\\\n",
       "\t53361 & FALSE & FALSE & FALSE & FALSE & FALSE & FALSE & FALSE & FALSE & FALSE\\\\\n",
       "\t⋮ & ⋮ & ⋮ & ⋮ & ⋮ & ⋮ & ⋮ & ⋮ & ⋮ & ⋮\\\\\n",
       "\t99998 &  TRUE & FALSE & FALSE & FALSE &  TRUE & FALSE & FALSE & FALSE & FALSE\\\\\n",
       "\t99999 & FALSE & FALSE & FALSE & FALSE & FALSE & FALSE & FALSE & FALSE & FALSE\\\\\n",
       "\t100000 & FALSE & FALSE & FALSE & FALSE & FALSE & FALSE & FALSE & FALSE & FALSE\\\\\n",
       "\\end{tabular}\n"
      ],
      "text/plain": [
       "       found_weapon found_pistol found_rifle found_assault found_knife\n",
       "322910 FALSE        FALSE        FALSE       FALSE         FALSE      \n",
       "218707  TRUE         TRUE        FALSE       FALSE         FALSE      \n",
       "53361  FALSE        FALSE        FALSE       FALSE         FALSE      \n",
       "⋮      ⋮            ⋮            ⋮           ⋮             ⋮          \n",
       "99998   TRUE        FALSE        FALSE       FALSE          TRUE      \n",
       "99999  FALSE        FALSE        FALSE       FALSE         FALSE      \n",
       "100000 FALSE        FALSE        FALSE       FALSE         FALSE      \n",
       "       found_machinegun found_other found_gun found_contraband\n",
       "322910 FALSE            FALSE       FALSE     FALSE           \n",
       "218707 FALSE            FALSE        TRUE     FALSE           \n",
       "53361  FALSE            FALSE       FALSE     FALSE           \n",
       "⋮      ⋮                ⋮           ⋮         ⋮               \n",
       "99998  FALSE            FALSE       FALSE     FALSE           \n",
       "99999  FALSE            FALSE       FALSE     FALSE           \n",
       "100000 FALSE            FALSE       FALSE     FALSE           "
      ]
     },
     "metadata": {},
     "output_type": "display_data"
    }
   ],
   "source": [
    "select(stop_df, starts_with(\"found_\"))"
   ]
  },
  {
   "cell_type": "markdown",
   "metadata": {},
   "source": [
    "You can see the documentation for `select()` for details.\n",
    "In general, for any `R` function, you can pull-up the documentation (if one exists) by running `?` followed by the function name.\n",
    "For example, to see the documentation for `select()` as provided in the `dplyr` package, run:"
   ]
  },
  {
   "cell_type": "code",
   "execution_count": 17,
   "metadata": {},
   "outputs": [
    {
     "data": {
      "text/html": [
       "\n",
       "<table width=\"100%\" summary=\"page for select {dplyr}\"><tr><td>select {dplyr}</td><td style=\"text-align: right;\">R Documentation</td></tr></table>\n",
       "\n",
       "<h2>Select/rename variables by name</h2>\n",
       "\n",
       "<h3>Description</h3>\n",
       "\n",
       "<p><code>select()</code> keeps only the variables you mention; <code>rename()</code>\n",
       "keeps all variables.\n",
       "</p>\n",
       "\n",
       "\n",
       "<h3>Usage</h3>\n",
       "\n",
       "<pre>\n",
       "select(.data, ...)\n",
       "\n",
       "rename(.data, ...)\n",
       "</pre>\n",
       "\n",
       "\n",
       "<h3>Arguments</h3>\n",
       "\n",
       "<table summary=\"R argblock\">\n",
       "<tr valign=\"top\"><td><code>.data</code></td>\n",
       "<td>\n",
       "<p>A tbl. All main verbs are S3 generics and provide methods\n",
       "for <code>tbl_df()</code>, <code>dtplyr::tbl_dt()</code> and <code>dbplyr::tbl_dbi()</code>.</p>\n",
       "</td></tr>\n",
       "<tr valign=\"top\"><td><code>...</code></td>\n",
       "<td>\n",
       "<p>One or more unquoted expressions separated by commas.\n",
       "You can treat variable names like they are positions.\n",
       "</p>\n",
       "<p>Positive values select variables; negative values to drop variables.\n",
       "If the first expression is negative, <code>select()</code> will automatically\n",
       "start with all variables.\n",
       "</p>\n",
       "<p>Use named arguments to rename selected variables.\n",
       "</p>\n",
       "<p>These arguments are automatically quoted and\n",
       "evaluated in a context where column names\n",
       "represent column positions. They support\n",
       "unquoting and splicing. See\n",
       "<code>vignette(\"programming\")</code> for an introduction to these concepts.</p>\n",
       "</td></tr>\n",
       "</table>\n",
       "\n",
       "\n",
       "<h3>Value</h3>\n",
       "\n",
       "<p>An object of the same class as <code>.data</code>.\n",
       "</p>\n",
       "\n",
       "\n",
       "<h3>Useful functions</h3>\n",
       "\n",
       "<p>As well as using existing functions like <code>:</code> and <code>c()</code>, there are\n",
       "a number of special functions that only work inside <code>select</code>\n",
       "</p>\n",
       "\n",
       "<ul>\n",
       "<li> <p><code>starts_with()</code>, <code>ends_with()</code>, <code>contains()</code>\n",
       "</p>\n",
       "</li>\n",
       "<li> <p><code>matches()</code>\n",
       "</p>\n",
       "</li>\n",
       "<li> <p><code>num_range()</code>\n",
       "</p>\n",
       "</li>\n",
       "<li> <p><code>one_of()</code>\n",
       "</p>\n",
       "</li>\n",
       "<li> <p><code>everything()</code>\n",
       "</p>\n",
       "</li></ul>\n",
       "\n",
       "<p>To drop variables, use <code>-</code>.\n",
       "</p>\n",
       "<p>Note that except for <code>:</code>, <code>-</code> and <code>c()</code>, all complex expressions\n",
       "are evaluated outside the data frame context. This is to prevent\n",
       "accidental matching of data frame variables when you refer to\n",
       "variables from the calling context.\n",
       "</p>\n",
       "\n",
       "\n",
       "<h3>Scoped selection and renaming</h3>\n",
       "\n",
       "<p>The three scoped variants of <code>select()</code> (<code>select_all()</code>,\n",
       "<code>select_if()</code> and <code>select_at()</code>) and the three variants of\n",
       "<code>rename()</code> (<code>rename_all()</code>, <code>rename_if()</code>, <code>rename_at()</code>) make it\n",
       "easy to apply a renaming function to a selection of variables.\n",
       "</p>\n",
       "\n",
       "\n",
       "<h3>Tidy data</h3>\n",
       "\n",
       "<p>When applied to a data frame, row names are silently dropped. To preserve,\n",
       "convert to an explicit variable with <code>tibble::rownames_to_column()</code>.\n",
       "</p>\n",
       "\n",
       "\n",
       "<h3>See Also</h3>\n",
       "\n",
       "<p>Other single table verbs: <code>arrange</code>,\n",
       "<code>filter</code>, <code>mutate</code>,\n",
       "<code>slice</code>, <code>summarise</code>\n",
       "</p>\n",
       "\n",
       "\n",
       "<h3>Examples</h3>\n",
       "\n",
       "<pre>\n",
       "iris &lt;- as_tibble(iris) # so it prints a little nicer\n",
       "select(iris, starts_with(\"Petal\"))\n",
       "select(iris, ends_with(\"Width\"))\n",
       "\n",
       "# Move Species variable to the front\n",
       "select(iris, Species, everything())\n",
       "\n",
       "df &lt;- as.data.frame(matrix(runif(100), nrow = 10))\n",
       "df &lt;- tbl_df(df[c(3, 4, 7, 1, 9, 8, 5, 2, 6, 10)])\n",
       "select(df, V4:V6)\n",
       "select(df, num_range(\"V\", 4:6))\n",
       "\n",
       "# Drop variables with -\n",
       "select(iris, -starts_with(\"Petal\"))\n",
       "\n",
       "\n",
       "# The .data pronoun is available:\n",
       "select(mtcars, .data$cyl)\n",
       "select(mtcars, .data$mpg : .data$disp)\n",
       "\n",
       "# However it isn't available within calls since those are evaluated\n",
       "# outside of the data context. This would fail if run:\n",
       "# select(mtcars, identical(.data$cyl))\n",
       "\n",
       "\n",
       "# Renaming -----------------------------------------\n",
       "# * select() keeps only the variables you specify\n",
       "select(iris, petal_length = Petal.Length)\n",
       "\n",
       "# * rename() keeps all variables\n",
       "rename(iris, petal_length = Petal.Length)\n",
       "\n",
       "\n",
       "# Unquoting ----------------------------------------\n",
       "\n",
       "# Like all dplyr verbs, select() supports unquoting of symbols:\n",
       "vars &lt;- list(\n",
       "  var1 = sym(\"cyl\"),\n",
       "  var2 = sym(\"am\")\n",
       ")\n",
       "select(mtcars, !!!vars)\n",
       "\n",
       "# For convenience it also supports strings and character\n",
       "# vectors. This is unlike other verbs where strings would be\n",
       "# ambiguous.\n",
       "vars &lt;- c(var1 = \"cyl\", var2 =\"am\")\n",
       "select(mtcars, !!vars)\n",
       "rename(mtcars, !!vars)\n",
       "</pre>\n",
       "\n",
       "<hr /><div style=\"text-align: center;\">[Package <em>dplyr</em> version 0.7.6 ]</div>"
      ],
      "text/latex": [
       "\\inputencoding{utf8}\n",
       "\\HeaderA{select}{Select/rename variables by name}{select}\n",
       "\\aliasA{rename}{select}{rename}\n",
       "%\n",
       "\\begin{Description}\\relax\n",
       "\\code{select()} keeps only the variables you mention; \\code{rename()}\n",
       "keeps all variables.\n",
       "\\end{Description}\n",
       "%\n",
       "\\begin{Usage}\n",
       "\\begin{verbatim}\n",
       "select(.data, ...)\n",
       "\n",
       "rename(.data, ...)\n",
       "\\end{verbatim}\n",
       "\\end{Usage}\n",
       "%\n",
       "\\begin{Arguments}\n",
       "\\begin{ldescription}\n",
       "\\item[\\code{.data}] A tbl. All main verbs are S3 generics and provide methods\n",
       "for \\code{\\LinkA{tbl\\_df()}{tbl.Rul.df}}, \\code{\\LinkA{dtplyr::tbl\\_dt()}{dtplyr::tbl.Rul.dt()}} and \\code{\\LinkA{dbplyr::tbl\\_dbi()}{dbplyr::tbl.Rul.dbi()}}.\n",
       "\n",
       "\\item[\\code{...}] One or more unquoted expressions separated by commas.\n",
       "You can treat variable names like they are positions.\n",
       "\n",
       "Positive values select variables; negative values to drop variables.\n",
       "If the first expression is negative, \\code{select()} will automatically\n",
       "start with all variables.\n",
       "\n",
       "Use named arguments to rename selected variables.\n",
       "\n",
       "These arguments are automatically \\LinkA{quoted}{quoted} and\n",
       "\\LinkA{evaluated}{evaluated} in a context where column names\n",
       "represent column positions. They support\n",
       "\\LinkA{unquoting}{unquoting} and splicing. See\n",
       "\\code{vignette(\"programming\")} for an introduction to these concepts.\n",
       "\\end{ldescription}\n",
       "\\end{Arguments}\n",
       "%\n",
       "\\begin{Value}\n",
       "An object of the same class as \\code{.data}.\n",
       "\\end{Value}\n",
       "%\n",
       "\\begin{Section}{Useful functions}\n",
       "\n",
       "As well as using existing functions like \\code{:} and \\code{c()}, there are\n",
       "a number of special functions that only work inside \\code{select}\n",
       "\\begin{itemize}\n",
       "\n",
       "\\item \\code{\\LinkA{starts\\_with()}{starts.Rul.with}}, \\code{\\LinkA{ends\\_with()}{ends.Rul.with}}, \\code{\\LinkA{contains()}{contains}}\n",
       "\\item \\code{\\LinkA{matches()}{matches}}\n",
       "\\item \\code{\\LinkA{num\\_range()}{num.Rul.range}}\n",
       "\\item \\code{\\LinkA{one\\_of()}{one.Rul.of}}\n",
       "\\item \\code{\\LinkA{everything()}{everything}}\n",
       "\n",
       "\\end{itemize}\n",
       "\n",
       "\n",
       "To drop variables, use \\code{-}.\n",
       "\n",
       "Note that except for \\code{:}, \\code{-} and \\code{c()}, all complex expressions\n",
       "are evaluated outside the data frame context. This is to prevent\n",
       "accidental matching of data frame variables when you refer to\n",
       "variables from the calling context.\n",
       "\\end{Section}\n",
       "%\n",
       "\\begin{Section}{Scoped selection and renaming}\n",
       "\n",
       "\n",
       "The three \\LinkA{scoped}{scoped} variants of \\code{select()} (\\code{\\LinkA{select\\_all()}{select.Rul.all}},\n",
       "\\code{\\LinkA{select\\_if()}{select.Rul.if}} and \\code{\\LinkA{select\\_at()}{select.Rul.at}}) and the three variants of\n",
       "\\code{rename()} (\\code{\\LinkA{rename\\_all()}{rename.Rul.all}}, \\code{\\LinkA{rename\\_if()}{rename.Rul.if}}, \\code{\\LinkA{rename\\_at()}{rename.Rul.at}}) make it\n",
       "easy to apply a renaming function to a selection of variables.\n",
       "\\end{Section}\n",
       "%\n",
       "\\begin{Section}{Tidy data}\n",
       "\n",
       "When applied to a data frame, row names are silently dropped. To preserve,\n",
       "convert to an explicit variable with \\code{\\LinkA{tibble::rownames\\_to\\_column()}{tibble::rownames.Rul.to.Rul.column()}}.\n",
       "\\end{Section}\n",
       "%\n",
       "\\begin{SeeAlso}\\relax\n",
       "Other single table verbs: \\code{\\LinkA{arrange}{arrange}},\n",
       "\\code{\\LinkA{filter}{filter}}, \\code{\\LinkA{mutate}{mutate}},\n",
       "\\code{\\LinkA{slice}{slice}}, \\code{\\LinkA{summarise}{summarise}}\n",
       "\\end{SeeAlso}\n",
       "%\n",
       "\\begin{Examples}\n",
       "\\begin{ExampleCode}\n",
       "iris <- as_tibble(iris) # so it prints a little nicer\n",
       "select(iris, starts_with(\"Petal\"))\n",
       "select(iris, ends_with(\"Width\"))\n",
       "\n",
       "# Move Species variable to the front\n",
       "select(iris, Species, everything())\n",
       "\n",
       "df <- as.data.frame(matrix(runif(100), nrow = 10))\n",
       "df <- tbl_df(df[c(3, 4, 7, 1, 9, 8, 5, 2, 6, 10)])\n",
       "select(df, V4:V6)\n",
       "select(df, num_range(\"V\", 4:6))\n",
       "\n",
       "# Drop variables with -\n",
       "select(iris, -starts_with(\"Petal\"))\n",
       "\n",
       "\n",
       "# The .data pronoun is available:\n",
       "select(mtcars, .data$cyl)\n",
       "select(mtcars, .data$mpg : .data$disp)\n",
       "\n",
       "# However it isn't available within calls since those are evaluated\n",
       "# outside of the data context. This would fail if run:\n",
       "# select(mtcars, identical(.data$cyl))\n",
       "\n",
       "\n",
       "# Renaming -----------------------------------------\n",
       "# * select() keeps only the variables you specify\n",
       "select(iris, petal_length = Petal.Length)\n",
       "\n",
       "# * rename() keeps all variables\n",
       "rename(iris, petal_length = Petal.Length)\n",
       "\n",
       "\n",
       "# Unquoting ----------------------------------------\n",
       "\n",
       "# Like all dplyr verbs, select() supports unquoting of symbols:\n",
       "vars <- list(\n",
       "  var1 = sym(\"cyl\"),\n",
       "  var2 = sym(\"am\")\n",
       ")\n",
       "select(mtcars, !!!vars)\n",
       "\n",
       "# For convenience it also supports strings and character\n",
       "# vectors. This is unlike other verbs where strings would be\n",
       "# ambiguous.\n",
       "vars <- c(var1 = \"cyl\", var2 =\"am\")\n",
       "select(mtcars, !!vars)\n",
       "rename(mtcars, !!vars)\n",
       "\\end{ExampleCode}\n",
       "\\end{Examples}"
      ],
      "text/plain": [
       "select                  package:dplyr                  R Documentation\n",
       "\n",
       "_\bS_\be_\bl_\be_\bc_\bt/_\br_\be_\bn_\ba_\bm_\be _\bv_\ba_\br_\bi_\ba_\bb_\bl_\be_\bs _\bb_\by _\bn_\ba_\bm_\be\n",
       "\n",
       "_\bD_\be_\bs_\bc_\br_\bi_\bp_\bt_\bi_\bo_\bn:\n",
       "\n",
       "     ‘select()’ keeps only the variables you mention; ‘rename()’ keeps\n",
       "     all variables.\n",
       "\n",
       "_\bU_\bs_\ba_\bg_\be:\n",
       "\n",
       "     select(.data, ...)\n",
       "     \n",
       "     rename(.data, ...)\n",
       "     \n",
       "_\bA_\br_\bg_\bu_\bm_\be_\bn_\bt_\bs:\n",
       "\n",
       "   .data: A tbl. All main verbs are S3 generics and provide methods for\n",
       "          ‘tbl_df()’, ‘dtplyr::tbl_dt()’ and ‘dbplyr::tbl_dbi()’.\n",
       "\n",
       "     ...: One or more unquoted expressions separated by commas. You can\n",
       "          treat variable names like they are positions.\n",
       "\n",
       "          Positive values select variables; negative values to drop\n",
       "          variables. If the first expression is negative, ‘select()’\n",
       "          will automatically start with all variables.\n",
       "\n",
       "          Use named arguments to rename selected variables.\n",
       "\n",
       "          These arguments are automatically quoted and evaluated in a\n",
       "          context where column names represent column positions. They\n",
       "          support unquoting and splicing. See ‘vignette(\"programming\")’\n",
       "          for an introduction to these concepts.\n",
       "\n",
       "_\bV_\ba_\bl_\bu_\be:\n",
       "\n",
       "     An object of the same class as ‘.data’.\n",
       "\n",
       "_\bU_\bs_\be_\bf_\bu_\bl _\bf_\bu_\bn_\bc_\bt_\bi_\bo_\bn_\bs:\n",
       "\n",
       "     As well as using existing functions like ‘:’ and ‘c()’, there are\n",
       "     a number of special functions that only work inside ‘select’\n",
       "\n",
       "        • ‘starts_with()’, ‘ends_with()’, ‘contains()’\n",
       "\n",
       "        • ‘matches()’\n",
       "\n",
       "        • ‘num_range()’\n",
       "\n",
       "        • ‘one_of()’\n",
       "\n",
       "        • ‘everything()’\n",
       "\n",
       "     To drop variables, use ‘-’.\n",
       "\n",
       "     Note that except for ‘:’, ‘-’ and ‘c()’, all complex expressions\n",
       "     are evaluated outside the data frame context. This is to prevent\n",
       "     accidental matching of data frame variables when you refer to\n",
       "     variables from the calling context.\n",
       "\n",
       "_\bS_\bc_\bo_\bp_\be_\bd _\bs_\be_\bl_\be_\bc_\bt_\bi_\bo_\bn _\ba_\bn_\bd _\br_\be_\bn_\ba_\bm_\bi_\bn_\bg:\n",
       "\n",
       "     The three scoped variants of ‘select()’ (‘select_all()’,\n",
       "     ‘select_if()’ and ‘select_at()’) and the three variants of\n",
       "     ‘rename()’ (‘rename_all()’, ‘rename_if()’, ‘rename_at()’) make it\n",
       "     easy to apply a renaming function to a selection of variables.\n",
       "\n",
       "_\bT_\bi_\bd_\by _\bd_\ba_\bt_\ba:\n",
       "\n",
       "     When applied to a data frame, row names are silently dropped. To\n",
       "     preserve, convert to an explicit variable with\n",
       "     ‘tibble::rownames_to_column()’.\n",
       "\n",
       "_\bS_\be_\be _\bA_\bl_\bs_\bo:\n",
       "\n",
       "     Other single table verbs: ‘arrange’, ‘filter’, ‘mutate’, ‘slice’,\n",
       "     ‘summarise’\n",
       "\n",
       "_\bE_\bx_\ba_\bm_\bp_\bl_\be_\bs:\n",
       "\n",
       "     iris <- as_tibble(iris) # so it prints a little nicer\n",
       "     select(iris, starts_with(\"Petal\"))\n",
       "     select(iris, ends_with(\"Width\"))\n",
       "     \n",
       "     # Move Species variable to the front\n",
       "     select(iris, Species, everything())\n",
       "     \n",
       "     df <- as.data.frame(matrix(runif(100), nrow = 10))\n",
       "     df <- tbl_df(df[c(3, 4, 7, 1, 9, 8, 5, 2, 6, 10)])\n",
       "     select(df, V4:V6)\n",
       "     select(df, num_range(\"V\", 4:6))\n",
       "     \n",
       "     # Drop variables with -\n",
       "     select(iris, -starts_with(\"Petal\"))\n",
       "     \n",
       "     \n",
       "     # The .data pronoun is available:\n",
       "     select(mtcars, .data$cyl)\n",
       "     select(mtcars, .data$mpg : .data$disp)\n",
       "     \n",
       "     # However it isn't available within calls since those are evaluated\n",
       "     # outside of the data context. This would fail if run:\n",
       "     # select(mtcars, identical(.data$cyl))\n",
       "     \n",
       "     \n",
       "     # Renaming -----------------------------------------\n",
       "     # * select() keeps only the variables you specify\n",
       "     select(iris, petal_length = Petal.Length)\n",
       "     \n",
       "     # * rename() keeps all variables\n",
       "     rename(iris, petal_length = Petal.Length)\n",
       "     \n",
       "     \n",
       "     # Unquoting ----------------------------------------\n",
       "     \n",
       "     # Like all dplyr verbs, select() supports unquoting of symbols:\n",
       "     vars <- list(\n",
       "       var1 = sym(\"cyl\"),\n",
       "       var2 = sym(\"am\")\n",
       "     )\n",
       "     select(mtcars, !!!vars)\n",
       "     \n",
       "     # For convenience it also supports strings and character\n",
       "     # vectors. This is unlike other verbs where strings would be\n",
       "     # ambiguous.\n",
       "     vars <- c(var1 = \"cyl\", var2 =\"am\")\n",
       "     select(mtcars, !!vars)\n",
       "     rename(mtcars, !!vars)\n",
       "     "
      ]
     },
     "metadata": {},
     "output_type": "display_data"
    }
   ],
   "source": [
    "?dplyr::select"
   ]
  },
  {
   "cell_type": "markdown",
   "metadata": {},
   "source": [
    "### Exercise: `select()`\n",
    "\n",
    "1. Base on the UF-250 form, select the columns from `stop_df` that the officer could have reasonably filled-out _before_ making the stop"
   ]
  },
  {
   "cell_type": "code",
   "execution_count": 18,
   "metadata": {},
   "outputs": [
    {
     "data": {
      "text/html": [
       "<table>\n",
       "<thead><tr><th></th><th scope=col>id</th><th scope=col>year</th><th scope=col>date</th><th scope=col>time</th><th scope=col>precinct</th><th scope=col>location_housing</th><th scope=col>suspected_crime</th><th scope=col>stop_reason_object</th><th scope=col>stop_reason_desc</th><th scope=col>stop_reason_casing</th><th scope=col>⋯</th><th scope=col>suspect_hispanic</th><th scope=col>suspect_age</th><th scope=col>suspect_height</th><th scope=col>suspect_weight</th><th scope=col>suspect_hair</th><th scope=col>suspect_eye</th><th scope=col>suspect_build</th><th scope=col>officer_uniform</th><th scope=col>officer_verbal</th><th scope=col>officer_shield</th></tr></thead>\n",
       "<tbody>\n",
       "\t<tr><th scope=row>322910</th><td>2686798      </td><td>2010         </td><td>2010-12-17   </td><td>15:15        </td><td>83           </td><td>neither      </td><td>burglary     </td><td>FALSE        </td><td>FALSE        </td><td> TRUE        </td><td>⋯            </td><td> TRUE        </td><td>12           </td><td>5.00         </td><td>130          </td><td>brown        </td><td>brown        </td><td>medium       </td><td>FALSE        </td><td>TRUE         </td><td>TRUE         </td></tr>\n",
       "\t<tr><th scope=row>218707</th><td>2075967      </td><td>2009         </td><td>2009-12-08   </td><td>15:19        </td><td>40           </td><td>neither      </td><td>cpw          </td><td>FALSE        </td><td>FALSE        </td><td>FALSE        </td><td>⋯            </td><td>FALSE        </td><td>19           </td><td>6.00         </td><td>170          </td><td>black        </td><td>brown        </td><td>thin         </td><td>FALSE        </td><td>TRUE         </td><td>TRUE         </td></tr>\n",
       "\t<tr><th scope=row>53361</th><td>1268296      </td><td>2008         </td><td>2008-07-12   </td><td>14:45        </td><td>13           </td><td>transit      </td><td>grand larceny</td><td>FALSE        </td><td> TRUE        </td><td> TRUE        </td><td>⋯            </td><td>FALSE        </td><td>47           </td><td>5.83         </td><td>200          </td><td>brown        </td><td>brown        </td><td>medium       </td><td>FALSE        </td><td>TRUE         </td><td>TRUE         </td></tr>\n",
       "\t<tr><th scope=row>⋮</th><td>⋮</td><td>⋮</td><td>⋮</td><td>⋮</td><td>⋮</td><td>⋮</td><td>⋮</td><td>⋮</td><td>⋮</td><td>⋮</td><td>⋱</td><td>⋮</td><td>⋮</td><td>⋮</td><td>⋮</td><td>⋮</td><td>⋮</td><td>⋮</td><td>⋮</td><td>⋮</td><td>⋮</td></tr>\n",
       "\t<tr><th scope=row>99998</th><td>2801672                              </td><td>2011                                 </td><td>2011-02-19                           </td><td>19:01                                </td><td>13                                   </td><td>transit                              </td><td>cpw                                  </td><td>FALSE                                </td><td>FALSE                                </td><td>FALSE                                </td><td>⋯                                    </td><td>FALSE                                </td><td>32                                   </td><td>5.58                                 </td><td>180                                  </td><td>black                                </td><td>brown                                </td><td>thin                                 </td><td>FALSE                                </td><td>TRUE                                 </td><td>TRUE                                 </td></tr>\n",
       "\t<tr><th scope=row>99999</th><td>1595066                              </td><td>2009                                 </td><td>2009-02-09                           </td><td>20:20                                </td><td>60                                   </td><td>neither                              </td><td>criminal sale of controlled substance</td><td>FALSE                                </td><td>FALSE                                </td><td>FALSE                                </td><td>⋯                                    </td><td> TRUE                                </td><td>33                                   </td><td>6.17                                 </td><td>240                                  </td><td>brown                                </td><td>brown                                </td><td>medium                               </td><td>FALSE                                </td><td>TRUE                                 </td><td>TRUE                                 </td></tr>\n",
       "\t<tr><th scope=row>100000</th><td>2419926                              </td><td>2010                                 </td><td>2010-07-01                           </td><td>00:10                                </td><td>50                                   </td><td>transit                              </td><td>grand larceny                        </td><td>FALSE                                </td><td>FALSE                                </td><td> TRUE                                </td><td>⋯                                    </td><td>FALSE                                </td><td>22                                   </td><td>5.92                                 </td><td>180                                  </td><td>black                                </td><td>brown                                </td><td>thin                                 </td><td>FALSE                                </td><td>TRUE                                 </td><td>TRUE                                 </td></tr>\n",
       "</tbody>\n",
       "</table>\n"
      ],
      "text/latex": [
       "\\begin{tabular}{r|lllllllllllllllllllllllllllllll}\n",
       "  & id & year & date & time & precinct & location\\_housing & suspected\\_crime & stop\\_reason\\_object & stop\\_reason\\_desc & stop\\_reason\\_casing & ⋯ & suspect\\_hispanic & suspect\\_age & suspect\\_height & suspect\\_weight & suspect\\_hair & suspect\\_eye & suspect\\_build & officer\\_uniform & officer\\_verbal & officer\\_shield\\\\\n",
       "\\hline\n",
       "\t322910 & 2686798       & 2010          & 2010-12-17    & 15:15         & 83            & neither       & burglary      & FALSE         & FALSE         &  TRUE         & ⋯             &  TRUE         & 12            & 5.00          & 130           & brown         & brown         & medium        & FALSE         & TRUE          & TRUE         \\\\\n",
       "\t218707 & 2075967       & 2009          & 2009-12-08    & 15:19         & 40            & neither       & cpw           & FALSE         & FALSE         & FALSE         & ⋯             & FALSE         & 19            & 6.00          & 170           & black         & brown         & thin          & FALSE         & TRUE          & TRUE         \\\\\n",
       "\t53361 & 1268296       & 2008          & 2008-07-12    & 14:45         & 13            & transit       & grand larceny & FALSE         &  TRUE         &  TRUE         & ⋯             & FALSE         & 47            & 5.83          & 200           & brown         & brown         & medium        & FALSE         & TRUE          & TRUE         \\\\\n",
       "\t⋮ & ⋮ & ⋮ & ⋮ & ⋮ & ⋮ & ⋮ & ⋮ & ⋮ & ⋮ & ⋮ & ⋱ & ⋮ & ⋮ & ⋮ & ⋮ & ⋮ & ⋮ & ⋮ & ⋮ & ⋮ & ⋮\\\\\n",
       "\t99998 & 2801672                               & 2011                                  & 2011-02-19                            & 19:01                                 & 13                                    & transit                               & cpw                                   & FALSE                                 & FALSE                                 & FALSE                                 & ⋯                                     & FALSE                                 & 32                                    & 5.58                                  & 180                                   & black                                 & brown                                 & thin                                  & FALSE                                 & TRUE                                  & TRUE                                 \\\\\n",
       "\t99999 & 1595066                               & 2009                                  & 2009-02-09                            & 20:20                                 & 60                                    & neither                               & criminal sale of controlled substance & FALSE                                 & FALSE                                 & FALSE                                 & ⋯                                     &  TRUE                                 & 33                                    & 6.17                                  & 240                                   & brown                                 & brown                                 & medium                                & FALSE                                 & TRUE                                  & TRUE                                 \\\\\n",
       "\t100000 & 2419926                               & 2010                                  & 2010-07-01                            & 00:10                                 & 50                                    & transit                               & grand larceny                         & FALSE                                 & FALSE                                 &  TRUE                                 & ⋯                                     & FALSE                                 & 22                                    & 5.92                                  & 180                                   & black                                 & brown                                 & thin                                  & FALSE                                 & TRUE                                  & TRUE                                 \\\\\n",
       "\\end{tabular}\n"
      ],
      "text/plain": [
       "       id      year date       time  precinct location_housing\n",
       "322910 2686798 2010 2010-12-17 15:15 83       neither         \n",
       "218707 2075967 2009 2009-12-08 15:19 40       neither         \n",
       "53361  1268296 2008 2008-07-12 14:45 13       transit         \n",
       "⋮      ⋮       ⋮    ⋮          ⋮     ⋮        ⋮               \n",
       "99998  2801672 2011 2011-02-19 19:01 13       transit         \n",
       "99999  1595066 2009 2009-02-09 20:20 60       neither         \n",
       "100000 2419926 2010 2010-07-01 00:10 50       transit         \n",
       "       suspected_crime                       stop_reason_object\n",
       "322910 burglary                              FALSE             \n",
       "218707 cpw                                   FALSE             \n",
       "53361  grand larceny                         FALSE             \n",
       "⋮      ⋮                                     ⋮                 \n",
       "99998  cpw                                   FALSE             \n",
       "99999  criminal sale of controlled substance FALSE             \n",
       "100000 grand larceny                         FALSE             \n",
       "       stop_reason_desc stop_reason_casing ⋯ suspect_hispanic suspect_age\n",
       "322910 FALSE             TRUE              ⋯  TRUE            12         \n",
       "218707 FALSE            FALSE              ⋯ FALSE            19         \n",
       "53361   TRUE             TRUE              ⋯ FALSE            47         \n",
       "⋮      ⋮                ⋮                  ⋱ ⋮                ⋮          \n",
       "99998  FALSE            FALSE              ⋯ FALSE            32         \n",
       "99999  FALSE            FALSE              ⋯  TRUE            33         \n",
       "100000 FALSE             TRUE              ⋯ FALSE            22         \n",
       "       suspect_height suspect_weight suspect_hair suspect_eye suspect_build\n",
       "322910 5.00           130            brown        brown       medium       \n",
       "218707 6.00           170            black        brown       thin         \n",
       "53361  5.83           200            brown        brown       medium       \n",
       "⋮      ⋮              ⋮              ⋮            ⋮           ⋮            \n",
       "99998  5.58           180            black        brown       thin         \n",
       "99999  6.17           240            brown        brown       medium       \n",
       "100000 5.92           180            black        brown       thin         \n",
       "       officer_uniform officer_verbal officer_shield\n",
       "322910 FALSE           TRUE           TRUE          \n",
       "218707 FALSE           TRUE           TRUE          \n",
       "53361  FALSE           TRUE           TRUE          \n",
       "⋮      ⋮               ⋮              ⋮             \n",
       "99998  FALSE           TRUE           TRUE          \n",
       "99999  FALSE           TRUE           TRUE          \n",
       "100000 FALSE           TRUE           TRUE          "
      ]
     },
     "metadata": {},
     "output_type": "display_data"
    }
   ],
   "source": [
    "# WRITE CODE HERE\n",
    "# START solution\n",
    "# 1. \n",
    "select(stop_df, \n",
    "       # Base information regarding stop:\n",
    "       id, year, date, time, precinct, location_housing, suspected_crime,\n",
    "       # Columns specifying stop reason:\n",
    "       starts_with(\"stop_reason_\"),\n",
    "       # Suspect demographics:\n",
    "       starts_with(\"suspect_\"),\n",
    "       # Officer information:\n",
    "       starts_with(\"officer_\"))\n",
    "# END solution"
   ]
  },
  {
   "cell_type": "markdown",
   "metadata": {},
   "source": [
    "### Create new columns (3/5)\n",
    "\n",
    "Use `mutate(df, ...)` to create new columns, usually as a function of existing columns.\n",
    "\n",
    "Suppose we wish to create a column called `is_cpw`, indicating whether the `suspected_crime` for each stop was `cpw` or not.\n",
    "We would write,"
   ]
  },
  {
   "cell_type": "code",
   "execution_count": 19,
   "metadata": {},
   "outputs": [
    {
     "data": {
      "text/html": [
       "<table>\n",
       "<thead><tr><th scope=col>id</th><th scope=col>year</th><th scope=col>date</th><th scope=col>time</th><th scope=col>precinct</th><th scope=col>location_housing</th><th scope=col>suspected_crime</th><th scope=col>stop_reason_object</th><th scope=col>stop_reason_desc</th><th scope=col>stop_reason_casing</th><th scope=col>⋯</th><th scope=col>found_assault</th><th scope=col>found_knife</th><th scope=col>found_machinegun</th><th scope=col>found_other</th><th scope=col>found_gun</th><th scope=col>found_contraband</th><th scope=col>extra_reports</th><th scope=col>hour</th><th scope=col>month</th><th scope=col>is_cpw</th></tr></thead>\n",
       "<tbody>\n",
       "\t<tr><td>2686798      </td><td>2010         </td><td>2010-12-17   </td><td>15:15        </td><td>83           </td><td>neither      </td><td>burglary     </td><td>FALSE        </td><td>FALSE        </td><td> TRUE        </td><td>⋯            </td><td>FALSE        </td><td>FALSE        </td><td>FALSE        </td><td>FALSE        </td><td>FALSE        </td><td>FALSE        </td><td>FALSE        </td><td>15           </td><td>12           </td><td>FALSE        </td></tr>\n",
       "\t<tr><td>2075967      </td><td>2009         </td><td>2009-12-08   </td><td>15:19        </td><td>40           </td><td>neither      </td><td>cpw          </td><td>FALSE        </td><td>FALSE        </td><td>FALSE        </td><td>⋯            </td><td>FALSE        </td><td>FALSE        </td><td>FALSE        </td><td>FALSE        </td><td> TRUE        </td><td>FALSE        </td><td>FALSE        </td><td>15           </td><td>12           </td><td> TRUE        </td></tr>\n",
       "\t<tr><td>1268296      </td><td>2008         </td><td>2008-07-12   </td><td>14:45        </td><td>13           </td><td>transit      </td><td>grand larceny</td><td>FALSE        </td><td> TRUE        </td><td> TRUE        </td><td>⋯            </td><td>FALSE        </td><td>FALSE        </td><td>FALSE        </td><td>FALSE        </td><td>FALSE        </td><td>FALSE        </td><td>FALSE        </td><td>14           </td><td> 7           </td><td>FALSE        </td></tr>\n",
       "\t<tr><td>⋮</td><td>⋮</td><td>⋮</td><td>⋮</td><td>⋮</td><td>⋮</td><td>⋮</td><td>⋮</td><td>⋮</td><td>⋮</td><td>⋱</td><td>⋮</td><td>⋮</td><td>⋮</td><td>⋮</td><td>⋮</td><td>⋮</td><td>⋮</td><td>⋮</td><td>⋮</td><td>⋮</td></tr>\n",
       "\t<tr><td>2801672                              </td><td>2011                                 </td><td>2011-02-19                           </td><td>19:01                                </td><td>13                                   </td><td>transit                              </td><td>cpw                                  </td><td>FALSE                                </td><td>FALSE                                </td><td>FALSE                                </td><td>⋯                                    </td><td>FALSE                                </td><td> TRUE                                </td><td>FALSE                                </td><td>FALSE                                </td><td>FALSE                                </td><td>FALSE                                </td><td>FALSE                                </td><td>19                                   </td><td>2                                    </td><td> TRUE                                </td></tr>\n",
       "\t<tr><td>1595066                              </td><td>2009                                 </td><td>2009-02-09                           </td><td>20:20                                </td><td>60                                   </td><td>neither                              </td><td>criminal sale of controlled substance</td><td>FALSE                                </td><td>FALSE                                </td><td>FALSE                                </td><td>⋯                                    </td><td>FALSE                                </td><td>FALSE                                </td><td>FALSE                                </td><td>FALSE                                </td><td>FALSE                                </td><td>FALSE                                </td><td>FALSE                                </td><td>20                                   </td><td>2                                    </td><td>FALSE                                </td></tr>\n",
       "\t<tr><td>2419926                              </td><td>2010                                 </td><td>2010-07-01                           </td><td>00:10                                </td><td>50                                   </td><td>transit                              </td><td>grand larceny                        </td><td>FALSE                                </td><td>FALSE                                </td><td> TRUE                                </td><td>⋯                                    </td><td>FALSE                                </td><td>FALSE                                </td><td>FALSE                                </td><td>FALSE                                </td><td>FALSE                                </td><td>FALSE                                </td><td>FALSE                                </td><td> 0                                   </td><td>7                                    </td><td>FALSE                                </td></tr>\n",
       "</tbody>\n",
       "</table>\n"
      ],
      "text/latex": [
       "\\begin{tabular}{r|llllllllllllllllllllllllllllllllllllllllllllllllllllllllllllllllllllllllllllllllll}\n",
       " id & year & date & time & precinct & location\\_housing & suspected\\_crime & stop\\_reason\\_object & stop\\_reason\\_desc & stop\\_reason\\_casing & ⋯ & found\\_assault & found\\_knife & found\\_machinegun & found\\_other & found\\_gun & found\\_contraband & extra\\_reports & hour & month & is\\_cpw\\\\\n",
       "\\hline\n",
       "\t 2686798       & 2010          & 2010-12-17    & 15:15         & 83            & neither       & burglary      & FALSE         & FALSE         &  TRUE         & ⋯             & FALSE         & FALSE         & FALSE         & FALSE         & FALSE         & FALSE         & FALSE         & 15            & 12            & FALSE        \\\\\n",
       "\t 2075967       & 2009          & 2009-12-08    & 15:19         & 40            & neither       & cpw           & FALSE         & FALSE         & FALSE         & ⋯             & FALSE         & FALSE         & FALSE         & FALSE         &  TRUE         & FALSE         & FALSE         & 15            & 12            &  TRUE        \\\\\n",
       "\t 1268296       & 2008          & 2008-07-12    & 14:45         & 13            & transit       & grand larceny & FALSE         &  TRUE         &  TRUE         & ⋯             & FALSE         & FALSE         & FALSE         & FALSE         & FALSE         & FALSE         & FALSE         & 14            &  7            & FALSE        \\\\\n",
       "\t ⋮ & ⋮ & ⋮ & ⋮ & ⋮ & ⋮ & ⋮ & ⋮ & ⋮ & ⋮ & ⋱ & ⋮ & ⋮ & ⋮ & ⋮ & ⋮ & ⋮ & ⋮ & ⋮ & ⋮ & ⋮\\\\\n",
       "\t 2801672                               & 2011                                  & 2011-02-19                            & 19:01                                 & 13                                    & transit                               & cpw                                   & FALSE                                 & FALSE                                 & FALSE                                 & ⋯                                     & FALSE                                 &  TRUE                                 & FALSE                                 & FALSE                                 & FALSE                                 & FALSE                                 & FALSE                                 & 19                                    & 2                                     &  TRUE                                \\\\\n",
       "\t 1595066                               & 2009                                  & 2009-02-09                            & 20:20                                 & 60                                    & neither                               & criminal sale of controlled substance & FALSE                                 & FALSE                                 & FALSE                                 & ⋯                                     & FALSE                                 & FALSE                                 & FALSE                                 & FALSE                                 & FALSE                                 & FALSE                                 & FALSE                                 & 20                                    & 2                                     & FALSE                                \\\\\n",
       "\t 2419926                               & 2010                                  & 2010-07-01                            & 00:10                                 & 50                                    & transit                               & grand larceny                         & FALSE                                 & FALSE                                 &  TRUE                                 & ⋯                                     & FALSE                                 & FALSE                                 & FALSE                                 & FALSE                                 & FALSE                                 & FALSE                                 & FALSE                                 &  0                                    & 7                                     & FALSE                                \\\\\n",
       "\\end{tabular}\n"
      ],
      "text/plain": [
       "       id      year date       time  precinct location_housing\n",
       "1      2686798 2010 2010-12-17 15:15 83       neither         \n",
       "2      2075967 2009 2009-12-08 15:19 40       neither         \n",
       "3      1268296 2008 2008-07-12 14:45 13       transit         \n",
       "⋮      ⋮       ⋮    ⋮          ⋮     ⋮        ⋮               \n",
       "99998  2801672 2011 2011-02-19 19:01 13       transit         \n",
       "99999  1595066 2009 2009-02-09 20:20 60       neither         \n",
       "100000 2419926 2010 2010-07-01 00:10 50       transit         \n",
       "       suspected_crime                       stop_reason_object\n",
       "1      burglary                              FALSE             \n",
       "2      cpw                                   FALSE             \n",
       "3      grand larceny                         FALSE             \n",
       "⋮      ⋮                                     ⋮                 \n",
       "99998  cpw                                   FALSE             \n",
       "99999  criminal sale of controlled substance FALSE             \n",
       "100000 grand larceny                         FALSE             \n",
       "       stop_reason_desc stop_reason_casing ⋯ found_assault found_knife\n",
       "1      FALSE             TRUE              ⋯ FALSE         FALSE      \n",
       "2      FALSE            FALSE              ⋯ FALSE         FALSE      \n",
       "3       TRUE             TRUE              ⋯ FALSE         FALSE      \n",
       "⋮      ⋮                ⋮                  ⋱ ⋮             ⋮          \n",
       "99998  FALSE            FALSE              ⋯ FALSE          TRUE      \n",
       "99999  FALSE            FALSE              ⋯ FALSE         FALSE      \n",
       "100000 FALSE             TRUE              ⋯ FALSE         FALSE      \n",
       "       found_machinegun found_other found_gun found_contraband extra_reports\n",
       "1      FALSE            FALSE       FALSE     FALSE            FALSE        \n",
       "2      FALSE            FALSE        TRUE     FALSE            FALSE        \n",
       "3      FALSE            FALSE       FALSE     FALSE            FALSE        \n",
       "⋮      ⋮                ⋮           ⋮         ⋮                ⋮            \n",
       "99998  FALSE            FALSE       FALSE     FALSE            FALSE        \n",
       "99999  FALSE            FALSE       FALSE     FALSE            FALSE        \n",
       "100000 FALSE            FALSE       FALSE     FALSE            FALSE        \n",
       "       hour month is_cpw\n",
       "1      15   12    FALSE \n",
       "2      15   12     TRUE \n",
       "3      14    7    FALSE \n",
       "⋮      ⋮    ⋮     ⋮     \n",
       "99998  19   2      TRUE \n",
       "99999  20   2     FALSE \n",
       "100000  0   7     FALSE "
      ]
     },
     "metadata": {},
     "output_type": "display_data"
    }
   ],
   "source": [
    "mutate(stop_df, is_cpw = (suspected_crime == \"cpw\"))\n",
    "# Note that the new column will be the very last column in the data frame"
   ]
  },
  {
   "cell_type": "markdown",
   "metadata": {},
   "source": [
    "Within a single `mutate()` function, you can refer to the new columns you've created in the previous argument.\n",
    "\n",
    "One, probably useless, yet illustrative example would be computing BMI for each pedestrian who was stopped.\n",
    "\n",
    "Recall that\n",
    "\n",
    "$$ \\mathrm{BMI} = \\frac{\\mathrm{weight~(kg)}}{\\mathrm{height~(m)}^2}, $$\n",
    "\n",
    "where weight is in kilograms and height is in meters. \n",
    "\n",
    "However, in our data, it seems that weight is in pounds and height is in feet.\n",
    "Hence we must\n",
    "\n",
    "1. convert weight in pounds to weight in kilogram (by multiplying 0.45)\n",
    "1. convert height in feet to height in meters (by multiplying 0.31)\n",
    "1. find the square of height in meters\n",
    "1. compute weight in kilogram divided by square of height in meters"
   ]
  },
  {
   "cell_type": "code",
   "execution_count": 20,
   "metadata": {},
   "outputs": [
    {
     "data": {
      "text/html": [
       "<table>\n",
       "<thead><tr><th scope=col>id</th><th scope=col>year</th><th scope=col>date</th><th scope=col>time</th><th scope=col>precinct</th><th scope=col>location_housing</th><th scope=col>suspected_crime</th><th scope=col>stop_reason_object</th><th scope=col>stop_reason_desc</th><th scope=col>stop_reason_casing</th><th scope=col>⋯</th><th scope=col>found_other</th><th scope=col>found_gun</th><th scope=col>found_contraband</th><th scope=col>extra_reports</th><th scope=col>hour</th><th scope=col>month</th><th scope=col>weight_kg</th><th scope=col>height_m</th><th scope=col>height_sq</th><th scope=col>BMI</th></tr></thead>\n",
       "<tbody>\n",
       "\t<tr><td>2686798      </td><td>2010         </td><td>2010-12-17   </td><td>15:15        </td><td>83           </td><td>neither      </td><td>burglary     </td><td>FALSE        </td><td>FALSE        </td><td> TRUE        </td><td>⋯            </td><td>FALSE        </td><td>FALSE        </td><td>FALSE        </td><td>FALSE        </td><td>15           </td><td>12           </td><td>58.5         </td><td>1.55         </td><td>2.40         </td><td>24.3         </td></tr>\n",
       "\t<tr><td>2075967      </td><td>2009         </td><td>2009-12-08   </td><td>15:19        </td><td>40           </td><td>neither      </td><td>cpw          </td><td>FALSE        </td><td>FALSE        </td><td>FALSE        </td><td>⋯            </td><td>FALSE        </td><td> TRUE        </td><td>FALSE        </td><td>FALSE        </td><td>15           </td><td>12           </td><td>76.5         </td><td>1.86         </td><td>3.46         </td><td>22.1         </td></tr>\n",
       "\t<tr><td>1268296      </td><td>2008         </td><td>2008-07-12   </td><td>14:45        </td><td>13           </td><td>transit      </td><td>grand larceny</td><td>FALSE        </td><td> TRUE        </td><td> TRUE        </td><td>⋯            </td><td>FALSE        </td><td>FALSE        </td><td>FALSE        </td><td>FALSE        </td><td>14           </td><td> 7           </td><td>90.0         </td><td>1.81         </td><td>3.27         </td><td>27.5         </td></tr>\n",
       "\t<tr><td>⋮</td><td>⋮</td><td>⋮</td><td>⋮</td><td>⋮</td><td>⋮</td><td>⋮</td><td>⋮</td><td>⋮</td><td>⋮</td><td>⋱</td><td>⋮</td><td>⋮</td><td>⋮</td><td>⋮</td><td>⋮</td><td>⋮</td><td>⋮</td><td>⋮</td><td>⋮</td><td>⋮</td></tr>\n",
       "\t<tr><td>2801672                              </td><td>2011                                 </td><td>2011-02-19                           </td><td>19:01                                </td><td>13                                   </td><td>transit                              </td><td>cpw                                  </td><td>FALSE                                </td><td>FALSE                                </td><td>FALSE                                </td><td>⋯                                    </td><td>FALSE                                </td><td>FALSE                                </td><td>FALSE                                </td><td>FALSE                                </td><td>19                                   </td><td>2                                    </td><td> 81                                  </td><td>1.73                                 </td><td>3.00                                 </td><td>27.0                                 </td></tr>\n",
       "\t<tr><td>1595066                              </td><td>2009                                 </td><td>2009-02-09                           </td><td>20:20                                </td><td>60                                   </td><td>neither                              </td><td>criminal sale of controlled substance</td><td>FALSE                                </td><td>FALSE                                </td><td>FALSE                                </td><td>⋯                                    </td><td>FALSE                                </td><td>FALSE                                </td><td>FALSE                                </td><td>FALSE                                </td><td>20                                   </td><td>2                                    </td><td>108                                  </td><td>1.91                                 </td><td>3.65                                 </td><td>29.6                                 </td></tr>\n",
       "\t<tr><td>2419926                              </td><td>2010                                 </td><td>2010-07-01                           </td><td>00:10                                </td><td>50                                   </td><td>transit                              </td><td>grand larceny                        </td><td>FALSE                                </td><td>FALSE                                </td><td> TRUE                                </td><td>⋯                                    </td><td>FALSE                                </td><td>FALSE                                </td><td>FALSE                                </td><td>FALSE                                </td><td> 0                                   </td><td>7                                    </td><td> 81                                  </td><td>1.83                                 </td><td>3.36                                 </td><td>24.1                                 </td></tr>\n",
       "</tbody>\n",
       "</table>\n"
      ],
      "text/latex": [
       "\\begin{tabular}{r|lllllllllllllllllllllllllllllllllllllllllllllllllllllllllllllllllllllllllllllllllllll}\n",
       " id & year & date & time & precinct & location\\_housing & suspected\\_crime & stop\\_reason\\_object & stop\\_reason\\_desc & stop\\_reason\\_casing & ⋯ & found\\_other & found\\_gun & found\\_contraband & extra\\_reports & hour & month & weight\\_kg & height\\_m & height\\_sq & BMI\\\\\n",
       "\\hline\n",
       "\t 2686798       & 2010          & 2010-12-17    & 15:15         & 83            & neither       & burglary      & FALSE         & FALSE         &  TRUE         & ⋯             & FALSE         & FALSE         & FALSE         & FALSE         & 15            & 12            & 58.5          & 1.55          & 2.40          & 24.3         \\\\\n",
       "\t 2075967       & 2009          & 2009-12-08    & 15:19         & 40            & neither       & cpw           & FALSE         & FALSE         & FALSE         & ⋯             & FALSE         &  TRUE         & FALSE         & FALSE         & 15            & 12            & 76.5          & 1.86          & 3.46          & 22.1         \\\\\n",
       "\t 1268296       & 2008          & 2008-07-12    & 14:45         & 13            & transit       & grand larceny & FALSE         &  TRUE         &  TRUE         & ⋯             & FALSE         & FALSE         & FALSE         & FALSE         & 14            &  7            & 90.0          & 1.81          & 3.27          & 27.5         \\\\\n",
       "\t ⋮ & ⋮ & ⋮ & ⋮ & ⋮ & ⋮ & ⋮ & ⋮ & ⋮ & ⋮ & ⋱ & ⋮ & ⋮ & ⋮ & ⋮ & ⋮ & ⋮ & ⋮ & ⋮ & ⋮ & ⋮\\\\\n",
       "\t 2801672                               & 2011                                  & 2011-02-19                            & 19:01                                 & 13                                    & transit                               & cpw                                   & FALSE                                 & FALSE                                 & FALSE                                 & ⋯                                     & FALSE                                 & FALSE                                 & FALSE                                 & FALSE                                 & 19                                    & 2                                     &  81                                   & 1.73                                  & 3.00                                  & 27.0                                 \\\\\n",
       "\t 1595066                               & 2009                                  & 2009-02-09                            & 20:20                                 & 60                                    & neither                               & criminal sale of controlled substance & FALSE                                 & FALSE                                 & FALSE                                 & ⋯                                     & FALSE                                 & FALSE                                 & FALSE                                 & FALSE                                 & 20                                    & 2                                     & 108                                   & 1.91                                  & 3.65                                  & 29.6                                 \\\\\n",
       "\t 2419926                               & 2010                                  & 2010-07-01                            & 00:10                                 & 50                                    & transit                               & grand larceny                         & FALSE                                 & FALSE                                 &  TRUE                                 & ⋯                                     & FALSE                                 & FALSE                                 & FALSE                                 & FALSE                                 &  0                                    & 7                                     &  81                                   & 1.83                                  & 3.36                                  & 24.1                                 \\\\\n",
       "\\end{tabular}\n"
      ],
      "text/plain": [
       "       id      year date       time  precinct location_housing\n",
       "1      2686798 2010 2010-12-17 15:15 83       neither         \n",
       "2      2075967 2009 2009-12-08 15:19 40       neither         \n",
       "3      1268296 2008 2008-07-12 14:45 13       transit         \n",
       "⋮      ⋮       ⋮    ⋮          ⋮     ⋮        ⋮               \n",
       "99998  2801672 2011 2011-02-19 19:01 13       transit         \n",
       "99999  1595066 2009 2009-02-09 20:20 60       neither         \n",
       "100000 2419926 2010 2010-07-01 00:10 50       transit         \n",
       "       suspected_crime                       stop_reason_object\n",
       "1      burglary                              FALSE             \n",
       "2      cpw                                   FALSE             \n",
       "3      grand larceny                         FALSE             \n",
       "⋮      ⋮                                     ⋮                 \n",
       "99998  cpw                                   FALSE             \n",
       "99999  criminal sale of controlled substance FALSE             \n",
       "100000 grand larceny                         FALSE             \n",
       "       stop_reason_desc stop_reason_casing ⋯ found_other found_gun\n",
       "1      FALSE             TRUE              ⋯ FALSE       FALSE    \n",
       "2      FALSE            FALSE              ⋯ FALSE        TRUE    \n",
       "3       TRUE             TRUE              ⋯ FALSE       FALSE    \n",
       "⋮      ⋮                ⋮                  ⋱ ⋮           ⋮        \n",
       "99998  FALSE            FALSE              ⋯ FALSE       FALSE    \n",
       "99999  FALSE            FALSE              ⋯ FALSE       FALSE    \n",
       "100000 FALSE             TRUE              ⋯ FALSE       FALSE    \n",
       "       found_contraband extra_reports hour month weight_kg height_m height_sq\n",
       "1      FALSE            FALSE         15   12    58.5      1.55     2.40     \n",
       "2      FALSE            FALSE         15   12    76.5      1.86     3.46     \n",
       "3      FALSE            FALSE         14    7    90.0      1.81     3.27     \n",
       "⋮      ⋮                ⋮             ⋮    ⋮     ⋮         ⋮        ⋮        \n",
       "99998  FALSE            FALSE         19   2      81       1.73     3.00     \n",
       "99999  FALSE            FALSE         20   2     108       1.91     3.65     \n",
       "100000 FALSE            FALSE          0   7      81       1.83     3.36     \n",
       "       BMI \n",
       "1      24.3\n",
       "2      22.1\n",
       "3      27.5\n",
       "⋮      ⋮   \n",
       "99998  27.0\n",
       "99999  29.6\n",
       "100000 24.1"
      ]
     },
     "metadata": {},
     "output_type": "display_data"
    }
   ],
   "source": [
    "mutate(stop_df,\n",
    "       weight_kg = suspect_weight * .45,\n",
    "       height_m = suspect_height * .31,\n",
    "       height_sq = height_m^2,\n",
    "       BMI = weight_kg / height_sq)"
   ]
  },
  {
   "cell_type": "markdown",
   "metadata": {},
   "source": [
    "### Exercise: `mutate()`\n",
    "\n",
    "1. Create a column, named `am_pm`, indicating whether the stop occurred in the morning (prior to 12) or not.\n",
    "    * This can be created either as a logical column (`TRUE`/`FALSE`), or\n",
    "    * by using `if_else` to create a character column of `\"am\"`/`\"pm\"`"
   ]
  },
  {
   "cell_type": "code",
   "execution_count": 21,
   "metadata": {},
   "outputs": [
    {
     "data": {
      "text/html": [
       "<table>\n",
       "<thead><tr><th scope=col>id</th><th scope=col>year</th><th scope=col>date</th><th scope=col>time</th><th scope=col>precinct</th><th scope=col>location_housing</th><th scope=col>suspected_crime</th><th scope=col>stop_reason_object</th><th scope=col>stop_reason_desc</th><th scope=col>stop_reason_casing</th><th scope=col>⋯</th><th scope=col>found_assault</th><th scope=col>found_knife</th><th scope=col>found_machinegun</th><th scope=col>found_other</th><th scope=col>found_gun</th><th scope=col>found_contraband</th><th scope=col>extra_reports</th><th scope=col>hour</th><th scope=col>month</th><th scope=col>am_pm</th></tr></thead>\n",
       "<tbody>\n",
       "\t<tr><td>2686798      </td><td>2010         </td><td>2010-12-17   </td><td>15:15        </td><td>83           </td><td>neither      </td><td>burglary     </td><td>FALSE        </td><td>FALSE        </td><td> TRUE        </td><td>⋯            </td><td>FALSE        </td><td>FALSE        </td><td>FALSE        </td><td>FALSE        </td><td>FALSE        </td><td>FALSE        </td><td>FALSE        </td><td>15           </td><td>12           </td><td>FALSE        </td></tr>\n",
       "\t<tr><td>2075967      </td><td>2009         </td><td>2009-12-08   </td><td>15:19        </td><td>40           </td><td>neither      </td><td>cpw          </td><td>FALSE        </td><td>FALSE        </td><td>FALSE        </td><td>⋯            </td><td>FALSE        </td><td>FALSE        </td><td>FALSE        </td><td>FALSE        </td><td> TRUE        </td><td>FALSE        </td><td>FALSE        </td><td>15           </td><td>12           </td><td>FALSE        </td></tr>\n",
       "\t<tr><td>1268296      </td><td>2008         </td><td>2008-07-12   </td><td>14:45        </td><td>13           </td><td>transit      </td><td>grand larceny</td><td>FALSE        </td><td> TRUE        </td><td> TRUE        </td><td>⋯            </td><td>FALSE        </td><td>FALSE        </td><td>FALSE        </td><td>FALSE        </td><td>FALSE        </td><td>FALSE        </td><td>FALSE        </td><td>14           </td><td> 7           </td><td>FALSE        </td></tr>\n",
       "\t<tr><td>⋮</td><td>⋮</td><td>⋮</td><td>⋮</td><td>⋮</td><td>⋮</td><td>⋮</td><td>⋮</td><td>⋮</td><td>⋮</td><td>⋱</td><td>⋮</td><td>⋮</td><td>⋮</td><td>⋮</td><td>⋮</td><td>⋮</td><td>⋮</td><td>⋮</td><td>⋮</td><td>⋮</td></tr>\n",
       "\t<tr><td>2801672                              </td><td>2011                                 </td><td>2011-02-19                           </td><td>19:01                                </td><td>13                                   </td><td>transit                              </td><td>cpw                                  </td><td>FALSE                                </td><td>FALSE                                </td><td>FALSE                                </td><td>⋯                                    </td><td>FALSE                                </td><td> TRUE                                </td><td>FALSE                                </td><td>FALSE                                </td><td>FALSE                                </td><td>FALSE                                </td><td>FALSE                                </td><td>19                                   </td><td>2                                    </td><td>FALSE                                </td></tr>\n",
       "\t<tr><td>1595066                              </td><td>2009                                 </td><td>2009-02-09                           </td><td>20:20                                </td><td>60                                   </td><td>neither                              </td><td>criminal sale of controlled substance</td><td>FALSE                                </td><td>FALSE                                </td><td>FALSE                                </td><td>⋯                                    </td><td>FALSE                                </td><td>FALSE                                </td><td>FALSE                                </td><td>FALSE                                </td><td>FALSE                                </td><td>FALSE                                </td><td>FALSE                                </td><td>20                                   </td><td>2                                    </td><td>FALSE                                </td></tr>\n",
       "\t<tr><td>2419926                              </td><td>2010                                 </td><td>2010-07-01                           </td><td>00:10                                </td><td>50                                   </td><td>transit                              </td><td>grand larceny                        </td><td>FALSE                                </td><td>FALSE                                </td><td> TRUE                                </td><td>⋯                                    </td><td>FALSE                                </td><td>FALSE                                </td><td>FALSE                                </td><td>FALSE                                </td><td>FALSE                                </td><td>FALSE                                </td><td>FALSE                                </td><td> 0                                   </td><td>7                                    </td><td> TRUE                                </td></tr>\n",
       "</tbody>\n",
       "</table>\n"
      ],
      "text/latex": [
       "\\begin{tabular}{r|llllllllllllllllllllllllllllllllllllllllllllllllllllllllllllllllllllllllllllllllll}\n",
       " id & year & date & time & precinct & location\\_housing & suspected\\_crime & stop\\_reason\\_object & stop\\_reason\\_desc & stop\\_reason\\_casing & ⋯ & found\\_assault & found\\_knife & found\\_machinegun & found\\_other & found\\_gun & found\\_contraband & extra\\_reports & hour & month & am\\_pm\\\\\n",
       "\\hline\n",
       "\t 2686798       & 2010          & 2010-12-17    & 15:15         & 83            & neither       & burglary      & FALSE         & FALSE         &  TRUE         & ⋯             & FALSE         & FALSE         & FALSE         & FALSE         & FALSE         & FALSE         & FALSE         & 15            & 12            & FALSE        \\\\\n",
       "\t 2075967       & 2009          & 2009-12-08    & 15:19         & 40            & neither       & cpw           & FALSE         & FALSE         & FALSE         & ⋯             & FALSE         & FALSE         & FALSE         & FALSE         &  TRUE         & FALSE         & FALSE         & 15            & 12            & FALSE        \\\\\n",
       "\t 1268296       & 2008          & 2008-07-12    & 14:45         & 13            & transit       & grand larceny & FALSE         &  TRUE         &  TRUE         & ⋯             & FALSE         & FALSE         & FALSE         & FALSE         & FALSE         & FALSE         & FALSE         & 14            &  7            & FALSE        \\\\\n",
       "\t ⋮ & ⋮ & ⋮ & ⋮ & ⋮ & ⋮ & ⋮ & ⋮ & ⋮ & ⋮ & ⋱ & ⋮ & ⋮ & ⋮ & ⋮ & ⋮ & ⋮ & ⋮ & ⋮ & ⋮ & ⋮\\\\\n",
       "\t 2801672                               & 2011                                  & 2011-02-19                            & 19:01                                 & 13                                    & transit                               & cpw                                   & FALSE                                 & FALSE                                 & FALSE                                 & ⋯                                     & FALSE                                 &  TRUE                                 & FALSE                                 & FALSE                                 & FALSE                                 & FALSE                                 & FALSE                                 & 19                                    & 2                                     & FALSE                                \\\\\n",
       "\t 1595066                               & 2009                                  & 2009-02-09                            & 20:20                                 & 60                                    & neither                               & criminal sale of controlled substance & FALSE                                 & FALSE                                 & FALSE                                 & ⋯                                     & FALSE                                 & FALSE                                 & FALSE                                 & FALSE                                 & FALSE                                 & FALSE                                 & FALSE                                 & 20                                    & 2                                     & FALSE                                \\\\\n",
       "\t 2419926                               & 2010                                  & 2010-07-01                            & 00:10                                 & 50                                    & transit                               & grand larceny                         & FALSE                                 & FALSE                                 &  TRUE                                 & ⋯                                     & FALSE                                 & FALSE                                 & FALSE                                 & FALSE                                 & FALSE                                 & FALSE                                 & FALSE                                 &  0                                    & 7                                     &  TRUE                                \\\\\n",
       "\\end{tabular}\n"
      ],
      "text/plain": [
       "       id      year date       time  precinct location_housing\n",
       "1      2686798 2010 2010-12-17 15:15 83       neither         \n",
       "2      2075967 2009 2009-12-08 15:19 40       neither         \n",
       "3      1268296 2008 2008-07-12 14:45 13       transit         \n",
       "⋮      ⋮       ⋮    ⋮          ⋮     ⋮        ⋮               \n",
       "99998  2801672 2011 2011-02-19 19:01 13       transit         \n",
       "99999  1595066 2009 2009-02-09 20:20 60       neither         \n",
       "100000 2419926 2010 2010-07-01 00:10 50       transit         \n",
       "       suspected_crime                       stop_reason_object\n",
       "1      burglary                              FALSE             \n",
       "2      cpw                                   FALSE             \n",
       "3      grand larceny                         FALSE             \n",
       "⋮      ⋮                                     ⋮                 \n",
       "99998  cpw                                   FALSE             \n",
       "99999  criminal sale of controlled substance FALSE             \n",
       "100000 grand larceny                         FALSE             \n",
       "       stop_reason_desc stop_reason_casing ⋯ found_assault found_knife\n",
       "1      FALSE             TRUE              ⋯ FALSE         FALSE      \n",
       "2      FALSE            FALSE              ⋯ FALSE         FALSE      \n",
       "3       TRUE             TRUE              ⋯ FALSE         FALSE      \n",
       "⋮      ⋮                ⋮                  ⋱ ⋮             ⋮          \n",
       "99998  FALSE            FALSE              ⋯ FALSE          TRUE      \n",
       "99999  FALSE            FALSE              ⋯ FALSE         FALSE      \n",
       "100000 FALSE             TRUE              ⋯ FALSE         FALSE      \n",
       "       found_machinegun found_other found_gun found_contraband extra_reports\n",
       "1      FALSE            FALSE       FALSE     FALSE            FALSE        \n",
       "2      FALSE            FALSE        TRUE     FALSE            FALSE        \n",
       "3      FALSE            FALSE       FALSE     FALSE            FALSE        \n",
       "⋮      ⋮                ⋮           ⋮         ⋮                ⋮            \n",
       "99998  FALSE            FALSE       FALSE     FALSE            FALSE        \n",
       "99999  FALSE            FALSE       FALSE     FALSE            FALSE        \n",
       "100000 FALSE            FALSE       FALSE     FALSE            FALSE        \n",
       "       hour month am_pm\n",
       "1      15   12    FALSE\n",
       "2      15   12    FALSE\n",
       "3      14    7    FALSE\n",
       "⋮      ⋮    ⋮     ⋮    \n",
       "99998  19   2     FALSE\n",
       "99999  20   2     FALSE\n",
       "100000  0   7      TRUE"
      ]
     },
     "metadata": {},
     "output_type": "display_data"
    },
    {
     "data": {
      "text/html": [
       "<table>\n",
       "<thead><tr><th scope=col>id</th><th scope=col>year</th><th scope=col>date</th><th scope=col>time</th><th scope=col>precinct</th><th scope=col>location_housing</th><th scope=col>suspected_crime</th><th scope=col>stop_reason_object</th><th scope=col>stop_reason_desc</th><th scope=col>stop_reason_casing</th><th scope=col>⋯</th><th scope=col>found_assault</th><th scope=col>found_knife</th><th scope=col>found_machinegun</th><th scope=col>found_other</th><th scope=col>found_gun</th><th scope=col>found_contraband</th><th scope=col>extra_reports</th><th scope=col>hour</th><th scope=col>month</th><th scope=col>am_pm</th></tr></thead>\n",
       "<tbody>\n",
       "\t<tr><td>2686798      </td><td>2010         </td><td>2010-12-17   </td><td>15:15        </td><td>83           </td><td>neither      </td><td>burglary     </td><td>FALSE        </td><td>FALSE        </td><td> TRUE        </td><td>⋯            </td><td>FALSE        </td><td>FALSE        </td><td>FALSE        </td><td>FALSE        </td><td>FALSE        </td><td>FALSE        </td><td>FALSE        </td><td>15           </td><td>12           </td><td>pm           </td></tr>\n",
       "\t<tr><td>2075967      </td><td>2009         </td><td>2009-12-08   </td><td>15:19        </td><td>40           </td><td>neither      </td><td>cpw          </td><td>FALSE        </td><td>FALSE        </td><td>FALSE        </td><td>⋯            </td><td>FALSE        </td><td>FALSE        </td><td>FALSE        </td><td>FALSE        </td><td> TRUE        </td><td>FALSE        </td><td>FALSE        </td><td>15           </td><td>12           </td><td>pm           </td></tr>\n",
       "\t<tr><td>1268296      </td><td>2008         </td><td>2008-07-12   </td><td>14:45        </td><td>13           </td><td>transit      </td><td>grand larceny</td><td>FALSE        </td><td> TRUE        </td><td> TRUE        </td><td>⋯            </td><td>FALSE        </td><td>FALSE        </td><td>FALSE        </td><td>FALSE        </td><td>FALSE        </td><td>FALSE        </td><td>FALSE        </td><td>14           </td><td> 7           </td><td>pm           </td></tr>\n",
       "\t<tr><td>⋮</td><td>⋮</td><td>⋮</td><td>⋮</td><td>⋮</td><td>⋮</td><td>⋮</td><td>⋮</td><td>⋮</td><td>⋮</td><td>⋱</td><td>⋮</td><td>⋮</td><td>⋮</td><td>⋮</td><td>⋮</td><td>⋮</td><td>⋮</td><td>⋮</td><td>⋮</td><td>⋮</td></tr>\n",
       "\t<tr><td>2801672                              </td><td>2011                                 </td><td>2011-02-19                           </td><td>19:01                                </td><td>13                                   </td><td>transit                              </td><td>cpw                                  </td><td>FALSE                                </td><td>FALSE                                </td><td>FALSE                                </td><td>⋯                                    </td><td>FALSE                                </td><td> TRUE                                </td><td>FALSE                                </td><td>FALSE                                </td><td>FALSE                                </td><td>FALSE                                </td><td>FALSE                                </td><td>19                                   </td><td>2                                    </td><td>pm                                   </td></tr>\n",
       "\t<tr><td>1595066                              </td><td>2009                                 </td><td>2009-02-09                           </td><td>20:20                                </td><td>60                                   </td><td>neither                              </td><td>criminal sale of controlled substance</td><td>FALSE                                </td><td>FALSE                                </td><td>FALSE                                </td><td>⋯                                    </td><td>FALSE                                </td><td>FALSE                                </td><td>FALSE                                </td><td>FALSE                                </td><td>FALSE                                </td><td>FALSE                                </td><td>FALSE                                </td><td>20                                   </td><td>2                                    </td><td>pm                                   </td></tr>\n",
       "\t<tr><td>2419926                              </td><td>2010                                 </td><td>2010-07-01                           </td><td>00:10                                </td><td>50                                   </td><td>transit                              </td><td>grand larceny                        </td><td>FALSE                                </td><td>FALSE                                </td><td> TRUE                                </td><td>⋯                                    </td><td>FALSE                                </td><td>FALSE                                </td><td>FALSE                                </td><td>FALSE                                </td><td>FALSE                                </td><td>FALSE                                </td><td>FALSE                                </td><td> 0                                   </td><td>7                                    </td><td>am                                   </td></tr>\n",
       "</tbody>\n",
       "</table>\n"
      ],
      "text/latex": [
       "\\begin{tabular}{r|llllllllllllllllllllllllllllllllllllllllllllllllllllllllllllllllllllllllllllllllll}\n",
       " id & year & date & time & precinct & location\\_housing & suspected\\_crime & stop\\_reason\\_object & stop\\_reason\\_desc & stop\\_reason\\_casing & ⋯ & found\\_assault & found\\_knife & found\\_machinegun & found\\_other & found\\_gun & found\\_contraband & extra\\_reports & hour & month & am\\_pm\\\\\n",
       "\\hline\n",
       "\t 2686798       & 2010          & 2010-12-17    & 15:15         & 83            & neither       & burglary      & FALSE         & FALSE         &  TRUE         & ⋯             & FALSE         & FALSE         & FALSE         & FALSE         & FALSE         & FALSE         & FALSE         & 15            & 12            & pm           \\\\\n",
       "\t 2075967       & 2009          & 2009-12-08    & 15:19         & 40            & neither       & cpw           & FALSE         & FALSE         & FALSE         & ⋯             & FALSE         & FALSE         & FALSE         & FALSE         &  TRUE         & FALSE         & FALSE         & 15            & 12            & pm           \\\\\n",
       "\t 1268296       & 2008          & 2008-07-12    & 14:45         & 13            & transit       & grand larceny & FALSE         &  TRUE         &  TRUE         & ⋯             & FALSE         & FALSE         & FALSE         & FALSE         & FALSE         & FALSE         & FALSE         & 14            &  7            & pm           \\\\\n",
       "\t ⋮ & ⋮ & ⋮ & ⋮ & ⋮ & ⋮ & ⋮ & ⋮ & ⋮ & ⋮ & ⋱ & ⋮ & ⋮ & ⋮ & ⋮ & ⋮ & ⋮ & ⋮ & ⋮ & ⋮ & ⋮\\\\\n",
       "\t 2801672                               & 2011                                  & 2011-02-19                            & 19:01                                 & 13                                    & transit                               & cpw                                   & FALSE                                 & FALSE                                 & FALSE                                 & ⋯                                     & FALSE                                 &  TRUE                                 & FALSE                                 & FALSE                                 & FALSE                                 & FALSE                                 & FALSE                                 & 19                                    & 2                                     & pm                                   \\\\\n",
       "\t 1595066                               & 2009                                  & 2009-02-09                            & 20:20                                 & 60                                    & neither                               & criminal sale of controlled substance & FALSE                                 & FALSE                                 & FALSE                                 & ⋯                                     & FALSE                                 & FALSE                                 & FALSE                                 & FALSE                                 & FALSE                                 & FALSE                                 & FALSE                                 & 20                                    & 2                                     & pm                                   \\\\\n",
       "\t 2419926                               & 2010                                  & 2010-07-01                            & 00:10                                 & 50                                    & transit                               & grand larceny                         & FALSE                                 & FALSE                                 &  TRUE                                 & ⋯                                     & FALSE                                 & FALSE                                 & FALSE                                 & FALSE                                 & FALSE                                 & FALSE                                 & FALSE                                 &  0                                    & 7                                     & am                                   \\\\\n",
       "\\end{tabular}\n"
      ],
      "text/plain": [
       "       id      year date       time  precinct location_housing\n",
       "1      2686798 2010 2010-12-17 15:15 83       neither         \n",
       "2      2075967 2009 2009-12-08 15:19 40       neither         \n",
       "3      1268296 2008 2008-07-12 14:45 13       transit         \n",
       "⋮      ⋮       ⋮    ⋮          ⋮     ⋮        ⋮               \n",
       "99998  2801672 2011 2011-02-19 19:01 13       transit         \n",
       "99999  1595066 2009 2009-02-09 20:20 60       neither         \n",
       "100000 2419926 2010 2010-07-01 00:10 50       transit         \n",
       "       suspected_crime                       stop_reason_object\n",
       "1      burglary                              FALSE             \n",
       "2      cpw                                   FALSE             \n",
       "3      grand larceny                         FALSE             \n",
       "⋮      ⋮                                     ⋮                 \n",
       "99998  cpw                                   FALSE             \n",
       "99999  criminal sale of controlled substance FALSE             \n",
       "100000 grand larceny                         FALSE             \n",
       "       stop_reason_desc stop_reason_casing ⋯ found_assault found_knife\n",
       "1      FALSE             TRUE              ⋯ FALSE         FALSE      \n",
       "2      FALSE            FALSE              ⋯ FALSE         FALSE      \n",
       "3       TRUE             TRUE              ⋯ FALSE         FALSE      \n",
       "⋮      ⋮                ⋮                  ⋱ ⋮             ⋮          \n",
       "99998  FALSE            FALSE              ⋯ FALSE          TRUE      \n",
       "99999  FALSE            FALSE              ⋯ FALSE         FALSE      \n",
       "100000 FALSE             TRUE              ⋯ FALSE         FALSE      \n",
       "       found_machinegun found_other found_gun found_contraband extra_reports\n",
       "1      FALSE            FALSE       FALSE     FALSE            FALSE        \n",
       "2      FALSE            FALSE        TRUE     FALSE            FALSE        \n",
       "3      FALSE            FALSE       FALSE     FALSE            FALSE        \n",
       "⋮      ⋮                ⋮           ⋮         ⋮                ⋮            \n",
       "99998  FALSE            FALSE       FALSE     FALSE            FALSE        \n",
       "99999  FALSE            FALSE       FALSE     FALSE            FALSE        \n",
       "100000 FALSE            FALSE       FALSE     FALSE            FALSE        \n",
       "       hour month am_pm\n",
       "1      15   12    pm   \n",
       "2      15   12    pm   \n",
       "3      14    7    pm   \n",
       "⋮      ⋮    ⋮     ⋮    \n",
       "99998  19   2     pm   \n",
       "99999  20   2     pm   \n",
       "100000  0   7     am   "
      ]
     },
     "metadata": {},
     "output_type": "display_data"
    }
   ],
   "source": [
    "# WRITE CODE HERE\n",
    "# START solution\n",
    "# 1. a. as a logical column\n",
    "mutate(stop_df, am_pm = hour < 12)\n",
    "\n",
    "# 1. b. as a character column\n",
    "mutate(stop_df, am_pm = if_else(hour < 12, \"am\", \"pm\"))\n",
    "# END solution"
   ]
  },
  {
   "cell_type": "markdown",
   "metadata": {},
   "source": [
    "### Sorting (4/5)\n",
    "\n",
    "Use `arrange(df, ...)` to reorder the rows of a data frame by the value of specified columns.\n",
    "Multiple conditions are arranged from left to right."
   ]
  },
  {
   "cell_type": "code",
   "execution_count": 22,
   "metadata": {},
   "outputs": [
    {
     "data": {
      "text/html": [
       "<table>\n",
       "<thead><tr><th scope=col>id</th><th scope=col>year</th><th scope=col>date</th><th scope=col>time</th><th scope=col>precinct</th><th scope=col>location_housing</th><th scope=col>suspected_crime</th><th scope=col>stop_reason_object</th><th scope=col>stop_reason_desc</th><th scope=col>stop_reason_casing</th><th scope=col>⋯</th><th scope=col>found_rifle</th><th scope=col>found_assault</th><th scope=col>found_knife</th><th scope=col>found_machinegun</th><th scope=col>found_other</th><th scope=col>found_gun</th><th scope=col>found_contraband</th><th scope=col>extra_reports</th><th scope=col>hour</th><th scope=col>month</th></tr></thead>\n",
       "<tbody>\n",
       "\t<tr><td>978699           </td><td>2008             </td><td>2008-01-01       </td><td>00:01            </td><td>62               </td><td>neither          </td><td>criminal trespass</td><td>FALSE            </td><td>FALSE            </td><td>FALSE            </td><td>⋯                </td><td>FALSE            </td><td>FALSE            </td><td>FALSE            </td><td>FALSE            </td><td>FALSE            </td><td>FALSE            </td><td>FALSE            </td><td>FALSE            </td><td>0                </td><td>1                </td></tr>\n",
       "\t<tr><td>978703           </td><td>2008             </td><td>2008-01-01       </td><td>00:01            </td><td>62               </td><td>neither          </td><td>burglary         </td><td>FALSE            </td><td> TRUE            </td><td> TRUE            </td><td>⋯                </td><td>FALSE            </td><td>FALSE            </td><td>FALSE            </td><td>FALSE            </td><td>FALSE            </td><td>FALSE            </td><td>FALSE            </td><td>FALSE            </td><td>0                </td><td>1                </td></tr>\n",
       "\t<tr><td>978701           </td><td>2008             </td><td>2008-01-01       </td><td>00:01            </td><td>62               </td><td>neither          </td><td>burglary         </td><td>FALSE            </td><td> TRUE            </td><td> TRUE            </td><td>⋯                </td><td>FALSE            </td><td>FALSE            </td><td>FALSE            </td><td>FALSE            </td><td>FALSE            </td><td>FALSE            </td><td>FALSE            </td><td>FALSE            </td><td>0                </td><td>1                </td></tr>\n",
       "\t<tr><td>⋮</td><td>⋮</td><td>⋮</td><td>⋮</td><td>⋮</td><td>⋮</td><td>⋮</td><td>⋮</td><td>⋮</td><td>⋮</td><td>⋱</td><td>⋮</td><td>⋮</td><td>⋮</td><td>⋮</td><td>⋮</td><td>⋮</td><td>⋮</td><td>⋮</td><td>⋮</td><td>⋮</td></tr>\n",
       "\t<tr><td>3386837   </td><td>2011      </td><td>2011-12-31</td><td>22:15     </td><td>25        </td><td>neither   </td><td>cpw       </td><td>FALSE     </td><td>FALSE     </td><td>FALSE     </td><td>⋯         </td><td>FALSE     </td><td>FALSE     </td><td>FALSE     </td><td>FALSE     </td><td>FALSE     </td><td>FALSE     </td><td>FALSE     </td><td>FALSE     </td><td>22        </td><td>12        </td></tr>\n",
       "\t<tr><td>3386846   </td><td>2011      </td><td>2011-12-31</td><td>22:20     </td><td>90        </td><td>neither   </td><td>cpw       </td><td>FALSE     </td><td>FALSE     </td><td>FALSE     </td><td>⋯         </td><td>FALSE     </td><td>FALSE     </td><td>FALSE     </td><td>FALSE     </td><td>FALSE     </td><td>FALSE     </td><td>FALSE     </td><td>FALSE     </td><td>22        </td><td>12        </td></tr>\n",
       "\t<tr><td>3386938   </td><td>2011      </td><td>2011-12-31</td><td>22:50     </td><td>81        </td><td>neither   </td><td>cpw       </td><td>FALSE     </td><td>FALSE     </td><td>FALSE     </td><td>⋯         </td><td>FALSE     </td><td>FALSE     </td><td>FALSE     </td><td>FALSE     </td><td>FALSE     </td><td>FALSE     </td><td>FALSE     </td><td>FALSE     </td><td>22        </td><td>12        </td></tr>\n",
       "</tbody>\n",
       "</table>\n"
      ],
      "text/latex": [
       "\\begin{tabular}{r|lllllllllllllllllllllllllllllllllllllllllllllllllllllllllllllllllllllllllllllllll}\n",
       " id & year & date & time & precinct & location\\_housing & suspected\\_crime & stop\\_reason\\_object & stop\\_reason\\_desc & stop\\_reason\\_casing & ⋯ & found\\_rifle & found\\_assault & found\\_knife & found\\_machinegun & found\\_other & found\\_gun & found\\_contraband & extra\\_reports & hour & month\\\\\n",
       "\\hline\n",
       "\t 978699            & 2008              & 2008-01-01        & 00:01             & 62                & neither           & criminal trespass & FALSE             & FALSE             & FALSE             & ⋯                 & FALSE             & FALSE             & FALSE             & FALSE             & FALSE             & FALSE             & FALSE             & FALSE             & 0                 & 1                \\\\\n",
       "\t 978703            & 2008              & 2008-01-01        & 00:01             & 62                & neither           & burglary          & FALSE             &  TRUE             &  TRUE             & ⋯                 & FALSE             & FALSE             & FALSE             & FALSE             & FALSE             & FALSE             & FALSE             & FALSE             & 0                 & 1                \\\\\n",
       "\t 978701            & 2008              & 2008-01-01        & 00:01             & 62                & neither           & burglary          & FALSE             &  TRUE             &  TRUE             & ⋯                 & FALSE             & FALSE             & FALSE             & FALSE             & FALSE             & FALSE             & FALSE             & FALSE             & 0                 & 1                \\\\\n",
       "\t ⋮ & ⋮ & ⋮ & ⋮ & ⋮ & ⋮ & ⋮ & ⋮ & ⋮ & ⋮ & ⋱ & ⋮ & ⋮ & ⋮ & ⋮ & ⋮ & ⋮ & ⋮ & ⋮ & ⋮ & ⋮\\\\\n",
       "\t 3386837    & 2011       & 2011-12-31 & 22:15      & 25         & neither    & cpw        & FALSE      & FALSE      & FALSE      & ⋯          & FALSE      & FALSE      & FALSE      & FALSE      & FALSE      & FALSE      & FALSE      & FALSE      & 22         & 12        \\\\\n",
       "\t 3386846    & 2011       & 2011-12-31 & 22:20      & 90         & neither    & cpw        & FALSE      & FALSE      & FALSE      & ⋯          & FALSE      & FALSE      & FALSE      & FALSE      & FALSE      & FALSE      & FALSE      & FALSE      & 22         & 12        \\\\\n",
       "\t 3386938    & 2011       & 2011-12-31 & 22:50      & 81         & neither    & cpw        & FALSE      & FALSE      & FALSE      & ⋯          & FALSE      & FALSE      & FALSE      & FALSE      & FALSE      & FALSE      & FALSE      & FALSE      & 22         & 12        \\\\\n",
       "\\end{tabular}\n"
      ],
      "text/plain": [
       "       id      year date       time  precinct location_housing\n",
       "1      978699  2008 2008-01-01 00:01 62       neither         \n",
       "2      978703  2008 2008-01-01 00:01 62       neither         \n",
       "3      978701  2008 2008-01-01 00:01 62       neither         \n",
       "⋮      ⋮       ⋮    ⋮          ⋮     ⋮        ⋮               \n",
       "99998  3386837 2011 2011-12-31 22:15 25       neither         \n",
       "99999  3386846 2011 2011-12-31 22:20 90       neither         \n",
       "100000 3386938 2011 2011-12-31 22:50 81       neither         \n",
       "       suspected_crime   stop_reason_object stop_reason_desc stop_reason_casing\n",
       "1      criminal trespass FALSE              FALSE            FALSE             \n",
       "2      burglary          FALSE               TRUE             TRUE             \n",
       "3      burglary          FALSE               TRUE             TRUE             \n",
       "⋮      ⋮                 ⋮                  ⋮                ⋮                 \n",
       "99998  cpw               FALSE              FALSE            FALSE             \n",
       "99999  cpw               FALSE              FALSE            FALSE             \n",
       "100000 cpw               FALSE              FALSE            FALSE             \n",
       "       ⋯ found_rifle found_assault found_knife found_machinegun found_other\n",
       "1      ⋯ FALSE       FALSE         FALSE       FALSE            FALSE      \n",
       "2      ⋯ FALSE       FALSE         FALSE       FALSE            FALSE      \n",
       "3      ⋯ FALSE       FALSE         FALSE       FALSE            FALSE      \n",
       "⋮      ⋱ ⋮           ⋮             ⋮           ⋮                ⋮          \n",
       "99998  ⋯ FALSE       FALSE         FALSE       FALSE            FALSE      \n",
       "99999  ⋯ FALSE       FALSE         FALSE       FALSE            FALSE      \n",
       "100000 ⋯ FALSE       FALSE         FALSE       FALSE            FALSE      \n",
       "       found_gun found_contraband extra_reports hour month\n",
       "1      FALSE     FALSE            FALSE         0    1    \n",
       "2      FALSE     FALSE            FALSE         0    1    \n",
       "3      FALSE     FALSE            FALSE         0    1    \n",
       "⋮      ⋮         ⋮                ⋮             ⋮    ⋮    \n",
       "99998  FALSE     FALSE            FALSE         22   12   \n",
       "99999  FALSE     FALSE            FALSE         22   12   \n",
       "100000 FALSE     FALSE            FALSE         22   12   "
      ]
     },
     "metadata": {},
     "output_type": "display_data"
    }
   ],
   "source": [
    "arrange(stop_df, date, time)"
   ]
  },
  {
   "cell_type": "markdown",
   "metadata": {},
   "source": [
    "Use `desc()` around columns that you want to sort in `desc`ending order."
   ]
  },
  {
   "cell_type": "code",
   "execution_count": 23,
   "metadata": {},
   "outputs": [
    {
     "data": {
      "text/html": [
       "<table>\n",
       "<thead><tr><th scope=col>id</th><th scope=col>year</th><th scope=col>date</th><th scope=col>time</th><th scope=col>precinct</th><th scope=col>location_housing</th><th scope=col>suspected_crime</th><th scope=col>stop_reason_object</th><th scope=col>stop_reason_desc</th><th scope=col>stop_reason_casing</th><th scope=col>⋯</th><th scope=col>found_rifle</th><th scope=col>found_assault</th><th scope=col>found_knife</th><th scope=col>found_machinegun</th><th scope=col>found_other</th><th scope=col>found_gun</th><th scope=col>found_contraband</th><th scope=col>extra_reports</th><th scope=col>hour</th><th scope=col>month</th></tr></thead>\n",
       "<tbody>\n",
       "\t<tr><td>979583    </td><td>2008      </td><td>2008-01-01</td><td>23:30     </td><td>120       </td><td>neither   </td><td>burglary  </td><td>FALSE     </td><td>FALSE     </td><td> TRUE     </td><td>⋯         </td><td>FALSE     </td><td>FALSE     </td><td>FALSE     </td><td>FALSE     </td><td>FALSE     </td><td>FALSE     </td><td>FALSE     </td><td>FALSE     </td><td>23        </td><td>1         </td></tr>\n",
       "\t<tr><td>979558    </td><td>2008      </td><td>2008-01-01</td><td>23:10     </td><td>79        </td><td>neither   </td><td>cpw       </td><td>FALSE     </td><td>FALSE     </td><td>FALSE     </td><td>⋯         </td><td>FALSE     </td><td>FALSE     </td><td>FALSE     </td><td>FALSE     </td><td>FALSE     </td><td>FALSE     </td><td>FALSE     </td><td>FALSE     </td><td>23        </td><td>1         </td></tr>\n",
       "\t<tr><td>979541    </td><td>2008      </td><td>2008-01-01</td><td>23:00     </td><td>79        </td><td>neither   </td><td>other     </td><td>FALSE     </td><td>FALSE     </td><td>FALSE     </td><td>⋯         </td><td>FALSE     </td><td>FALSE     </td><td>FALSE     </td><td>FALSE     </td><td>FALSE     </td><td>FALSE     </td><td>FALSE     </td><td>FALSE     </td><td>23        </td><td>1         </td></tr>\n",
       "\t<tr><td>⋮</td><td>⋮</td><td>⋮</td><td>⋮</td><td>⋮</td><td>⋮</td><td>⋮</td><td>⋮</td><td>⋮</td><td>⋮</td><td>⋱</td><td>⋮</td><td>⋮</td><td>⋮</td><td>⋮</td><td>⋮</td><td>⋮</td><td>⋮</td><td>⋮</td><td>⋮</td><td>⋮</td></tr>\n",
       "\t<tr><td>3385779           </td><td>2011              </td><td>2011-12-31        </td><td>00:45             </td><td>122               </td><td>neither           </td><td>grand larceny auto</td><td>FALSE             </td><td>FALSE             </td><td>FALSE             </td><td>⋯                 </td><td>FALSE             </td><td>FALSE             </td><td>FALSE             </td><td>FALSE             </td><td>FALSE             </td><td>FALSE             </td><td>FALSE             </td><td>FALSE             </td><td>0                 </td><td>12                </td></tr>\n",
       "\t<tr><td>3385769           </td><td>2011              </td><td>2011-12-31        </td><td>00:40             </td><td>115               </td><td>neither           </td><td>grand larceny auto</td><td>FALSE             </td><td>FALSE             </td><td>FALSE             </td><td>⋯                 </td><td>FALSE             </td><td>FALSE             </td><td>FALSE             </td><td>FALSE             </td><td>FALSE             </td><td>FALSE             </td><td>FALSE             </td><td>FALSE             </td><td>0                 </td><td>12                </td></tr>\n",
       "\t<tr><td>3385741           </td><td>2011              </td><td>2011-12-31        </td><td>00:15             </td><td>49                </td><td>neither           </td><td>other             </td><td>FALSE             </td><td>FALSE             </td><td>FALSE             </td><td>⋯                 </td><td>FALSE             </td><td>FALSE             </td><td>FALSE             </td><td>FALSE             </td><td>FALSE             </td><td>FALSE             </td><td>FALSE             </td><td>FALSE             </td><td>0                 </td><td>12                </td></tr>\n",
       "</tbody>\n",
       "</table>\n"
      ],
      "text/latex": [
       "\\begin{tabular}{r|lllllllllllllllllllllllllllllllllllllllllllllllllllllllllllllllllllllllllllllllll}\n",
       " id & year & date & time & precinct & location\\_housing & suspected\\_crime & stop\\_reason\\_object & stop\\_reason\\_desc & stop\\_reason\\_casing & ⋯ & found\\_rifle & found\\_assault & found\\_knife & found\\_machinegun & found\\_other & found\\_gun & found\\_contraband & extra\\_reports & hour & month\\\\\n",
       "\\hline\n",
       "\t 979583     & 2008       & 2008-01-01 & 23:30      & 120        & neither    & burglary   & FALSE      & FALSE      &  TRUE      & ⋯          & FALSE      & FALSE      & FALSE      & FALSE      & FALSE      & FALSE      & FALSE      & FALSE      & 23         & 1         \\\\\n",
       "\t 979558     & 2008       & 2008-01-01 & 23:10      & 79         & neither    & cpw        & FALSE      & FALSE      & FALSE      & ⋯          & FALSE      & FALSE      & FALSE      & FALSE      & FALSE      & FALSE      & FALSE      & FALSE      & 23         & 1         \\\\\n",
       "\t 979541     & 2008       & 2008-01-01 & 23:00      & 79         & neither    & other      & FALSE      & FALSE      & FALSE      & ⋯          & FALSE      & FALSE      & FALSE      & FALSE      & FALSE      & FALSE      & FALSE      & FALSE      & 23         & 1         \\\\\n",
       "\t ⋮ & ⋮ & ⋮ & ⋮ & ⋮ & ⋮ & ⋮ & ⋮ & ⋮ & ⋮ & ⋱ & ⋮ & ⋮ & ⋮ & ⋮ & ⋮ & ⋮ & ⋮ & ⋮ & ⋮ & ⋮\\\\\n",
       "\t 3385779            & 2011               & 2011-12-31         & 00:45              & 122                & neither            & grand larceny auto & FALSE              & FALSE              & FALSE              & ⋯                  & FALSE              & FALSE              & FALSE              & FALSE              & FALSE              & FALSE              & FALSE              & FALSE              & 0                  & 12                \\\\\n",
       "\t 3385769            & 2011               & 2011-12-31         & 00:40              & 115                & neither            & grand larceny auto & FALSE              & FALSE              & FALSE              & ⋯                  & FALSE              & FALSE              & FALSE              & FALSE              & FALSE              & FALSE              & FALSE              & FALSE              & 0                  & 12                \\\\\n",
       "\t 3385741            & 2011               & 2011-12-31         & 00:15              & 49                 & neither            & other              & FALSE              & FALSE              & FALSE              & ⋯                  & FALSE              & FALSE              & FALSE              & FALSE              & FALSE              & FALSE              & FALSE              & FALSE              & 0                  & 12                \\\\\n",
       "\\end{tabular}\n"
      ],
      "text/plain": [
       "       id      year date       time  precinct location_housing\n",
       "1      979583  2008 2008-01-01 23:30 120      neither         \n",
       "2      979558  2008 2008-01-01 23:10 79       neither         \n",
       "3      979541  2008 2008-01-01 23:00 79       neither         \n",
       "⋮      ⋮       ⋮    ⋮          ⋮     ⋮        ⋮               \n",
       "99998  3385779 2011 2011-12-31 00:45 122      neither         \n",
       "99999  3385769 2011 2011-12-31 00:40 115      neither         \n",
       "100000 3385741 2011 2011-12-31 00:15 49       neither         \n",
       "       suspected_crime    stop_reason_object stop_reason_desc\n",
       "1      burglary           FALSE              FALSE           \n",
       "2      cpw                FALSE              FALSE           \n",
       "3      other              FALSE              FALSE           \n",
       "⋮      ⋮                  ⋮                  ⋮               \n",
       "99998  grand larceny auto FALSE              FALSE           \n",
       "99999  grand larceny auto FALSE              FALSE           \n",
       "100000 other              FALSE              FALSE           \n",
       "       stop_reason_casing ⋯ found_rifle found_assault found_knife\n",
       "1       TRUE              ⋯ FALSE       FALSE         FALSE      \n",
       "2      FALSE              ⋯ FALSE       FALSE         FALSE      \n",
       "3      FALSE              ⋯ FALSE       FALSE         FALSE      \n",
       "⋮      ⋮                  ⋱ ⋮           ⋮             ⋮          \n",
       "99998  FALSE              ⋯ FALSE       FALSE         FALSE      \n",
       "99999  FALSE              ⋯ FALSE       FALSE         FALSE      \n",
       "100000 FALSE              ⋯ FALSE       FALSE         FALSE      \n",
       "       found_machinegun found_other found_gun found_contraband extra_reports\n",
       "1      FALSE            FALSE       FALSE     FALSE            FALSE        \n",
       "2      FALSE            FALSE       FALSE     FALSE            FALSE        \n",
       "3      FALSE            FALSE       FALSE     FALSE            FALSE        \n",
       "⋮      ⋮                ⋮           ⋮         ⋮                ⋮            \n",
       "99998  FALSE            FALSE       FALSE     FALSE            FALSE        \n",
       "99999  FALSE            FALSE       FALSE     FALSE            FALSE        \n",
       "100000 FALSE            FALSE       FALSE     FALSE            FALSE        \n",
       "       hour month\n",
       "1      23   1    \n",
       "2      23   1    \n",
       "3      23   1    \n",
       "⋮      ⋮    ⋮    \n",
       "99998  0    12   \n",
       "99999  0    12   \n",
       "100000 0    12   "
      ]
     },
     "metadata": {},
     "output_type": "display_data"
    }
   ],
   "source": [
    "arrange(stop_df, date, desc(time))"
   ]
  },
  {
   "cell_type": "markdown",
   "metadata": {},
   "source": [
    "### Aggregating (5/5)\n",
    "\n",
    "Use `summarize(df, ...)` to aggregate multiple rows into a single row. Unlike `mutate()`, function that are used in `summarize()` must return a single value (i.e., \"aggregate\" the provided vector)\n",
    "\n",
    "For example, to find the min, mean, and max height of all suspects,"
   ]
  },
  {
   "cell_type": "code",
   "execution_count": 24,
   "metadata": {},
   "outputs": [
    {
     "data": {
      "text/html": [
       "<table>\n",
       "<thead><tr><th scope=col>min_height</th><th scope=col>avg_height</th><th scope=col>max_height</th></tr></thead>\n",
       "<tbody>\n",
       "\t<tr><td>3   </td><td>5.74</td><td>7.92</td></tr>\n",
       "</tbody>\n",
       "</table>\n"
      ],
      "text/latex": [
       "\\begin{tabular}{r|lll}\n",
       " min\\_height & avg\\_height & max\\_height\\\\\n",
       "\\hline\n",
       "\t 3    & 5.74 & 7.92\\\\\n",
       "\\end{tabular}\n"
      ],
      "text/plain": [
       "  min_height avg_height max_height\n",
       "1 3          5.74       7.92      "
      ]
     },
     "metadata": {},
     "output_type": "display_data"
    }
   ],
   "source": [
    "summarize(stop_df,\n",
    "          min_height = min(suspect_height),\n",
    "          avg_height = mean(suspect_height),\n",
    "          max_height = max(suspect_height))"
   ]
  },
  {
   "cell_type": "markdown",
   "metadata": {},
   "source": [
    "`dplyr` also provides a special function `n()` which will evaluate to the number of rows within a `dplyr` verb.\n",
    "\n",
    "For example, to count how many stops (rows) there are in total, "
   ]
  },
  {
   "cell_type": "code",
   "execution_count": 25,
   "metadata": {},
   "outputs": [
    {
     "data": {
      "text/html": [
       "<table>\n",
       "<thead><tr><th scope=col>N</th></tr></thead>\n",
       "<tbody>\n",
       "\t<tr><td>100000</td></tr>\n",
       "</tbody>\n",
       "</table>\n"
      ],
      "text/latex": [
       "\\begin{tabular}{r|l}\n",
       " N\\\\\n",
       "\\hline\n",
       "\t 100000\\\\\n",
       "\\end{tabular}\n"
      ],
      "text/plain": [
       "  N     \n",
       "1 100000"
      ]
     },
     "metadata": {},
     "output_type": "display_data"
    }
   ],
   "source": [
    "summarize(stop_df, N = n())"
   ]
  },
  {
   "cell_type": "markdown",
   "metadata": {},
   "source": [
    "### Exercise: `summarize()`\n",
    "\n",
    "For `stop_df`, find \n",
    "\n",
    "* Average `suspect_weight`,\n",
    "* Median `suspect_weight`,\n",
    "* Standard deviation of `suspect_weight`, and\n",
    "* Number of all stops"
   ]
  },
  {
   "cell_type": "code",
   "execution_count": 26,
   "metadata": {},
   "outputs": [
    {
     "data": {
      "text/html": [
       "<table>\n",
       "<thead><tr><th scope=col>avg_weight</th><th scope=col>med_weight</th><th scope=col>sd_weight</th><th scope=col>N</th></tr></thead>\n",
       "<tbody>\n",
       "\t<tr><td>171   </td><td>170   </td><td>29.7  </td><td>100000</td></tr>\n",
       "</tbody>\n",
       "</table>\n"
      ],
      "text/latex": [
       "\\begin{tabular}{r|llll}\n",
       " avg\\_weight & med\\_weight & sd\\_weight & N\\\\\n",
       "\\hline\n",
       "\t 171    & 170    & 29.7   & 100000\\\\\n",
       "\\end{tabular}\n"
      ],
      "text/plain": [
       "  avg_weight med_weight sd_weight N     \n",
       "1 171        170        29.7      100000"
      ]
     },
     "metadata": {},
     "output_type": "display_data"
    }
   ],
   "source": [
    "# WRITE CODE HERE\n",
    "# START solution\n",
    "summarize(stop_df,\n",
    "          avg_weight = mean(suspect_weight),\n",
    "          med_weight = median(suspect_weight),\n",
    "          sd_weight = sd(suspect_weight),\n",
    "          N = n())\n",
    "# END solution"
   ]
  },
  {
   "cell_type": "markdown",
   "metadata": {},
   "source": [
    "### Grouping (Split-apply-combine)\n",
    "\n",
    "Now that we've covered the five core verbs, we should be able to manipulate data to our heart's desires, yes?\n",
    "\n",
    "Then, how about:\n",
    "\n",
    "* The number of stops for each `suspect_race`?\n",
    "* Proportion of stops in each precinct that resulted in recovery of a weapon?\n",
    "* Number of stops for each race by `suspected_crime` type?\n",
    "\n",
    "As an example, let's just consider the number of stops for each `suspect_race`."
   ]
  },
  {
   "cell_type": "markdown",
   "metadata": {},
   "source": [
    "A natural, but _**tedious**_ way to compute this would look something like this:"
   ]
  },
  {
   "cell_type": "code",
   "execution_count": 27,
   "metadata": {},
   "outputs": [
    {
     "data": {
      "text/html": [
       "<dl class=dl-horizontal>\n",
       "\t<dt>white</dt>\n",
       "\t\t<dd>12682</dd>\n",
       "\t<dt>black</dt>\n",
       "\t\t<dd>54806</dd>\n",
       "\t<dt>hispanic</dt>\n",
       "\t\t<dd>32512</dd>\n",
       "</dl>\n"
      ],
      "text/latex": [
       "\\begin{description*}\n",
       "\\item[white] 12682\n",
       "\\item[black] 54806\n",
       "\\item[hispanic] 32512\n",
       "\\end{description*}\n"
      ],
      "text/markdown": [
       "white\n",
       ":   12682black\n",
       ":   54806hispanic\n",
       ":   32512\n",
       "\n"
      ],
      "text/plain": [
       "   white    black hispanic \n",
       "   12682    54806    32512 "
      ]
     },
     "metadata": {},
     "output_type": "display_data"
    }
   ],
   "source": [
    "# NOTE: Code in this cell is intended to be an example of a BAD way to compute this.\n",
    "#       This is purely for illustrative purposes, and should NEVER EVER be re-used, in any context.\n",
    "white_stops <- filter(stop_df, suspect_race == \"white\")\n",
    "black_stops <- filter(stop_df, suspect_race == \"black\")\n",
    "hispanic_stops <- filter(stop_df, suspect_race == \"hispanic\")\n",
    "\n",
    "N_whites <- summarize(white_stops, N = n())\n",
    "N_blacks <- summarize(black_stops, N = n())\n",
    "N_hispanics <- summarize(hispanic_stops, N = n())\n",
    "\n",
    "c(white = N_whites$N, black = N_blacks$N, hispanic = N_hispanics$N)"
   ]
  },
  {
   "cell_type": "markdown",
   "metadata": {},
   "source": [
    "This style of code can easily get out of hand, and would be a nightmare to maintain! \n",
    "(e.g., what happens if we get a new dataset that includes 8 different race categories?)\n",
    "\n",
    "As horrible as the above code is, it is useful in highlighting a common pattern that emerges when manipulating data:\n",
    "\n",
    "1. **Split**: The data are split into smaller pieces of data, according to one (or more) column. \n",
    "   In this case, we've split the data by the `suspect_race` column.\n",
    "1. **Apply**: Some operation is applied to each of the smaller pieces.\n",
    "   In this case, we've simply counted the number of rows of each piece using `summarize()` and `n()`.\n",
    "1. **Combine**: The results of the previous **apply** are combined to some final data structure.\n",
    "   In the above case, for simplicity, we've combinded the result as a vector; but in practice we usually want to keep everything in the form of a data frame."
   ]
  },
  {
   "cell_type": "markdown",
   "metadata": {},
   "source": [
    "This pattern in data manipulation is so common, that there is a `dplyr` verb for it. \n",
    "This is the `group_by` verb.\n",
    "\n",
    "On it's own, `group_by` makes no visible changes to a data frame, other than marking the data frame as being \"grouped\".\n",
    "The difference is only made apparent when we apply some other verb to a grouped data frame.\n",
    "\n",
    "Note that none of the `dplyr` verbs make any changes to the original data frame! This is very intentional. \n",
    "So, for now, we need to save the \"grouped\" data as a new variable for our changes to have effect (but we'll see a more convenient approach to this later)."
   ]
  },
  {
   "cell_type": "code",
   "execution_count": 28,
   "metadata": {},
   "outputs": [
    {
     "data": {
      "text/html": [
       "<table>\n",
       "<thead><tr><th></th><th scope=col>id</th><th scope=col>year</th><th scope=col>date</th><th scope=col>time</th><th scope=col>precinct</th><th scope=col>location_housing</th><th scope=col>suspected_crime</th><th scope=col>stop_reason_object</th><th scope=col>stop_reason_desc</th><th scope=col>stop_reason_casing</th><th scope=col>⋯</th><th scope=col>found_rifle</th><th scope=col>found_assault</th><th scope=col>found_knife</th><th scope=col>found_machinegun</th><th scope=col>found_other</th><th scope=col>found_gun</th><th scope=col>found_contraband</th><th scope=col>extra_reports</th><th scope=col>hour</th><th scope=col>month</th></tr></thead>\n",
       "<tbody>\n",
       "\t<tr><th scope=row>322910</th><td>2686798      </td><td>2010         </td><td>2010-12-17   </td><td>15:15        </td><td>83           </td><td>neither      </td><td>burglary     </td><td>FALSE        </td><td>FALSE        </td><td> TRUE        </td><td>⋯            </td><td>FALSE        </td><td>FALSE        </td><td>FALSE        </td><td>FALSE        </td><td>FALSE        </td><td>FALSE        </td><td>FALSE        </td><td>FALSE        </td><td>15           </td><td>12           </td></tr>\n",
       "\t<tr><th scope=row>218707</th><td>2075967      </td><td>2009         </td><td>2009-12-08   </td><td>15:19        </td><td>40           </td><td>neither      </td><td>cpw          </td><td>FALSE        </td><td>FALSE        </td><td>FALSE        </td><td>⋯            </td><td>FALSE        </td><td>FALSE        </td><td>FALSE        </td><td>FALSE        </td><td>FALSE        </td><td> TRUE        </td><td>FALSE        </td><td>FALSE        </td><td>15           </td><td>12           </td></tr>\n",
       "\t<tr><th scope=row>53361</th><td>1268296      </td><td>2008         </td><td>2008-07-12   </td><td>14:45        </td><td>13           </td><td>transit      </td><td>grand larceny</td><td>FALSE        </td><td> TRUE        </td><td> TRUE        </td><td>⋯            </td><td>FALSE        </td><td>FALSE        </td><td>FALSE        </td><td>FALSE        </td><td>FALSE        </td><td>FALSE        </td><td>FALSE        </td><td>FALSE        </td><td>14           </td><td> 7           </td></tr>\n",
       "\t<tr><th scope=row>⋮</th><td>⋮</td><td>⋮</td><td>⋮</td><td>⋮</td><td>⋮</td><td>⋮</td><td>⋮</td><td>⋮</td><td>⋮</td><td>⋮</td><td>⋱</td><td>⋮</td><td>⋮</td><td>⋮</td><td>⋮</td><td>⋮</td><td>⋮</td><td>⋮</td><td>⋮</td><td>⋮</td><td>⋮</td></tr>\n",
       "\t<tr><th scope=row>99998</th><td>2801672                              </td><td>2011                                 </td><td>2011-02-19                           </td><td>19:01                                </td><td>13                                   </td><td>transit                              </td><td>cpw                                  </td><td>FALSE                                </td><td>FALSE                                </td><td>FALSE                                </td><td>⋯                                    </td><td>FALSE                                </td><td>FALSE                                </td><td> TRUE                                </td><td>FALSE                                </td><td>FALSE                                </td><td>FALSE                                </td><td>FALSE                                </td><td>FALSE                                </td><td>19                                   </td><td>2                                    </td></tr>\n",
       "\t<tr><th scope=row>99999</th><td>1595066                              </td><td>2009                                 </td><td>2009-02-09                           </td><td>20:20                                </td><td>60                                   </td><td>neither                              </td><td>criminal sale of controlled substance</td><td>FALSE                                </td><td>FALSE                                </td><td>FALSE                                </td><td>⋯                                    </td><td>FALSE                                </td><td>FALSE                                </td><td>FALSE                                </td><td>FALSE                                </td><td>FALSE                                </td><td>FALSE                                </td><td>FALSE                                </td><td>FALSE                                </td><td>20                                   </td><td>2                                    </td></tr>\n",
       "\t<tr><th scope=row>100000</th><td>2419926                              </td><td>2010                                 </td><td>2010-07-01                           </td><td>00:10                                </td><td>50                                   </td><td>transit                              </td><td>grand larceny                        </td><td>FALSE                                </td><td>FALSE                                </td><td> TRUE                                </td><td>⋯                                    </td><td>FALSE                                </td><td>FALSE                                </td><td>FALSE                                </td><td>FALSE                                </td><td>FALSE                                </td><td>FALSE                                </td><td>FALSE                                </td><td>FALSE                                </td><td> 0                                   </td><td>7                                    </td></tr>\n",
       "</tbody>\n",
       "</table>\n"
      ],
      "text/latex": [
       "\\begin{tabular}{r|lllllllllllllllllllllllllllllllllllllllllllllllllllllllllllllllllllllllllllllllll}\n",
       "  & id & year & date & time & precinct & location\\_housing & suspected\\_crime & stop\\_reason\\_object & stop\\_reason\\_desc & stop\\_reason\\_casing & ⋯ & found\\_rifle & found\\_assault & found\\_knife & found\\_machinegun & found\\_other & found\\_gun & found\\_contraband & extra\\_reports & hour & month\\\\\n",
       "\\hline\n",
       "\t322910 & 2686798       & 2010          & 2010-12-17    & 15:15         & 83            & neither       & burglary      & FALSE         & FALSE         &  TRUE         & ⋯             & FALSE         & FALSE         & FALSE         & FALSE         & FALSE         & FALSE         & FALSE         & FALSE         & 15            & 12           \\\\\n",
       "\t218707 & 2075967       & 2009          & 2009-12-08    & 15:19         & 40            & neither       & cpw           & FALSE         & FALSE         & FALSE         & ⋯             & FALSE         & FALSE         & FALSE         & FALSE         & FALSE         &  TRUE         & FALSE         & FALSE         & 15            & 12           \\\\\n",
       "\t53361 & 1268296       & 2008          & 2008-07-12    & 14:45         & 13            & transit       & grand larceny & FALSE         &  TRUE         &  TRUE         & ⋯             & FALSE         & FALSE         & FALSE         & FALSE         & FALSE         & FALSE         & FALSE         & FALSE         & 14            &  7           \\\\\n",
       "\t⋮ & ⋮ & ⋮ & ⋮ & ⋮ & ⋮ & ⋮ & ⋮ & ⋮ & ⋮ & ⋮ & ⋱ & ⋮ & ⋮ & ⋮ & ⋮ & ⋮ & ⋮ & ⋮ & ⋮ & ⋮ & ⋮\\\\\n",
       "\t99998 & 2801672                               & 2011                                  & 2011-02-19                            & 19:01                                 & 13                                    & transit                               & cpw                                   & FALSE                                 & FALSE                                 & FALSE                                 & ⋯                                     & FALSE                                 & FALSE                                 &  TRUE                                 & FALSE                                 & FALSE                                 & FALSE                                 & FALSE                                 & FALSE                                 & 19                                    & 2                                    \\\\\n",
       "\t99999 & 1595066                               & 2009                                  & 2009-02-09                            & 20:20                                 & 60                                    & neither                               & criminal sale of controlled substance & FALSE                                 & FALSE                                 & FALSE                                 & ⋯                                     & FALSE                                 & FALSE                                 & FALSE                                 & FALSE                                 & FALSE                                 & FALSE                                 & FALSE                                 & FALSE                                 & 20                                    & 2                                    \\\\\n",
       "\t100000 & 2419926                               & 2010                                  & 2010-07-01                            & 00:10                                 & 50                                    & transit                               & grand larceny                         & FALSE                                 & FALSE                                 &  TRUE                                 & ⋯                                     & FALSE                                 & FALSE                                 & FALSE                                 & FALSE                                 & FALSE                                 & FALSE                                 & FALSE                                 & FALSE                                 &  0                                    & 7                                    \\\\\n",
       "\\end{tabular}\n"
      ],
      "text/plain": [
       "       id      year date       time  precinct location_housing\n",
       "322910 2686798 2010 2010-12-17 15:15 83       neither         \n",
       "218707 2075967 2009 2009-12-08 15:19 40       neither         \n",
       "53361  1268296 2008 2008-07-12 14:45 13       transit         \n",
       "⋮      ⋮       ⋮    ⋮          ⋮     ⋮        ⋮               \n",
       "99998  2801672 2011 2011-02-19 19:01 13       transit         \n",
       "99999  1595066 2009 2009-02-09 20:20 60       neither         \n",
       "100000 2419926 2010 2010-07-01 00:10 50       transit         \n",
       "       suspected_crime                       stop_reason_object\n",
       "322910 burglary                              FALSE             \n",
       "218707 cpw                                   FALSE             \n",
       "53361  grand larceny                         FALSE             \n",
       "⋮      ⋮                                     ⋮                 \n",
       "99998  cpw                                   FALSE             \n",
       "99999  criminal sale of controlled substance FALSE             \n",
       "100000 grand larceny                         FALSE             \n",
       "       stop_reason_desc stop_reason_casing ⋯ found_rifle found_assault\n",
       "322910 FALSE             TRUE              ⋯ FALSE       FALSE        \n",
       "218707 FALSE            FALSE              ⋯ FALSE       FALSE        \n",
       "53361   TRUE             TRUE              ⋯ FALSE       FALSE        \n",
       "⋮      ⋮                ⋮                  ⋱ ⋮           ⋮            \n",
       "99998  FALSE            FALSE              ⋯ FALSE       FALSE        \n",
       "99999  FALSE            FALSE              ⋯ FALSE       FALSE        \n",
       "100000 FALSE             TRUE              ⋯ FALSE       FALSE        \n",
       "       found_knife found_machinegun found_other found_gun found_contraband\n",
       "322910 FALSE       FALSE            FALSE       FALSE     FALSE           \n",
       "218707 FALSE       FALSE            FALSE        TRUE     FALSE           \n",
       "53361  FALSE       FALSE            FALSE       FALSE     FALSE           \n",
       "⋮      ⋮           ⋮                ⋮           ⋮         ⋮               \n",
       "99998   TRUE       FALSE            FALSE       FALSE     FALSE           \n",
       "99999  FALSE       FALSE            FALSE       FALSE     FALSE           \n",
       "100000 FALSE       FALSE            FALSE       FALSE     FALSE           \n",
       "       extra_reports hour month\n",
       "322910 FALSE         15   12   \n",
       "218707 FALSE         15   12   \n",
       "53361  FALSE         14    7   \n",
       "⋮      ⋮             ⋮    ⋮    \n",
       "99998  FALSE         19   2    \n",
       "99999  FALSE         20   2    \n",
       "100000 FALSE          0   7    "
      ]
     },
     "metadata": {},
     "output_type": "display_data"
    },
    {
     "data": {
      "text/html": [
       "<table>\n",
       "<thead><tr><th></th><th scope=col>id</th><th scope=col>year</th><th scope=col>date</th><th scope=col>time</th><th scope=col>precinct</th><th scope=col>location_housing</th><th scope=col>suspected_crime</th><th scope=col>stop_reason_object</th><th scope=col>stop_reason_desc</th><th scope=col>stop_reason_casing</th><th scope=col>⋯</th><th scope=col>found_rifle</th><th scope=col>found_assault</th><th scope=col>found_knife</th><th scope=col>found_machinegun</th><th scope=col>found_other</th><th scope=col>found_gun</th><th scope=col>found_contraband</th><th scope=col>extra_reports</th><th scope=col>hour</th><th scope=col>month</th></tr></thead>\n",
       "<tbody>\n",
       "\t<tr><th scope=row>1</th><td>2686798      </td><td>2010         </td><td>2010-12-17   </td><td>15:15        </td><td>83           </td><td>neither      </td><td>burglary     </td><td>FALSE        </td><td>FALSE        </td><td> TRUE        </td><td>⋯            </td><td>FALSE        </td><td>FALSE        </td><td>FALSE        </td><td>FALSE        </td><td>FALSE        </td><td>FALSE        </td><td>FALSE        </td><td>FALSE        </td><td>15           </td><td>12           </td></tr>\n",
       "\t<tr><th scope=row>2</th><td>2075967      </td><td>2009         </td><td>2009-12-08   </td><td>15:19        </td><td>40           </td><td>neither      </td><td>cpw          </td><td>FALSE        </td><td>FALSE        </td><td>FALSE        </td><td>⋯            </td><td>FALSE        </td><td>FALSE        </td><td>FALSE        </td><td>FALSE        </td><td>FALSE        </td><td> TRUE        </td><td>FALSE        </td><td>FALSE        </td><td>15           </td><td>12           </td></tr>\n",
       "\t<tr><th scope=row>3</th><td>1268296      </td><td>2008         </td><td>2008-07-12   </td><td>14:45        </td><td>13           </td><td>transit      </td><td>grand larceny</td><td>FALSE        </td><td> TRUE        </td><td> TRUE        </td><td>⋯            </td><td>FALSE        </td><td>FALSE        </td><td>FALSE        </td><td>FALSE        </td><td>FALSE        </td><td>FALSE        </td><td>FALSE        </td><td>FALSE        </td><td>14           </td><td> 7           </td></tr>\n",
       "\t<tr><th scope=row>⋮</th><td>⋮</td><td>⋮</td><td>⋮</td><td>⋮</td><td>⋮</td><td>⋮</td><td>⋮</td><td>⋮</td><td>⋮</td><td>⋮</td><td>⋱</td><td>⋮</td><td>⋮</td><td>⋮</td><td>⋮</td><td>⋮</td><td>⋮</td><td>⋮</td><td>⋮</td><td>⋮</td><td>⋮</td></tr>\n",
       "\t<tr><th scope=row>99998</th><td>2801672                              </td><td>2011                                 </td><td>2011-02-19                           </td><td>19:01                                </td><td>13                                   </td><td>transit                              </td><td>cpw                                  </td><td>FALSE                                </td><td>FALSE                                </td><td>FALSE                                </td><td>⋯                                    </td><td>FALSE                                </td><td>FALSE                                </td><td> TRUE                                </td><td>FALSE                                </td><td>FALSE                                </td><td>FALSE                                </td><td>FALSE                                </td><td>FALSE                                </td><td>19                                   </td><td>2                                    </td></tr>\n",
       "\t<tr><th scope=row>99999</th><td>1595066                              </td><td>2009                                 </td><td>2009-02-09                           </td><td>20:20                                </td><td>60                                   </td><td>neither                              </td><td>criminal sale of controlled substance</td><td>FALSE                                </td><td>FALSE                                </td><td>FALSE                                </td><td>⋯                                    </td><td>FALSE                                </td><td>FALSE                                </td><td>FALSE                                </td><td>FALSE                                </td><td>FALSE                                </td><td>FALSE                                </td><td>FALSE                                </td><td>FALSE                                </td><td>20                                   </td><td>2                                    </td></tr>\n",
       "\t<tr><th scope=row>100000</th><td>2419926                              </td><td>2010                                 </td><td>2010-07-01                           </td><td>00:10                                </td><td>50                                   </td><td>transit                              </td><td>grand larceny                        </td><td>FALSE                                </td><td>FALSE                                </td><td> TRUE                                </td><td>⋯                                    </td><td>FALSE                                </td><td>FALSE                                </td><td>FALSE                                </td><td>FALSE                                </td><td>FALSE                                </td><td>FALSE                                </td><td>FALSE                                </td><td>FALSE                                </td><td> 0                                   </td><td>7                                    </td></tr>\n",
       "</tbody>\n",
       "</table>\n"
      ],
      "text/latex": [
       "\\begin{tabular}{r|lllllllllllllllllllllllllllllllllllllllllllllllllllllllllllllllllllllllllllllllll}\n",
       "  & id & year & date & time & precinct & location\\_housing & suspected\\_crime & stop\\_reason\\_object & stop\\_reason\\_desc & stop\\_reason\\_casing & ⋯ & found\\_rifle & found\\_assault & found\\_knife & found\\_machinegun & found\\_other & found\\_gun & found\\_contraband & extra\\_reports & hour & month\\\\\n",
       "\\hline\n",
       "\t1 & 2686798       & 2010          & 2010-12-17    & 15:15         & 83            & neither       & burglary      & FALSE         & FALSE         &  TRUE         & ⋯             & FALSE         & FALSE         & FALSE         & FALSE         & FALSE         & FALSE         & FALSE         & FALSE         & 15            & 12           \\\\\n",
       "\t2 & 2075967       & 2009          & 2009-12-08    & 15:19         & 40            & neither       & cpw           & FALSE         & FALSE         & FALSE         & ⋯             & FALSE         & FALSE         & FALSE         & FALSE         & FALSE         &  TRUE         & FALSE         & FALSE         & 15            & 12           \\\\\n",
       "\t3 & 1268296       & 2008          & 2008-07-12    & 14:45         & 13            & transit       & grand larceny & FALSE         &  TRUE         &  TRUE         & ⋯             & FALSE         & FALSE         & FALSE         & FALSE         & FALSE         & FALSE         & FALSE         & FALSE         & 14            &  7           \\\\\n",
       "\t⋮ & ⋮ & ⋮ & ⋮ & ⋮ & ⋮ & ⋮ & ⋮ & ⋮ & ⋮ & ⋮ & ⋱ & ⋮ & ⋮ & ⋮ & ⋮ & ⋮ & ⋮ & ⋮ & ⋮ & ⋮ & ⋮\\\\\n",
       "\t99998 & 2801672                               & 2011                                  & 2011-02-19                            & 19:01                                 & 13                                    & transit                               & cpw                                   & FALSE                                 & FALSE                                 & FALSE                                 & ⋯                                     & FALSE                                 & FALSE                                 &  TRUE                                 & FALSE                                 & FALSE                                 & FALSE                                 & FALSE                                 & FALSE                                 & 19                                    & 2                                    \\\\\n",
       "\t99999 & 1595066                               & 2009                                  & 2009-02-09                            & 20:20                                 & 60                                    & neither                               & criminal sale of controlled substance & FALSE                                 & FALSE                                 & FALSE                                 & ⋯                                     & FALSE                                 & FALSE                                 & FALSE                                 & FALSE                                 & FALSE                                 & FALSE                                 & FALSE                                 & FALSE                                 & 20                                    & 2                                    \\\\\n",
       "\t100000 & 2419926                               & 2010                                  & 2010-07-01                            & 00:10                                 & 50                                    & transit                               & grand larceny                         & FALSE                                 & FALSE                                 &  TRUE                                 & ⋯                                     & FALSE                                 & FALSE                                 & FALSE                                 & FALSE                                 & FALSE                                 & FALSE                                 & FALSE                                 & FALSE                                 &  0                                    & 7                                    \\\\\n",
       "\\end{tabular}\n"
      ],
      "text/plain": [
       "       id      year date       time  precinct location_housing\n",
       "322910 2686798 2010 2010-12-17 15:15 83       neither         \n",
       "218707 2075967 2009 2009-12-08 15:19 40       neither         \n",
       "53361  1268296 2008 2008-07-12 14:45 13       transit         \n",
       "⋮      ⋮       ⋮    ⋮          ⋮     ⋮        ⋮               \n",
       "99998  2801672 2011 2011-02-19 19:01 13       transit         \n",
       "99999  1595066 2009 2009-02-09 20:20 60       neither         \n",
       "100000 2419926 2010 2010-07-01 00:10 50       transit         \n",
       "       suspected_crime                       stop_reason_object\n",
       "322910 burglary                              FALSE             \n",
       "218707 cpw                                   FALSE             \n",
       "53361  grand larceny                         FALSE             \n",
       "⋮      ⋮                                     ⋮                 \n",
       "99998  cpw                                   FALSE             \n",
       "99999  criminal sale of controlled substance FALSE             \n",
       "100000 grand larceny                         FALSE             \n",
       "       stop_reason_desc stop_reason_casing ⋯ found_rifle found_assault\n",
       "322910 FALSE             TRUE              ⋯ FALSE       FALSE        \n",
       "218707 FALSE            FALSE              ⋯ FALSE       FALSE        \n",
       "53361   TRUE             TRUE              ⋯ FALSE       FALSE        \n",
       "⋮      ⋮                ⋮                  ⋱ ⋮           ⋮            \n",
       "99998  FALSE            FALSE              ⋯ FALSE       FALSE        \n",
       "99999  FALSE            FALSE              ⋯ FALSE       FALSE        \n",
       "100000 FALSE             TRUE              ⋯ FALSE       FALSE        \n",
       "       found_knife found_machinegun found_other found_gun found_contraband\n",
       "322910 FALSE       FALSE            FALSE       FALSE     FALSE           \n",
       "218707 FALSE       FALSE            FALSE        TRUE     FALSE           \n",
       "53361  FALSE       FALSE            FALSE       FALSE     FALSE           \n",
       "⋮      ⋮           ⋮                ⋮           ⋮         ⋮               \n",
       "99998   TRUE       FALSE            FALSE       FALSE     FALSE           \n",
       "99999  FALSE       FALSE            FALSE       FALSE     FALSE           \n",
       "100000 FALSE       FALSE            FALSE       FALSE     FALSE           \n",
       "       extra_reports hour month\n",
       "322910 FALSE         15   12   \n",
       "218707 FALSE         15   12   \n",
       "53361  FALSE         14    7   \n",
       "⋮      ⋮             ⋮    ⋮    \n",
       "99998  FALSE         19   2    \n",
       "99999  FALSE         20   2    \n",
       "100000 FALSE          0   7    "
      ]
     },
     "metadata": {},
     "output_type": "display_data"
    }
   ],
   "source": [
    "stops_by_race <- group_by(stop_df, suspect_race)\n",
    "\n",
    "# Note that the two data frames, on the surface, seem identical.\n",
    "stop_df\n",
    "stops_by_race"
   ]
  },
  {
   "cell_type": "code",
   "execution_count": 29,
   "metadata": {},
   "outputs": [
    {
     "data": {
      "text/html": [
       "<table>\n",
       "<thead><tr><th scope=col>N</th></tr></thead>\n",
       "<tbody>\n",
       "\t<tr><td>100000</td></tr>\n",
       "</tbody>\n",
       "</table>\n"
      ],
      "text/latex": [
       "\\begin{tabular}{r|l}\n",
       " N\\\\\n",
       "\\hline\n",
       "\t 100000\\\\\n",
       "\\end{tabular}\n"
      ],
      "text/plain": [
       "  N     \n",
       "1 100000"
      ]
     },
     "metadata": {},
     "output_type": "display_data"
    }
   ],
   "source": [
    "# But we can see a difference when applying, for example, a summarize\n",
    "summarize(stop_df, N = n())"
   ]
  },
  {
   "cell_type": "code",
   "execution_count": 30,
   "metadata": {},
   "outputs": [
    {
     "data": {
      "text/html": [
       "<table>\n",
       "<thead><tr><th scope=col>suspect_race</th><th scope=col>N</th></tr></thead>\n",
       "<tbody>\n",
       "\t<tr><td>white   </td><td>12682   </td></tr>\n",
       "\t<tr><td>black   </td><td>54806   </td></tr>\n",
       "\t<tr><td>hispanic</td><td>32512   </td></tr>\n",
       "</tbody>\n",
       "</table>\n"
      ],
      "text/latex": [
       "\\begin{tabular}{r|ll}\n",
       " suspect\\_race & N\\\\\n",
       "\\hline\n",
       "\t white    & 12682   \\\\\n",
       "\t black    & 54806   \\\\\n",
       "\t hispanic & 32512   \\\\\n",
       "\\end{tabular}\n"
      ],
      "text/plain": [
       "  suspect_race N    \n",
       "1 white        12682\n",
       "2 black        54806\n",
       "3 hispanic     32512"
      ]
     },
     "metadata": {},
     "output_type": "display_data"
    }
   ],
   "source": [
    "summarize(stops_by_race, N = n())"
   ]
  },
  {
   "cell_type": "markdown",
   "metadata": {},
   "source": [
    "As shown in the simple example above, when a `dplyr` verb is applied to a \"grouped\" data frame,\n",
    "`dplyr` internally **splits**-**applies**-and **combines** the data, finally returning results for\n",
    "_each of the unique values that are found in the columns by which the data frame is grouped_.\n",
    "\n",
    "This can be a lot to process, if it's the first time you've seen this. \n",
    "But once you get used to it (via trying a bunch of manipulation tasks and seeing some more examples), you'll find it extremely convenient and powerful.\n",
    "\n",
    "Let's try answering the other questions we started this section with."
   ]
  },
  {
   "cell_type": "markdown",
   "metadata": {},
   "source": [
    "* Proportion of stops in each precinct that resulted in recovery of a weapon?\n"
   ]
  },
  {
   "cell_type": "code",
   "execution_count": 31,
   "metadata": {},
   "outputs": [
    {
     "data": {
      "text/html": [
       "<table>\n",
       "<thead><tr><th scope=col>precinct</th><th scope=col>prop_weapons_found</th></tr></thead>\n",
       "<tbody>\n",
       "\t<tr><td>1     </td><td>0.0089</td></tr>\n",
       "\t<tr><td>5     </td><td>0.0229</td></tr>\n",
       "\t<tr><td>6     </td><td>0.0126</td></tr>\n",
       "\t<tr><td>⋮</td><td>⋮</td></tr>\n",
       "\t<tr><td>120    </td><td>0.01582</td></tr>\n",
       "\t<tr><td>122    </td><td>0.01205</td></tr>\n",
       "\t<tr><td>123    </td><td>0.00794</td></tr>\n",
       "</tbody>\n",
       "</table>\n"
      ],
      "text/latex": [
       "\\begin{tabular}{r|ll}\n",
       " precinct & prop\\_weapons\\_found\\\\\n",
       "\\hline\n",
       "\t 1      & 0.0089\\\\\n",
       "\t 5      & 0.0229\\\\\n",
       "\t 6      & 0.0126\\\\\n",
       "\t ⋮ & ⋮\\\\\n",
       "\t 120     & 0.01582\\\\\n",
       "\t 122     & 0.01205\\\\\n",
       "\t 123     & 0.00794\\\\\n",
       "\\end{tabular}\n"
      ],
      "text/plain": [
       "   precinct prop_weapons_found\n",
       "1  1        0.0089            \n",
       "2  5        0.0229            \n",
       "3  6        0.0126            \n",
       "⋮  ⋮        ⋮                 \n",
       "74 120      0.01582           \n",
       "75 122      0.01205           \n",
       "76 123      0.00794           "
      ]
     },
     "metadata": {},
     "output_type": "display_data"
    }
   ],
   "source": [
    "stops_by_precinct <- group_by(stop_df, precinct)\n",
    "\n",
    "summarize(stops_by_precinct, \n",
    "          # Note that below, we compute the mean of a logical (TRUE/FALSE) column\n",
    "          #   this is a common \"trick\" used in R to compute proportions, taking advantage of\n",
    "          #   the fact that a TRUE value is equivalent to a 1 and FALSE is equivalent to a 0 in R\n",
    "          prop_weapons_found = mean(found_weapon))"
   ]
  },
  {
   "cell_type": "markdown",
   "metadata": {},
   "source": [
    "* Number of stops for each race by `suspected_crime` type?\n",
    "\n",
    "To find this, we first notice that the data must be split by two columns, `suspect_race` _and_ `suspected_crime`.\n",
    "This is also supported by `group_by`. In fact, you can have as many grouping variables as you'd like, as long as it makes sense in the context."
   ]
  },
  {
   "cell_type": "code",
   "execution_count": 32,
   "metadata": {},
   "outputs": [
    {
     "data": {
      "text/html": [
       "<table>\n",
       "<thead><tr><th scope=col>suspect_race</th><th scope=col>suspected_crime</th><th scope=col>N</th></tr></thead>\n",
       "<tbody>\n",
       "\t<tr><td>white                                     </td><td>burglary                                  </td><td>2793                                      </td></tr>\n",
       "\t<tr><td>white                                     </td><td>cpw                                       </td><td>1482                                      </td></tr>\n",
       "\t<tr><td>white                                     </td><td>criminal possesion of controlled substance</td><td> 585                                      </td></tr>\n",
       "\t<tr><td>⋮</td><td>⋮</td><td>⋮</td></tr>\n",
       "\t<tr><td>hispanic     </td><td>petit larceny</td><td> 881         </td></tr>\n",
       "\t<tr><td>hispanic     </td><td>robbery      </td><td>7331         </td></tr>\n",
       "\t<tr><td>hispanic     </td><td>other        </td><td>3115         </td></tr>\n",
       "</tbody>\n",
       "</table>\n"
      ],
      "text/latex": [
       "\\begin{tabular}{r|lll}\n",
       " suspect\\_race & suspected\\_crime & N\\\\\n",
       "\\hline\n",
       "\t white                                      & burglary                                   & 2793                                      \\\\\n",
       "\t white                                      & cpw                                        & 1482                                      \\\\\n",
       "\t white                                      & criminal possesion of controlled substance &  585                                      \\\\\n",
       "\t ⋮ & ⋮ & ⋮\\\\\n",
       "\t hispanic      & petit larceny &  881         \\\\\n",
       "\t hispanic      & robbery       & 7331         \\\\\n",
       "\t hispanic      & other         & 3115         \\\\\n",
       "\\end{tabular}\n"
      ],
      "text/plain": [
       "   suspect_race suspected_crime                            N   \n",
       "1  white        burglary                                   2793\n",
       "2  white        cpw                                        1482\n",
       "3  white        criminal possesion of controlled substance  585\n",
       "⋮  ⋮            ⋮                                          ⋮   \n",
       "31 hispanic     petit larceny                               881\n",
       "32 hispanic     robbery                                    7331\n",
       "33 hispanic     other                                      3115"
      ]
     },
     "metadata": {},
     "output_type": "display_data"
    }
   ],
   "source": [
    "stops_by_race_and_crime <- group_by(stop_df, suspect_race, suspected_crime)\n",
    "summarize(stops_by_race_and_crime, N = n())"
   ]
  },
  {
   "cell_type": "markdown",
   "metadata": {},
   "source": [
    "### Exercise: `group_by()`\n",
    "\n",
    "For `stop_df`, calculate the proportion of people that are arrested (`arrested`) and frisked (`frisked`) for each race group."
   ]
  },
  {
   "cell_type": "code",
   "execution_count": 33,
   "metadata": {},
   "outputs": [
    {
     "data": {
      "text/html": [
       "<table>\n",
       "<thead><tr><th scope=col>suspect_race</th><th scope=col>arrest_rate</th><th scope=col>frisk_rate</th></tr></thead>\n",
       "<tbody>\n",
       "\t<tr><td>white   </td><td>0.1012  </td><td>0.576   </td></tr>\n",
       "\t<tr><td>black   </td><td>0.0972  </td><td>0.740   </td></tr>\n",
       "\t<tr><td>hispanic</td><td>0.1013  </td><td>0.719   </td></tr>\n",
       "</tbody>\n",
       "</table>\n"
      ],
      "text/latex": [
       "\\begin{tabular}{r|lll}\n",
       " suspect\\_race & arrest\\_rate & frisk\\_rate\\\\\n",
       "\\hline\n",
       "\t white    & 0.1012   & 0.576   \\\\\n",
       "\t black    & 0.0972   & 0.740   \\\\\n",
       "\t hispanic & 0.1013   & 0.719   \\\\\n",
       "\\end{tabular}\n"
      ],
      "text/plain": [
       "  suspect_race arrest_rate frisk_rate\n",
       "1 white        0.1012      0.576     \n",
       "2 black        0.0972      0.740     \n",
       "3 hispanic     0.1013      0.719     "
      ]
     },
     "metadata": {},
     "output_type": "display_data"
    }
   ],
   "source": [
    "# WRITE CODE HERE\n",
    "# START solution\n",
    "race_group <- group_by(stop_df, suspect_race)\n",
    "summarize(race_group, \n",
    "          arrest_rate = mean(arrested),\n",
    "          frisk_rate = mean(frisked)\n",
    "         )\n",
    "# END solution"
   ]
  },
  {
   "cell_type": "markdown",
   "metadata": {},
   "source": [
    "### Multiple (chained) operations\n",
    "\n",
    "As we've breifly seen above, we would often like to apply multiple operations (verbs) to a data frame.\n",
    "However, by design, verbs do not save intermediate changes to the original data frame, so for each operation we would have to assign the result to a new data frame.\n",
    "\n",
    "Even for a reasonable number of operations, this can get quite messy (i.e., we'd end up with so many names and data frames that we only use as intermediate steps).\n",
    "\n",
    "Consider the following query:\n",
    "\n",
    "* For each suspected crime type, what is the proportion of stops for each race group?\n",
    "\n",
    "We can think of finding the answer in multiple steps:\n",
    "\n",
    "1. group by `suspected_crime` and `suspect_race`\n",
    "1. find the number of stops for each of the groups in the previously grouped data frame\n",
    "1. with the computed stops for each crime type/race pair, re-group by only `suspected_crime`\n",
    "1. create a new column which computes the proportion of counts for each row, over the sum of rows\n",
    "\n",
    "Using the current method of saving all intermediate results, the implementation would look something like this:"
   ]
  },
  {
   "cell_type": "code",
   "execution_count": 34,
   "metadata": {},
   "outputs": [
    {
     "data": {
      "text/html": [
       "<table>\n",
       "<thead><tr><th scope=col>suspected_crime</th><th scope=col>suspect_race</th><th scope=col>N</th><th scope=col>prop</th></tr></thead>\n",
       "<tbody>\n",
       "\t<tr><td>burglary</td><td>white   </td><td>2793    </td><td>0.268   </td></tr>\n",
       "\t<tr><td>burglary</td><td>black   </td><td>3584    </td><td>0.344   </td></tr>\n",
       "\t<tr><td>burglary</td><td>hispanic</td><td>4047    </td><td>0.388   </td></tr>\n",
       "\t<tr><td>⋮</td><td>⋮</td><td>⋮</td><td>⋮</td></tr>\n",
       "\t<tr><td>other   </td><td>white   </td><td>1402    </td><td>0.171   </td></tr>\n",
       "\t<tr><td>other   </td><td>black   </td><td>3675    </td><td>0.449   </td></tr>\n",
       "\t<tr><td>other   </td><td>hispanic</td><td>3115    </td><td>0.380   </td></tr>\n",
       "</tbody>\n",
       "</table>\n"
      ],
      "text/latex": [
       "\\begin{tabular}{r|llll}\n",
       " suspected\\_crime & suspect\\_race & N & prop\\\\\n",
       "\\hline\n",
       "\t burglary & white    & 2793     & 0.268   \\\\\n",
       "\t burglary & black    & 3584     & 0.344   \\\\\n",
       "\t burglary & hispanic & 4047     & 0.388   \\\\\n",
       "\t ⋮ & ⋮ & ⋮ & ⋮\\\\\n",
       "\t other    & white    & 1402     & 0.171   \\\\\n",
       "\t other    & black    & 3675     & 0.449   \\\\\n",
       "\t other    & hispanic & 3115     & 0.380   \\\\\n",
       "\\end{tabular}\n"
      ],
      "text/plain": [
       "   suspected_crime suspect_race N    prop \n",
       "1  burglary        white        2793 0.268\n",
       "2  burglary        black        3584 0.344\n",
       "3  burglary        hispanic     4047 0.388\n",
       "⋮  ⋮               ⋮            ⋮    ⋮    \n",
       "31 other           white        1402 0.171\n",
       "32 other           black        3675 0.449\n",
       "33 other           hispanic     3115 0.380"
      ]
     },
     "metadata": {},
     "output_type": "display_data"
    }
   ],
   "source": [
    "# NOTE: Code in this cell is intended to be an example of a BAD implementation.\n",
    "#       While this implementation is acceptable, it is intended for illustrative purposes, \n",
    "#       and is best avoided.\n",
    "stops_by_crime_and_race <- group_by(stop_df, suspected_crime, suspect_race)\n",
    "counts_by_crime_and_race <- summarize(stops_by_crime_and_race, N = n())\n",
    "regroup_by_crime <- group_by(counts_by_crime_and_race, suspected_crime)\n",
    "mutate(regroup_by_crime, prop = N / sum(N))"
   ]
  },
  {
   "cell_type": "markdown",
   "metadata": {},
   "source": [
    "The above code is bad for a multiple reasons. Among others, it's\n",
    "\n",
    "* creating a lot of unnecessary intermediate results that will not be used again\n",
    "* difficult to read, if you don't already know what the end goal is (e.g., you eyes have to wander left-to-right-to-left a few times to see what's going on)\n",
    "\n",
    "A sophisticated, yet quite simple, solution to this problem is the introduction of `%>%`, also called the \"pipe operator\".\n",
    "\n",
    "`%>%` is a _binary operator_ (much like `+` or `-`) which, in words, takes the result of the left-hand side, and uses it as the first argument on the right hand side. \n",
    "This may be confusing at first, but might make more sense in the context of `dplyr` _verbs_. Recall, a _verb_ in `dplyr` is any function that _returns a data frame_ (LHS) and _takes a data frame as its first argument_ (RHS).\n",
    "\n",
    "If further notation is helpful, one could also write the `%>%` as\n",
    "```\n",
    "f(x) %>% g(y) = g(f(x), y)\n",
    "```\n",
    "which, depending on your background, could be clarifying or more confusing.\n",
    "\n",
    "What this means from a practical standpoint, however, is that we no longer need to _save_ intermediate results just to use them in the next verb. \n",
    "Instead, we can use `%>%` to send results from a verb down a \"pipe\" to the next verb.\n",
    "Consider our previous example, which involved four verbs, with three intermediate steps.\n",
    "Using `%>%`, the same result can now be achieved in a (conceptually) single line:"
   ]
  },
  {
   "cell_type": "code",
   "execution_count": 35,
   "metadata": {},
   "outputs": [
    {
     "data": {
      "text/html": [
       "<table>\n",
       "<thead><tr><th scope=col>suspected_crime</th><th scope=col>suspect_race</th><th scope=col>N</th><th scope=col>prop</th></tr></thead>\n",
       "<tbody>\n",
       "\t<tr><td>burglary</td><td>white   </td><td>2793    </td><td>0.268   </td></tr>\n",
       "\t<tr><td>burglary</td><td>black   </td><td>3584    </td><td>0.344   </td></tr>\n",
       "\t<tr><td>burglary</td><td>hispanic</td><td>4047    </td><td>0.388   </td></tr>\n",
       "\t<tr><td>⋮</td><td>⋮</td><td>⋮</td><td>⋮</td></tr>\n",
       "\t<tr><td>other   </td><td>white   </td><td>1402    </td><td>0.171   </td></tr>\n",
       "\t<tr><td>other   </td><td>black   </td><td>3675    </td><td>0.449   </td></tr>\n",
       "\t<tr><td>other   </td><td>hispanic</td><td>3115    </td><td>0.380   </td></tr>\n",
       "</tbody>\n",
       "</table>\n"
      ],
      "text/latex": [
       "\\begin{tabular}{r|llll}\n",
       " suspected\\_crime & suspect\\_race & N & prop\\\\\n",
       "\\hline\n",
       "\t burglary & white    & 2793     & 0.268   \\\\\n",
       "\t burglary & black    & 3584     & 0.344   \\\\\n",
       "\t burglary & hispanic & 4047     & 0.388   \\\\\n",
       "\t ⋮ & ⋮ & ⋮ & ⋮\\\\\n",
       "\t other    & white    & 1402     & 0.171   \\\\\n",
       "\t other    & black    & 3675     & 0.449   \\\\\n",
       "\t other    & hispanic & 3115     & 0.380   \\\\\n",
       "\\end{tabular}\n"
      ],
      "text/plain": [
       "   suspected_crime suspect_race N    prop \n",
       "1  burglary        white        2793 0.268\n",
       "2  burglary        black        3584 0.344\n",
       "3  burglary        hispanic     4047 0.388\n",
       "⋮  ⋮               ⋮            ⋮    ⋮    \n",
       "31 other           white        1402 0.171\n",
       "32 other           black        3675 0.449\n",
       "33 other           hispanic     3115 0.380"
      ]
     },
     "metadata": {},
     "output_type": "display_data"
    }
   ],
   "source": [
    "stop_df %>%\n",
    "    group_by(suspected_crime, suspect_race) %>%\n",
    "    summarize(N = n()) %>%\n",
    "    group_by(suspected_crime) %>%\n",
    "    mutate(prop = N / sum(N))"
   ]
  },
  {
   "cell_type": "markdown",
   "metadata": {},
   "source": [
    "Note the intentional style of (1) starting from the data frame (instead of a verb that explicitly includes the data frame) and (2) keeping each verb on its own line. \n",
    "This not only makes it easier to read, but also easier to maintain and modify."
   ]
  },
  {
   "cell_type": "markdown",
   "metadata": {},
   "source": [
    "### Exercise: Introduction to `dplyr`\n",
    "\n",
    "1. Find the distribution of suspected crimes for each race group\n",
    "(e.g., what proportion of white/black/Hispanic pedestrian stops were due to suspicion of `cwp`?)\n",
    "\n",
    "2. Using the result from the above exercise, find the suspected crimes that account for more than 10% of stops in all race groups.\n",
    "\n",
    "hint: `all(logical_vector)` will return `TRUE` if all values in `logical_vector` are `TRUE`"
   ]
  },
  {
   "cell_type": "code",
   "execution_count": 36,
   "metadata": {},
   "outputs": [
    {
     "data": {
      "text/html": [
       "<table>\n",
       "<thead><tr><th scope=col>suspected_crime</th><th scope=col>suspect_race</th><th scope=col>N</th><th scope=col>proportion</th></tr></thead>\n",
       "<tbody>\n",
       "\t<tr><td>burglary</td><td>white   </td><td>2793    </td><td>0.2202  </td></tr>\n",
       "\t<tr><td>burglary</td><td>black   </td><td>3584    </td><td>0.0654  </td></tr>\n",
       "\t<tr><td>burglary</td><td>hispanic</td><td>4047    </td><td>0.1245  </td></tr>\n",
       "\t<tr><td>⋮</td><td>⋮</td><td>⋮</td><td>⋮</td></tr>\n",
       "\t<tr><td>other   </td><td>white   </td><td>1402    </td><td>0.1106  </td></tr>\n",
       "\t<tr><td>other   </td><td>black   </td><td>3675    </td><td>0.0671  </td></tr>\n",
       "\t<tr><td>other   </td><td>hispanic</td><td>3115    </td><td>0.0958  </td></tr>\n",
       "</tbody>\n",
       "</table>\n"
      ],
      "text/latex": [
       "\\begin{tabular}{r|llll}\n",
       " suspected\\_crime & suspect\\_race & N & proportion\\\\\n",
       "\\hline\n",
       "\t burglary & white    & 2793     & 0.2202  \\\\\n",
       "\t burglary & black    & 3584     & 0.0654  \\\\\n",
       "\t burglary & hispanic & 4047     & 0.1245  \\\\\n",
       "\t ⋮ & ⋮ & ⋮ & ⋮\\\\\n",
       "\t other    & white    & 1402     & 0.1106  \\\\\n",
       "\t other    & black    & 3675     & 0.0671  \\\\\n",
       "\t other    & hispanic & 3115     & 0.0958  \\\\\n",
       "\\end{tabular}\n"
      ],
      "text/plain": [
       "   suspected_crime suspect_race N    proportion\n",
       "1  burglary        white        2793 0.2202    \n",
       "2  burglary        black        3584 0.0654    \n",
       "3  burglary        hispanic     4047 0.1245    \n",
       "⋮  ⋮               ⋮            ⋮    ⋮         \n",
       "31 other           white        1402 0.1106    \n",
       "32 other           black        3675 0.0671    \n",
       "33 other           hispanic     3115 0.0958    "
      ]
     },
     "metadata": {},
     "output_type": "display_data"
    },
    {
     "data": {
      "text/html": [
       "<table>\n",
       "<thead><tr><th scope=col>suspected_crime</th><th scope=col>suspect_race</th><th scope=col>N</th><th scope=col>proportion</th></tr></thead>\n",
       "<tbody>\n",
       "\t<tr><td>cpw     </td><td>white   </td><td> 1482   </td><td>0.117   </td></tr>\n",
       "\t<tr><td>cpw     </td><td>black   </td><td>19404   </td><td>0.354   </td></tr>\n",
       "\t<tr><td>cpw     </td><td>hispanic</td><td> 8201   </td><td>0.252   </td></tr>\n",
       "\t<tr><td>robbery </td><td>white   </td><td> 1582   </td><td>0.125   </td></tr>\n",
       "\t<tr><td>robbery </td><td>black   </td><td>12317   </td><td>0.225   </td></tr>\n",
       "\t<tr><td>robbery </td><td>hispanic</td><td> 7331   </td><td>0.225   </td></tr>\n",
       "</tbody>\n",
       "</table>\n"
      ],
      "text/latex": [
       "\\begin{tabular}{r|llll}\n",
       " suspected\\_crime & suspect\\_race & N & proportion\\\\\n",
       "\\hline\n",
       "\t cpw      & white    &  1482    & 0.117   \\\\\n",
       "\t cpw      & black    & 19404    & 0.354   \\\\\n",
       "\t cpw      & hispanic &  8201    & 0.252   \\\\\n",
       "\t robbery  & white    &  1582    & 0.125   \\\\\n",
       "\t robbery  & black    & 12317    & 0.225   \\\\\n",
       "\t robbery  & hispanic &  7331    & 0.225   \\\\\n",
       "\\end{tabular}\n"
      ],
      "text/plain": [
       "  suspected_crime suspect_race N     proportion\n",
       "1 cpw             white         1482 0.117     \n",
       "2 cpw             black        19404 0.354     \n",
       "3 cpw             hispanic      8201 0.252     \n",
       "4 robbery         white         1582 0.125     \n",
       "5 robbery         black        12317 0.225     \n",
       "6 robbery         hispanic      7331 0.225     "
      ]
     },
     "metadata": {},
     "output_type": "display_data"
    }
   ],
   "source": [
    "# WRITE CODE HERE\n",
    "# START solution\n",
    "# 1. \n",
    "suspected_crime_by_race <- stop_df %>%\n",
    "    group_by(suspected_crime, suspect_race) %>%\n",
    "    summarize(N = n()) %>%\n",
    "    group_by(suspect_race) %>%\n",
    "    mutate(proportion = N / sum(N))\n",
    "suspected_crime_by_race\n",
    "\n",
    "# 2. \n",
    "suspected_crime_by_race %>%\n",
    "    group_by(suspected_crime) %>%\n",
    "    filter(all(proportion > 0.1))\n",
    "# END "
   ]
  },
  {
   "cell_type": "markdown",
   "metadata": {},
   "source": [
    "## Ending notes\n",
    "\n",
    "There are many, MANY more verbs that we simply did not have the time to cover here, but are immensely useful. \n",
    "Some examples are:\n",
    "\n",
    "* `rename(df, ...)`: rename columns\n",
    "* `slice(df, ...)`: select rows of a data frame by index, instead of some condition\n",
    "* `top_n(df, N, col)`: retrieve the top N rows for values in some specified column\n",
    "\n",
    "You are highly recommended to explore more. One great resource for learning about `tidyverse` and using it to work with data is Hadley Wickham's online book: [R for Data Science](https://r4ds.had.co.nz/). \n",
    "\n",
    "Hadley Wickham is also the original author for many of the packages in `tidyverse`. In fact, in the \"early days\" (circa 2016), before the word `tidyverse` was created, the collection of Hadley Wickham's `R` packages were unofficially referred to as the `hadleyverse`, until [Hadley announced tidyverse and explicitly asked people to stop calling it the hadleyverse](https://twitter.com/hadleywickham/status/774008060549312512?lang=en)."
   ]
  }
 ],
 "metadata": {
  "kernelspec": {
   "display_name": "R",
   "language": "R",
   "name": "ir"
  },
  "language_info": {
   "codemirror_mode": "r",
   "file_extension": ".r",
   "mimetype": "text/x-r-source",
   "name": "R",
   "pygments_lexer": "r",
   "version": "3.4.4"
  }
 },
 "nbformat": 4,
 "nbformat_minor": 2
}
