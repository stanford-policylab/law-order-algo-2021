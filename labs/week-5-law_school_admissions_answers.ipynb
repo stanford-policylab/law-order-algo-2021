{
 "cells": [
  {
   "cell_type": "markdown",
   "metadata": {},
   "source": [
    "# Law, Bias, and Algorithms\n",
    "## Narrow Tailoring and Disparate Impact in Law School Admissions\n",
    "In this exercise, we'll examine admissions decisions at top-tier law schools using the dataset from the _LSAC National Longitudinal Bar Passage Study_ ([Wightman and Ramsey, 1998](https://files.eric.ed.gov/fulltext/ED469370.pdf)).\n",
    "This study presents national longitudinal bar passage data gathered from the class that started law school\n",
    "in fall 1991 over a 5-year period.\n",
    "In our analysis, we will focus on diversity and affirmative action policies. We'll explore a simple method to reverse engineer admissions criteria, and investigate the extent to which race-blind policies can achieve diversity. We'll also consider the consequences on diversity of a hypothetical scenario in which admissions decisions are based on statistical likelihood of bar passage."
   ]
  },
  {
   "cell_type": "code",
   "execution_count": 1,
   "metadata": {},
   "outputs": [
    {
     "name": "stderr",
     "output_type": "stream",
     "text": [
      "── Attaching packages ─────────────────────────────────────── tidyverse 1.2.1 ──\n",
      "✔ ggplot2 3.1.0     ✔ purrr   0.2.5\n",
      "✔ tibble  1.4.2     ✔ dplyr   0.7.7\n",
      "✔ tidyr   0.8.2     ✔ stringr 1.3.1\n",
      "✔ readr   1.1.1     ✔ forcats 0.3.0\n",
      "── Conflicts ────────────────────────────────────────── tidyverse_conflicts() ──\n",
      "✖ dplyr::filter() masks stats::filter()\n",
      "✖ dplyr::lag()    masks stats::lag()\n"
     ]
    }
   ],
   "source": [
    "# Some initial setup\n",
    "options(digits = 3)\n",
    "library(tidyverse)\n",
    "theme_set(theme_bw())\n",
    "\n",
    "# Read the data\n",
    "bar_data <- read_csv(\"../data/bar_passage_data.csv\", \n",
    "                 col_types = cols(MINORITY=\"l\", TOP_TIER=\"l\", MALE=\"l\", PASS_BAR=\"l\")) %>% \n",
    "    mutate(FAM_INC = as.factor(FAM_INC))"
   ]
  },
  {
   "cell_type": "markdown",
   "metadata": {},
   "source": [
    "Each row in the data corresponds to a law school admit. The dataset contains the following variables:\n",
    "\n",
    "* An ID number:\n",
    "    * `ID`\n",
    "    \n",
    "    \n",
    "* Base demographic information about the applicant:\n",
    "    * `MINORITY` is encoded as follows:        \n",
    "        * `False`: Non-hispanic White\n",
    "        * `True`: Asian, Black, Hispanic, American Indian, Alaskan Native, or Other\n",
    "    * `MALE` is coded as `True` for male applicants and `False` for female applicants\n",
    "        \n",
    "        \n",
    "* Outcome of interest, Bar Passage:\n",
    "    * `PASS_BAR` is an indicator variable and is encoded as 0 regardless of why the student did not pass the exam.  They may have dropped out of law school, never taken the bar, or failed the exam. `PASS_BAR` is encoded as 1 if the student eventually passes the bar. \n",
    "    * `BAR` provides more detail about bar results and test history\n",
    "    \n",
    " \n",
    "* Academic Indicators:\n",
    "    * `UGPA` (undergraduate GPA), `LSAT` (LSAT score, scaled to be between 10 and 50)\n",
    "    \n",
    "    \n",
    "* Tier of Law School Attended:\n",
    "    * `TOP_TIER` is an indicator variable for whether an applicant ultmiately attends a top tier school\n",
    "    * Note that students who attend historically black colleges and universities were removed as those schools are outliers in law school admissions.\n",
    "\n",
    "\n",
    "* Family Income Quintile:\n",
    "    * `FAM_INC` provides the family income quintile\n",
    "    * `FAM_INC_1`, `FAM_INC_2`, `FAM_INC_3`, `FAM_INC_4`,` FAM_INC_5` are indicator variables for the income quintile\n",
    "\n",
    "Law school admits whose entries had missing data have been removed."
   ]
  },
  {
   "cell_type": "markdown",
   "metadata": {},
   "source": [
    "### Exploratory Data Analysis\n",
    "\n",
    "We start our analysis by exploring class composition and racial disparities.\n",
    "\n",
    "#### Exercise 1: Demographic Composition and Disparities\n",
    "\n",
    "1. Create a table showing the total number of law school admits, the number of minority admits, and the percentage of law school admits who are minorties.\n",
    "2. Recalculate the statistics above, but for top-tier law schools only.\n",
    "3. Compute the average LSAT and undergraduate GPA by minority status."
   ]
  },
  {
   "cell_type": "code",
   "execution_count": 2,
   "metadata": {},
   "outputs": [
    {
     "data": {
      "text/html": [
       "<table>\n",
       "<thead><tr><th scope=col>total_admits</th><th scope=col>minority_admits</th><th scope=col>minority_proportion</th></tr></thead>\n",
       "<tbody>\n",
       "\t<tr><td>26509</td><td>3345 </td><td>0.126</td></tr>\n",
       "</tbody>\n",
       "</table>\n"
      ],
      "text/latex": [
       "\\begin{tabular}{r|lll}\n",
       " total\\_admits & minority\\_admits & minority\\_proportion\\\\\n",
       "\\hline\n",
       "\t 26509 & 3345  & 0.126\\\\\n",
       "\\end{tabular}\n"
      ],
      "text/markdown": [
       "\n",
       "total_admits | minority_admits | minority_proportion | \n",
       "|---|\n",
       "| 26509 | 3345  | 0.126 | \n",
       "\n",
       "\n"
      ],
      "text/plain": [
       "  total_admits minority_admits minority_proportion\n",
       "1 26509        3345            0.126              "
      ]
     },
     "metadata": {},
     "output_type": "display_data"
    },
    {
     "data": {
      "text/html": [
       "<table>\n",
       "<thead><tr><th scope=col>total_admits</th><th scope=col>minority_admits</th><th scope=col>minority_proportion</th></tr></thead>\n",
       "<tbody>\n",
       "\t<tr><td>6882 </td><td>1023 </td><td>0.149</td></tr>\n",
       "</tbody>\n",
       "</table>\n"
      ],
      "text/latex": [
       "\\begin{tabular}{r|lll}\n",
       " total\\_admits & minority\\_admits & minority\\_proportion\\\\\n",
       "\\hline\n",
       "\t 6882  & 1023  & 0.149\\\\\n",
       "\\end{tabular}\n"
      ],
      "text/markdown": [
       "\n",
       "total_admits | minority_admits | minority_proportion | \n",
       "|---|\n",
       "| 6882  | 1023  | 0.149 | \n",
       "\n",
       "\n"
      ],
      "text/plain": [
       "  total_admits minority_admits minority_proportion\n",
       "1 6882         1023            0.149              "
      ]
     },
     "metadata": {},
     "output_type": "display_data"
    },
    {
     "data": {
      "text/html": [
       "<table>\n",
       "<thead><tr><th scope=col>MINORITY</th><th scope=col>mean_LSAT</th><th scope=col>mean_UGPA</th></tr></thead>\n",
       "<tbody>\n",
       "\t<tr><td>FALSE</td><td>37.2 </td><td>3.25 </td></tr>\n",
       "\t<tr><td> TRUE</td><td>32.0 </td><td>3.01 </td></tr>\n",
       "</tbody>\n",
       "</table>\n"
      ],
      "text/latex": [
       "\\begin{tabular}{r|lll}\n",
       " MINORITY & mean\\_LSAT & mean\\_UGPA\\\\\n",
       "\\hline\n",
       "\t FALSE & 37.2  & 3.25 \\\\\n",
       "\t  TRUE & 32.0  & 3.01 \\\\\n",
       "\\end{tabular}\n"
      ],
      "text/markdown": [
       "\n",
       "MINORITY | mean_LSAT | mean_UGPA | \n",
       "|---|---|\n",
       "| FALSE | 37.2  | 3.25  | \n",
       "|  TRUE | 32.0  | 3.01  | \n",
       "\n",
       "\n"
      ],
      "text/plain": [
       "  MINORITY mean_LSAT mean_UGPA\n",
       "1 FALSE    37.2      3.25     \n",
       "2  TRUE    32.0      3.01     "
      ]
     },
     "metadata": {},
     "output_type": "display_data"
    }
   ],
   "source": [
    "# WRITE CODE HERE\n",
    "# START SOLUTION\n",
    "\n",
    "# 1.\n",
    "# Minority composition in all schools\n",
    "bar_data %>%\n",
    "    summarize(\n",
    "        total_admits = n(),\n",
    "        minority_admits = sum(MINORITY),\n",
    "        minority_proportion = mean(MINORITY)\n",
    "    )\n",
    "\n",
    "# 2.\n",
    "# Minority composition in top tier schools\n",
    "bar_data %>%\n",
    "    filter(TOP_TIER) %>%\n",
    "    summarize(\n",
    "        total_admits = n(),\n",
    "        minority_admits = sum(MINORITY),\n",
    "        minority_proportion = mean(MINORITY)\n",
    "    )\n",
    "\n",
    "# 3.\n",
    "# Average LSAT and GPA by group\n",
    "bar_data %>% \n",
    "    group_by(MINORITY) %>%\n",
    "    summarize(\n",
    "        mean_LSAT = mean(LSAT),\n",
    "        mean_UGPA = mean(UGPA)\n",
    "    )\n",
    "\n",
    "# END SOLUTION"
   ]
  },
  {
   "cell_type": "markdown",
   "metadata": {},
   "source": [
    "We note that the majority-minority test gap has been the subject of extensive scientific inquiry. Potential causes include differences in school resources, poverty, family structure, environment, and discrimination."
   ]
  },
  {
   "cell_type": "markdown",
   "metadata": {},
   "source": [
    "### Reverse Engineering Current Admissions\n",
    "\n",
    "We now attempt to reverse engineer admissions criteria for top-tier law schools. To do so, we make three key assumptions. First, we assume that students in our dataset comprise the full set of students who _applied_ to law school. In reality, our dataset only contains students who ultimately enrolled at a law school. Second, we assume that [students accepted to top-tier law schools](https://abovethelaw.com/2013/03/which-law-schools-had-the-highest-yield-rate/) all decided to enroll at a top-tier school. Finally, we assume that admissions decisions are based on a relatively small set of factors that we have access to: LSAT score, GPA, minority status, and family income. This is a coarse approximation of actual admissions policies, but is instructive nevertheless.\n",
    "\n",
    "Given these assumptions, we can try to reconstruct admissions policies by fitting a simple logistic regression model that predicts acceptance to a top-tier school based on the available information. \n",
    "\n",
    "In R, you can specify statistical models using formulas of the form `outcome variable ~ input variables` with each input variable seperated with the `+` symbol. We'll learn more about these models in the coming weeks, but for now we'll treat them (mostly) as black boxes."
   ]
  },
  {
   "cell_type": "code",
   "execution_count": 3,
   "metadata": {},
   "outputs": [
    {
     "data": {
      "text/plain": [
       "\n",
       "Call:\n",
       "glm(formula = TOP_TIER ~ LSAT + UGPA + MINORITY + FAM_INC_1 + \n",
       "    FAM_INC_2, family = \"binomial\", data = bar_data)\n",
       "\n",
       "Deviance Residuals: \n",
       "   Min      1Q  Median      3Q     Max  \n",
       "-2.032  -0.766  -0.524   0.797   3.228  \n",
       "\n",
       "Coefficients:\n",
       "              Estimate Std. Error z value Pr(>|z|)    \n",
       "(Intercept)  -10.57882    0.17780  -59.50  < 2e-16 ***\n",
       "LSAT           0.15764    0.00334   47.18  < 2e-16 ***\n",
       "UGPA           1.04883    0.04036   25.98  < 2e-16 ***\n",
       "MINORITYTRUE   1.26960    0.04979   25.50  < 2e-16 ***\n",
       "FAM_INC_1      0.37514    0.10177    3.69  0.00023 ***\n",
       "FAM_INC_2     -0.03270    0.05140   -0.64  0.52470    \n",
       "---\n",
       "Signif. codes:  0 ‘***’ 0.001 ‘**’ 0.01 ‘*’ 0.05 ‘.’ 0.1 ‘ ’ 1\n",
       "\n",
       "(Dispersion parameter for binomial family taken to be 1)\n",
       "\n",
       "    Null deviance: 30361  on 26508  degrees of freedom\n",
       "Residual deviance: 26223  on 26503  degrees of freedom\n",
       "AIC: 26235\n",
       "\n",
       "Number of Fisher Scoring iterations: 4\n"
      ]
     },
     "metadata": {},
     "output_type": "display_data"
    }
   ],
   "source": [
    "# fit a logistic regression to predict acceptance at a top-tier school\n",
    "lr_admit <- glm(TOP_TIER ~ LSAT + UGPA + MINORITY + FAM_INC_1 + FAM_INC_2, \n",
    "                    data = bar_data, family=\"binomial\")\n",
    "\n",
    "# summarize the model\n",
    "summary(lr_admit)"
   ]
  },
  {
   "cell_type": "markdown",
   "metadata": {},
   "source": [
    "The list above shows the coefficient for each covariate estimated by our logistic regression model. We can think of the coefficients as indicating how much different factors are weighted when making admissions decisions."
   ]
  },
  {
   "cell_type": "markdown",
   "metadata": {},
   "source": [
    "#### Exercise 2: \n",
    "Discuss the meaning of this model. What does it say about how law schools are admitting students? How accurate do you think it is? In what ways do you think it is misrepresenting or simplyifing the law school admissions process?"
   ]
  },
  {
   "cell_type": "markdown",
   "metadata": {},
   "source": [
    "### Simulating Law School Admissions\n",
    "\n",
    "#### Exercise 3: Exploring Alternative Admissions Policies\n",
    "\n",
    "You'll now create an algorithm for admitting students to top-tier schools based on any given weighting of LSAT, GPA, minority status, and low-income status. Once the weights are provided, the algorithm should sort all the applicants and return the subset of $n$ = 6,882 applicants ranked highest, where $n$ is the actual number admitted to the top-tier schools.\n",
    "\n",
    "Explore various admissions policies. Are you able to create admissions criteria that match the quality and diversity of the applicant pool? Are you able to do so without explictly using race? Recall that _Gratz_ declared using race in a points based way as part of college admissions unconstitutional. "
   ]
  },
  {
   "cell_type": "code",
   "execution_count": 4,
   "metadata": {},
   "outputs": [
    {
     "data": {
      "text/html": [
       "<table>\n",
       "<thead><tr><th scope=col>minority_p</th><th scope=col>mean_gpa</th><th scope=col>mean_lsat</th></tr></thead>\n",
       "<tbody>\n",
       "\t<tr><td>0.173</td><td>3.51 </td><td>42.4 </td></tr>\n",
       "</tbody>\n",
       "</table>\n"
      ],
      "text/latex": [
       "\\begin{tabular}{r|lll}\n",
       " minority\\_p & mean\\_gpa & mean\\_lsat\\\\\n",
       "\\hline\n",
       "\t 0.173 & 3.51  & 42.4 \\\\\n",
       "\\end{tabular}\n"
      ],
      "text/markdown": [
       "\n",
       "minority_p | mean_gpa | mean_lsat | \n",
       "|---|\n",
       "| 0.173 | 3.51  | 42.4  | \n",
       "\n",
       "\n"
      ],
      "text/plain": [
       "  minority_p mean_gpa mean_lsat\n",
       "1 0.173      3.51     42.4     "
      ]
     },
     "metadata": {},
     "output_type": "display_data"
    }
   ],
   "source": [
    "# WRITE CODE HERE\n",
    "admit_n <- sum(bar_data$TOP_TIER)\n",
    "\n",
    "# weights inferred from the logistic regression above.\n",
    "# these can be modified to explore alternative policies\n",
    "LSAT_wt <- 0.16\n",
    "GPA_wt <- 1\n",
    "MINORITY_wt <- 1.3\n",
    "INC1_wt <- 0.38\n",
    "INC2_wt <- 0\n",
    "\n",
    "# START SOLUTION\n",
    "\n",
    "# rank applicants by the given weights, and return the top admit_n\n",
    "admitted <- bar_data %>% \n",
    "    mutate(score = \n",
    "               LSAT * LSAT_wt + \n",
    "               UGPA * GPA_wt + \n",
    "               MINORITY * MINORITY_wt + \n",
    "               FAM_INC_1 * INC1_wt + \n",
    "               FAM_INC_2 * INC2_wt) %>%\n",
    "    arrange(desc(score)) %>%\n",
    "    slice(1:admit_n)\n",
    "\n",
    "# compute the diversity of the admitted student body\n",
    "admitted %>%\n",
    "    summarize(\n",
    "        minority_p = mean(MINORITY),\n",
    "        mean_gpa = mean(UGPA),\n",
    "        mean_lsat = mean(LSAT)\n",
    "    )\n",
    "\n",
    "# END SOLUTION"
   ]
  },
  {
   "cell_type": "markdown",
   "metadata": {},
   "source": [
    "### Using Predicted Bar Passage as a Selection Criterion\n",
    "\n",
    "Finally, we consider what would happen if law schools selected students to optimize bar passage rates. This approach might be motivated from two perspectives. First, perhaps using an outcome-based algorithm would allow schools to lessen the weight on LSAT scores, given the critiques of standardized tests as favoring affluent non-minority groups, and hence constitute a \"workable race-neutral alternative.\" Second, more crudely, one of the major inputs into U.S News and World Report law school rankings is bar passage. Schools might want to admit a class to increase bar passage rates or U.S. News might increase the weight of bar passage in its rankings. Our goal here is to examine whether the adoption of such a policy is a workable alternative and whether it might have disparate impact.\n",
    "\n",
    "#### Exercise 4:\n",
    "\n",
    "Create a model to predict bar passage and then use this model to simulate an admissions cycle where the students predicted as being the most likely to pass the bar are admitted into the highest tier law schools. Create the predictive model using logistic regression as shown above.\n",
    "\n",
    "Suppose an admissions office came to you and proposed using this model to determine which students are admitted. How would you evaluate the model and what would you recomemnd to the admissions office? If this model were used, would there be a valid disparate action claim for any rejected applicants?"
   ]
  },
  {
   "cell_type": "code",
   "execution_count": 5,
   "metadata": {},
   "outputs": [
    {
     "data": {
      "text/plain": [
       "\n",
       "Call:\n",
       "glm(formula = PASS_BAR ~ LSAT + UGPA, family = \"binomial\", data = bar_data)\n",
       "\n",
       "Deviance Residuals: \n",
       "   Min      1Q  Median      3Q     Max  \n",
       "-2.363   0.439   0.572   0.689   1.482  \n",
       "\n",
       "Coefficients:\n",
       "            Estimate Std. Error z value Pr(>|z|)    \n",
       "(Intercept)  -2.6867     0.1401  -19.18  < 2e-16 ***\n",
       "LSAT          0.0879     0.0029   30.33  < 2e-16 ***\n",
       "UGPA          0.2995     0.0386    7.77  8.1e-15 ***\n",
       "---\n",
       "Signif. codes:  0 ‘***’ 0.001 ‘**’ 0.01 ‘*’ 0.05 ‘.’ 0.1 ‘ ’ 1\n",
       "\n",
       "(Dispersion parameter for binomial family taken to be 1)\n",
       "\n",
       "    Null deviance: 26260  on 26508  degrees of freedom\n",
       "Residual deviance: 25049  on 26506  degrees of freedom\n",
       "AIC: 25055\n",
       "\n",
       "Number of Fisher Scoring iterations: 4\n"
      ]
     },
     "metadata": {},
     "output_type": "display_data"
    },
    {
     "data": {
      "text/html": [
       "<table>\n",
       "<thead><tr><th scope=col>minority_p</th><th scope=col>mean_gpa</th><th scope=col>mean_lsat</th></tr></thead>\n",
       "<tbody>\n",
       "\t<tr><td>0.0584</td><td>3.48  </td><td>43.1  </td></tr>\n",
       "</tbody>\n",
       "</table>\n"
      ],
      "text/latex": [
       "\\begin{tabular}{r|lll}\n",
       " minority\\_p & mean\\_gpa & mean\\_lsat\\\\\n",
       "\\hline\n",
       "\t 0.0584 & 3.48   & 43.1  \\\\\n",
       "\\end{tabular}\n"
      ],
      "text/markdown": [
       "\n",
       "minority_p | mean_gpa | mean_lsat | \n",
       "|---|\n",
       "| 0.0584 | 3.48   | 43.1   | \n",
       "\n",
       "\n"
      ],
      "text/plain": [
       "  minority_p mean_gpa mean_lsat\n",
       "1 0.0584     3.48     43.1     "
      ]
     },
     "metadata": {},
     "output_type": "display_data"
    }
   ],
   "source": [
    "# WRITE CODE HERE\n",
    "# START SOLUTION\n",
    "\n",
    "# predict bar passage rates via logistic regresssion\n",
    "bar_model <- glm(PASS_BAR ~ LSAT + UGPA, data = bar_data, family = \"binomial\")\n",
    "\n",
    "summary(bar_model)\n",
    "\n",
    "# select students most likely to pass the bar\n",
    "admitted <- bar_data %>%\n",
    "    mutate(pass_p = predict(bar_model, .)) %>% \n",
    "    arrange(desc(pass_p)) %>%\n",
    "    slice(1:admit_n)\n",
    "\n",
    "# compute the diversity of the admitted student body\n",
    "admitted %>%\n",
    "    summarize(\n",
    "        minority_p = mean(MINORITY),\n",
    "        mean_gpa = mean(UGPA),\n",
    "        mean_lsat = mean(LSAT)\n",
    "    )\n",
    "\n",
    "# END SOLUTION"
   ]
  },
  {
   "cell_type": "markdown",
   "metadata": {},
   "source": [
    "#### Discussion Questions\n",
    "\n",
    "* One way to characterize the use of bar passage information is as an attempt to reduce the importance of the LSAT in determining law school admissions. Does using bar passage data fulfill the goal of reducing emphasis on the LSAT?\n",
    "\n",
    "* Consider what some of the potential problems with this dataset are. What factors are not represented in the data that might be relevant for predicting outcomes on the bar exam? For success as an attorney? Are their any concerns about state bar passage as an outcome measure?\n",
    "\n",
    "* How well do these models mimic the procedure of the actual admissions process? How does the performance of actual admission officers compare to the models we have here and to the extent there are differences in outcomes, what factors might drive those differences? \n",
    "\n",
    "* Are there important differences between the populations of interest that may influence the model in undesirable ways? Consider whether minority students are more likely to practice in jurisdictions with lower bar passage rates (e.g., NY or CA)? Consider whether stereotype threat or implicit bias might explain differences in academic or bar passage performance between white and minority students and what implications that has for the approach you've studied above."
   ]
  }
 ],
 "metadata": {
  "kernelspec": {
   "display_name": "R",
   "language": "R",
   "name": "ir"
  },
  "language_info": {
   "codemirror_mode": "r",
   "file_extension": ".r",
   "mimetype": "text/x-r-source",
   "name": "R",
   "pygments_lexer": "r",
   "version": "3.5.1"
  }
 },
 "nbformat": 4,
 "nbformat_minor": 2
}
