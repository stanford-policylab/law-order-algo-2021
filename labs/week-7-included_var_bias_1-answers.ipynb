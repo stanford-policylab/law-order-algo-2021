{
 "cells": [
  {
   "cell_type": "markdown",
   "metadata": {},
   "source": [
    "# Law, Order, and Algorithms\n",
    "## Included-variable bias"
   ]
  },
  {
   "cell_type": "markdown",
   "metadata": {},
   "source": [
    "In this lab, we will investigate how to use a regression model to measure disparities across different groups, and discuss some of the problems that might arise in doing so. We will use the NYC stop and frisk data we have been using in previous labs."
   ]
  },
  {
   "cell_type": "code",
   "execution_count": 1,
   "metadata": {},
   "outputs": [
    {
     "name": "stderr",
     "output_type": "stream",
     "text": [
      "── \u001b[1mAttaching packages\u001b[22m ─────────────────────────────────────── tidyverse 1.3.0 ──\n",
      "\u001b[32m✔\u001b[39m \u001b[34mggplot2\u001b[39m 3.3.2     \u001b[32m✔\u001b[39m \u001b[34mpurrr  \u001b[39m 0.3.4\n",
      "\u001b[32m✔\u001b[39m \u001b[34mtibble \u001b[39m 3.0.3     \u001b[32m✔\u001b[39m \u001b[34mdplyr  \u001b[39m 1.0.0\n",
      "\u001b[32m✔\u001b[39m \u001b[34mtidyr  \u001b[39m 1.1.0     \u001b[32m✔\u001b[39m \u001b[34mstringr\u001b[39m 1.4.0\n",
      "\u001b[32m✔\u001b[39m \u001b[34mreadr  \u001b[39m 1.3.1     \u001b[32m✔\u001b[39m \u001b[34mforcats\u001b[39m 0.4.0\n",
      "── \u001b[1mConflicts\u001b[22m ────────────────────────────────────────── tidyverse_conflicts() ──\n",
      "\u001b[31m✖\u001b[39m \u001b[34mdplyr\u001b[39m::\u001b[32mfilter()\u001b[39m masks \u001b[34mstats\u001b[39m::filter()\n",
      "\u001b[31m✖\u001b[39m \u001b[34mdplyr\u001b[39m::\u001b[32mlag()\u001b[39m    masks \u001b[34mstats\u001b[39m::lag()\n"
     ]
    }
   ],
   "source": [
    "# Some initial setup\n",
    "options(digits = 3)\n",
    "library(tidyverse)\n",
    "\n",
    "theme_set(theme_bw())\n",
    "\n",
    "# Read the data. For computational reasons, we'll work with a sample of the data.\n",
    "# We also exclude rare suspected crime categories, and relevel \n",
    "# the race variable so that \"white\" is the base category\n",
    "set.seed(1)\n",
    "stop_df <- read_rds(\"../data/sqf_sample.rds\") %>%\n",
    "  sample_n(1e4)%>%\n",
    "  group_by(suspected_crime) %>%\n",
    "  filter(n() >= 10) %>%\n",
    "  ungroup() %>%\n",
    "  mutate(suspect_race = relevel(suspect_race, \"white\"))"
   ]
  },
  {
   "cell_type": "markdown",
   "metadata": {},
   "source": [
    "The loaded data frame is a sample of stops in NYC, recorded on a \n",
    "[UF-250 form][uf250_link]\n",
    "\n",
    "Below is a list of columns in the data, roughly corresponding to the [UF-250 form][uf250_link]:\n",
    "\n",
    "* Base information regarding stop:\n",
    "    * `id`, `year`, `date`, `time`, `precinct`, `location_housing`, \n",
    "      `suspected_crime`\n",
    "\n",
    "* Circumstances which led to stop:\n",
    "    * `stopped_bc_object`, `stopped_bc_desc`, `stopped_bc_casing`,\n",
    "      `stopped_bc_lookout`, `stopped_bc_clothing`, `stopped_bc_drugs`,\n",
    "      `stopped_bc_furtive`, `stopped_bc_violent`, `stopped_bc_bulge`,\n",
    "      `stopped_bc_other` \n",
    "    \n",
    "* Suspect demographics:\n",
    "    * `suspect_dob`, `suspect_id_type`, `suspect_sex`, `suspect_race`,\n",
    "      `suspect_hispanic`, `suspect_age`, `suspect_height`, `suspect_weight`,\n",
    "      `suspect_hair`, `suspect_eye`, `suspect_build`, `reason_explained`,\n",
    "      `others_stopped`\n",
    "\n",
    "* Whether physical force was used:\n",
    "    * `force_hands`, `force_wall`, `force_ground`, `force_drawn`,\n",
    "      `force_pointed`, `force_baton`, `force_handcuffs`,\n",
    "      `force_pepper`, `force_other`\n",
    "\n",
    "* Was suspect arrested?: `arrested`\n",
    "\n",
    "* Was summons issued?: `summons_issued`\n",
    "\n",
    "* Officer in uniform?: `officer_uniform`, `officer_verbal`, `officer_shield`\n",
    "\n",
    "* Was person frisked?: `frisked`\n",
    "    * if yes: `frisk_reason_suspected_crime`, `frisk_reason_weapons`, \n",
    "      `frisk_reason_attire`, `frisk_reason_actual_crime`, \n",
    "      `frisk_reason_noncompliance`, `frisk_reason_threats`,\n",
    "      `frisk_reason_prior`, `frisk_reason_furtive`, `frisk_reason_bulge`\n",
    "\n",
    "* Was person searched?: `searched`,\n",
    "    * if yes: `searched_hardobject`, `searched_outline`,\n",
    "      `searched_admission`, `searched_other`\n",
    "\n",
    "* Was weapon found?: `found_weapon`\n",
    "    * if yes: `found_gun`, `found_pistol`, `found_rifle`, `found_assault`,\n",
    "      `found_knife`, `found_machinegun`, `found_other`\n",
    "      \n",
    "* Was other contraband found?: `found_contraband`\n",
    "\n",
    "* Additional circumstances/factors\n",
    "    * `additional_report`, `additional_investigation`, `additional_proximity`, \n",
    "      `additional_evasive`, `additional_associating`, `additional_direction`, \n",
    "      `additional_highcrime`, `additional_time`, `additional_sights`, \n",
    "      `additional_other`\n",
    "\n",
    "* Additional reports prepared: `extra_reports`\n",
    "\n",
    "[uf250_link]: https://www.prisonlegalnews.org/media/publications/Blank%20UF-250%20Form%20-%20Stop%2C%20Question%20and%20Frisk%20Report%20Worksheet%2C%20NYPD%2C%202016.pdf"
   ]
  },
  {
   "cell_type": "markdown",
   "metadata": {},
   "source": [
    "## Base rate disparities in the decision to frisk\n",
    "\n",
    "First, let's measure the disparities in police decisions to frisk individuals of different race groups."
   ]
  },
  {
   "cell_type": "markdown",
   "metadata": {},
   "source": [
    "### Exercise 1: manual computation of odds and odds ratios\n",
    "\n",
    "* **Step 1**: For each race group, compute the proportion that were frisked"
   ]
  },
  {
   "cell_type": "code",
   "execution_count": 2,
   "metadata": {},
   "outputs": [
    {
     "name": "stderr",
     "output_type": "stream",
     "text": [
      "`summarise()` ungrouping output (override with `.groups` argument)\n"
     ]
    }
   ],
   "source": [
    "# With the stop_df data, group by suspect_race and compute the proportion (mean) of frisked == 1\n",
    "# WRITE CODE HERE\n",
    "# START solution\n",
    "p_frisked_df <- stop_df %>%\n",
    "    group_by(suspect_race) %>%\n",
    "    summarize(p_frisked = mean(frisked))\n",
    "# END solution"
   ]
  },
  {
   "cell_type": "markdown",
   "metadata": {},
   "source": [
    "* **Step 2**: Given probability $p$ of being frisked, the *odds* of being frisked is computed as $p / (1-p)$. \n",
    "\n",
    "For example, if $p = \\frac{1}{2}$, you're equally likely to be frisked or not (i.e., odds = 1); if $p = \\frac{2}{3}$, you're twice as likely to be frisked than not (odds = 2).\n",
    "\n",
    "Using the proportion frisked from Step 1 as an estimate of the probability of being frisked, compute the *odds* of being frisked for each race group."
   ]
  },
  {
   "cell_type": "code",
   "execution_count": 3,
   "metadata": {},
   "outputs": [],
   "source": [
    "# Compute the odds, p / (1-p), where p is the proportion from step 1\n",
    "# WRITE CODE HERE\n",
    "# START solution\n",
    "odds_df <- p_frisked_df %>%\n",
    "    mutate(odds = p_frisked / (1 - p_frisked))\n",
    "# END solution"
   ]
  },
  {
   "cell_type": "markdown",
   "metadata": {},
   "source": [
    "* **Step 3**: A common method of comparing odds between two groups is to compute the *odds ratio*. \n",
    "This is simply the ratio between two odds.\n",
    "\n",
    "For example, if the odds of being frisked is 0.8 for white pedestrians and 1.6 for Black pedestrians, the odds ratio of being frisked for Black vs. white pedestrians would be $1.6 / 0.8 = 2$. In other words, we would say stopped Black pedestrians have twice the odds of being frisked, compared to stopped white pedestrians.\n",
    "\n",
    "Using the odds computed in Step 2, compute the odds ratio for minority groups (Black / Hispanic) versus white individuals."
   ]
  },
  {
   "cell_type": "code",
   "execution_count": 4,
   "metadata": {},
   "outputs": [
    {
     "name": "stdout",
     "output_type": "stream",
     "text": [
      "Black-white odds ratio: 1.76 \n",
      "Hispanic-white odds ratio: 1.92"
     ]
    }
   ],
   "source": [
    "# Compute odds of frisk for minority race group / odds of frisk for whites\n",
    "# WRITE CODE HERE\n",
    "# START solution\n",
    "\n",
    "odds_black <- filter(odds_df, suspect_race == \"black\") %>% pull('odds')\n",
    "odds_hispanic <- filter(odds_df, suspect_race == \"hispanic\") %>% pull('odds')\n",
    "odds_white <- filter(odds_df, suspect_race == \"white\") %>% pull('odds')\n",
    "\n",
    "cat(\"Black-white odds ratio:\", odds_black / odds_white, \"\\n\")\n",
    "cat(\"Hispanic-white odds ratio:\", odds_hispanic / odds_white)\n",
    "# END solution"
   ]
  },
  {
   "cell_type": "markdown",
   "metadata": {},
   "source": [
    "### Base rate disparities with (logistic) regression\n",
    "\n",
    "Another method for comparing differences in frisk rates is to use regression. \n",
    "Specifically, logistic regression is commonly used for binary decisions (e.g., where the decision is either \"frisk\" or \"don't frisk\").\n",
    "\n",
    "In `R` we use the `glm` function to fit *generalized* linear models (e.g., logistic regression, poisson regression). \n",
    "In its simplest form, the `glm` function is specified with a `formula`, the `data`, and a `family` which indicates what type of regression is used.\n",
    "A `formula` in `R` is specified in the form: `Left-hand-side variable ~ Right-hand-side specifications`.\n",
    "For example, to fit a logistic regression (which is of the `\"binomial\"` family) of `frisked` to the `suspect_race` variable, using the `stop_df` data, we can write:"
   ]
  },
  {
   "cell_type": "code",
   "execution_count": 5,
   "metadata": {},
   "outputs": [],
   "source": [
    "base_model <- glm(frisked ~ suspect_race, data = stop_df, family = binomial)"
   ]
  },
  {
   "cell_type": "markdown",
   "metadata": {},
   "source": [
    "where the first argument to `glm` is assumed to be the `formula`. \n",
    "\n",
    "Using mathematical notation, this corresponds to the model:\n",
    "$$\n",
    "\\Pr(\\text{frisked}) = \\operatorname{logit}^{-1}(\n",
    "    \\beta_0 + \\beta_{\\text{black}}\\mathbb{1}_{\\text{black}} + \n",
    "    \\beta_{\\text{Hispanic}}\\mathbb{1}_{\\text{Hispanic}}\n",
    "),\n",
    "$$\n",
    "where\n",
    "$$\n",
    "\\operatorname{logit}^{-1}(x) = \n",
    "\\frac{e^{x}}{1 + e^{x}}\n",
    "$$\n",
    "and\n",
    "$$\n",
    "\\operatorname{logit}(p) = \\log\\left(\\frac{p}{1-p}\\right).\n",
    "$$\n",
    "\n",
    "As a result\n",
    "$$\n",
    "\\log\\left(\\frac{\\Pr(\\text{frisked})}\n",
    "{1 - \\Pr(\\text{frisked})}\\right) = \n",
    "\\beta_0 + \\beta_{\\text{black}}\\mathbb{1}_{\\text{black}} + \n",
    "    \\beta_{\\text{Hispanic}}\\mathbb{1}_{\\text{Hispanic}},\n",
    "$$\n",
    "and so\n",
    "$$\n",
    "\\frac{\\Pr(\\text{frisked})}{1 - \\Pr(\\text{frisked})}  = \n",
    "\\exp\\left(\\beta_0 + \\beta_{\\text{black}}\\mathbb{1}_{\\text{black}} + \n",
    "    \\beta_{\\text{Hispanic}}\\mathbb{1}_{\\text{Hispanic}}\\right).\n",
    "$$"
   ]
  },
  {
   "cell_type": "markdown",
   "metadata": {},
   "source": [
    "From the above model, $\\exp(\\beta_0)$ is the odds of being frisked for white individuals and $\\exp(\\beta_0+\\beta_{\\text{black}}) = \\exp(\\beta_0)\\exp(\\beta_{\\text{black}})$ is the odds of being frisked for black individuals.\n",
    "Consequently, the odds _ratio_ of being frisked for black vs. white pedestrians is $\\exp(\\beta_{\\text{black}})$: the exponentiated coefficient of\n",
    "the variable indicating whether a pedestrian's race group is black or not."
   ]
  },
  {
   "cell_type": "markdown",
   "metadata": {},
   "source": [
    "We can inspect the coefficients of the fitted model using the `coef()` function."
   ]
  },
  {
   "cell_type": "code",
   "execution_count": 6,
   "metadata": {},
   "outputs": [
    {
     "name": "stdout",
     "output_type": "stream",
     "text": [
      "                (Intercept)           suspect_raceasian \n",
      "                     -0.309                       0.342 \n",
      "          suspect_raceblack suspect_racenative american \n",
      "                      0.568                       0.437 \n",
      "       suspect_racehispanic           suspect_raceother \n",
      "                      0.651                       0.444 \n"
     ]
    }
   ],
   "source": [
    "print(coef(base_model))"
   ]
  },
  {
   "cell_type": "markdown",
   "metadata": {},
   "source": [
    "As we've seen above, the `(Intercept)` ($\\beta_0$) term corresponds to the _log_-odds of being frisked for stopped white individuals, while the `suspect_raceblack` coefficient represents the change in *log*-odds (log of odds ratio) of being frisked for black individuals compared to white individuals. By exponentiating the coefficients, we can recover the odds of being frisked for whites and odds-ratio of being frisked for each minority race group with respect to whites."
   ]
  },
  {
   "cell_type": "code",
   "execution_count": 7,
   "metadata": {},
   "outputs": [
    {
     "name": "stdout",
     "output_type": "stream",
     "text": [
      "                (Intercept)           suspect_raceasian \n",
      "                      0.734                       1.408 \n",
      "          suspect_raceblack suspect_racenative american \n",
      "                      1.765                       1.548 \n",
      "       suspect_racehispanic           suspect_raceother \n",
      "                      1.917                       1.560 \n"
     ]
    }
   ],
   "source": [
    "# Exponentiating the coefficients recover odds ratio of treatment for each variable; \n",
    "# identical to what we find in Exercise 1, \n",
    "# while the exponentiated intercept represents the odds of treatment for the base case (whites) \n",
    "print(exp(coef(base_model)))"
   ]
  },
  {
   "cell_type": "markdown",
   "metadata": {},
   "source": [
    "## Adjusting for other variables"
   ]
  },
  {
   "cell_type": "markdown",
   "metadata": {},
   "source": [
    "One concern is that officers might have a legitimate reason to frisk certain individuals more often; it might just be that the \"legitimate reason\" is also highly correlated with race.\n",
    "\n",
    "For example, as we discussed in earlier, one of the reasons for stopping an individual is if the officer suspects criminal posession of a weapon (encoded in the `suspected_crime` column as `cpw`).\n",
    "Given that the primary justification of a frisk is concern for officer safety, one could argue that it is reasonable for an officer to \n",
    "frisk individuals whom they have stopped under suspicion of criminal posession of weapons.\n",
    "\n",
    "(Although, whether an officer's _suspicion_ itself is justified is a different question, which we will address later)\n",
    "\n",
    "### Adjusting for `suspected_crime == \"cpw\"` \n",
    "\n",
    "Given a regression model, we can \"adjust for\" additional variables in our data by including them in the right-hand side of our formula.\n",
    "\n",
    "### Exercise 2: \n",
    "\n",
    "With `stop_df`, first create a new binary column named `is_cpw` that is `TRUE` if `suspected_crime` is `cpw`. Then fit a model that adjusts for this new covariate, and discuss the results."
   ]
  },
  {
   "cell_type": "code",
   "execution_count": 8,
   "metadata": {},
   "outputs": [
    {
     "name": "stdout",
     "output_type": "stream",
     "text": [
      "                (Intercept)           suspect_raceasian \n",
      "                      0.606                       1.338 \n",
      "          suspect_raceblack suspect_racenative american \n",
      "                      1.264                       1.230 \n",
      "       suspect_racehispanic           suspect_raceother \n",
      "                      1.487                       1.138 \n",
      "                 is_cpwTRUE \n",
      "                      9.350 \n"
     ]
    }
   ],
   "source": [
    "# WRITE CODE HERE\n",
    "# START solution\n",
    "\n",
    "stop_df <- stop_df %>%\n",
    "  mutate(is_cpw = suspected_crime == \"cpw\")\n",
    "\n",
    "cpw_model <- glm(frisked ~ suspect_race + is_cpw, data = stop_df, family = binomial)\n",
    "print(exp(coef(cpw_model)))\n",
    "\n",
    "# END solution"
   ]
  },
  {
   "cell_type": "markdown",
   "metadata": {},
   "source": [
    "### Exercise 3: Adjusting for confounding\n",
    "\n",
    "Following the above logic, there could be multiple legitimate factors that account for the observed disparity of being frisked between different race groups. \n",
    "Explore the effects of adjusting for more covariates on the results."
   ]
  },
  {
   "cell_type": "code",
   "execution_count": 9,
   "metadata": {},
   "outputs": [
    {
     "name": "stdout",
     "output_type": "stream",
     "text": [
      "   suspect_raceblack suspect_racehispanic \n",
      "               0.190                0.311 \n",
      "   suspect_raceblack suspect_racehispanic \n",
      "               0.205                0.168 \n"
     ]
    }
   ],
   "source": [
    "# Use race_coefs(m) to inspect just the race coefficients of any fitted model m\n",
    "race_coefs <- function(m) {\n",
    "    coef(m)[c(\"suspect_raceblack\", \"suspect_racehispanic\")]\n",
    "}\n",
    "\n",
    "# WRITE CODE HERE\n",
    "# START solution\n",
    "# Example models including multiple variables\n",
    "print(race_coefs(glm(frisked ~ suspect_race + suspected_crime + location_housing, \n",
    "               data = stop_df, family = binomial)))\n",
    "\n",
    "print(race_coefs(glm(frisked ~ suspect_race + \n",
    "               suspected_crime + \n",
    "               location_housing + \n",
    "               precinct + \n",
    "               suspect_sex +\n",
    "               suspect_age +\n",
    "               stopped_bc_object +\n",
    "               stopped_bc_furtive, \n",
    "               data = stop_df, family = binomial)))\n",
    "# END solution"
   ]
  },
  {
   "cell_type": "markdown",
   "metadata": {},
   "source": [
    "## A kitchen sink approach "
   ]
  },
  {
   "cell_type": "markdown",
   "metadata": {},
   "source": [
    "One common method for measuring disparities while addressing some of the omitted variable bias concerns is to include _all_ recorded data, that would have been available to the officer at the time of making the decision (to frisk an individual). This is also known as the \"kitchen sink\" approach.\n",
    "\n",
    "The code below applies the kitchen sink approach to measure the disparate impact of \n",
    "frisk on minority race groups."
   ]
  },
  {
   "cell_type": "code",
   "execution_count": 10,
   "metadata": {},
   "outputs": [
    {
     "name": "stdout",
     "output_type": "stream",
     "text": [
      "   suspect_raceblack suspect_racehispanic \n",
      "              0.0344               0.0735 \n"
     ]
    }
   ],
   "source": [
    "feats <- c(\n",
    "    \"suspected_crime\",\n",
    "    \"precinct\",\n",
    "    \"location_housing\",\n",
    "    \"suspect_sex\",\n",
    "    \"suspect_age\",\n",
    "    \"suspect_height\",\n",
    "    \"suspect_weight\",\n",
    "    \"suspect_hair\",\n",
    "    \"suspect_eye\",\n",
    "    \"suspect_build\",\n",
    "    \"additional_report\",\n",
    "    \"additional_investigation\",\n",
    "    \"additional_proximity\",\n",
    "    \"additional_evasive\",\n",
    "    \"additional_associating\",\n",
    "    \"additional_direction\",\n",
    "    \"additional_highcrime\",\n",
    "    \"additional_time\",\n",
    "    \"additional_sights\",\n",
    "    \"additional_other\",\n",
    "    \"stopped_bc_object\",\n",
    "    \"stopped_bc_desc\",\n",
    "    \"stopped_bc_casing\",\n",
    "    \"stopped_bc_lookout\",\n",
    "    \"stopped_bc_clothing\",\n",
    "    \"stopped_bc_drugs\",\n",
    "    \"stopped_bc_furtive\",\n",
    "    \"stopped_bc_violent\",\n",
    "    \"stopped_bc_bulge\",\n",
    "    \"stopped_bc_other\",\n",
    "    \"suspect_race\"\n",
    ")\n",
    "\n",
    "# This creates a formula with a specified left-hand side (response = \"frisked\"),\n",
    "# and using all the variables in feats on the right-hand side. \n",
    "# Constructing a formula in this way (instead of typing out all the variable names)\n",
    "# is helpful for constructing multiple models that share a long list of variables in the right-hand side.\n",
    "kitchen_sink_formula <- reformulate(feats, response = \"frisked\")\n",
    "\n",
    "# We are only interested in the race coefficients\n",
    "ks_model <- glm(kitchen_sink_formula, stop_df, family = binomial)\n",
    "print(race_coefs(ks_model))"
   ]
  },
  {
   "cell_type": "markdown",
   "metadata": {},
   "source": [
    "### Exercise 4:\n",
    "\n",
    "Do you think this is a reasonable approach to measuring disparate impact?\n",
    "What about disparate treatment?"
   ]
  },
  {
   "cell_type": "markdown",
   "metadata": {},
   "source": [
    "## Included-variable bias\n",
    "One problem with including all variables in measuring disparate impact is that an empirical connection between a factor and a decision is not necessarily justified.\n",
    "An obvious example would be something like \"skin color\", where including skin color in the regression will likely account for observed disparities in race,\n",
    "but the correlation between skin color and frisk decisions is unlikely to be justified!\n",
    "On the other hand, a less obvious example would be an officer's suspicion of `cpw`.\n",
    "While it seems reasonable that an officer would frisk individuals suspected of posessing a weapon more frequently,\n",
    "the suspicion itself would only be justified if, and to the degree that, it is predictive of achieving the goal of a frisk: recovering weapons.\n",
    "\n",
    "Blindly including a variable in a regression fails to take into account this _degree_ of justification, \n",
    "potentially overcompensating for variables that are correlated with race.\n",
    "This is the problem known as _included-variable bias_."
   ]
  },
  {
   "cell_type": "markdown",
   "metadata": {},
   "source": [
    "## Risk-adjusted regression"
   ]
  },
  {
   "cell_type": "markdown",
   "metadata": {},
   "source": [
    "As discussed above, adjusting for any variable (i.e., including it in the regression) may only be justified to the degree that the variable is _predictive of the outcome we are ultimately interested in_ (in this case, recovering a weapon). But the extent to which each variable is justified is rarely clear.\n",
    "\n",
    "One simple idea for addressing this concern of included-variable bias is to control for an explicit measure of **risk**, instead of controling for invididual variables.\n",
    "Intuitively, we wish to know whether individuals who have _similar risk_ (of carrying a weapon) were treated (frisked) equally."
   ]
  },
  {
   "cell_type": "markdown",
   "metadata": {},
   "source": [
    "### Exercise 5: Estimating risk\n",
    "\n",
    "In order to adjust for risk, we must first estimate it. This is relatively straightforward in the context of frisk decisions in stop-and-frisk, \n",
    "because the goal of a frisk is relatively clear -- we wish to recover weapons. \n",
    "In other words, we want to predict whether a weapon would be found if an individual is frisked. \n",
    "\n",
    "* **Step 1**: `filter` the `stop_df` data to those individuals _who were frisked_. We will call this new data frame `frisked_df`\n",
    "\n",
    "The _risk_ that we are interested in estimating is the probability that a weapon is recovered given that we _frisk_ someone who has already been stopped.\n",
    "While there are many ways to achieve this, one simple way is to build a predictive model, estimating the probability that a weapon is recovered, \n",
    "using just the data for stopped individuals who happened to be frisked. \n",
    "(Implicitly, this relies on an assumption of [_ignorability_](https://en.wikipedia.org/wiki/Ignorability).)"
   ]
  },
  {
   "cell_type": "code",
   "execution_count": 11,
   "metadata": {},
   "outputs": [],
   "source": [
    "# Subset the stop_df_small data to train cases where the individual was frisked\n",
    "# WRITE CODE HERE\n",
    "# START solution\n",
    "frisked_df <- stop_df %>%\n",
    "    filter(frisked)\n",
    "# END solution"
   ]
  },
  {
   "cell_type": "markdown",
   "metadata": {},
   "source": [
    "* **Step 2**: Using the `frisked_df` data, fit a logistic regression model to predict whether or not a weapon is found using all features that would reasonably be available to an officer (as listed in `feats` above). Let's call this model `risk_model`. \n",
    "\n",
    "Note that we use logistic regression here for simplicity, but more complex methods for predictive modeling could be employed, with additional measures to avoid overfitting (such as splitting the data and regularizing)."
   ]
  },
  {
   "cell_type": "code",
   "execution_count": 12,
   "metadata": {},
   "outputs": [
    {
     "name": "stderr",
     "output_type": "stream",
     "text": [
      "Warning message:\n",
      "“glm.fit: fitted probabilities numerically 0 or 1 occurred”"
     ]
    }
   ],
   "source": [
    "# Using the subset of data from Step 2, fit the logistic regression model: found_weapon ~ (all legitimate features in feats) \n",
    "# WRITE CODE HERE\n",
    "# START solution\n",
    "risk_formula <- reformulate(feats, response = \"found_weapon\")\n",
    "risk_model <- glm(risk_formula, data = frisked_df, family = binomial)\n",
    "# END solution"
   ]
  },
  {
   "cell_type": "markdown",
   "metadata": {},
   "source": [
    "* **Step 3**: Use the `risk_model` from above to generate a column of model estimated risk (we'll name this column `risk`) on the original `stop_df` data. \n",
    "\n",
    "_Tip_: Given a `glm` model named `risk_model`, a vector of probability predictions for `stop_df` can be created with the command `predict(risk_model, stop_df, type = \"response\")`."
   ]
  },
  {
   "cell_type": "code",
   "execution_count": 13,
   "metadata": {},
   "outputs": [],
   "source": [
    "# Generate a column of predicted risk \n",
    "# WRITE CODE HERE\n",
    "# START solution\n",
    "\n",
    "stop_df <- stop_df %>%\n",
    "    mutate(risk = predict(risk_model, ., type = \"response\"))\n",
    "# END solution"
   ]
  },
  {
   "cell_type": "markdown",
   "metadata": {},
   "source": [
    "## Distribution of risk\n",
    "\n",
    "Now that we have an estimate of risk, we can explore the distribution of risk across race groups."
   ]
  },
  {
   "cell_type": "code",
   "execution_count": 14,
   "metadata": {},
   "outputs": [
    {
     "name": "stderr",
     "output_type": "stream",
     "text": [
      "Warning message:\n",
      "“Removed 72 rows containing non-finite values (stat_bin).”"
     ]
    },
    {
     "data": {
      "image/png": "[encoded data removed]",
      "text/plain": [
       "plot without title"
      ]
     },
     "metadata": {},
     "output_type": "display_data"
    }
   ],
   "source": [
    "ggplot(filter(stop_df, suspect_race %in% c('white','black','hispanic')), aes(x = risk)) +\n",
    "geom_histogram(binwidth = .01) +\n",
    "facet_wrap(~ suspect_race) +\n",
    "scale_x_continuous(\"Estimated probability of recovering weapon if frisked\",\n",
    "                   labels = scales::percent_format()) +\n",
    "coord_cartesian(xlim = c(0, .1))"
   ]
  },
  {
   "cell_type": "markdown",
   "metadata": {},
   "source": [
    "### Exercise 6: Frisk rates by estimated risk\n",
    "\n",
    "Given risk estimates, consider individuals who have estimated risk between 4% and 5%. \n",
    "For each race group within this range of risk, compute: (1) the number stops; and (2) frisk rate.\n",
    "\n",
    "Explore different ranges of risk. It might be helpful to refer to the histogram above to see roughly how many cases exist for each race group within each range of estimated risk.\n",
    "Discuss your findings with your partner. What are some implications of these findings?"
   ]
  },
  {
   "cell_type": "code",
   "execution_count": 15,
   "metadata": {},
   "outputs": [
    {
     "name": "stderr",
     "output_type": "stream",
     "text": [
      "`summarise()` ungrouping output (override with `.groups` argument)\n"
     ]
    },
    {
     "data": {
      "text/html": [
       "<table>\n",
       "<caption>A tibble: 5 × 3</caption>\n",
       "<thead>\n",
       "\t<tr><th scope=col>suspect_race</th><th scope=col>N</th><th scope=col>p_frisk</th></tr>\n",
       "\t<tr><th scope=col>&lt;fct&gt;</th><th scope=col>&lt;int&gt;</th><th scope=col>&lt;dbl&gt;</th></tr>\n",
       "</thead>\n",
       "<tbody>\n",
       "\t<tr><td>white   </td><td>22</td><td>0.409</td></tr>\n",
       "\t<tr><td>asian   </td><td> 3</td><td>0.667</td></tr>\n",
       "\t<tr><td>black   </td><td>81</td><td>0.815</td></tr>\n",
       "\t<tr><td>hispanic</td><td>46</td><td>0.804</td></tr>\n",
       "\t<tr><td>other   </td><td> 1</td><td>0.000</td></tr>\n",
       "</tbody>\n",
       "</table>\n"
      ],
      "text/latex": [
       "A tibble: 5 × 3\n",
       "\\begin{tabular}{r|lll}\n",
       " suspect\\_race & N & p\\_frisk\\\\\n",
       " <fct> & <int> & <dbl>\\\\\n",
       "\\hline\n",
       "\t white    & 22 & 0.409\\\\\n",
       "\t asian    &  3 & 0.667\\\\\n",
       "\t black    & 81 & 0.815\\\\\n",
       "\t hispanic & 46 & 0.804\\\\\n",
       "\t other    &  1 & 0.000\\\\\n",
       "\\end{tabular}\n"
      ],
      "text/markdown": [
       "\n",
       "A tibble: 5 × 3\n",
       "\n",
       "| suspect_race &lt;fct&gt; | N &lt;int&gt; | p_frisk &lt;dbl&gt; |\n",
       "|---|---|---|\n",
       "| white    | 22 | 0.409 |\n",
       "| asian    |  3 | 0.667 |\n",
       "| black    | 81 | 0.815 |\n",
       "| hispanic | 46 | 0.804 |\n",
       "| other    |  1 | 0.000 |\n",
       "\n"
      ],
      "text/plain": [
       "  suspect_race N  p_frisk\n",
       "1 white        22 0.409  \n",
       "2 asian         3 0.667  \n",
       "3 black        81 0.815  \n",
       "4 hispanic     46 0.804  \n",
       "5 other         1 0.000  "
      ]
     },
     "metadata": {},
     "output_type": "display_data"
    }
   ],
   "source": [
    "# WRITE CODE HERE\n",
    "# START solution\n",
    "stop_df %>%\n",
    "    filter(risk >= .04, risk <= .05) %>%\n",
    "    group_by(suspect_race) %>%\n",
    "    summarize(N = n(),\n",
    "              p_frisk = mean(frisked))\n",
    "# END solution"
   ]
  },
  {
   "cell_type": "markdown",
   "metadata": {},
   "source": [
    "### Exercise 7: Risk-adjusted regression\n",
    "\n",
    "Now compute risk-adjusted frisk rates for stopped individuals across different race groups.\n",
    "\n",
    "How do these results compare to both the naive base rates and the \"kitchen sink\" approach?"
   ]
  },
  {
   "cell_type": "code",
   "execution_count": 16,
   "metadata": {},
   "outputs": [
    {
     "name": "stdout",
     "output_type": "stream",
     "text": [
      "\n",
      "Call:\n",
      "glm(formula = frisked ~ suspect_race + risk, family = binomial, \n",
      "    data = stop_df)\n",
      "\n",
      "Deviance Residuals: \n",
      "   Min      1Q  Median      3Q     Max  \n",
      "-3.072  -1.254   0.978   1.084   1.387  \n",
      "\n",
      "Coefficients:\n",
      "                            Estimate Std. Error z value Pr(>|z|)    \n",
      "(Intercept)                  -0.4812     0.0685   -7.03  2.1e-12 ***\n",
      "suspect_raceasian             0.4395     0.1343    3.27   0.0011 ** \n",
      "suspect_raceblack             0.6607     0.0731    9.04  < 2e-16 ***\n",
      "suspect_racenative american   0.6090     0.3002    2.03   0.0425 *  \n",
      "suspect_racehispanic          0.7499     0.0770    9.74  < 2e-16 ***\n",
      "suspect_raceother             0.5575     0.1801    3.10   0.0020 ** \n",
      "risk                          7.0001     0.7268    9.63  < 2e-16 ***\n",
      "---\n",
      "Signif. codes:  0 ‘***’ 0.001 ‘**’ 0.01 ‘*’ 0.05 ‘.’ 0.1 ‘ ’ 1\n",
      "\n",
      "(Dispersion parameter for binomial family taken to be 1)\n",
      "\n",
      "    Null deviance: 13250  on 9640  degrees of freedom\n",
      "Residual deviance: 13021  on 9634  degrees of freedom\n",
      "  (259 observations deleted due to missingness)\n",
      "AIC: 13035\n",
      "\n",
      "Number of Fisher Scoring iterations: 4\n",
      "\n"
     ]
    }
   ],
   "source": [
    "# WRITE CODE HERE\n",
    "# START solution\n",
    "rar_model <- glm(frisked ~ suspect_race + risk, stop_df, family = binomial)\n",
    "print(summary(rar_model))\n",
    "# END solution"
   ]
  },
  {
   "cell_type": "markdown",
   "metadata": {},
   "source": [
    "### Exercise 8: Additional considerations\n",
    "\n",
    "Even after adjusting for risk, disparities across certain features may still be justified.\n",
    "For example, officers might enforce different standards for different location types: frisking individuals stopped in `transit` who they would not have frisked\n",
    "if found in `housing`.  \n",
    "\n",
    "Given the risk-adjusted regression results, what may be some other legitimate concerns? \n",
    "What are possible justifications for the racial disparities that persist after adjusting for risk? \n",
    "How could we revise our model to further account for such possibilities."
   ]
  },
  {
   "cell_type": "code",
   "execution_count": 17,
   "metadata": {},
   "outputs": [
    {
     "name": "stdout",
     "output_type": "stream",
     "text": [
      "\n",
      "Call:\n",
      "glm(formula = frisked ~ suspect_race + risk + location_housing, \n",
      "    family = binomial, data = stop_df)\n",
      "\n",
      "Deviance Residuals: \n",
      "   Min      1Q  Median      3Q     Max  \n",
      "-3.072  -1.317   0.949   1.042   1.601  \n",
      "\n",
      "Coefficients:\n",
      "                            Estimate Std. Error z value Pr(>|z|)    \n",
      "(Intercept)                  -0.4411     0.0687   -6.42  1.4e-10 ***\n",
      "suspect_raceasian             0.4289     0.1343    3.19  0.00141 ** \n",
      "suspect_raceblack             0.7628     0.0741   10.29  < 2e-16 ***\n",
      "suspect_racenative american   0.6018     0.3008    2.00  0.04545 *  \n",
      "suspect_racehispanic          0.7959     0.0773   10.30  < 2e-16 ***\n",
      "suspect_raceother             0.5994     0.1809    3.31  0.00092 ***\n",
      "risk                          6.7814     0.7153    9.48  < 2e-16 ***\n",
      "location_housinghousing      -0.5165     0.0588   -8.78  < 2e-16 ***\n",
      "location_housingtransit      -0.3382     0.0779   -4.34  1.4e-05 ***\n",
      "---\n",
      "Signif. codes:  0 ‘***’ 0.001 ‘**’ 0.01 ‘*’ 0.05 ‘.’ 0.1 ‘ ’ 1\n",
      "\n",
      "(Dispersion parameter for binomial family taken to be 1)\n",
      "\n",
      "    Null deviance: 13250  on 9640  degrees of freedom\n",
      "Residual deviance: 12933  on 9632  degrees of freedom\n",
      "  (259 observations deleted due to missingness)\n",
      "AIC: 12951\n",
      "\n",
      "Number of Fisher Scoring iterations: 4\n",
      "\n"
     ]
    }
   ],
   "source": [
    "# WRITE CODE HERE\n",
    "# START solution\n",
    "rar_model <- glm(frisked ~ suspect_race + risk + location_housing, stop_df, family = binomial)\n",
    "print(summary(rar_model))\n",
    "# END solution"
   ]
  }
 ],
 "metadata": {
  "kernelspec": {
   "display_name": "R",
   "language": "R",
   "name": "ir"
  },
  "language_info": {
   "codemirror_mode": "r",
   "file_extension": ".r",
   "mimetype": "text/x-r-source",
   "name": "R",
   "pygments_lexer": "r",
   "version": "3.6.3"
  }
 },
 "nbformat": 4,
 "nbformat_minor": 4
}
