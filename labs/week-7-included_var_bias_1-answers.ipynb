{
 "cells": [
  {
   "cell_type": "markdown",
   "metadata": {},
   "source": [
    "# Law, Bias, and Algorithms\n",
    "## Included variable bias (1/2)"
   ]
  },
  {
   "cell_type": "markdown",
   "metadata": {},
   "source": [
    "In this exercise, we will investigate how to use a regression model to measure disparities across different groups, and discuss some of the problems that might arise in doing so. We will use the NYC stop and frisk data we have been using in previous exercises."
   ]
  },
  {
   "cell_type": "code",
   "execution_count": 1,
   "metadata": {},
   "outputs": [
    {
     "name": "stderr",
     "output_type": "stream",
     "text": [
      "── Attaching packages ─────────────────────────────────────── tidyverse 1.2.1 ──\n",
      "✔ ggplot2 3.0.0     ✔ purrr   0.3.2\n",
      "✔ tibble  1.4.2     ✔ dplyr   0.7.6\n",
      "✔ tidyr   0.8.1     ✔ stringr 1.3.1\n",
      "✔ readr   1.1.1     ✔ forcats 0.2.0\n",
      "── Conflicts ────────────────────────────────────────── tidyverse_conflicts() ──\n",
      "✖ dplyr::filter() masks stats::filter()\n",
      "✖ dplyr::lag()    masks stats::lag()\n"
     ]
    }
   ],
   "source": [
    "# Some initial setup\n",
    "options(digits = 3)\n",
    "library(tidyverse)\n",
    "\n",
    "theme_set(theme_bw())\n",
    "\n",
    "# Read the data\n",
    "stop_df <- read_rds(\"../data/sqf_sample.rds\")"
   ]
  },
  {
   "cell_type": "markdown",
   "metadata": {},
   "source": [
    "The loaded data frame is a sample of stops in NYC, recorded on a \n",
    "[UF-250 form][uf250_link]\n",
    "\n",
    "Below is a list of columns in the data, roughly corresponding to the [UF-250 form][uf250_link]:\n",
    "\n",
    "* Base information regarding stop:\n",
    "    * `id`, `year`, `date`, `time`, `precinct`, `location_housing`, \n",
    "      `suspected_crime`\n",
    "\n",
    "* Circumstances which led to stop:\n",
    "    * `stop_reason_object`, `stop_reason_desc`, `stop_reason_casing`,\n",
    "      `stop_reason_lookout`, `stop_reason_clothing`, `stop_reason_drugs`,\n",
    "      `stop_reason_furtive`, `stop_reason_violent`, `stop_reason_bulge`,\n",
    "      `stop_reason_other` \n",
    "    \n",
    "* Suspect demographics:\n",
    "    * `suspect_dob`, `suspect_id_type`, `suspect_sex`, `suspect_race`,\n",
    "      `suspect_hispanic`, `suspect_age`, `suspect_height`, `suspect_weight`,\n",
    "      `suspect_hair`, `suspect_eye`, `suspect_build`, `reason_explained`,\n",
    "      `others_stopped`\n",
    "\n",
    "* Whether physical force was used:\n",
    "    * `force_hands`, `force_wall`, `force_ground`, `force_drawn`,\n",
    "      `force_pointed`, `force_baton`, `force_handcuffs`,\n",
    "      `force_pepper`, `force_other`\n",
    "\n",
    "* Was suspect arrested?: `arrested`\n",
    "\n",
    "* Was summons issued?: `summons_issued`\n",
    "\n",
    "* Officer in uniform?: `officer_uniform`, `officer_verbal`, `officer_shield`\n",
    "\n",
    "* Was person frisked?: `frisked`\n",
    "    * if yes: `frisk_reason_suspected_crime`, `frisk_reason_weapons`, \n",
    "      `frisk_reason_attire`, `frisk_reason_actual_crime`, \n",
    "      `frisk_reason_noncompliance`, `frisk_reason_threats`,\n",
    "      `frisk_reason_prior`, `frisk_reason_furtive`, `frisk_reason_bulge`\n",
    "\n",
    "* Was person searched?: `searched`,\n",
    "    * if yes: `searched_hardobject`, `searched_outline`,\n",
    "      `searched_admission`, `searched_other`\n",
    "\n",
    "* Was weapon found?: `found_weapon`\n",
    "    * if yes: `found_gun`, `found_pistol`, `found_rifle`, `found_assault`,\n",
    "      `found_knife`, `found_machinegun`, `found_other`\n",
    "      \n",
    "* Was other contraband found?: `found_contraband`\n",
    "\n",
    "* Additional circumstances/factors\n",
    "    * `additional_report`, `additional_investigation`, `additional_proximity`, \n",
    "      `additional_evasive`, `additional_associating`, `additional_direction`, \n",
    "      `additional_highcrime`, `additional_time`, `additional_sights`, \n",
    "      `additional_other`\n",
    "\n",
    "* Additional reports prepared: `extra_reports`\n",
    "\n",
    "[uf250_link]: https://www.prisonlegalnews.org/media/publications/Blank%20UF-250%20Form%20-%20Stop%2C%20Question%20and%20Frisk%20Report%20Worksheet%2C%20NYPD%2C%202016.pdf"
   ]
  },
  {
   "cell_type": "markdown",
   "metadata": {},
   "source": [
    "## Base rate disparities in the decision to frisk\n",
    "\n",
    "First, let's measure the disparities in police decisions to frisk individuals of different race groups."
   ]
  },
  {
   "cell_type": "markdown",
   "metadata": {},
   "source": [
    "### Exercise 1: manual computation of odds and odds ratios\n",
    "\n",
    "* **Step 1**: For each race group, compute the proportion that were frisked"
   ]
  },
  {
   "cell_type": "code",
   "execution_count": 2,
   "metadata": {},
   "outputs": [],
   "source": [
    "# With the stop_df data, group by suspect_race and compute the proportion (mean) of frisked == 1\n",
    "# WRITE CODE HERE\n",
    "# START solution\n",
    "p_frisked_df <- stop_df %>%\n",
    "    group_by(suspect_race) %>%\n",
    "    summarize(p_frisked = mean(frisked))\n",
    "# END solution"
   ]
  },
  {
   "cell_type": "markdown",
   "metadata": {},
   "source": [
    "* **Step 2**: Given probability $p$ of being frisked, the *odds* of being frisked is computed as $p / (1-p)$. \n",
    "\n",
    "For example, if $p = \\frac{1}{2}$, you're equally likely to be frisked or not (i.e., odds = 1); if $p = \\frac{2}{3}$, you're twice as likely to be frisked than not (odds = 2).\n",
    "\n",
    "Using the proportion frisked from Step 1 as an estimate of the probability of being frisked, compute the *odds* of being frisked for each race."
   ]
  },
  {
   "cell_type": "code",
   "execution_count": 3,
   "metadata": {},
   "outputs": [],
   "source": [
    "# Compute the odds, p / (1-p), where p is the proportion from step 1\n",
    "# WRITE CODE HERE\n",
    "# START solution\n",
    "odds_df <- p_frisked_df %>%\n",
    "    mutate(odds = p_frisked / (1 - p_frisked))\n",
    "# END solution"
   ]
  },
  {
   "cell_type": "markdown",
   "metadata": {},
   "source": [
    "* **Step 3**: A common method of comparing odds between two groups is to compute the *odds ratio*. \n",
    "This is simply the ratio between two odds.\n",
    "\n",
    "For example, if the odds of being frisked is 0.8 for white pedestrians and 1.6 for black pedestrians, the odds ratio of being frisked for black vs. white pedestrians would be $1.6 / 0.8 = 2$. In other words, we would say stopped black pedestrians have twice the odds of being frisked, compared to stopped white pedestrians.\n",
    "\n",
    "Using the odds computed in Step 2, compute the odds ratio for minority groups (black / Hispanic) versus whites."
   ]
  },
  {
   "cell_type": "code",
   "execution_count": 4,
   "metadata": {},
   "outputs": [
    {
     "data": {
      "text/html": [
       "<table>\n",
       "<thead><tr><th scope=col>black_white_odds</th><th scope=col>hispanic_white_odds</th></tr></thead>\n",
       "<tbody>\n",
       "\t<tr><td>2.1 </td><td>1.88</td></tr>\n",
       "</tbody>\n",
       "</table>\n"
      ],
      "text/latex": [
       "\\begin{tabular}{r|ll}\n",
       " black\\_white\\_odds & hispanic\\_white\\_odds\\\\\n",
       "\\hline\n",
       "\t 2.1  & 1.88\\\\\n",
       "\\end{tabular}\n"
      ],
      "text/plain": [
       "  black_white_odds hispanic_white_odds\n",
       "1 2.1              1.88               "
      ]
     },
     "metadata": {},
     "output_type": "display_data"
    },
    {
     "name": "stdout",
     "output_type": "stream",
     "text": [
      "Black-white odds ratio: 2.1 \n",
      "Hispanic-white odds ratio: 1.88"
     ]
    }
   ],
   "source": [
    "# Compute odds of frisk for minority race group / odds of frisk for whites\n",
    "# WRITE CODE HERE\n",
    "# START solution\n",
    "# Purely-tidy solution\n",
    "odds_df %>%\n",
    "    select(suspect_race, odds) %>%\n",
    "    spread(suspect_race, odds) %>%\n",
    "    transmute(black_white_odds = black / white, hispanic_white_odds = hispanic / white)\n",
    "\n",
    "# Alternative solution\n",
    "odds_black <- odds_df$odds[odds_df$suspect_race == \"black\"]\n",
    "odds_hispanic <- odds_df$odds[odds_df$suspect_race == \"hispanic\"]\n",
    "odds_white <- odds_df$odds[odds_df$suspect_race == \"white\"]\n",
    "\n",
    "cat(\"Black-white odds ratio:\", odds_black / odds_white, \"\\n\")\n",
    "cat(\"Hispanic-white odds ratio:\", odds_hispanic / odds_white)\n",
    "# END solution"
   ]
  },
  {
   "cell_type": "markdown",
   "metadata": {},
   "source": [
    "### Base rate disparities with (logistic) regression\n",
    "\n",
    "Another method for comparing differences in frisk rates is to use regression. \n",
    "Specifically, logistic regression is commonly used for binary decisions (e.g., where the decision is either \"frisk\" or \"don't frisk\").\n",
    "\n",
    "In `R` we use the `glm` function to fit *generalized* linear models (e.g., logistic regression, poisson regression). \n",
    "In its simplest form, the `glm` function is specified with a `formula`, the `data`, and a `family` which indicates what type of regression is used.\n",
    "A `formula` in `R` is specified in the form: `Left-hand-side variable ~ Right-hand-side specifications`.\n",
    "For example, to fit a logistic regression (which is of the `\"binomial\"` family) of `frisked` to the `suspect_race` variable, using the `stop_df` data, we can write:"
   ]
  },
  {
   "cell_type": "code",
   "execution_count": 5,
   "metadata": {},
   "outputs": [],
   "source": [
    "base_model <- glm(frisked ~ suspect_race, data = stop_df, family = binomial)"
   ]
  },
  {
   "cell_type": "markdown",
   "metadata": {},
   "source": [
    "where the first argument to `glm` is assumed to be the `formula`. \n",
    "\n",
    "Using mathematical notation, this corresponds to the model:\n",
    "$$\n",
    "\\Pr(\\text{frisked}) = \\operatorname{logit}^{-1}(\n",
    "    \\beta_0 + \\beta_{\\text{black}}\\mathbb{1}_{\\text{black}} + \n",
    "    \\beta_{\\text{Hispanic}}\\mathbb{1}_{\\text{Hispanic}}\n",
    "),\n",
    "$$\n",
    "where\n",
    "$$\n",
    "\\operatorname{logit}^{-1}(x) = \n",
    "\\frac{e^{x}}{1 + e^{x}}\n",
    "$$\n",
    "and\n",
    "$$\n",
    "\\operatorname{logit}(p) = \\log\\left(\\frac{p}{1-p}\\right).\n",
    "$$\n",
    "\n",
    "As a result\n",
    "$$\n",
    "\\log\\left(\\frac{\\Pr(\\text{frisked})}\n",
    "{1 - \\Pr(\\text{frisked})}\\right) = \n",
    "\\beta_0 + \\beta_{\\text{black}}\\mathbb{1}_{\\text{black}} + \n",
    "    \\beta_{\\text{Hispanic}}\\mathbb{1}_{\\text{Hispanic}},\n",
    "$$\n",
    "and so\n",
    "$$\n",
    "\\frac{\\Pr(\\text{frisked})}{1 - \\Pr(\\text{frisked})}  = \n",
    "\\exp\\left(\\beta_0 + \\beta_{\\text{black}}\\mathbb{1}_{\\text{black}} + \n",
    "    \\beta_{\\text{Hispanic}}\\mathbb{1}_{\\text{Hispanic}}\\right).\n",
    "$$"
   ]
  },
  {
   "cell_type": "markdown",
   "metadata": {},
   "source": [
    "From the above model, $\\exp(\\beta_0)$ is the odds of being frisked for white individuals and $\\exp(\\beta_0+\\beta_{\\text{black}}) = \\exp(\\beta_0)\\exp(\\beta_{\\text{black}})$ is the odds of being frisked for black individuals.\n",
    "Consequently, the odds _ratio_ of being frisked for black vs. white pedestrians is $\\exp(\\beta_{\\text{black}})$: the exponentiated coefficient of\n",
    "the variable indicating whether a pedestrian's race group is black or not."
   ]
  },
  {
   "cell_type": "markdown",
   "metadata": {},
   "source": [
    "We can inspect the coefficients of the fitted model using the `coef()` function."
   ]
  },
  {
   "cell_type": "code",
   "execution_count": 6,
   "metadata": {},
   "outputs": [
    {
     "name": "stdout",
     "output_type": "stream",
     "text": [
      "         (Intercept)    suspect_raceblack suspect_racehispanic \n",
      "               0.304                0.740                0.633 \n"
     ]
    }
   ],
   "source": [
    "print(coef(base_model))"
   ]
  },
  {
   "cell_type": "markdown",
   "metadata": {},
   "source": [
    "As we've seen above, the `(Intercept)` ($\\beta_0$) term corresponds to the _log_-odds of being frisked for stopped white individuals, while the `suspect_raceblack` coefficient represents the change in *log*-odds (log of odds ratio) of being frisked for black individuals compared to white individuals. By exponentiating the coefficients, we can recover the odds of being frisked for whites and odds-ratio of being frisked for each minority race group with respect to whites."
   ]
  },
  {
   "cell_type": "code",
   "execution_count": 7,
   "metadata": {},
   "outputs": [
    {
     "name": "stdout",
     "output_type": "stream",
     "text": [
      "         (Intercept)    suspect_raceblack suspect_racehispanic \n",
      "                1.36                 2.10                 1.88 \n"
     ]
    }
   ],
   "source": [
    "# Exponentiating the coefficients recover odds ratio of treatment for each variable; \n",
    "# identical to what we find in Exercise 1, \n",
    "# while the exponentiated intercept represents the odds of treatment for the base case (whites) \n",
    "print(exp(coef(base_model)))"
   ]
  },
  {
   "cell_type": "markdown",
   "metadata": {},
   "source": [
    "## Adjusting for other variables"
   ]
  },
  {
   "cell_type": "markdown",
   "metadata": {},
   "source": [
    "One concern is that officers might have a legitimate reason to frisk certain individuals more often; it might just be that the \"legitimate reason\" is also highly correlated with race.\n",
    "\n",
    "For example, as we discussed in week 2, one of the reasons for stopping an individual is if the officer suspects criminal posession of a weapon (encoded in the `suspected_crime` column as `cpw`).\n",
    "Given that the primary justification of a frisk is concern for officer safety, one could argue that it is reasonable for an officer to \n",
    "frisk individuals whom they have stopped under suspicion of criminal posession of weapons.\n",
    "\n",
    "(Although, whether an officer's _suspicion_ itself is justified is a different question, which we will address later)\n",
    "\n",
    "### Adjusting for `suspected_crime == \"cpw\"` \n",
    "\n",
    "Given a regression model, we can \"adjust for\" additional variables in our data by including them in the right-hand side of our formula.\n",
    "\n",
    "### Exercise 2: \n",
    "\n",
    "With `stop_df`, first create a new binary column named `is_cpw` that is `TRUE` if `suspected_crime` is `cpw`. Then fit a model that adjusts for this new covariate, and discuss the results."
   ]
  },
  {
   "cell_type": "code",
   "execution_count": 13,
   "metadata": {},
   "outputs": [
    {
     "name": "stdout",
     "output_type": "stream",
     "text": [
      "         (Intercept)    suspect_raceblack suspect_racehispanic \n",
      "                1.13                 1.50                 1.59 \n",
      "          is_cpwTRUE \n",
      "                9.76 \n"
     ]
    }
   ],
   "source": [
    "# WRITE CODE HERE\n",
    "# START solution\n",
    "\n",
    "stop_df <- stop_df %>%\n",
    "  mutate(is_cpw = suspected_crime == \"cpw\")\n",
    "\n",
    "cpw_model <- glm(frisked ~ suspect_race + is_cpw, data = stop_df, family = binomial)\n",
    "print(exp(coef(cpw_model)))\n",
    "\n",
    "# END solution"
   ]
  },
  {
   "cell_type": "markdown",
   "metadata": {},
   "source": [
    "### Exercise 3: Adjusting for confounding\n",
    "\n",
    "Following the above logic, there could be multiple legitimate factors that account for the observed disparity of being frisked between different race groups. \n",
    "Explore the effects of adjusting for more covariates on the results."
   ]
  },
  {
   "cell_type": "code",
   "execution_count": 9,
   "metadata": {},
   "outputs": [
    {
     "name": "stdout",
     "output_type": "stream",
     "text": [
      "   suspect_raceblack suspect_racehispanic \n",
      "               0.240                0.324 \n",
      "   suspect_raceblack suspect_racehispanic \n",
      "               0.207                0.149 \n"
     ]
    }
   ],
   "source": [
    "# Use race_coefs(m) to inspect just the race coefficients of any fitted model m\n",
    "race_coefs <- function(m) {\n",
    "    coef(m)[c(\"suspect_raceblack\", \"suspect_racehispanic\")]\n",
    "}\n",
    "\n",
    "# WRITE CODE HERE\n",
    "# START solution\n",
    "# Example models including multiple variables\n",
    "print(race_coefs(glm(frisked ~ suspect_race + suspected_crime + location_housing, \n",
    "               data = stop_df, family = binomial)))\n",
    "\n",
    "print(race_coefs(glm(frisked ~ suspect_race + \n",
    "               suspected_crime + \n",
    "               location_housing + \n",
    "               precinct + \n",
    "               suspect_sex +\n",
    "               suspect_age +\n",
    "               stop_reason_object +\n",
    "               stop_reason_furtive, \n",
    "               data = stop_df, family = binomial)))\n",
    "# END solution"
   ]
  },
  {
   "cell_type": "markdown",
   "metadata": {},
   "source": [
    "## A kitchen sink approach "
   ]
  },
  {
   "cell_type": "markdown",
   "metadata": {},
   "source": [
    "One common method for measuring disparities while addressing some of the omitted variable bias concerns is to include _all_ recorded data, that would have been available to the officer at the time of making the decision (to frisk an individual). This is also known as the \"kitchen sink\" approach.\n",
    "\n",
    "The code below applies the kitchen sink approach to measure the disparate impact of \n",
    "frisk on minority race groups."
   ]
  },
  {
   "cell_type": "code",
   "execution_count": 10,
   "metadata": {},
   "outputs": [
    {
     "name": "stdout",
     "output_type": "stream",
     "text": [
      "   suspect_raceblack suspect_racehispanic \n",
      "               0.191                0.173 \n"
     ]
    }
   ],
   "source": [
    "feats <- c(\n",
    "    \"suspected_crime\",\n",
    "    \"precinct\",\n",
    "    \"location_housing\",\n",
    "    \"suspect_sex\",\n",
    "    \"suspect_age\",\n",
    "    \"suspect_height\",\n",
    "    \"suspect_weight\",\n",
    "    \"suspect_hair\",\n",
    "    \"suspect_eye\",\n",
    "    \"suspect_build\",\n",
    "    \"additional_report\",\n",
    "    \"additional_investigation\",\n",
    "    \"additional_proximity\",\n",
    "    \"additional_evasive\",\n",
    "    \"additional_associating\",\n",
    "    \"additional_direction\",\n",
    "    \"additional_highcrime\",\n",
    "    \"additional_time\",\n",
    "    \"additional_sights\",\n",
    "    \"additional_other\",\n",
    "    \"stop_reason_object\",\n",
    "    \"stop_reason_desc\",\n",
    "    \"stop_reason_casing\",\n",
    "    \"stop_reason_lookout\",\n",
    "    \"stop_reason_clothing\",\n",
    "    \"stop_reason_drugs\",\n",
    "    \"stop_reason_furtive\",\n",
    "    \"stop_reason_violent\",\n",
    "    \"stop_reason_bulge\",\n",
    "    \"stop_reason_other\",\n",
    "    \"suspect_race\"\n",
    ")\n",
    "\n",
    "# This creates a formula with a specified left-hand side (response = \"frisked\"),\n",
    "# and using all the variables in feats on the right-hand side. \n",
    "# Constructing a formula in this way (instead of typing out all the variable names)\n",
    "# is helpful for constructing multiple models that share a long list of variables in the right-hand side.\n",
    "kitchen_sink_formula <- reformulate(feats, response = \"frisked\")\n",
    "\n",
    "# We are only interested in the race coefficients\n",
    "ks_model <- glm(kitchen_sink_formula, stop_df, family = binomial)\n",
    "print(race_coefs(ks_model))"
   ]
  },
  {
   "cell_type": "markdown",
   "metadata": {},
   "source": [
    "### Exercise 4:\n",
    "\n",
    "Do you think this is a reasonable approach to measuring disparate impact?\n",
    "What about disparate treatment?"
   ]
  }
 ],
 "metadata": {
  "kernelspec": {
   "display_name": "R",
   "language": "R",
   "name": "ir"
  },
  "language_info": {
   "codemirror_mode": "r",
   "file_extension": ".r",
   "mimetype": "text/x-r-source",
   "name": "R",
   "pygments_lexer": "r",
   "version": "3.4.4"
  }
 },
 "nbformat": 4,
 "nbformat_minor": 2
}
