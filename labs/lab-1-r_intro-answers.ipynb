{
 "cells": [
  {
   "cell_type": "markdown",
   "metadata": {},
   "source": [
    "# Law, Order, and Algorithms\n",
    "## Introduction to `R`\n",
    "\n",
    "The computing language `R` is a powerful tool for statistical analysis. We'll explore some of it's basic features while exploring claims of double voting and the classic \"birthday paradox.\" \n",
    "\n",
    "This tutorial is based on findings in the paper [One Person, One Vote: Estimating the Prevalence of Double Voting in U.S. Presidential Elections](https://5harad.com/papers/1p1v.pdf) by Goel et al. (2020). David Kestenbaum broke down the numbers in an [episode](https://www.thisamericanlife.org/630/things-i-mean-to-know/act-one-1) of This American Life."
   ]
  },
  {
   "cell_type": "markdown",
   "metadata": {},
   "source": [
    "<img src=\"../images/voting.jpg\" alt=\"voting\" width=\"400\" align=\"left\"/>"
   ]
  },
  {
   "cell_type": "markdown",
   "metadata": {},
   "source": [
    "## Introduction"
   ]
  },
  {
   "cell_type": "markdown",
   "metadata": {},
   "source": [
    "Claims of voter fraud are widespread. Here's one example:"
   ]
  },
  {
   "cell_type": "markdown",
   "metadata": {},
   "source": [
    "> **“Probably over a million people voted twice \n",
    "in [the 2012 presidential] election.”**\n",
    ">\n",
    "> Dick Morris, in 2014 on Fox News"
   ]
  },
  {
   "cell_type": "markdown",
   "metadata": {},
   "source": [
    "**Double voting** occurs when a single person illegally casts more than one vote in an election.\n",
    "\n",
    "To start, consider this fact:\n",
    "\n",
    "> In the 2012 election, there were 141 individuals named \"John Smith\" who were born in 1970. Among those 141 individuals, there were 27 pairs of people with exactly the same birthday.\n",
    "\n",
    "Were there 27 fraudulent \"John Smith\" ballots in the 2012 election? Let's find out."
   ]
  },
  {
   "cell_type": "markdown",
   "metadata": {},
   "source": [
    "## The birthday problem"
   ]
  },
  {
   "cell_type": "markdown",
   "metadata": {},
   "source": [
    "To begin answering this question, let's solve a similar problem: \n",
    "\n",
    "> In a room of 30 people, how likely is it that two people share exactly the same birthday? \n",
    ">\n",
    "> You can assume that every person in the room was born in the same year."
   ]
  },
  {
   "cell_type": "markdown",
   "metadata": {},
   "source": [
    "To answer this question, we could use the following [Monte Carlo](https://en.wikipedia.org/wiki/Monte_Carlo_method) algorithm:\n",
    " > 1. We need a room of 30 people, and we need to know their birthdays.\n",
    " > 2. We need to check whether two people in that room share a birthday.\n",
    " > 3. We need to repeat steps 1 and 2 over and over.\n",
    " > 4. We need to figure out how often two or more people shared a birthday in our simulations."
   ]
  },
  {
   "cell_type": "markdown",
   "metadata": {},
   "source": [
    "## The `sample` command"
   ]
  },
  {
   "cell_type": "markdown",
   "metadata": {},
   "source": [
    "Here's the first step of our algorithm:\n",
    "\n",
    "> We need a room of 30 people, and we need to know their birthdays.\n",
    "\n",
    "To do this in `R`, we could use the `sample` command, which works as follows:\n",
    "\n",
    "> `sample(numbers to choose from, how many numbers to choose, whether to re-use numbers)`\n",
    "\n",
    "Note: To learn more about an `R` function, enter `?<function_name>` into the console. For example, entering `?sample` will provide information about the `sample` command."
   ]
  },
  {
   "cell_type": "code",
   "execution_count": 1,
   "metadata": {},
   "outputs": [
    {
     "data": {
      "text/html": [
       "<ol class=list-inline>\n",
       "\t<li>23</li>\n",
       "\t<li>19</li>\n",
       "\t<li>38</li>\n",
       "\t<li>26</li>\n",
       "\t<li>47</li>\n",
       "</ol>\n"
      ],
      "text/latex": [
       "\\begin{enumerate*}\n",
       "\\item 23\n",
       "\\item 19\n",
       "\\item 38\n",
       "\\item 26\n",
       "\\item 47\n",
       "\\end{enumerate*}\n"
      ],
      "text/markdown": [
       "1. 23\n",
       "2. 19\n",
       "3. 38\n",
       "4. 26\n",
       "5. 47\n",
       "\n",
       "\n"
      ],
      "text/plain": [
       "[1] 23 19 38 26 47"
      ]
     },
     "metadata": {},
     "output_type": "display_data"
    }
   ],
   "source": [
    "# To run code in a cell, you can either press SHIFT + ENTER, \n",
    "# or press the triangular play button at the top of this page.\n",
    "#\n",
    "# Note: the colon (`:`) symbol allows us to create lists of consecutive \n",
    "# integers from start:end.\n",
    "\n",
    "sample(1:50, 5, replace = FALSE)"
   ]
  },
  {
   "cell_type": "code",
   "execution_count": 2,
   "metadata": {},
   "outputs": [
    {
     "data": {
      "text/html": [
       "<ol class=list-inline>\n",
       "\t<li>50</li>\n",
       "\t<li>60</li>\n",
       "\t<li>51</li>\n",
       "\t<li>60</li>\n",
       "\t<li>55</li>\n",
       "</ol>\n"
      ],
      "text/latex": [
       "\\begin{enumerate*}\n",
       "\\item 50\n",
       "\\item 60\n",
       "\\item 51\n",
       "\\item 60\n",
       "\\item 55\n",
       "\\end{enumerate*}\n"
      ],
      "text/markdown": [
       "1. 50\n",
       "2. 60\n",
       "3. 51\n",
       "4. 60\n",
       "5. 55\n",
       "\n",
       "\n"
      ],
      "text/plain": [
       "[1] 50 60 51 60 55"
      ]
     },
     "metadata": {},
     "output_type": "display_data"
    }
   ],
   "source": [
    "sample(50:60, 5, replace = TRUE)"
   ]
  },
  {
   "cell_type": "code",
   "execution_count": 3,
   "metadata": {},
   "outputs": [
    {
     "ename": "ERROR",
     "evalue": "Error in sample.int(length(x), size, replace, prob): cannot take a sample larger than the population when 'replace = FALSE'\n",
     "output_type": "error",
     "traceback": [
      "Error in sample.int(length(x), size, replace, prob): cannot take a sample larger than the population when 'replace = FALSE'\nTraceback:\n",
      "1. sample(1:5, 6, replace = FALSE)",
      "2. sample.int(length(x), size, replace, prob)"
     ]
    }
   ],
   "source": [
    "# Why does this fail?\n",
    "sample(1:5, 6, replace = FALSE)"
   ]
  },
  {
   "cell_type": "markdown",
   "metadata": {},
   "source": [
    "### Exercise\n",
    "\n",
    "**Using `sample`, simulate a list of 30 random birthdays.**"
   ]
  },
  {
   "cell_type": "code",
   "execution_count": 4,
   "metadata": {},
   "outputs": [
    {
     "data": {
      "text/html": [
       "<ol class=list-inline>\n",
       "\t<li>307</li>\n",
       "\t<li>334</li>\n",
       "\t<li>126</li>\n",
       "\t<li>246</li>\n",
       "\t<li>163</li>\n",
       "\t<li>78</li>\n",
       "\t<li>15</li>\n",
       "\t<li>295</li>\n",
       "\t<li>80</li>\n",
       "\t<li>194</li>\n",
       "\t<li>266</li>\n",
       "\t<li>67</li>\n",
       "\t<li>237</li>\n",
       "\t<li>259</li>\n",
       "\t<li>156</li>\n",
       "\t<li>11</li>\n",
       "\t<li>139</li>\n",
       "\t<li>212</li>\n",
       "\t<li>63</li>\n",
       "\t<li>109</li>\n",
       "\t<li>23</li>\n",
       "\t<li>62</li>\n",
       "\t<li>118</li>\n",
       "\t<li>211</li>\n",
       "\t<li>309</li>\n",
       "\t<li>193</li>\n",
       "\t<li>279</li>\n",
       "\t<li>221</li>\n",
       "\t<li>154</li>\n",
       "\t<li>297</li>\n",
       "</ol>\n"
      ],
      "text/latex": [
       "\\begin{enumerate*}\n",
       "\\item 307\n",
       "\\item 334\n",
       "\\item 126\n",
       "\\item 246\n",
       "\\item 163\n",
       "\\item 78\n",
       "\\item 15\n",
       "\\item 295\n",
       "\\item 80\n",
       "\\item 194\n",
       "\\item 266\n",
       "\\item 67\n",
       "\\item 237\n",
       "\\item 259\n",
       "\\item 156\n",
       "\\item 11\n",
       "\\item 139\n",
       "\\item 212\n",
       "\\item 63\n",
       "\\item 109\n",
       "\\item 23\n",
       "\\item 62\n",
       "\\item 118\n",
       "\\item 211\n",
       "\\item 309\n",
       "\\item 193\n",
       "\\item 279\n",
       "\\item 221\n",
       "\\item 154\n",
       "\\item 297\n",
       "\\end{enumerate*}\n"
      ],
      "text/markdown": [
       "1. 307\n",
       "2. 334\n",
       "3. 126\n",
       "4. 246\n",
       "5. 163\n",
       "6. 78\n",
       "7. 15\n",
       "8. 295\n",
       "9. 80\n",
       "10. 194\n",
       "11. 266\n",
       "12. 67\n",
       "13. 237\n",
       "14. 259\n",
       "15. 156\n",
       "16. 11\n",
       "17. 139\n",
       "18. 212\n",
       "19. 63\n",
       "20. 109\n",
       "21. 23\n",
       "22. 62\n",
       "23. 118\n",
       "24. 211\n",
       "25. 309\n",
       "26. 193\n",
       "27. 279\n",
       "28. 221\n",
       "29. 154\n",
       "30. 297\n",
       "\n",
       "\n"
      ],
      "text/plain": [
       " [1] 307 334 126 246 163  78  15 295  80 194 266  67 237 259 156  11 139 212  63\n",
       "[20] 109  23  62 118 211 309 193 279 221 154 297"
      ]
     },
     "metadata": {},
     "output_type": "display_data"
    }
   ],
   "source": [
    "# Your code goes here!\n",
    "\n",
    "# START\n",
    "sample(1:365, 30, replace = TRUE)\n",
    "# END"
   ]
  },
  {
   "cell_type": "markdown",
   "metadata": {},
   "source": [
    "## Interlude: Basic operations, variables, and vectors"
   ]
  },
  {
   "cell_type": "markdown",
   "metadata": {},
   "source": [
    "### Using R as a calculator"
   ]
  },
  {
   "cell_type": "code",
   "execution_count": 5,
   "metadata": {},
   "outputs": [
    {
     "data": {
      "text/html": [
       "15"
      ],
      "text/latex": [
       "15"
      ],
      "text/markdown": [
       "15"
      ],
      "text/plain": [
       "[1] 15"
      ]
     },
     "metadata": {},
     "output_type": "display_data"
    }
   ],
   "source": [
    "5 + 10"
   ]
  },
  {
   "cell_type": "code",
   "execution_count": 6,
   "metadata": {},
   "outputs": [
    {
     "data": {
      "text/html": [
       "90"
      ],
      "text/latex": [
       "90"
      ],
      "text/markdown": [
       "90"
      ],
      "text/plain": [
       "[1] 90"
      ]
     },
     "metadata": {},
     "output_type": "display_data"
    }
   ],
   "source": [
    "30 * 3"
   ]
  },
  {
   "cell_type": "code",
   "execution_count": 7,
   "metadata": {},
   "outputs": [
    {
     "data": {
      "text/html": [
       "5"
      ],
      "text/latex": [
       "5"
      ],
      "text/markdown": [
       "5"
      ],
      "text/plain": [
       "[1] 5"
      ]
     },
     "metadata": {},
     "output_type": "display_data"
    }
   ],
   "source": [
    "25 / 5"
   ]
  },
  {
   "cell_type": "code",
   "execution_count": 8,
   "metadata": {},
   "outputs": [
    {
     "data": {
      "text/html": [
       "9"
      ],
      "text/latex": [
       "9"
      ],
      "text/markdown": [
       "9"
      ],
      "text/plain": [
       "[1] 9"
      ]
     },
     "metadata": {},
     "output_type": "display_data"
    }
   ],
   "source": [
    "3 ^ 2"
   ]
  },
  {
   "cell_type": "code",
   "execution_count": 9,
   "metadata": {},
   "outputs": [
    {
     "data": {
      "text/html": [
       "25"
      ],
      "text/latex": [
       "25"
      ],
      "text/markdown": [
       "25"
      ],
      "text/plain": [
       "[1] 25"
      ]
     },
     "metadata": {},
     "output_type": "display_data"
    }
   ],
   "source": [
    "(2 + 3) * 5"
   ]
  },
  {
   "cell_type": "markdown",
   "metadata": {},
   "source": [
    "### Variable Assignment"
   ]
  },
  {
   "cell_type": "markdown",
   "metadata": {},
   "source": [
    "While both `x <- 2` and `x = 2` will assign the value `2` to `x`, it is customary to use `<-` for variable assignment in `R`."
   ]
  },
  {
   "cell_type": "code",
   "execution_count": 10,
   "metadata": {},
   "outputs": [
    {
     "data": {
      "text/html": [
       "2"
      ],
      "text/latex": [
       "2"
      ],
      "text/markdown": [
       "2"
      ],
      "text/plain": [
       "[1] 2"
      ]
     },
     "metadata": {},
     "output_type": "display_data"
    }
   ],
   "source": [
    "x <- 2\n",
    "x"
   ]
  },
  {
   "cell_type": "code",
   "execution_count": 11,
   "metadata": {},
   "outputs": [
    {
     "data": {
      "text/html": [
       "2"
      ],
      "text/latex": [
       "2"
      ],
      "text/markdown": [
       "2"
      ],
      "text/plain": [
       "[1] 2"
      ]
     },
     "metadata": {},
     "output_type": "display_data"
    }
   ],
   "source": [
    "x = 2\n",
    "x"
   ]
  },
  {
   "cell_type": "markdown",
   "metadata": {},
   "source": [
    "### Vectors\n",
    "\n",
    "Vectors are the building block of `R`. Even single digits and strings are technically vectors of length 1."
   ]
  },
  {
   "cell_type": "code",
   "execution_count": 12,
   "metadata": {},
   "outputs": [
    {
     "name": "stdout",
     "output_type": "stream",
     "text": [
      "[1] \"hello\"\n"
     ]
    }
   ],
   "source": [
    "print(\"hello\")"
   ]
  },
  {
   "cell_type": "markdown",
   "metadata": {},
   "source": [
    "The bracketed numbers on the left side of the printed results indicate the index of the element immediately to the right.\n",
    "\n",
    "For example `[26]` indicates that `50` is the 26th element in the vector."
   ]
  },
  {
   "cell_type": "code",
   "execution_count": 13,
   "metadata": {},
   "outputs": [
    {
     "name": "stdout",
     "output_type": "stream",
     "text": [
      " [1] 25 26 27 28 29 30 31 32 33 34 35 36 37 38 39 40 41 42 43 44 45 46 47 48 49\n",
      "[26] 50 51 52 53 54 55 56 57 58 59 60 61 62 63 64 65 66 67 68 69 70 71 72 73 74\n",
      "[51] 75\n"
     ]
    }
   ],
   "source": [
    "print(25:75)"
   ]
  },
  {
   "cell_type": "markdown",
   "metadata": {},
   "source": [
    "We can also use `c()` to create vectors. The \"c\" stands for **concatenate**."
   ]
  },
  {
   "cell_type": "code",
   "execution_count": 14,
   "metadata": {},
   "outputs": [
    {
     "data": {
      "text/html": [
       "<ol class=list-inline>\n",
       "\t<li>10</li>\n",
       "\t<li>100</li>\n",
       "\t<li>1000</li>\n",
       "</ol>\n"
      ],
      "text/latex": [
       "\\begin{enumerate*}\n",
       "\\item 10\n",
       "\\item 100\n",
       "\\item 1000\n",
       "\\end{enumerate*}\n"
      ],
      "text/markdown": [
       "1. 10\n",
       "2. 100\n",
       "3. 1000\n",
       "\n",
       "\n"
      ],
      "text/plain": [
       "[1]   10  100 1000"
      ]
     },
     "metadata": {},
     "output_type": "display_data"
    }
   ],
   "source": [
    "c(10, 100, 1000)"
   ]
  },
  {
   "cell_type": "markdown",
   "metadata": {},
   "source": [
    "We can index elements of vectors using `[ ]`.\n",
    "\n",
    "**IMPORTANT NOTE**: Unlike other programming languages, R is _1-indexed_, not _0-indexed_. So, the first element in a vector is assigned an index of 1, not 0. "
   ]
  },
  {
   "cell_type": "code",
   "execution_count": 15,
   "metadata": {},
   "outputs": [],
   "source": [
    "my_vector <- c(\"Apple\", \"Banana\", \"Carrot\", \"Daikon\")"
   ]
  },
  {
   "cell_type": "code",
   "execution_count": 16,
   "metadata": {},
   "outputs": [
    {
     "data": {
      "text/html": [
       "'Apple'"
      ],
      "text/latex": [
       "'Apple'"
      ],
      "text/markdown": [
       "'Apple'"
      ],
      "text/plain": [
       "[1] \"Apple\""
      ]
     },
     "metadata": {},
     "output_type": "display_data"
    }
   ],
   "source": [
    "my_vector[1]"
   ]
  },
  {
   "cell_type": "markdown",
   "metadata": {},
   "source": [
    "We can optionally name elements of vectors:"
   ]
  },
  {
   "cell_type": "code",
   "execution_count": 17,
   "metadata": {},
   "outputs": [
    {
     "data": {
      "text/html": [
       "<strong>B:</strong> 'Banana'"
      ],
      "text/latex": [
       "\\textbf{B:} 'Banana'"
      ],
      "text/markdown": [
       "**B:** 'Banana'"
      ],
      "text/plain": [
       "       B \n",
       "\"Banana\" "
      ]
     },
     "metadata": {},
     "output_type": "display_data"
    }
   ],
   "source": [
    "named_vector <- c(A = \"Apple\", B = \"Banana\", C = \"Carrot\", D = \"Daikon\")\n",
    "named_vector['B']"
   ]
  },
  {
   "cell_type": "markdown",
   "metadata": {},
   "source": [
    "## Back to the birthday problem: Finding duplicates"
   ]
  },
  {
   "cell_type": "markdown",
   "metadata": {},
   "source": [
    "The code below defines a new function, `has_duplicate`.\n",
    "\n",
    "> `has_duplicate` returns `TRUE` if a vector contains any duplicate values, and FALSE otherwise.\n",
    "\n",
    "`R` automatically returns the last line of every function. No need to call `return` explicitly."
   ]
  },
  {
   "cell_type": "code",
   "execution_count": 18,
   "metadata": {},
   "outputs": [],
   "source": [
    "has_duplicate <- function(v) {\n",
    "    any(duplicated(v))\n",
    "}"
   ]
  },
  {
   "cell_type": "code",
   "execution_count": 19,
   "metadata": {},
   "outputs": [
    {
     "data": {
      "text/html": [
       "FALSE"
      ],
      "text/latex": [
       "FALSE"
      ],
      "text/markdown": [
       "FALSE"
      ],
      "text/plain": [
       "[1] FALSE"
      ]
     },
     "metadata": {},
     "output_type": "display_data"
    }
   ],
   "source": [
    "has_duplicate(c(1, 2, 3, 4, 5))"
   ]
  },
  {
   "cell_type": "code",
   "execution_count": 20,
   "metadata": {},
   "outputs": [
    {
     "data": {
      "text/html": [
       "TRUE"
      ],
      "text/latex": [
       "TRUE"
      ],
      "text/markdown": [
       "TRUE"
      ],
      "text/plain": [
       "[1] TRUE"
      ]
     },
     "metadata": {},
     "output_type": "display_data"
    }
   ],
   "source": [
    "has_duplicate(c(1, 2, 3, 4, 5, 5))"
   ]
  },
  {
   "cell_type": "markdown",
   "metadata": {},
   "source": [
    "### Exercise\n",
    "\n",
    "**Generate a vector of 30 random birthdays, and determine whether the vector has any duplicates. Run your code a couple times to get a sense of how frequently there is at least one duplicated birthday.**"
   ]
  },
  {
   "cell_type": "code",
   "execution_count": 21,
   "metadata": {},
   "outputs": [
    {
     "data": {
      "text/html": [
       "FALSE"
      ],
      "text/latex": [
       "FALSE"
      ],
      "text/markdown": [
       "FALSE"
      ],
      "text/plain": [
       "[1] FALSE"
      ]
     },
     "metadata": {},
     "output_type": "display_data"
    }
   ],
   "source": [
    "# Your code here!\n",
    "\n",
    "# START\n",
    "has_duplicate(sample(1:365, 30, replace = TRUE))\n",
    "# END"
   ]
  },
  {
   "cell_type": "markdown",
   "metadata": {},
   "source": [
    "### Counting duplicates\n",
    "\n",
    "The code below defines another function, `num_pairs`.\n",
    "\n",
    "`num_pairs` returns the number of pairs that can formed with duplicated values.\n",
    "\n",
    "> Recall that we can form $\\binom{n}{2}$ pairs from $n$ values, where\n",
    ">\n",
    "> $\\binom{n}{2} = \\frac{n(n-1)}{2}$\n",
    "\n",
    "For example, the vector `c(1, 2, 3, 3)` has two 3s, so `num_pairs` should return $\\binom{2}{2} = 1$. In other words, we can only make one pair of identical numbers.\n",
    "\n",
    "The vector `c(1, 2, 3, 3, 3, 3)` has four 3s, so `num_pairs` should return $\\binom{4}{2} = 6$.\n",
    "\n",
    "The vector `c(1, 2, 3, 4, 5, 5, 5, 6, 6)` has three 5s and two 6s, so `num_pairs` should return $\\binom{3}{2} + \\binom{2}{2} = 4$."
   ]
  },
  {
   "cell_type": "code",
   "execution_count": 22,
   "metadata": {},
   "outputs": [],
   "source": [
    "# don't worry about studying / understanding this specific function!\n",
    "num_pairs <- function(v) {\n",
    "    duplicated_indices <- duplicated(v)\n",
    "    duplicated_values <- v[duplicated_indices]\n",
    "    duplicated_counts <- table(duplicated_values) + 1\n",
    "    sum(choose(duplicated_counts, 2))\n",
    "}"
   ]
  },
  {
   "cell_type": "code",
   "execution_count": 23,
   "metadata": {},
   "outputs": [
    {
     "data": {
      "text/html": [
       "1"
      ],
      "text/latex": [
       "1"
      ],
      "text/markdown": [
       "1"
      ],
      "text/plain": [
       "[1] 1"
      ]
     },
     "metadata": {},
     "output_type": "display_data"
    }
   ],
   "source": [
    "num_pairs(c(1, 2, 3, 3))"
   ]
  },
  {
   "cell_type": "code",
   "execution_count": 24,
   "metadata": {},
   "outputs": [
    {
     "data": {
      "text/html": [
       "6"
      ],
      "text/latex": [
       "6"
      ],
      "text/markdown": [
       "6"
      ],
      "text/plain": [
       "[1] 6"
      ]
     },
     "metadata": {},
     "output_type": "display_data"
    }
   ],
   "source": [
    "num_pairs(c(1, 2, 3, 3, 3, 3))"
   ]
  },
  {
   "cell_type": "code",
   "execution_count": 25,
   "metadata": {},
   "outputs": [
    {
     "data": {
      "text/html": [
       "4"
      ],
      "text/latex": [
       "4"
      ],
      "text/markdown": [
       "4"
      ],
      "text/plain": [
       "[1] 4"
      ]
     },
     "metadata": {},
     "output_type": "display_data"
    }
   ],
   "source": [
    "num_pairs(c(1, 2, 3, 4, 5, 5, 5, 6, 6))"
   ]
  },
  {
   "cell_type": "markdown",
   "metadata": {},
   "source": [
    "### Exercise\n",
    "\n",
    "**Think back to the John Smith example:**\n",
    "\n",
    "> In the 2012 election, there were 141 individuals named \"John Smith\" who were born in 1970. Among those 141 individuals, there were 27 pairs of people with exactly the same birthday.\n",
    "\n",
    "**Generate a vector of 141 random birthdays, and determine how many duplicate pairs can be formed from elements in the vector.** Run your code repeatedly to see how the results can change due to randomness."
   ]
  },
  {
   "cell_type": "code",
   "execution_count": 26,
   "metadata": {},
   "outputs": [
    {
     "data": {
      "text/html": [
       "22"
      ],
      "text/latex": [
       "22"
      ],
      "text/markdown": [
       "22"
      ],
      "text/plain": [
       "[1] 22"
      ]
     },
     "metadata": {},
     "output_type": "display_data"
    }
   ],
   "source": [
    "# Your code here!\n",
    "\n",
    "# START\n",
    "num_pairs(sample(1:365, 141, replace = TRUE))\n",
    "# END"
   ]
  },
  {
   "cell_type": "markdown",
   "metadata": {},
   "source": [
    "### Repetition with `for` loops\n",
    "\n",
    "Here's the third step in our algorithm:\n",
    "\n",
    "> We need to repeat this process over and over.\n",
    "\n",
    "Here's the syntax for a `for` loop with `R`:\n",
    "\n",
    "> for (`element` in `vector`) { do something }"
   ]
  },
  {
   "cell_type": "markdown",
   "metadata": {},
   "source": [
    "**Important note:** `for` loops are typically not the most efficient way to solve problems in `R`, but they are a handy tool for learning about iteration. Instead, it is best to use a vectorized function, such as `replicate` or `map`. We will see an example later on."
   ]
  },
  {
   "cell_type": "code",
   "execution_count": 27,
   "metadata": {},
   "outputs": [
    {
     "name": "stdout",
     "output_type": "stream",
     "text": [
      "[1] \"Hello, world!\"\n",
      "[1] \"Hello, world!\"\n",
      "[1] \"Hello, world!\"\n",
      "[1] \"Hello, world!\"\n",
      "[1] \"Hello, world!\"\n",
      "[1] \"Hello, world!\"\n",
      "[1] \"Hello, world!\"\n",
      "[1] \"Hello, world!\"\n",
      "[1] \"Hello, world!\"\n",
      "[1] \"Hello, world!\"\n"
     ]
    }
   ],
   "source": [
    "for (i in 1:10) {\n",
    "    print(\"Hello, world!\")\n",
    "}"
   ]
  },
  {
   "cell_type": "code",
   "execution_count": 28,
   "metadata": {},
   "outputs": [
    {
     "name": "stdout",
     "output_type": "stream",
     "text": [
      "[1] 15  5  1  6 16\n",
      "[1]  7 14 19  4 18\n",
      "[1]  7  6 14  5 16\n"
     ]
    }
   ],
   "source": [
    "for (i in 1:3) {\n",
    "    print(sample(1:20, 5, replace = TRUE))\n",
    "}"
   ]
  },
  {
   "cell_type": "markdown",
   "metadata": {},
   "source": [
    "## Interlude: Booleans and control flow"
   ]
  },
  {
   "cell_type": "code",
   "execution_count": 29,
   "metadata": {},
   "outputs": [
    {
     "data": {
      "text/html": [
       "FALSE"
      ],
      "text/latex": [
       "FALSE"
      ],
      "text/markdown": [
       "FALSE"
      ],
      "text/plain": [
       "[1] FALSE"
      ]
     },
     "metadata": {},
     "output_type": "display_data"
    }
   ],
   "source": [
    "9 == 10"
   ]
  },
  {
   "cell_type": "code",
   "execution_count": 30,
   "metadata": {},
   "outputs": [
    {
     "data": {
      "text/html": [
       "TRUE"
      ],
      "text/latex": [
       "TRUE"
      ],
      "text/markdown": [
       "TRUE"
      ],
      "text/plain": [
       "[1] TRUE"
      ]
     },
     "metadata": {},
     "output_type": "display_data"
    }
   ],
   "source": [
    "9 <= 10"
   ]
  },
  {
   "cell_type": "code",
   "execution_count": 31,
   "metadata": {},
   "outputs": [
    {
     "data": {
      "text/html": [
       "FALSE"
      ],
      "text/latex": [
       "FALSE"
      ],
      "text/markdown": [
       "FALSE"
      ],
      "text/plain": [
       "[1] FALSE"
      ]
     },
     "metadata": {},
     "output_type": "display_data"
    }
   ],
   "source": [
    "TRUE & FALSE"
   ]
  },
  {
   "cell_type": "code",
   "execution_count": 32,
   "metadata": {},
   "outputs": [
    {
     "data": {
      "text/html": [
       "TRUE"
      ],
      "text/latex": [
       "TRUE"
      ],
      "text/markdown": [
       "TRUE"
      ],
      "text/plain": [
       "[1] TRUE"
      ]
     },
     "metadata": {},
     "output_type": "display_data"
    }
   ],
   "source": [
    "T | F"
   ]
  },
  {
   "cell_type": "code",
   "execution_count": 33,
   "metadata": {},
   "outputs": [
    {
     "data": {
      "text/html": [
       "FALSE"
      ],
      "text/latex": [
       "FALSE"
      ],
      "text/markdown": [
       "FALSE"
      ],
      "text/plain": [
       "[1] FALSE"
      ]
     },
     "metadata": {},
     "output_type": "display_data"
    }
   ],
   "source": [
    "! TRUE"
   ]
  },
  {
   "cell_type": "code",
   "execution_count": 34,
   "metadata": {},
   "outputs": [
    {
     "name": "stdout",
     "output_type": "stream",
     "text": [
      "[1] 1\n",
      "[1] \"Counter is less than 3.\"\n",
      "[1] 2\n",
      "[1] \"Counter is less than 3.\"\n",
      "[1] 3\n",
      "[1] \"Counter is now bigger than or equal to 3!\"\n",
      "[1] 4\n",
      "[1] \"Counter is now bigger than or equal to 3!\"\n",
      "[1] 5\n",
      "[1] \"Counter is now bigger than or equal to 3!\"\n"
     ]
    }
   ],
   "source": [
    "counter <- 0\n",
    "\n",
    "for (i in 1:5) {\n",
    "    counter <- counter + 1\n",
    "    print(counter)\n",
    "    \n",
    "    if (counter >= 3) {\n",
    "        print(\"Counter is now bigger than or equal to 3!\")\n",
    "    }\n",
    "    \n",
    "    else {\n",
    "        print(\"Counter is less than 3.\")\n",
    "    }\n",
    "}"
   ]
  },
  {
   "cell_type": "markdown",
   "metadata": {},
   "source": [
    "## Back to the birthday problem: Translating our algorithm into code"
   ]
  },
  {
   "cell_type": "markdown",
   "metadata": {},
   "source": [
    "We're ready to come back to our algorithm:\n",
    "\n",
    "> 1. We need a room of 30 people, and we need to know their birthdays.\n",
    "> 2. We need to check whether two people in that room share a birthday.\n",
    "> 3. We need to repeat this process over and over.\n",
    "> 4. We need to figure out how frequently two or more people shared a birthday in our simulations."
   ]
  },
  {
   "cell_type": "markdown",
   "metadata": {},
   "source": [
    "### Exercise\n",
    "\n",
    "**Translate our algorithm into code to solve the birthday problem!**"
   ]
  },
  {
   "cell_type": "code",
   "execution_count": 35,
   "metadata": {},
   "outputs": [
    {
     "data": {
      "text/html": [
       "0.695"
      ],
      "text/latex": [
       "0.695"
      ],
      "text/markdown": [
       "0.695"
      ],
      "text/plain": [
       "[1] 0.695"
      ]
     },
     "metadata": {},
     "output_type": "display_data"
    }
   ],
   "source": [
    "# Your code here!\n",
    "\n",
    "# START\n",
    "# This is the total number of birthday vectors we will generate\n",
    "n <- 1000\n",
    "\n",
    "# This is a counter to keep track of how many vectors had at least one duplicate birthday\n",
    "n_with_duplicates <- 0\n",
    "\n",
    "# Each time we see a vector with at least one duplicate, we should increment our counter\n",
    "for (i in 1:n) {\n",
    "    \n",
    "    if (has_duplicate(sample(1:365, 30, replace = TRUE))) {\n",
    "        \n",
    "        n_with_duplicates <- n_with_duplicates + 1\n",
    "    }\n",
    "    \n",
    "}\n",
    "\n",
    "# Fraction of vectors with at least one duplicate\n",
    "n_with_duplicates / n\n",
    "# END"
   ]
  },
  {
   "cell_type": "markdown",
   "metadata": {},
   "source": [
    "### Exercise A\n",
    "\n",
    "**Increase the number of people in the room, and re-run the code several times. What happens to the probability of getting a duplicate?**"
   ]
  },
  {
   "cell_type": "markdown",
   "metadata": {},
   "source": [
    "Write your answer by double clicking on this text!"
   ]
  },
  {
   "cell_type": "markdown",
   "metadata": {},
   "source": [
    "### Exercise B\n",
    "\n",
    "**Decrease the number of simulated rooms to 100, and re-run the code several times. What happens to the results?**"
   ]
  },
  {
   "cell_type": "markdown",
   "metadata": {},
   "source": [
    "Write your answer by double clicking on this text!"
   ]
  },
  {
   "cell_type": "markdown",
   "metadata": {},
   "source": [
    "### Exercise C\n",
    "\n",
    "**Increase the number of simulated rooms to 100,000, and re-run the code several times. What happens to the results?**"
   ]
  },
  {
   "cell_type": "markdown",
   "metadata": {},
   "source": [
    "Write your answer by double clicking on this text!"
   ]
  },
  {
   "cell_type": "markdown",
   "metadata": {},
   "source": [
    "### Exercise D\n",
    "\n",
    "**How many people do we need in a room so that there's an approximately 50% chance of a match?**"
   ]
  },
  {
   "cell_type": "markdown",
   "metadata": {},
   "source": [
    "Write your answer by double clicking on this text!"
   ]
  },
  {
   "cell_type": "markdown",
   "metadata": {},
   "source": [
    "## Circling back to double voting\n",
    "\n",
    "Remember our original problem:\n",
    "\n",
    "> In the 2012 election, there were 141 individuals named \"John Smith\" who were born in 1970. Among those 141 individuals, there were 27 pairs of people with exactly the same birthday.\n",
    "\n",
    "### Exercise\n",
    "\n",
    "**Modify the simulation code to calculate the average number of duplicate birthday pairs across 1,000 vectors of 141 individuals.**\n",
    "\n",
    "How does your answer compare to the 27 birthday pairs we found in the real data?"
   ]
  },
  {
   "cell_type": "code",
   "execution_count": 36,
   "metadata": {},
   "outputs": [
    {
     "data": {
      "text/html": [
       "27.191"
      ],
      "text/latex": [
       "27.191"
      ],
      "text/markdown": [
       "27.191"
      ],
      "text/plain": [
       "[1] 27.191"
      ]
     },
     "metadata": {},
     "output_type": "display_data"
    }
   ],
   "source": [
    "# Your code here!\n",
    "\n",
    "# START\n",
    "n <- 1000\n",
    "\n",
    "n_pairs <- 0\n",
    "\n",
    "for (i in 1:n) {\n",
    "    \n",
    "    n_pairs <- n_pairs + num_pairs(sample(1:365, 141, replace = TRUE))\n",
    "    \n",
    "}\n",
    "\n",
    "n_pairs / n\n",
    "# END"
   ]
  },
  {
   "cell_type": "markdown",
   "metadata": {},
   "source": [
    "## Solving the problem with _math_\n",
    "\n",
    "We took a bit of a meandering path to solve this problem. But don't worry, it was about the journey, not the destination!\n",
    "\n",
    "A more direct route starts by observing that for a random pair of people, there's about a 1 in 365 chance that they share the same birthday (month and day, not year). That's because the first person is born on some day, say June 12, and the second person is about equally likely to be born on any day of the year, so, in particular, they have about a 1 in 365 chance of being born on June 12 (or whatever day the first person was born on).\n",
    "\n",
    "Now, in room of 141 people, the number of _pairs of people_ is:\n",
    "\n",
    "> $\\binom{141}{2} = \\frac{141\\cdot140}{2} = 9,870$.\n",
    "\n",
    "Finally, since each pair has about 1 in 365 chance of being a match, we expect\n",
    "\n",
    "> $\\frac{141\\cdot140}{2} \\cdot \\frac{1}{365} \\approx 27$ matches.\n"
   ]
  },
  {
   "cell_type": "code",
   "execution_count": 37,
   "metadata": {},
   "outputs": [
    {
     "data": {
      "text/html": [
       "27.041095890411"
      ],
      "text/latex": [
       "27.041095890411"
      ],
      "text/markdown": [
       "27.041095890411"
      ],
      "text/plain": [
       "[1] 27.0411"
      ]
     },
     "metadata": {},
     "output_type": "display_data"
    }
   ],
   "source": [
    "(141 * 140 / 2) * 1/365"
   ]
  }
 ],
 "metadata": {
  "kernelspec": {
   "display_name": "R",
   "language": "R",
   "name": "ir"
  },
  "language_info": {
   "codemirror_mode": "r",
   "file_extension": ".r",
   "mimetype": "text/x-r-source",
   "name": "R",
   "pygments_lexer": "r",
   "version": "3.6.3"
  }
 },
 "nbformat": 4,
 "nbformat_minor": 4
}
