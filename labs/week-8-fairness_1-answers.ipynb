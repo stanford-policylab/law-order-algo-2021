{
 "cells": [
  {
   "cell_type": "markdown",
   "metadata": {},
   "source": [
    "# Law, Order, and Algorithms\n",
    "## Algorithmic fairness (1/2)\n",
    "\n",
    "In 2016, ProPublica published a [now-famous article](https://www.propublica.org/article/machine-bias-risk-assessments-in-criminal-sentencing) analyzing and criticizing the lack of fairness in a risk assessment tool used nationwide called COMPAS. Here, we will take a look at a cleaned-up version of the COMPAS data that ProPublica used, and try to better understand algorithmic fairness by investigating the claims ProPublica made, along with the [counterclaims](https://www.propublica.org/article/technical-response-to-northpointe) made by Northpointe (now re-branded as [Equivant](https://www.equivant.com/)).\n",
    "\n",
    "While Northpointe notes that their algorithm does not use race information and that their model is calibrated across racial groups, ProPublica points out that the COMPAS scores differ in false positive rates across racial groups (violating classification parity). In this notebook, we will examine some of their claims by building and evaluating our own risk assessment tool."
   ]
  },
  {
   "cell_type": "code",
   "execution_count": 1,
   "metadata": {},
   "outputs": [
    {
     "name": "stderr",
     "output_type": "stream",
     "text": [
      "── \u001b[1mAttaching packages\u001b[22m ─────────────────────────────────────── tidyverse 1.3.0 ──\n",
      "\u001b[32m✔\u001b[39m \u001b[34mggplot2\u001b[39m 3.3.2     \u001b[32m✔\u001b[39m \u001b[34mpurrr  \u001b[39m 0.3.4\n",
      "\u001b[32m✔\u001b[39m \u001b[34mtibble \u001b[39m 3.0.3     \u001b[32m✔\u001b[39m \u001b[34mdplyr  \u001b[39m 1.0.0\n",
      "\u001b[32m✔\u001b[39m \u001b[34mtidyr  \u001b[39m 1.1.0     \u001b[32m✔\u001b[39m \u001b[34mstringr\u001b[39m 1.4.0\n",
      "\u001b[32m✔\u001b[39m \u001b[34mreadr  \u001b[39m 1.3.1     \u001b[32m✔\u001b[39m \u001b[34mforcats\u001b[39m 0.4.0\n",
      "── \u001b[1mConflicts\u001b[22m ────────────────────────────────────────── tidyverse_conflicts() ──\n",
      "\u001b[31m✖\u001b[39m \u001b[34mdplyr\u001b[39m::\u001b[32mfilter()\u001b[39m masks \u001b[34mstats\u001b[39m::filter()\n",
      "\u001b[31m✖\u001b[39m \u001b[34mdplyr\u001b[39m::\u001b[32mlag()\u001b[39m    masks \u001b[34mstats\u001b[39m::lag()\n"
     ]
    }
   ],
   "source": [
    "# Some initial setup\n",
    "options(digits = 3)\n",
    "library(tidyverse)\n",
    "\n",
    "theme_set(theme_bw())\n",
    "\n",
    "# Because huge plots are ugly\n",
    "options(repr.plot.width = 6, repr.plot.height = 4)\n",
    "\n",
    "# Read the data\n",
    "compas_df <- read_rds(\"../data/compas.rds\")"
   ]
  },
  {
   "cell_type": "markdown",
   "metadata": {},
   "source": [
    "## COMPAS data"
   ]
  },
  {
   "cell_type": "markdown",
   "metadata": {},
   "source": [
    "A cleaned version of the COMPAS data is loaded as `compas_df`, with the following columns\n",
    "\n",
    "* `id`: unique identifiers for each case\n",
    "* `sex`, `dob`, `age`, `race`: demographic information for each defendant\n",
    "* `recid_score`, `violence_score`: COMPAS scores assessing risk that a defendant will recidivate (`violence_score` for violent crimes) within two years of release (higher scores correspond to higher risk)\n",
    "* `priors_count`: number of prior arrests\n",
    "* `is_recid`, `is_violent_recid`: Indicator variable that is `1` if the defendant was arrested for a new (violent) crime within two years of release, and `0` otherwise."
   ]
  },
  {
   "cell_type": "code",
   "execution_count": 2,
   "metadata": {},
   "outputs": [
    {
     "data": {
      "text/html": [
       "<table>\n",
       "<thead><tr><th scope=col>id</th><th scope=col>sex</th><th scope=col>dob</th><th scope=col>age</th><th scope=col>race</th><th scope=col>recid_score</th><th scope=col>violence_score</th><th scope=col>priors_count</th><th scope=col>is_recid</th><th scope=col>is_violent_recid</th></tr></thead>\n",
       "<tbody>\n",
       "\t<tr><td> 3              </td><td>Male            </td><td>1982-01-22      </td><td>34              </td><td>African-American</td><td>3               </td><td>1               </td><td> 0              </td><td>1               </td><td>1               </td></tr>\n",
       "\t<tr><td> 4              </td><td>Male            </td><td>1991-05-14      </td><td>24              </td><td>African-American</td><td>4               </td><td>3               </td><td> 4              </td><td>1               </td><td>0               </td></tr>\n",
       "\t<tr><td> 5              </td><td>Male            </td><td>1993-01-21      </td><td>23              </td><td>African-American</td><td>8               </td><td>6               </td><td> 1              </td><td>0               </td><td>0               </td></tr>\n",
       "\t<tr><td> 8              </td><td>Male            </td><td>1974-07-23      </td><td>41              </td><td>Caucasian       </td><td>6               </td><td>2               </td><td>14              </td><td>1               </td><td>0               </td></tr>\n",
       "\t<tr><td>10              </td><td>Female          </td><td>1976-06-03      </td><td>39              </td><td>Caucasian       </td><td>1               </td><td>1               </td><td> 0              </td><td>0               </td><td>0               </td></tr>\n",
       "\t<tr><td>13              </td><td>Male            </td><td>1994-06-10      </td><td>21              </td><td>Caucasian       </td><td>3               </td><td>5               </td><td> 1              </td><td>1               </td><td>1               </td></tr>\n",
       "</tbody>\n",
       "</table>\n"
      ],
      "text/latex": [
       "\\begin{tabular}{r|llllllllll}\n",
       " id & sex & dob & age & race & recid\\_score & violence\\_score & priors\\_count & is\\_recid & is\\_violent\\_recid\\\\\n",
       "\\hline\n",
       "\t  3               & Male             & 1982-01-22       & 34               & African-American & 3                & 1                &  0               & 1                & 1               \\\\\n",
       "\t  4               & Male             & 1991-05-14       & 24               & African-American & 4                & 3                &  4               & 1                & 0               \\\\\n",
       "\t  5               & Male             & 1993-01-21       & 23               & African-American & 8                & 6                &  1               & 0                & 0               \\\\\n",
       "\t  8               & Male             & 1974-07-23       & 41               & Caucasian        & 6                & 2                & 14               & 1                & 0               \\\\\n",
       "\t 10               & Female           & 1976-06-03       & 39               & Caucasian        & 1                & 1                &  0               & 0                & 0               \\\\\n",
       "\t 13               & Male             & 1994-06-10       & 21               & Caucasian        & 3                & 5                &  1               & 1                & 1               \\\\\n",
       "\\end{tabular}\n"
      ],
      "text/plain": [
       "  id sex    dob        age race             recid_score violence_score\n",
       "1  3 Male   1982-01-22 34  African-American 3           1             \n",
       "2  4 Male   1991-05-14 24  African-American 4           3             \n",
       "3  5 Male   1993-01-21 23  African-American 8           6             \n",
       "4  8 Male   1974-07-23 41  Caucasian        6           2             \n",
       "5 10 Female 1976-06-03 39  Caucasian        1           1             \n",
       "6 13 Male   1994-06-10 21  Caucasian        3           5             \n",
       "  priors_count is_recid is_violent_recid\n",
       "1  0           1        1               \n",
       "2  4           1        0               \n",
       "3  1           0        0               \n",
       "4 14           1        0               \n",
       "5  0           0        0               \n",
       "6  1           1        1               "
      ]
     },
     "metadata": {},
     "output_type": "display_data"
    }
   ],
   "source": [
    "head(compas_df)"
   ]
  },
  {
   "cell_type": "markdown",
   "metadata": {},
   "source": [
    "### Exercise 1: Build a risk assessment model for recidivism\n",
    "\n",
    "We start by building our own risk assessment tool using only prior arrests (`priors_count`) and age (`age`) to predict whether a defendant will recidivate within two years of release (`is_recid`).\n",
    "First, fit a model to estimate the probability of this outcome for each defendant. \n",
    "We will call this model `recid_model`."
   ]
  },
  {
   "cell_type": "code",
   "execution_count": 2,
   "metadata": {},
   "outputs": [],
   "source": [
    "# Build a logistic regression model estimating recidivism probability\n",
    "\n",
    "recid_model <- \n",
    "# WRITE CODE HERE\n",
    "# START solution\n",
    "    glm(is_recid ~ priors_count + age, data = compas_df, family = \"binomial\")\n",
    "# END solution"
   ]
  },
  {
   "cell_type": "markdown",
   "metadata": {},
   "source": [
    "Given an estimate of risk (on the probability scale), we can compute a binary prediction of whether a defendant will recidivate or not by setting a decision threshold.\n",
    "Once a threshold is determined, defendants with estimated risk higher or equal to the threshold are predicted to recidivate.\n",
    "We can then compare the binary prediction to the observed outcome (`is_recid`) to compute the accuracy of our risk assessment tool at the specified threshold.\n",
    "We can similarly compute accuracy for COMPAS scores (`recid_score`) with some threshold.\n",
    "\n",
    "Calculate the accuracy for the `recid_model` that you fit above at a $50$% threshold, and for the COMPAS recidivism scores at a threshold of $4$ (which corresponds to approximately $50$%)."
   ]
  },
  {
   "cell_type": "code",
   "execution_count": 3,
   "metadata": {},
   "outputs": [
    {
     "data": {
      "text/html": [
       "<table>\n",
       "<caption>A tibble: 1 × 2</caption>\n",
       "<thead>\n",
       "\t<tr><th scope=col>accuracy</th><th scope=col>compas_accuracy</th></tr>\n",
       "\t<tr><th scope=col>&lt;dbl&gt;</th><th scope=col>&lt;dbl&gt;</th></tr>\n",
       "</thead>\n",
       "<tbody>\n",
       "\t<tr><td>0.675</td><td>0.643</td></tr>\n",
       "</tbody>\n",
       "</table>\n"
      ],
      "text/latex": [
       "A tibble: 1 × 2\n",
       "\\begin{tabular}{r|ll}\n",
       " accuracy & compas\\_accuracy\\\\\n",
       " <dbl> & <dbl>\\\\\n",
       "\\hline\n",
       "\t 0.675 & 0.643\\\\\n",
       "\\end{tabular}\n"
      ],
      "text/markdown": [
       "\n",
       "A tibble: 1 × 2\n",
       "\n",
       "| accuracy &lt;dbl&gt; | compas_accuracy &lt;dbl&gt; |\n",
       "|---|---|\n",
       "| 0.675 | 0.643 |\n",
       "\n"
      ],
      "text/plain": [
       "  accuracy compas_accuracy\n",
       "1 0.675    0.643          "
      ]
     },
     "metadata": {},
     "output_type": "display_data"
    }
   ],
   "source": [
    "# WRITE CODE HERE\n",
    "# START solution\n",
    "compas_df <- compas_df %>%\n",
    "    mutate(\n",
    "        risk = predict(recid_model, type = \"response\"),\n",
    "        pred_recid = risk >= 0.5,\n",
    "        compas_pred_recid = recid_score >= 4\n",
    "    )\n",
    "\n",
    "# Calculate accuracy\n",
    "compas_df %>%\n",
    "    summarize(\n",
    "        accuracy = mean(pred_recid == is_recid),\n",
    "        compas_accuracy = mean(compas_pred_recid == is_recid)\n",
    "    )\n",
    "# END solution"
   ]
  },
  {
   "cell_type": "markdown",
   "metadata": {},
   "source": [
    "### Exercise 2: Calibration"
   ]
  },
  {
   "cell_type": "markdown",
   "metadata": {},
   "source": [
    "We next examine how well our model is calibrated across different race groups (i.e., for people who receive similar risk scores, what is the actual rate of recidivism across each race group).\n",
    "\n",
    "To do so, we calculate two quantities:\n",
    "* `predicted_risk_score`: a discretized (rounded) version of our predicted risk from Exercise 1, similar to the COMPAS risk score;\n",
    "* `recidivism_rate`: the actual recidivism rate of people within a specific discretized risk score bucket.\n",
    "\n",
    "Calculate the above two quantities for both race groups in our dataset by creating a data frame called `calibration_by_race` containing three columns: `race`, `predicted_risk_score` (rounded to the nearest 10 percentage points), `recidivism_rate`.\n",
    "\n",
    "_Hint_: `round(x)` will round each element of `x` to the nearest integer."
   ]
  },
  {
   "cell_type": "code",
   "execution_count": 4,
   "metadata": {},
   "outputs": [
    {
     "name": "stderr",
     "output_type": "stream",
     "text": [
      "`summarise()` regrouping output by 'race' (override with `.groups` argument)\n"
     ]
    },
    {
     "data": {
      "text/html": [
       "<table>\n",
       "<caption>A tibble: 10 × 3</caption>\n",
       "<thead>\n",
       "\t<tr><th scope=col>predicted_risk_score</th><th scope=col>African-American</th><th scope=col>Caucasian</th></tr>\n",
       "\t<tr><th scope=col>&lt;dbl&gt;</th><th scope=col>&lt;dbl&gt;</th><th scope=col>&lt;dbl&gt;</th></tr>\n",
       "</thead>\n",
       "<tbody>\n",
       "\t<tr><td> 1</td><td>0.148</td><td>0.150</td></tr>\n",
       "\t<tr><td> 2</td><td>0.266</td><td>0.197</td></tr>\n",
       "\t<tr><td> 3</td><td>0.279</td><td>0.306</td></tr>\n",
       "\t<tr><td> 4</td><td>0.354</td><td>0.398</td></tr>\n",
       "\t<tr><td> 5</td><td>0.472</td><td>0.436</td></tr>\n",
       "\t<tr><td> 6</td><td>0.707</td><td>0.590</td></tr>\n",
       "\t<tr><td> 7</td><td>0.757</td><td>0.790</td></tr>\n",
       "\t<tr><td> 8</td><td>0.788</td><td>0.768</td></tr>\n",
       "\t<tr><td> 9</td><td>0.856</td><td>0.800</td></tr>\n",
       "\t<tr><td>10</td><td>0.873</td><td>1.000</td></tr>\n",
       "</tbody>\n",
       "</table>\n"
      ],
      "text/latex": [
       "A tibble: 10 × 3\n",
       "\\begin{tabular}{r|lll}\n",
       " predicted\\_risk\\_score & African-American & Caucasian\\\\\n",
       " <dbl> & <dbl> & <dbl>\\\\\n",
       "\\hline\n",
       "\t  1 & 0.148 & 0.150\\\\\n",
       "\t  2 & 0.266 & 0.197\\\\\n",
       "\t  3 & 0.279 & 0.306\\\\\n",
       "\t  4 & 0.354 & 0.398\\\\\n",
       "\t  5 & 0.472 & 0.436\\\\\n",
       "\t  6 & 0.707 & 0.590\\\\\n",
       "\t  7 & 0.757 & 0.790\\\\\n",
       "\t  8 & 0.788 & 0.768\\\\\n",
       "\t  9 & 0.856 & 0.800\\\\\n",
       "\t 10 & 0.873 & 1.000\\\\\n",
       "\\end{tabular}\n"
      ],
      "text/markdown": [
       "\n",
       "A tibble: 10 × 3\n",
       "\n",
       "| predicted_risk_score &lt;dbl&gt; | African-American &lt;dbl&gt; | Caucasian &lt;dbl&gt; |\n",
       "|---|---|---|\n",
       "|  1 | 0.148 | 0.150 |\n",
       "|  2 | 0.266 | 0.197 |\n",
       "|  3 | 0.279 | 0.306 |\n",
       "|  4 | 0.354 | 0.398 |\n",
       "|  5 | 0.472 | 0.436 |\n",
       "|  6 | 0.707 | 0.590 |\n",
       "|  7 | 0.757 | 0.790 |\n",
       "|  8 | 0.788 | 0.768 |\n",
       "|  9 | 0.856 | 0.800 |\n",
       "| 10 | 0.873 | 1.000 |\n",
       "\n"
      ],
      "text/plain": [
       "   predicted_risk_score African-American Caucasian\n",
       "1   1                   0.148            0.150    \n",
       "2   2                   0.266            0.197    \n",
       "3   3                   0.279            0.306    \n",
       "4   4                   0.354            0.398    \n",
       "5   5                   0.472            0.436    \n",
       "6   6                   0.707            0.590    \n",
       "7   7                   0.757            0.790    \n",
       "8   8                   0.788            0.768    \n",
       "9   9                   0.856            0.800    \n",
       "10 10                   0.873            1.000    "
      ]
     },
     "metadata": {},
     "output_type": "display_data"
    }
   ],
   "source": [
    "# Calculate discretized risk score\n",
    "\n",
    "calibration_by_race <- compas_df %>%\n",
    "# WRITE CODE HERE\n",
    "# START solution\n",
    "    mutate(predicted_risk_score = round(risk * 10)) %>%\n",
    "    group_by(race, predicted_risk_score) %>%\n",
    "    summarize(recidivism_rate = mean(is_recid))\n",
    "# END solution\n",
    "\n",
    "# Put the recidivism rates of different race groups side by side\n",
    "calibration_by_race %>%\n",
    "    spread(race, recidivism_rate)"
   ]
  },
  {
   "cell_type": "markdown",
   "metadata": {},
   "source": [
    "We can also visualize model calibration by plotting the risk score bins with their corresponding emprical recidivism rate:"
   ]
  },
  {
   "cell_type": "code",
   "execution_count": 5,
   "metadata": {},
   "outputs": [
    {
     "data": {
      "image/png": "[encoded data removed]",
      "text/plain": [
       "plot without title"
      ]
     },
     "metadata": {},
     "output_type": "display_data"
    }
   ],
   "source": [
    "# Calibration plot\n",
    "ggplot(calibration_by_race, \n",
    "       aes(x = predicted_risk_score, y = recidivism_rate, color = race)) +\n",
    "    geom_line() + \n",
    "    scale_y_continuous(labels = scales::percent_format(), limits = c(0, 1))+\n",
    "    scale_x_continuous(breaks = seq(0, 10, 2), limits = c(1, 10))+\n",
    "    labs(x = \"\\nDiscretized risk score\",\n",
    "         y = \"Recidivism rate\\n\")"
   ]
  },
  {
   "cell_type": "markdown",
   "metadata": {},
   "source": [
    "The plot above suggets our model is well calibrated for Black and white defendants.\n",
    "In other words, Black and white defendants who receive similar risk scores have similar risk of recidivating."
   ]
  },
  {
   "cell_type": "markdown",
   "metadata": {},
   "source": [
    "### Exercise 3: Cost-benefit analysis\n",
    "\n",
    "Detaining an individual incurs substantial financial and social costs, \n",
    "yet releasing a defendant can harm public safety.\n",
    "One strategy is to detain individuals with high recidivism risk while releasing those with low recidivism risk.\n",
    "In order to make such a detention policy based on our model, we need to decide on a detention threshold.\n",
    "\n",
    "To inform that decision, we'll attempt to estimate, for any given detention threshold,\n",
    "the proportion of crimes that would be prevented and at what cost.\n",
    "For the former, we'll estimate the proportion of defendants who ultimately commit another crime that are detained under the policy; for the latter, we'll compute the proportion of all defendants that are detained.\n",
    "\n",
    "For this exercise, complete the following function which, given a data frame and a threshold, returns a new data frame including two columns: \n",
    "* `prop_crime_prevented`: the proportion of crime that is prevented, and\n",
    "* `prop_detained`: the proportion of the population that is detained\n",
    "\n",
    "We will assume that the data frame passed to the function contains at least the following columns:\n",
    "* `risk`: risk score that is used for the policy\n",
    "* `is_recid`: outcome indicating whether a defendant recidiviated"
   ]
  },
  {
   "cell_type": "code",
   "execution_count": 6,
   "metadata": {},
   "outputs": [
    {
     "data": {
      "text/html": [
       "<table>\n",
       "<caption>A tibble: 1 × 4</caption>\n",
       "<thead>\n",
       "\t<tr><th scope=col>num_crime_prevented</th><th scope=col>prop_crime_prevented</th><th scope=col>num_detained</th><th scope=col>prop_detained</th></tr>\n",
       "\t<tr><th scope=col>&lt;int&gt;</th><th scope=col>&lt;dbl&gt;</th><th scope=col>&lt;int&gt;</th><th scope=col>&lt;dbl&gt;</th></tr>\n",
       "</thead>\n",
       "<tbody>\n",
       "\t<tr><td>2073</td><td>0.677</td><td>3084</td><td>0.501</td></tr>\n",
       "</tbody>\n",
       "</table>\n"
      ],
      "text/latex": [
       "A tibble: 1 × 4\n",
       "\\begin{tabular}{r|llll}\n",
       " num\\_crime\\_prevented & prop\\_crime\\_prevented & num\\_detained & prop\\_detained\\\\\n",
       " <int> & <dbl> & <int> & <dbl>\\\\\n",
       "\\hline\n",
       "\t 2073 & 0.677 & 3084 & 0.501\\\\\n",
       "\\end{tabular}\n"
      ],
      "text/markdown": [
       "\n",
       "A tibble: 1 × 4\n",
       "\n",
       "| num_crime_prevented &lt;int&gt; | prop_crime_prevented &lt;dbl&gt; | num_detained &lt;int&gt; | prop_detained &lt;dbl&gt; |\n",
       "|---|---|---|---|\n",
       "| 2073 | 0.677 | 3084 | 0.501 |\n",
       "\n"
      ],
      "text/plain": [
       "  num_crime_prevented prop_crime_prevented num_detained prop_detained\n",
       "1 2073                0.677                3084         0.501        "
      ]
     },
     "metadata": {},
     "output_type": "display_data"
    }
   ],
   "source": [
    "calc_cost_benefit <- function(d, threshold){\n",
    "    d %>%\n",
    "# WRITE CODE HERE\n",
    "# START solution    \n",
    "        mutate(detained = risk > threshold) %>%\n",
    "        summarize(\n",
    "            num_crime_prevented = sum(is_recid & detained),\n",
    "            prop_crime_prevented = num_crime_prevented/sum(is_recid),\n",
    "            num_detained = sum(detained),\n",
    "            prop_detained = num_detained/n()\n",
    "        )    \n",
    "# END solution\n",
    "}\n",
    "\n",
    "calc_cost_benefit(compas_df, threshold = 0.5)"
   ]
  },
  {
   "cell_type": "markdown",
   "metadata": {},
   "source": [
    "Explore the cost-benefit characteristics of different policies that use different thresholds. "
   ]
  },
  {
   "cell_type": "markdown",
   "metadata": {},
   "source": [
    "We can also plot this cost-benefit tradeoff for all possible detention thresholds using the following code:"
   ]
  },
  {
   "cell_type": "code",
   "execution_count": 7,
   "metadata": {},
   "outputs": [
    {
     "data": {
      "image/png": "[encoded data removed]",
      "text/plain": [
       "plot without title"
      ]
     },
     "metadata": {},
     "output_type": "display_data"
    }
   ],
   "source": [
    "cost_benefit_df <- map_dfr(unique(compas_df$risk), \n",
    "                           ~ calc_cost_benefit(compas_df, .) %>%\n",
    "                               mutate(threshold = .x))\n",
    "\n",
    "# Plot proportion detained vs. proportion crime prevented\n",
    "options(repr.plot.width = 4, repr.plot.height = 4)\n",
    "ggplot(cost_benefit_df, aes(x=prop_detained, y=prop_crime_prevented)) +\n",
    "    geom_line()+\n",
    "    scale_y_continuous(labels = scales::percent_format(), limits=c(0, 1))+\n",
    "    scale_x_continuous(labels = scales::percent_format(), limits=c(0, 1))+\n",
    "    labs(x = \"\\nProportion detained\",\n",
    "         y = \"Proportion crime prevented\\n\")"
   ]
  },
  {
   "cell_type": "markdown",
   "metadata": {},
   "source": [
    "### Exercise 4: Disparities in detention"
   ]
  },
  {
   "cell_type": "markdown",
   "metadata": {},
   "source": [
    "By conducting the above cost-benefit analysis,\n",
    "we can decide on a detention threshold, say $0.5$, that we believe can maximize our benefit (crime prevention) at an acceptable cost of detaining some of the riskest defendants according to our model.\n",
    "\n",
    "Now, we would like to know whether such a facially neutral policy, where we detain everyone at the same threshold, will introduce disparities across defendants belonging to different race groups.\n",
    "\n",
    "To do so, let's compute the dentention rate for each race group using a detention threshold of 0.5."
   ]
  },
  {
   "cell_type": "code",
   "execution_count": 9,
   "metadata": {},
   "outputs": [
    {
     "name": "stderr",
     "output_type": "stream",
     "text": [
      "`summarise()` ungrouping output (override with `.groups` argument)\n"
     ]
    },
    {
     "data": {
      "text/html": [
       "<table>\n",
       "<caption>A tibble: 2 × 2</caption>\n",
       "<thead>\n",
       "\t<tr><th scope=col>race</th><th scope=col>detention_rate</th></tr>\n",
       "\t<tr><th scope=col>&lt;chr&gt;</th><th scope=col>&lt;dbl&gt;</th></tr>\n",
       "</thead>\n",
       "<tbody>\n",
       "\t<tr><td>African-American</td><td>0.604</td></tr>\n",
       "\t<tr><td>Caucasian       </td><td>0.347</td></tr>\n",
       "</tbody>\n",
       "</table>\n"
      ],
      "text/latex": [
       "A tibble: 2 × 2\n",
       "\\begin{tabular}{r|ll}\n",
       " race & detention\\_rate\\\\\n",
       " <chr> & <dbl>\\\\\n",
       "\\hline\n",
       "\t African-American & 0.604\\\\\n",
       "\t Caucasian        & 0.347\\\\\n",
       "\\end{tabular}\n"
      ],
      "text/markdown": [
       "\n",
       "A tibble: 2 × 2\n",
       "\n",
       "| race &lt;chr&gt; | detention_rate &lt;dbl&gt; |\n",
       "|---|---|\n",
       "| African-American | 0.604 |\n",
       "| Caucasian        | 0.347 |\n",
       "\n"
      ],
      "text/plain": [
       "  race             detention_rate\n",
       "1 African-American 0.604         \n",
       "2 Caucasian        0.347         "
      ]
     },
     "metadata": {},
     "output_type": "display_data"
    }
   ],
   "source": [
    "# Calculate detention and recidivism rate by race\n",
    "\n",
    "# WRITE CODE HERE\n",
    "# START solution\n",
    "compas_df %>%\n",
    "    mutate(detained = risk > 0.5) %>%\n",
    "    group_by(race) %>%\n",
    "    summarize(\n",
    "        detention_rate = mean(detained)\n",
    "    )\n",
    "# END solution"
   ]
  },
  {
   "cell_type": "markdown",
   "metadata": {},
   "source": [
    "Despite the same detention threshold being used, we still observe a difference in dentention rates.\n",
    "\n",
    "To further investigate, we can plot the distribution of risk for each of the two groups:"
   ]
  },
  {
   "cell_type": "code",
   "execution_count": 10,
   "metadata": {},
   "outputs": [
    {
     "data": {
      "image/png": "[encoded data removed]",
      "text/plain": [
       "plot without title"
      ]
     },
     "metadata": {},
     "output_type": "display_data"
    }
   ],
   "source": [
    "# Plot the risk distribution\n",
    "options(repr.plot.width = 7, repr.plot.height = 3.5)\n",
    "ggplot(compas_df, aes(x = risk, fill = race)) +\n",
    "    geom_density(alpha = 0.5, color = NA) +\n",
    "    scale_x_continuous(\"Estimated risk\", labels = scales::percent_format(), expand = c(0, 0)) +\n",
    "    scale_y_continuous(element_blank(), expand = c(0, 0)) +\n",
    "    theme(axis.ticks.y = element_blank(),\n",
    "          axis.text.y = element_blank())"
   ]
  },
  {
   "cell_type": "markdown",
   "metadata": {},
   "source": [
    "Assuming that our model provides an accurate assessment of risk, we see that white and Black defendents have different risk distributions.\n",
    "When we are making a policy decision, we are often concerned with what happens at the margin \n",
    "(e.g., whether the same standard is applied to all individuals).\n",
    "However, popular error metrics assess behavior away from the margin, hence they are called _infra-marginal_ statistics.\n",
    "This general phenomenon is known as the problem of infra-marginality ([Ayres, 2002](https://journals.sagepub.com/doi/abs/10.3818/JRP.4.1.2002.131); [Simoiu et al., 2017](https://5harad.com/papers/threshold-test.pdf); [Corbett-Davies and Goel, 2018](https://5harad.com/papers/fair-ml.pdf))."
   ]
  },
  {
   "cell_type": "markdown",
   "metadata": {},
   "source": [
    "### Exercise 5: A \"fair\" policy by equalizing detention rates?"
   ]
  },
  {
   "cell_type": "markdown",
   "metadata": {},
   "source": [
    "After observing differences in the detention rates above, one natural thought might be to find a policy which equalizes detention rates across race groups.\n",
    "\n",
    "In this exercise, play around with different thresholds for Black and white defendants to achieve a detention rate of approximately 50% for each group."
   ]
  },
  {
   "cell_type": "code",
   "execution_count": 11,
   "metadata": {},
   "outputs": [
    {
     "name": "stderr",
     "output_type": "stream",
     "text": [
      "`summarise()` ungrouping output (override with `.groups` argument)\n"
     ]
    },
    {
     "data": {
      "text/html": [
       "<table>\n",
       "<caption>A tibble: 2 × 2</caption>\n",
       "<thead>\n",
       "\t<tr><th scope=col>race</th><th scope=col>detention_rate</th></tr>\n",
       "\t<tr><th scope=col>&lt;chr&gt;</th><th scope=col>&lt;dbl&gt;</th></tr>\n",
       "</thead>\n",
       "<tbody>\n",
       "\t<tr><td>African-American</td><td>0.500</td></tr>\n",
       "\t<tr><td>Caucasian       </td><td>0.501</td></tr>\n",
       "</tbody>\n",
       "</table>\n"
      ],
      "text/latex": [
       "A tibble: 2 × 2\n",
       "\\begin{tabular}{r|ll}\n",
       " race & detention\\_rate\\\\\n",
       " <chr> & <dbl>\\\\\n",
       "\\hline\n",
       "\t African-American & 0.500\\\\\n",
       "\t Caucasian        & 0.501\\\\\n",
       "\\end{tabular}\n"
      ],
      "text/markdown": [
       "\n",
       "A tibble: 2 × 2\n",
       "\n",
       "| race &lt;chr&gt; | detention_rate &lt;dbl&gt; |\n",
       "|---|---|\n",
       "| African-American | 0.500 |\n",
       "| Caucasian        | 0.501 |\n",
       "\n"
      ],
      "text/plain": [
       "  race             detention_rate\n",
       "1 African-American 0.500         \n",
       "2 Caucasian        0.501         "
      ]
     },
     "metadata": {},
     "output_type": "display_data"
    }
   ],
   "source": [
    "black_threshold = 0.5\n",
    "white_threshold = 0.5\n",
    "\n",
    "# WRITE CODE HERE\n",
    "# START solution\n",
    "black_threshold = 0.53\n",
    "white_threshold = 0.44\n",
    "# END solution\n",
    "\n",
    "# Calculate detention and recidivism rate by race\n",
    "compas_df %>%\n",
    "    mutate(detained = risk > if_else(race == \"Caucasian\", white_threshold, black_threshold)) %>%\n",
    "    group_by(race) %>%\n",
    "    summarize(\n",
    "        detention_rate = mean(detained),\n",
    "    )\n"
   ]
  },
  {
   "cell_type": "markdown",
   "metadata": {},
   "source": [
    "What are the threshold values that you find? Which policy would you consider \"fair\", and why?"
   ]
  }
 ],
 "metadata": {
  "kernelspec": {
   "display_name": "R",
   "language": "R",
   "name": "ir"
  },
  "language_info": {
   "codemirror_mode": "r",
   "file_extension": ".r",
   "mimetype": "text/x-r-source",
   "name": "R",
   "pygments_lexer": "r",
   "version": "3.6.3"
  }
 },
 "nbformat": 4,
 "nbformat_minor": 4
}
