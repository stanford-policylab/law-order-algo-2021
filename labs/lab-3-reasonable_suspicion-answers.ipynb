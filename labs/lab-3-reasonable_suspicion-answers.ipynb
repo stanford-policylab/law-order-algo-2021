{
 "cells": [
  {
   "cell_type": "markdown",
   "metadata": {},
   "source": [
    "# Law, Order, and Algorithms\n",
    "## A statistical approach to assessing _reasonable suspicion_"
   ]
  },
  {
   "cell_type": "code",
   "execution_count": 1,
   "metadata": {},
   "outputs": [
    {
     "name": "stderr",
     "output_type": "stream",
     "text": [
      "── \u001b[1mAttaching packages\u001b[22m ─────────────────────────────────────── tidyverse 1.3.0 ──\n",
      "\u001b[32m✔\u001b[39m \u001b[34mggplot2\u001b[39m 3.3.2     \u001b[32m✔\u001b[39m \u001b[34mpurrr  \u001b[39m 0.3.4\n",
      "\u001b[32m✔\u001b[39m \u001b[34mtibble \u001b[39m 3.0.3     \u001b[32m✔\u001b[39m \u001b[34mdplyr  \u001b[39m 1.0.0\n",
      "\u001b[32m✔\u001b[39m \u001b[34mtidyr  \u001b[39m 1.1.0     \u001b[32m✔\u001b[39m \u001b[34mstringr\u001b[39m 1.4.0\n",
      "\u001b[32m✔\u001b[39m \u001b[34mreadr  \u001b[39m 1.3.1     \u001b[32m✔\u001b[39m \u001b[34mforcats\u001b[39m 0.4.0\n",
      "── \u001b[1mConflicts\u001b[22m ────────────────────────────────────────── tidyverse_conflicts() ──\n",
      "\u001b[31m✖\u001b[39m \u001b[34mdplyr\u001b[39m::\u001b[32mfilter()\u001b[39m masks \u001b[34mstats\u001b[39m::filter()\n",
      "\u001b[31m✖\u001b[39m \u001b[34mdplyr\u001b[39m::\u001b[32mlag()\u001b[39m    masks \u001b[34mstats\u001b[39m::lag()\n",
      "── \u001b[1mAttaching packages\u001b[22m ────────────────────────────────────── tidymodels 0.1.1 ──\n",
      "\u001b[32m✔\u001b[39m \u001b[34mbroom    \u001b[39m 0.7.0      \u001b[32m✔\u001b[39m \u001b[34mrecipes  \u001b[39m 0.1.13\n",
      "\u001b[32m✔\u001b[39m \u001b[34mdials    \u001b[39m 0.0.8      \u001b[32m✔\u001b[39m \u001b[34mrsample  \u001b[39m 0.0.7 \n",
      "\u001b[32m✔\u001b[39m \u001b[34minfer    \u001b[39m 0.5.3      \u001b[32m✔\u001b[39m \u001b[34mtune     \u001b[39m 0.1.1 \n",
      "\u001b[32m✔\u001b[39m \u001b[34mmodeldata\u001b[39m 0.0.2      \u001b[32m✔\u001b[39m \u001b[34mworkflows\u001b[39m 0.1.2 \n",
      "\u001b[32m✔\u001b[39m \u001b[34mparsnip  \u001b[39m 0.1.2      \u001b[32m✔\u001b[39m \u001b[34myardstick\u001b[39m 0.0.7 \n",
      "── \u001b[1mConflicts\u001b[22m ───────────────────────────────────────── tidymodels_conflicts() ──\n",
      "\u001b[31m✖\u001b[39m \u001b[34mscales\u001b[39m::\u001b[32mdiscard()\u001b[39m masks \u001b[34mpurrr\u001b[39m::discard()\n",
      "\u001b[31m✖\u001b[39m \u001b[34mdplyr\u001b[39m::\u001b[32mfilter()\u001b[39m   masks \u001b[34mstats\u001b[39m::filter()\n",
      "\u001b[31m✖\u001b[39m \u001b[34mrecipes\u001b[39m::\u001b[32mfixed()\u001b[39m  masks \u001b[34mstringr\u001b[39m::fixed()\n",
      "\u001b[31m✖\u001b[39m \u001b[34mdplyr\u001b[39m::\u001b[32mlag()\u001b[39m      masks \u001b[34mstats\u001b[39m::lag()\n",
      "\u001b[31m✖\u001b[39m \u001b[34myardstick\u001b[39m::\u001b[32mspec()\u001b[39m masks \u001b[34mreadr\u001b[39m::spec()\n",
      "\u001b[31m✖\u001b[39m \u001b[34mrecipes\u001b[39m::\u001b[32mstep()\u001b[39m   masks \u001b[34mstats\u001b[39m::step()\n"
     ]
    }
   ],
   "source": [
    "# Load packages\n",
    "library(tidyverse)\n",
    "library(tidymodels)\n",
    "library(ROCR)\n",
    "\n",
    "# Set some initial options\n",
    "options(digits = 3)\n",
    "theme_set(theme_bw())"
   ]
  },
  {
   "cell_type": "markdown",
   "metadata": {},
   "source": [
    "## Background\n",
    "\n",
    "\"Stop-and-frisk\" is a police practice of temporarily detaining, questioning, and at times searching civilians on the street for weapons and other contraband.\n",
    "\n",
    "In New York City, between 2003 and 2013, over 100,000 stops were made per year, with 685,724 stops made in a single year at the height of the practice in 2011. You can read more about this [here](https://en.wikipedia.org/wiki/Stop-and-frisk_in_New_York_City).\n",
    "\n",
    "The vast majority of those stopped were African-American or Latinx, raising concerns of racial bias. Further, there's concern that many stops were conducted without \"reasonable suspicion\" of criminal activity, in violation of the Fourth Amendment. \n",
    "\n",
    "In this lab, we will work with a sample of stops in NYC made between 2007 and 2013, recorded on a [UF-250 form](https://www.prisonlegalnews.org/news/publications/blank-uf-250-form-stop-question-and-frisk-report-worksheet-nypd-2016/), to explore a statistical approach to assessing potential Fourth Amendment violations outlined in the paper [Precinct or Prejudice? Understanding Racial Disparities in New York City's Stop-and-Frisk Policy](https://5harad.com/papers/stop-and-frisk.pdf) by Goel, Rao, and Shroff."
   ]
  },
  {
   "cell_type": "code",
   "execution_count": 2,
   "metadata": {},
   "outputs": [
    {
     "data": {
      "text/html": [
       "<table>\n",
       "<caption>A tibble: 6 × 39</caption>\n",
       "<thead>\n",
       "\t<tr><th scope=col>found_weapon</th><th scope=col>frisked</th><th scope=col>suspected_crime</th><th scope=col>precinct</th><th scope=col>suspect_race</th><th scope=col>suspect_sex</th><th scope=col>suspect_build</th><th scope=col>month</th><th scope=col>day</th><th scope=col>stopped_bc_furtive</th><th scope=col>⋯</th><th scope=col>additional_evasive</th><th scope=col>additional_report</th><th scope=col>radio_run</th><th scope=col>officer_uniform</th><th scope=col>suspect_height</th><th scope=col>suspect_weight</th><th scope=col>observation_period</th><th scope=col>suspect_age</th><th scope=col>local_hit_rate</th><th scope=col>year</th></tr>\n",
       "\t<tr><th scope=col>&lt;dbl&gt;</th><th scope=col>&lt;lgl&gt;</th><th scope=col>&lt;fct&gt;</th><th scope=col>&lt;fct&gt;</th><th scope=col>&lt;chr&gt;</th><th scope=col>&lt;fct&gt;</th><th scope=col>&lt;fct&gt;</th><th scope=col>&lt;ord&gt;</th><th scope=col>&lt;ord&gt;</th><th scope=col>&lt;fct&gt;</th><th scope=col>⋯</th><th scope=col>&lt;fct&gt;</th><th scope=col>&lt;fct&gt;</th><th scope=col>&lt;fct&gt;</th><th scope=col>&lt;fct&gt;</th><th scope=col>&lt;dbl&gt;</th><th scope=col>&lt;int&gt;</th><th scope=col>&lt;dbl&gt;</th><th scope=col>&lt;int&gt;</th><th scope=col>&lt;dbl&gt;</th><th scope=col>&lt;int&gt;</th></tr>\n",
       "</thead>\n",
       "<tbody>\n",
       "\t<tr><td>0</td><td> TRUE</td><td>cpw                             </td><td>113</td><td>Black   </td><td>male</td><td>medium</td><td>January </td><td>Thursday</td><td>TRUE </td><td>⋯</td><td>FALSE</td><td>FALSE</td><td>FALSE</td><td>FALSE</td><td>5.83</td><td>180</td><td>1</td><td>30</td><td>0.0229</td><td>2011</td></tr>\n",
       "\t<tr><td>0</td><td>FALSE</td><td>criminal possession of marihuana</td><td>23 </td><td>Hispanic</td><td>male</td><td>medium</td><td>August  </td><td>Friday  </td><td>TRUE </td><td>⋯</td><td>FALSE</td><td>FALSE</td><td>TRUE </td><td>TRUE </td><td>5.67</td><td>170</td><td>2</td><td>28</td><td>0.0929</td><td>2011</td></tr>\n",
       "\t<tr><td>0</td><td>FALSE</td><td>criminal possession of marihuana</td><td>107</td><td>Hispanic</td><td>male</td><td>medium</td><td>May     </td><td>Tuesday </td><td>TRUE </td><td>⋯</td><td>TRUE </td><td>FALSE</td><td>FALSE</td><td>TRUE </td><td>5.83</td><td>140</td><td>2</td><td>17</td><td>0.0736</td><td>2011</td></tr>\n",
       "\t<tr><td>0</td><td> TRUE</td><td>cpw                             </td><td>44 </td><td>Black   </td><td>male</td><td>thin  </td><td>June    </td><td>Thursday</td><td>TRUE </td><td>⋯</td><td>FALSE</td><td>TRUE </td><td>FALSE</td><td>TRUE </td><td>5.50</td><td>155</td><td>1</td><td>23</td><td>0.0178</td><td>2012</td></tr>\n",
       "\t<tr><td>0</td><td> TRUE</td><td>cpw                             </td><td>115</td><td>Hispanic</td><td>male</td><td>thin  </td><td>March   </td><td>Tuesday </td><td>FALSE</td><td>⋯</td><td>TRUE </td><td>FALSE</td><td>TRUE </td><td>TRUE </td><td>5.50</td><td>170</td><td>2</td><td>19</td><td>0.0222</td><td>2009</td></tr>\n",
       "\t<tr><td>0</td><td> TRUE</td><td>cpw                             </td><td>23 </td><td>Hispanic</td><td>male</td><td>thin  </td><td>November</td><td>Sunday  </td><td>FALSE</td><td>⋯</td><td>TRUE </td><td>FALSE</td><td>FALSE</td><td>TRUE </td><td>5.50</td><td>165</td><td>1</td><td>15</td><td>0.0443</td><td>2009</td></tr>\n",
       "</tbody>\n",
       "</table>\n"
      ],
      "text/latex": [
       "A tibble: 6 × 39\n",
       "\\begin{tabular}{r|lllllllllllllllllllllllllllllllllllllll}\n",
       " found\\_weapon & frisked & suspected\\_crime & precinct & suspect\\_race & suspect\\_sex & suspect\\_build & month & day & stopped\\_bc\\_furtive & stopped\\_bc\\_other & stopped\\_bc\\_object & stopped\\_bc\\_drugs & stopped\\_bc\\_violent & stopped\\_bc\\_lookout & stopped\\_bc\\_clothing & stopped\\_bc\\_casing & stopped\\_bc\\_bulge & stopped\\_bc\\_desc & inside\\_outside & location\\_housing & additional\\_highcrime & additional\\_investigation & additional\\_proximity & additional\\_direction & additional\\_other & additional\\_associating & additional\\_sights & additional\\_time & additional\\_evasive & additional\\_report & radio\\_run & officer\\_uniform & suspect\\_height & suspect\\_weight & observation\\_period & suspect\\_age & local\\_hit\\_rate & year\\\\\n",
       " <dbl> & <lgl> & <fct> & <fct> & <chr> & <fct> & <fct> & <ord> & <ord> & <fct> & <fct> & <fct> & <fct> & <fct> & <fct> & <fct> & <fct> & <fct> & <fct> & <fct> & <fct> & <fct> & <fct> & <fct> & <fct> & <fct> & <fct> & <fct> & <fct> & <fct> & <fct> & <fct> & <fct> & <dbl> & <int> & <dbl> & <int> & <dbl> & <int>\\\\\n",
       "\\hline\n",
       "\t 0 &  TRUE & cpw                              & 113 & Black    & male & medium & January  & Thursday & TRUE  & FALSE & FALSE & FALSE & TRUE  & TRUE  & FALSE & TRUE  & FALSE & FALSE & FALSE & neither & FALSE & FALSE & FALSE & FALSE & FALSE & FALSE & FALSE & FALSE & FALSE & FALSE & FALSE & FALSE & 5.83 & 180 & 1 & 30 & 0.0229 & 2011\\\\\n",
       "\t 0 & FALSE & criminal possession of marihuana & 23  & Hispanic & male & medium & August   & Friday   & TRUE  & TRUE  & FALSE & FALSE & FALSE & FALSE & FALSE & FALSE & FALSE & FALSE & FALSE & housing & TRUE  & FALSE & FALSE & FALSE & FALSE & FALSE & FALSE & TRUE  & FALSE & FALSE & TRUE  & TRUE  & 5.67 & 170 & 2 & 28 & 0.0929 & 2011\\\\\n",
       "\t 0 & FALSE & criminal possession of marihuana & 107 & Hispanic & male & medium & May      & Tuesday  & TRUE  & TRUE  & FALSE & TRUE  & FALSE & FALSE & FALSE & FALSE & FALSE & FALSE & FALSE & neither & FALSE & FALSE & FALSE & TRUE  & FALSE & TRUE  & FALSE & TRUE  & TRUE  & FALSE & FALSE & TRUE  & 5.83 & 140 & 2 & 17 & 0.0736 & 2011\\\\\n",
       "\t 0 &  TRUE & cpw                              & 44  & Black    & male & thin   & June     & Thursday & TRUE  & TRUE  & FALSE & FALSE & FALSE & FALSE & FALSE & FALSE & FALSE & TRUE  & FALSE & neither & TRUE  & FALSE & TRUE  & FALSE & FALSE & TRUE  & FALSE & TRUE  & FALSE & TRUE  & FALSE & TRUE  & 5.50 & 155 & 1 & 23 & 0.0178 & 2012\\\\\n",
       "\t 0 &  TRUE & cpw                              & 115 & Hispanic & male & thin   & March    & Tuesday  & FALSE & FALSE & FALSE & FALSE & FALSE & TRUE  & FALSE & FALSE & TRUE  & FALSE & FALSE & neither & FALSE & FALSE & FALSE & TRUE  & FALSE & FALSE & FALSE & FALSE & TRUE  & FALSE & TRUE  & TRUE  & 5.50 & 170 & 2 & 19 & 0.0222 & 2009\\\\\n",
       "\t 0 &  TRUE & cpw                              & 23  & Hispanic & male & thin   & November & Sunday   & FALSE & FALSE & FALSE & FALSE & FALSE & FALSE & FALSE & FALSE & TRUE  & FALSE & TRUE  & housing & TRUE  & FALSE & FALSE & FALSE & FALSE & FALSE & FALSE & FALSE & TRUE  & FALSE & FALSE & TRUE  & 5.50 & 165 & 1 & 15 & 0.0443 & 2009\\\\\n",
       "\\end{tabular}\n"
      ],
      "text/markdown": [
       "\n",
       "A tibble: 6 × 39\n",
       "\n",
       "| found_weapon &lt;dbl&gt; | frisked &lt;lgl&gt; | suspected_crime &lt;fct&gt; | precinct &lt;fct&gt; | suspect_race &lt;chr&gt; | suspect_sex &lt;fct&gt; | suspect_build &lt;fct&gt; | month &lt;ord&gt; | day &lt;ord&gt; | stopped_bc_furtive &lt;fct&gt; | ⋯ ⋯ | additional_evasive &lt;fct&gt; | additional_report &lt;fct&gt; | radio_run &lt;fct&gt; | officer_uniform &lt;fct&gt; | suspect_height &lt;dbl&gt; | suspect_weight &lt;int&gt; | observation_period &lt;dbl&gt; | suspect_age &lt;int&gt; | local_hit_rate &lt;dbl&gt; | year &lt;int&gt; |\n",
       "|---|---|---|---|---|---|---|---|---|---|---|---|---|---|---|---|---|---|---|---|---|\n",
       "| 0 |  TRUE | cpw                              | 113 | Black    | male | medium | January  | Thursday | TRUE  | ⋯ | FALSE | FALSE | FALSE | FALSE | 5.83 | 180 | 1 | 30 | 0.0229 | 2011 |\n",
       "| 0 | FALSE | criminal possession of marihuana | 23  | Hispanic | male | medium | August   | Friday   | TRUE  | ⋯ | FALSE | FALSE | TRUE  | TRUE  | 5.67 | 170 | 2 | 28 | 0.0929 | 2011 |\n",
       "| 0 | FALSE | criminal possession of marihuana | 107 | Hispanic | male | medium | May      | Tuesday  | TRUE  | ⋯ | TRUE  | FALSE | FALSE | TRUE  | 5.83 | 140 | 2 | 17 | 0.0736 | 2011 |\n",
       "| 0 |  TRUE | cpw                              | 44  | Black    | male | thin   | June     | Thursday | TRUE  | ⋯ | FALSE | TRUE  | FALSE | TRUE  | 5.50 | 155 | 1 | 23 | 0.0178 | 2012 |\n",
       "| 0 |  TRUE | cpw                              | 115 | Hispanic | male | thin   | March    | Tuesday  | FALSE | ⋯ | TRUE  | FALSE | TRUE  | TRUE  | 5.50 | 170 | 2 | 19 | 0.0222 | 2009 |\n",
       "| 0 |  TRUE | cpw                              | 23  | Hispanic | male | thin   | November | Sunday   | FALSE | ⋯ | TRUE  | FALSE | FALSE | TRUE  | 5.50 | 165 | 1 | 15 | 0.0443 | 2009 |\n",
       "\n"
      ],
      "text/plain": [
       "  found_weapon frisked suspected_crime                  precinct suspect_race\n",
       "1 0             TRUE   cpw                              113      Black       \n",
       "2 0            FALSE   criminal possession of marihuana 23       Hispanic    \n",
       "3 0            FALSE   criminal possession of marihuana 107      Hispanic    \n",
       "4 0             TRUE   cpw                              44       Black       \n",
       "5 0             TRUE   cpw                              115      Hispanic    \n",
       "6 0             TRUE   cpw                              23       Hispanic    \n",
       "  suspect_sex suspect_build month    day      stopped_bc_furtive ⋯\n",
       "1 male        medium        January  Thursday TRUE               ⋯\n",
       "2 male        medium        August   Friday   TRUE               ⋯\n",
       "3 male        medium        May      Tuesday  TRUE               ⋯\n",
       "4 male        thin          June     Thursday TRUE               ⋯\n",
       "5 male        thin          March    Tuesday  FALSE              ⋯\n",
       "6 male        thin          November Sunday   FALSE              ⋯\n",
       "  additional_evasive additional_report radio_run officer_uniform suspect_height\n",
       "1 FALSE              FALSE             FALSE     FALSE           5.83          \n",
       "2 FALSE              FALSE             TRUE      TRUE            5.67          \n",
       "3 TRUE               FALSE             FALSE     TRUE            5.83          \n",
       "4 FALSE              TRUE              FALSE     TRUE            5.50          \n",
       "5 TRUE               FALSE             TRUE      TRUE            5.50          \n",
       "6 TRUE               FALSE             FALSE     TRUE            5.50          \n",
       "  suspect_weight observation_period suspect_age local_hit_rate year\n",
       "1 180            1                  30          0.0229         2011\n",
       "2 170            2                  28          0.0929         2011\n",
       "3 140            2                  17          0.0736         2011\n",
       "4 155            1                  23          0.0178         2012\n",
       "5 170            2                  19          0.0222         2009\n",
       "6 165            1                  15          0.0443         2009"
      ]
     },
     "metadata": {},
     "output_type": "display_data"
    }
   ],
   "source": [
    "# Load data\n",
    "stops <- read_rds(\"../data/sqf_sample.rds\")\n",
    "\n",
    "# Preprocess the data\n",
    "cols_to_keep <- c('found_weapon', 'frisked', 'suspected_crime',\n",
    "                  'precinct',\n",
    "                  'suspect_race', 'suspect_sex', 'suspect_build',\n",
    "                  'month', 'day',\n",
    "                  'stopped_bc_furtive', 'stopped_bc_other', 'stopped_bc_object', 'stopped_bc_drugs', 'stopped_bc_violent', \n",
    "                  'stopped_bc_lookout', 'stopped_bc_clothing', 'stopped_bc_casing', 'stopped_bc_bulge', 'stopped_bc_desc',\n",
    "                  'inside_outside', 'location_housing',\n",
    "                  'additional_highcrime', 'additional_investigation', 'additional_proximity', 'additional_direction', 'additional_other',\n",
    "                  'additional_associating', 'additional_sights', 'additional_time', 'additional_evasive', 'additional_report',\n",
    "                  'radio_run', 'officer_uniform',\n",
    "                  'suspect_height', 'suspect_weight', 'observation_period', 'suspect_age', 'local_hit_rate', 'year')\n",
    "stops <- stops %>%\n",
    "  select(any_of(cols_to_keep)) %>%\n",
    "  # only keep stops with information in all entries\n",
    "  na.omit() %>%\n",
    "  mutate(\n",
    "    # convert non-numerical variables into factors, grouping values occurring < 0.1% of the time into \"Other\"\n",
    "    across(where(is.character) | where(is.logical) | where(is.factor), \n",
    "           ~ fct_lump(factor(.x), prop = 0.001)),\n",
    "    # convert outcome into numeric\n",
    "    across(all_of('found_weapon'), ~ if_else(.x == \"TRUE\", 1, 0)),\n",
    "    frisked = as.logical(frisked),\n",
    "    # capitalize race/ethnicity groups (but leave 'white' lowercased, following AP convention.)\n",
    "    suspect_race = if_else(suspect_race == 'white', 'white', str_to_title(suspect_race))\n",
    "  )\n",
    "\n",
    "head(stops)"
   ]
  },
  {
   "cell_type": "markdown",
   "metadata": {},
   "source": [
    "## The data\n",
    "\n",
    "This week, we will use the same data frame as last week: `stops`, a sample of stops in NYC, recorded on a \n",
    "[UF-250 form][uf250_link].\n",
    "As a reminder, below is a list of columns in the data, roughly corresponding to the [UF-250 form][uf250_link] (for simplicity, we work with a subset of the available columns):\n",
    "\n",
    "* Base information regarding stop:\n",
    "    * `id`, `serial`, `year`, `date`, `day`, `time`, `hour`, `precinct`, `location_housing`, \n",
    "      `suspected_crime`, `lat`, `lon`, `xcoord`, `ycoord`\n",
    "\n",
    "* Circumstances which led to the stop:\n",
    "    * `stopped_bc_object`, `stopped_bc_desc`, `stopped_bc_casing`, `stopped_bc_lookout`, `stopped_bc_clothing`, `stopped_bc_drugs`, `stopped_bc_furtive`, `stopped_bc_violent`, `stopped_bc_bulge`, `stopped_bc_other`\n",
    "    \n",
    "* Suspect demographics:\n",
    "    * `suspect_dob`, `suspect_id_type`, `suspect_sex`, `suspect_race`,\n",
    "      `suspect_hispanic`, `suspect_age`, `suspect_height`, `suspect_weight`,\n",
    "      `suspect_hair`, `suspect_eye`, `suspect_build`, `reason_explained`,\n",
    "      `others_stopped`\n",
    "\n",
    "* Whether physical force was used:\n",
    "    * `force_hands`, `force_wall`, `force_ground`, `force_drawn`,\n",
    "      `force_pointed`, `force_baton`, `force_handcuffs`,\n",
    "      `force_pepper`, `force_other`\n",
    "\n",
    "* Was suspect arrested?: `arrested`\n",
    "    * if yes: `arrested_reason`\n",
    "\n",
    "* Was summons issued?: `summons_issued`\n",
    "\n",
    "* Officer in uniform?: `officer_uniform`, `officer_verbal`, `officer_shield`\n",
    "\n",
    "* Was person frisked?: `frisked`\n",
    "    * if yes: `frisked_bc_suspected_crime`, `frisked_bc_weapons`, `frisked_bc_attire`, `frisked_bc_actual_crime`, `frisked_bc_noncompliance`, `frisked_bc_threats`, `frisked_bc_prior`, `frisked_bc_furtive`, `frisked_bc_bulge`\n",
    "\n",
    "* Was person searched?: `searched`,\n",
    "    * if yes: `searched_hardobject`, `searched_outline`,\n",
    "      `searched_admission`, `searched_other`\n",
    "\n",
    "* Was weapon found?: `found_weapon`\n",
    "    * if yes: `found_gun`, `found_pistol`, `found_rifle`, `found_assault`,\n",
    "      `found_knife`, `found_machinegun`, `found_other`\n",
    "      \n",
    "* Was other contraband found?: `found_contraband`\n",
    "\n",
    "* Additional circumstances/factors\n",
    "    * `additional_report`, `additional_investigation`, `additional_proximity`, \n",
    "      `additional_evasive`, `additional_associating`, `additional_direction`, \n",
    "      `additional_highcrime`, `additional_time`, `additional_sights`, \n",
    "      `additional_other`\n",
    "\n",
    "* Additional reports prepared: `extra_reports`\n",
    "\n",
    "* Whether the stop was a result of a radio run: `radio_run`\n",
    "\n",
    "* Was the stop made inside or outside: `inside_outside`\n",
    "\n",
    "* Period of observation (minutes): `observation_period`, `stop_length`\n",
    "\n",
    "* Type of ID the person had (photo, refused, verified, other): `identification`\n",
    "\n",
    "* Local hit rate: `local_hit_rate`, defined as the average hit rate for drug and CPW stops at the location of the stop for the previous year. Stops closer to the focal point are given more weight than stops farther away, using gaussian kernel averaging. NA if it's other type of stops.\n",
    "\n",
    "[uf250_link]: https://www.prisonlegalnews.org/media/publications/Blank%20UF-250%20Form%20-%20Stop%2C%20Question%20and%20Frisk%20Report%20Worksheet%2C%20NYPD%2C%202016.pdf\n",
    "      "
   ]
  },
  {
   "cell_type": "markdown",
   "metadata": {},
   "source": [
    "## Analysis"
   ]
  },
  {
   "cell_type": "markdown",
   "metadata": {},
   "source": [
    "For this lab, we will focus on stops for suspicion of criminal possession of a weapon (CPW)."
   ]
  },
  {
   "cell_type": "markdown",
   "metadata": {},
   "source": [
    "#### Exercise: Data filtering"
   ]
  },
  {
   "cell_type": "code",
   "execution_count": 3,
   "metadata": {},
   "outputs": [],
   "source": [
    "# Your code here!\n",
    "# Create a data frame named stops_cpw with only cpw stops as indicated by column suspected_crime\n",
    "# START solution\n",
    "\n",
    "stops_cpw <- stops %>%\n",
    "  filter(suspected_crime == \"cpw\")\n",
    "\n",
    "# END solution"
   ]
  },
  {
   "cell_type": "markdown",
   "metadata": {},
   "source": [
    "One might say that a CPW stop was _ex post_ justified if a weapon was ultimately recovered. To gauge whether such a stop was _ex ante_ justified, we will use the available data to build a risk assessment model, allowing us to estimate the likelihood a stopped individual is carrying a weapon. We can then examine the model-estimated risk scores to see whether people were stopped even though the available evidence suggests that they are unlikely to be carrying a weapon, potentially in violation of the Fourth Amendment. We will look at each of these steps — estimating risk and examining scores — in turn below.\n",
    "\n",
    "### Estimating risk\n",
    "\n",
    "For an individual $i$, let $X_i$ be all the information we know about the\n",
    "individual prior to making the stop decision, and define\n",
    "\n",
    "\n",
    "$$\n",
    "Y_i =\n",
    "\\begin{cases}\n",
    "1 & \\textrm{if a weapon is found on individual } i \\\\\n",
    "0 & \\textrm{otherwise}\n",
    "\\end{cases}\n",
    "$$\n",
    "\n",
    "\n",
    "Then, the _risk_ we are interested in measuring can be written as\n",
    "\n",
    "$$\n",
    "r_i = \\Pr(Y_i = 1 ~|~ X_i).\n",
    "$$\n",
    "\n",
    "\n",
    "\n",
    "In other words, we wish to estimate the probability that we will recover a \n",
    "weapon from an individual, characterized by covariates $X_i$, if we were to \n",
    "stop (and frisk) them.\n",
    "\n",
    "One way to estimate this probability is to fit a logistic regression on the\n",
    "subset of individuals who were stopped, to predict whether a weapon will be\n",
    "found, using all the covariates that an officer observed prior to conducting the\n",
    "stop. \n",
    "\n",
    "Don't worry if you haven't heard of logistic regression before! We'll talk about\n",
    "it more in later lectures; for now, we'll treat logistic regression as a black-box\n",
    "that spits out an estimated probability of finding a weapon on someone matching\n",
    "a certain set of criteria (or _features_) that we specify."
   ]
  },
  {
   "cell_type": "markdown",
   "metadata": {},
   "source": [
    "To fit and evaluate our risk model, we split the data into two parts: a _training_ set and a _test_ set.\n",
    "We fit (or _train_) our logistic regression model using the training set, and then use the fitted model to generate predictions on the test set. This splitting of the data helps to ensure that the model isn't able to \"cheat\" when making its predictions."
   ]
  },
  {
   "cell_type": "code",
   "execution_count": 4,
   "metadata": {},
   "outputs": [],
   "source": [
    "# Split train-test set\n",
    "stops_train_cpw <- stops_cpw %>%\n",
    "  filter(year %in% 2009:2010)\n",
    "\n",
    "stops_test_cpw <- stops_cpw %>%\n",
    "  filter(year %in% 2011:2012)"
   ]
  },
  {
   "cell_type": "markdown",
   "metadata": {},
   "source": [
    "We'll start be estimating risk based on whether the officer reported seeing a \"bulge\" (indicative of carrying a weapon) and whether the officer indicated that the stop occurred in a \"high-crime\" neighborhood. We train and make predictions with the logistic regression model as follows:"
   ]
  },
  {
   "cell_type": "code",
   "execution_count": 5,
   "metadata": {},
   "outputs": [],
   "source": [
    "# We start by specifying which risk factors to include in the model\n",
    "features <- c('stopped_bc_bulge', 'additional_highcrime')\n",
    "\n",
    "# We will use all covariates listed in `features` to predict the outcome \"found_weapon\" \n",
    "glm_formula <- reformulate(features, response=\"found_weapon\")\n",
    "\n",
    "# Train model\n",
    "glm_fit <- glm(glm_formula, data = stops_train_cpw, family = binomial(link = \"logit\"))\n",
    "\n",
    "# Make predictions on the test set\n",
    "predictions <- predict(glm_fit, newdata = stops_test_cpw, type = \"response\")"
   ]
  },
  {
   "cell_type": "markdown",
   "metadata": {},
   "source": [
    "At the end of this process, we get a vector of predictions that indicates how likely each person in the test set is to be carrying a weapon, based on the two specified risk factors."
   ]
  },
  {
   "cell_type": "code",
   "execution_count": 6,
   "metadata": {},
   "outputs": [
    {
     "data": {
      "text/html": [
       "<dl class=dl-horizontal>\n",
       "\t<dt>1</dt>\n",
       "\t\t<dd>0.0355691380314662</dd>\n",
       "\t<dt>2</dt>\n",
       "\t\t<dd>0.0231039048309979</dd>\n",
       "\t<dt>3</dt>\n",
       "\t\t<dd>0.0355691380314662</dd>\n",
       "\t<dt>4</dt>\n",
       "\t\t<dd>0.0231039048309979</dd>\n",
       "\t<dt>5</dt>\n",
       "\t\t<dd>0.0394693912495835</dd>\n",
       "\t<dt>6</dt>\n",
       "\t\t<dd>0.0355691380314662</dd>\n",
       "</dl>\n"
      ],
      "text/latex": [
       "\\begin{description*}\n",
       "\\item[1] 0.0355691380314662\n",
       "\\item[2] 0.0231039048309979\n",
       "\\item[3] 0.0355691380314662\n",
       "\\item[4] 0.0231039048309979\n",
       "\\item[5] 0.0394693912495835\n",
       "\\item[6] 0.0355691380314662\n",
       "\\end{description*}\n"
      ],
      "text/markdown": [
       "1\n",
       ":   0.03556913803146622\n",
       ":   0.02310390483099793\n",
       ":   0.03556913803146624\n",
       ":   0.02310390483099795\n",
       ":   0.03946939124958356\n",
       ":   0.0355691380314662\n",
       "\n"
      ],
      "text/plain": [
       "     1      2      3      4      5      6 \n",
       "0.0356 0.0231 0.0356 0.0231 0.0395 0.0356 "
      ]
     },
     "metadata": {},
     "output_type": "display_data"
    }
   ],
   "source": [
    "head(predictions)"
   ]
  },
  {
   "cell_type": "markdown",
   "metadata": {},
   "source": [
    "To see where these predictions are coming from, we can check how much weight the model is putting on each of the factors, displayed in the `estimate` column in the table below. Based on the historical data, the model believes that people stopped because of a reported \"bulge\" are at higher risk of carrying a weapon (since the estimate is positive). Further, people stopped because they are in a \"high crime\" neighborhood are at _lower_ risk of carrying a weapon, compared to those without this factor reported as a basis for the stop (since the estimate is negative)."
   ]
  },
  {
   "cell_type": "code",
   "execution_count": 7,
   "metadata": {},
   "outputs": [
    {
     "data": {
      "text/html": [
       "<table>\n",
       "<caption>A tibble: 3 × 5</caption>\n",
       "<thead>\n",
       "\t<tr><th scope=col>term</th><th scope=col>estimate</th><th scope=col>std.error</th><th scope=col>statistic</th><th scope=col>p.value</th></tr>\n",
       "\t<tr><th scope=col>&lt;chr&gt;</th><th scope=col>&lt;dbl&gt;</th><th scope=col>&lt;dbl&gt;</th><th scope=col>&lt;dbl&gt;</th><th scope=col>&lt;dbl&gt;</th></tr>\n",
       "</thead>\n",
       "<tbody>\n",
       "\t<tr><td>(Intercept)             </td><td>-3.300</td><td>0.0293</td><td>-112.5</td><td>0.00e+00</td></tr>\n",
       "\t<tr><td>stopped_bc_bulgeTRUE    </td><td> 0.552</td><td>0.0385</td><td>  14.4</td><td>1.00e-46</td></tr>\n",
       "\t<tr><td>additional_highcrimeTRUE</td><td>-0.444</td><td>0.0380</td><td> -11.7</td><td>1.25e-31</td></tr>\n",
       "</tbody>\n",
       "</table>\n"
      ],
      "text/latex": [
       "A tibble: 3 × 5\n",
       "\\begin{tabular}{r|lllll}\n",
       " term & estimate & std.error & statistic & p.value\\\\\n",
       " <chr> & <dbl> & <dbl> & <dbl> & <dbl>\\\\\n",
       "\\hline\n",
       "\t (Intercept)              & -3.300 & 0.0293 & -112.5 & 0.00e+00\\\\\n",
       "\t stopped\\_bc\\_bulgeTRUE     &  0.552 & 0.0385 &   14.4 & 1.00e-46\\\\\n",
       "\t additional\\_highcrimeTRUE & -0.444 & 0.0380 &  -11.7 & 1.25e-31\\\\\n",
       "\\end{tabular}\n"
      ],
      "text/markdown": [
       "\n",
       "A tibble: 3 × 5\n",
       "\n",
       "| term &lt;chr&gt; | estimate &lt;dbl&gt; | std.error &lt;dbl&gt; | statistic &lt;dbl&gt; | p.value &lt;dbl&gt; |\n",
       "|---|---|---|---|---|\n",
       "| (Intercept)              | -3.300 | 0.0293 | -112.5 | 0.00e+00 |\n",
       "| stopped_bc_bulgeTRUE     |  0.552 | 0.0385 |   14.4 | 1.00e-46 |\n",
       "| additional_highcrimeTRUE | -0.444 | 0.0380 |  -11.7 | 1.25e-31 |\n",
       "\n"
      ],
      "text/plain": [
       "  term                     estimate std.error statistic p.value \n",
       "1 (Intercept)              -3.300   0.0293    -112.5    0.00e+00\n",
       "2 stopped_bc_bulgeTRUE      0.552   0.0385      14.4    1.00e-46\n",
       "3 additional_highcrimeTRUE -0.444   0.0380     -11.7    1.25e-31"
      ]
     },
     "metadata": {},
     "output_type": "display_data"
    }
   ],
   "source": [
    "tidy(glm_fit)"
   ]
  },
  {
   "cell_type": "markdown",
   "metadata": {},
   "source": [
    "#### Exercise: Model interpretation\n",
    "Why do you think the \"high crime\" rationale is associated with _lower_ risk of carrying a weapon in the model above?"
   ]
  },
  {
   "cell_type": "markdown",
   "metadata": {},
   "source": [
    "Now we'll quantify how well this risk model performs.\n",
    "There are many ways to evaluate a regression model's performance.\n",
    "For a binary classification task like the one we are working on (predicting whether or not someone is carrying a weapon), a common performance metric is [AUC](https://en.wikipedia.org/wiki/Receiver_operating_characteristic). Given a random pair of people in the dataset, exactly one of whom is carrying a weapon, the AUC is the probability that the model will correctly identify the person with the weapon. A perfect binary prediction model will thus give an AUC of 1 while a model that is making random guesses will produce an AUC of 0.5.\n",
    "\n",
    "The code below provides a friendlier interface to the `ROCR` package for computing AUC. (Don't worry about the details of how that code works!)\n",
    "Given a vector of risk scores and the true answer of whether someone is carrying a weapon, \n",
    "the function `compute_auc` returns the AUC of the underlying risk model."
   ]
  },
  {
   "cell_type": "code",
   "execution_count": 8,
   "metadata": {},
   "outputs": [
    {
     "data": {
      "text/html": [
       "0.605709418816201"
      ],
      "text/latex": [
       "0.605709418816201"
      ],
      "text/markdown": [
       "0.605709418816201"
      ],
      "text/plain": [
       "[1] 0.606"
      ]
     },
     "metadata": {},
     "output_type": "display_data"
    }
   ],
   "source": [
    "# Helper function to calculate AUC\n",
    "# Don't worry about the details of how this code works!\n",
    "compute_auc <- function(probs, labels) {\n",
    "  pred <- prediction(probs, labels)\n",
    "  auc <- performance(pred, 'auc')\n",
    "  auc <- unlist(slot(auc, 'y.values'))\n",
    "  auc\n",
    "}\n",
    "\n",
    "compute_auc(probs = predictions, labels = stops_test_cpw$found_weapon)"
   ]
  },
  {
   "cell_type": "markdown",
   "metadata": {},
   "source": [
    "#### Exercise: Interpreting model fit\n",
    "Discuss the AUC of the risk model above. How well would you say the model is doing?"
   ]
  },
  {
   "cell_type": "markdown",
   "metadata": {},
   "source": [
    "#### Exercise: Building a better logistic regression model"
   ]
  },
  {
   "cell_type": "markdown",
   "metadata": {},
   "source": [
    "In the above model, we used `stopped_bc_bulge` and `additional_highcrime` as the only risk factors used to predict whether an individual has a weapon. Explore incorporating additional factors from the dataset to build a more accurate model. To do this, start with the model-building code above, and then add additional factors to the `features` vector."
   ]
  },
  {
   "cell_type": "code",
   "execution_count": 9,
   "metadata": {},
   "outputs": [
    {
     "data": {
      "text/html": [
       "0.819433713399323"
      ],
      "text/latex": [
       "0.819433713399323"
      ],
      "text/markdown": [
       "0.819433713399323"
      ],
      "text/plain": [
       "[1] 0.819"
      ]
     },
     "metadata": {},
     "output_type": "display_data"
    }
   ],
   "source": [
    "# Your code here!\n",
    "# Build a better logistic regression model here by including more covariates\n",
    "# START solution\n",
    "\n",
    "binary_features <- c('precinct',\n",
    "                     'suspect_build',\n",
    "                     'month', 'day',\n",
    "                     'stopped_bc_furtive', 'stopped_bc_other', 'stopped_bc_object', 'stopped_bc_drugs', 'stopped_bc_violent', \n",
    "                     'stopped_bc_lookout', 'stopped_bc_clothing', 'stopped_bc_casing', 'stopped_bc_bulge', 'stopped_bc_desc',\n",
    "                     'inside_outside', 'location_housing',\n",
    "                     'additional_highcrime', 'additional_investigation', 'additional_proximity', 'additional_direction', 'additional_other',\n",
    "                     'additional_associating', 'additional_sights', 'additional_time', 'additional_evasive', 'additional_report',\n",
    "                     'radio_run', 'officer_uniform')\n",
    "realvalued_features <- c('suspect_height', 'suspect_weight', 'observation_period', 'suspect_age', 'local_hit_rate', 'year')\n",
    "features <- c(binary_features, realvalued_features)\n",
    "\n",
    "glm_formula <- reformulate(features, response=\"found_weapon\")\n",
    "glm_fit <- glm(glm_formula, data = stops_train_cpw, family = binomial(link = \"logit\"))\n",
    "predictions <- predict(glm_fit, newdata = stops_test_cpw, type = \"response\")\n",
    "\n",
    "# END solution\n",
    "\n",
    "# check the AUC of the new model\n",
    "compute_auc(probs = predictions, labels = stops_test_cpw$found_weapon)"
   ]
  },
  {
   "cell_type": "markdown",
   "metadata": {},
   "source": [
    "#### Exercise: Interpreting risk scores\n",
    "\n",
    "Discuss your risk model. \n",
    "Do you think it gives an accurate estimate of the likelihood someone has a weapon, \n",
    "based on information observed by the officer?"
   ]
  },
  {
   "cell_type": "markdown",
   "metadata": {},
   "source": [
    "### Assessing 4A violations\n",
    "\n",
    "We'll now use our model estimates to assess potential Fourth Amendment violations. To start, we'll compute the fraction of CPW stops that have less than 1% _ex ante_ chance of recovering a weapon.\n",
    "\n",
    "#### Exercise: Calculate the proportion of low-risk stops"
   ]
  },
  {
   "cell_type": "code",
   "execution_count": 10,
   "metadata": {},
   "outputs": [
    {
     "data": {
      "text/html": [
       "<table>\n",
       "<caption>A tibble: 1 × 1</caption>\n",
       "<thead>\n",
       "\t<tr><th scope=col>prop_stops</th></tr>\n",
       "\t<tr><th scope=col>&lt;dbl&gt;</th></tr>\n",
       "</thead>\n",
       "<tbody>\n",
       "\t<tr><td>0.301</td></tr>\n",
       "</tbody>\n",
       "</table>\n"
      ],
      "text/latex": [
       "A tibble: 1 × 1\n",
       "\\begin{tabular}{r|l}\n",
       " prop\\_stops\\\\\n",
       " <dbl>\\\\\n",
       "\\hline\n",
       "\t 0.301\\\\\n",
       "\\end{tabular}\n"
      ],
      "text/markdown": [
       "\n",
       "A tibble: 1 × 1\n",
       "\n",
       "| prop_stops &lt;dbl&gt; |\n",
       "|---|\n",
       "| 0.301 |\n",
       "\n"
      ],
      "text/plain": [
       "  prop_stops\n",
       "1 0.301     "
      ]
     },
     "metadata": {},
     "output_type": "display_data"
    }
   ],
   "source": [
    "# Add our predictions to the data frame\n",
    "stops_test_cpw <- stops_test_cpw %>%\n",
    "  mutate(found_weapon_pred = predictions)\n",
    "\n",
    "# Given a threshold p between 0 and 1 (e.g., 0.01)\n",
    "p <- 0.01\n",
    "# Calculate the proportion of stops with smaller than p ex-ante chance of recovering a weapon\n",
    "\n",
    "# Your code here!\n",
    "# START solution\n",
    "stops_test_cpw %>% \n",
    "  summarize(prop_stops = mean(found_weapon_pred < p))\n",
    "# END solution"
   ]
  },
  {
   "cell_type": "markdown",
   "metadata": {},
   "source": [
    "#### Exercise: Interpreting the result\n",
    "\n",
    "Discuss the result above. Do you think this provides evidence of Fourth Amendment violations?"
   ]
  },
  {
   "cell_type": "markdown",
   "metadata": {},
   "source": [
    "Above we computed the proportion of stops with less than 1% chance of turning up a weapon. Now we'll repeat this exercise for every threshold (e.g., 0.1% and 2%). \n",
    "(This is called the [cumulative distirbution function (CDF)](https://en.wikipedia.org/wiki/Cumulative_distribution_function) of the risk distribution.)"
   ]
  },
  {
   "cell_type": "markdown",
   "metadata": {},
   "source": [
    "#### Exercise: Calculate the proportion of stops having less than risk $p$, for different values of $p$"
   ]
  },
  {
   "cell_type": "code",
   "execution_count": 11,
   "metadata": {},
   "outputs": [],
   "source": [
    "# Your code here!\n",
    "# create a data frame named risk_dist with 2 columns: p and prop_stops\n",
    "# representing the proportion of stops having risk less than or equal to p,\n",
    "# for all values of p.\n",
    "#\n",
    "# Hint: start by sorting the stops by risk score, from lowest to highest\n",
    "\n",
    "# START solution\n",
    "risk_dist <- stops_test_cpw %>%\n",
    "  arrange(found_weapon_pred) %>%\n",
    "  mutate(p = found_weapon_pred,\n",
    "         prop_stops = 1:n() / n()) %>%\n",
    "  select(p, prop_stops)\n",
    "# END solution"
   ]
  },
  {
   "cell_type": "markdown",
   "metadata": {},
   "source": [
    "We can now plot the proportion of stops less than each risk level. As a point of comparison, we also plot a dashed line showing the overall hit rate in the dataset."
   ]
  },
  {
   "cell_type": "code",
   "execution_count": 12,
   "metadata": {},
   "outputs": [
    {
     "name": "stderr",
     "output_type": "stream",
     "text": [
      "Warning message:\n",
      "“Removed 2322 row(s) containing missing values (geom_path).”"
     ]
    },
    {
     "data": {
      "image/png": "[encoded data removed]",
      "text/plain": [
       "plot without title"
      ]
     },
     "metadata": {},
     "output_type": "display_data"
    }
   ],
   "source": [
    "hit_rate_overall <- mean(stops_test_cpw$found_weapon)\n",
    "\n",
    "ggplot(risk_dist, aes(x = p, y = prop_stops)) +\n",
    "  geom_vline(xintercept=hit_rate_overall, linetype='dashed') +\n",
    "  geom_line() +\n",
    "  scale_x_continuous('Probability of weapon recovery', labels = scales::percent,\n",
    "                     limits = c(0, 0.2), expand = expansion(mult = c(0, 0.01))) +\n",
    "  scale_y_continuous('Proportion of stops below threshold', labels = scales::percent,\n",
    "                     limits = c(0, 1), expand = expansion(mult = c(0, 0.01))) "
   ]
  },
  {
   "cell_type": "markdown",
   "metadata": {},
   "source": [
    "#### Exercise: Interpreting the result\n",
    "\n",
    "Discuss the result above. What do you think the plot above tells us about Fourth Amendment violations?"
   ]
  },
  {
   "cell_type": "markdown",
   "metadata": {},
   "source": [
    "Now let's generate a version of the plot above disaggregated by race, for those categorized in the dataset as `Black`, `Hispanic`, or `white`."
   ]
  },
  {
   "cell_type": "markdown",
   "metadata": {},
   "source": [
    "#### Exercise: Calculate the risk distribution disaggregated by race"
   ]
  },
  {
   "cell_type": "code",
   "execution_count": 13,
   "metadata": {},
   "outputs": [],
   "source": [
    "# Your code here!\n",
    "# The output should be a data frame named risk_dist_by_race \n",
    "# containing 3 columns: suspect_race, p, and prop_stops\n",
    "#\n",
    "# Hint: start by filtering the data to the race groups we consider here; \n",
    "# then group and sort the data; finally, compute the proportions\n",
    "\n",
    "# START solution\n",
    "risk_dist_by_race <- stops_test_cpw %>%\n",
    "  filter(suspect_race %in% c(\"Black\", \"Hispanic\", \"white\")) %>%\n",
    "  group_by(suspect_race) %>%\n",
    "  arrange(found_weapon_pred) %>%\n",
    "  mutate(p = found_weapon_pred,\n",
    "         prop_stops = 1:n() / n()) %>%\n",
    "  select(suspect_race, p, prop_stops)\n",
    "# END solution"
   ]
  },
  {
   "cell_type": "markdown",
   "metadata": {},
   "source": [
    "#### Exercise: Hit rate by race"
   ]
  },
  {
   "cell_type": "code",
   "execution_count": 14,
   "metadata": {},
   "outputs": [
    {
     "name": "stderr",
     "output_type": "stream",
     "text": [
      "`summarise()` ungrouping output (override with `.groups` argument)\n"
     ]
    }
   ],
   "source": [
    "# Your code here!\n",
    "# For a point of reference in the plot, compute the overall hit rate \n",
    "# for Black, Hispanic, and white individuals.\n",
    "# The output should be a data frame named hit_rate_by_race with 2 columns: suspect_race and hit_rate\n",
    "# START solution\n",
    "hit_rate_by_race <- stops_test_cpw %>%\n",
    "  filter(suspect_race %in% c(\"Black\", \"Hispanic\", \"white\")) %>%\n",
    "  group_by(suspect_race) %>%\n",
    "  summarize(hit_rate = mean(found_weapon))\n",
    "# END solution"
   ]
  },
  {
   "cell_type": "markdown",
   "metadata": {},
   "source": [
    "We now plot the results."
   ]
  },
  {
   "cell_type": "code",
   "execution_count": 15,
   "metadata": {},
   "outputs": [
    {
     "name": "stderr",
     "output_type": "stream",
     "text": [
      "Warning message:\n",
      "“Removed 2235 row(s) containing missing values (geom_path).”"
     ]
    },
    {
     "data": {
      "image/png": "[encoded data removed]",
      "text/plain": [
       "plot without title"
      ]
     },
     "metadata": {},
     "output_type": "display_data"
    }
   ],
   "source": [
    "ggplot(risk_dist_by_race, aes(x = p, y = prop_stops, color = suspect_race)) +\n",
    "  geom_vline(data=hit_rate_by_race, aes(xintercept=hit_rate, color = suspect_race), linetype='dashed') +\n",
    "  geom_line() +\n",
    "  scale_x_continuous('Probability of weapon recovery', labels = scales::percent,\n",
    "                     limits = c(0, .2), expand = expansion(mult = c(0, 0.01))) +\n",
    "  scale_y_continuous('Proportion of stops below threshold', labels = scales::percent,\n",
    "                     limits = c(0, 1), expand = expansion(mult = c(0, 0.01))) +\n",
    "  scale_color_discrete(\"Suspect race\")\n"
   ]
  },
  {
   "cell_type": "markdown",
   "metadata": {},
   "source": [
    "#### Exercise: Interpreting the result\n",
    "\n",
    "Discuss the result above. What do you think the plot above tells us about Fourth Amendment violations? What does it tell us about discrimination?"
   ]
  }
 ],
 "metadata": {
  "kernelspec": {
   "display_name": "R",
   "language": "R",
   "name": "ir"
  },
  "language_info": {
   "codemirror_mode": "r",
   "file_extension": ".r",
   "mimetype": "text/x-r-source",
   "name": "R",
   "pygments_lexer": "r",
   "version": "3.6.3"
  }
 },
 "nbformat": 4,
 "nbformat_minor": 5
}
