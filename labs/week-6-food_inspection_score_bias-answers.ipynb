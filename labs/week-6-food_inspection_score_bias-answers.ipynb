{
 "cells": [
  {
   "cell_type": "code",
   "execution_count": 2,
   "metadata": {
    "scrolled": true
   },
   "outputs": [],
   "source": [
    "# Some initial setup\n",
    "options(digits = 3)\n",
    "#install.packages(\"tidyverse\")\n",
    "library(tidyverse)\n",
    "\n",
    "theme_set(theme_bw())\n",
    "\n",
    "#read in data\n",
    "kcDat <- readRDS('../data/inspections.rds')"
   ]
  },
  {
   "cell_type": "markdown",
   "metadata": {},
   "source": [
    "## The Problem\n",
    "\n",
    "We would like to design a risk score for restaurants to determine the allocation of health inspection resources. Currently, all restaurants are required to be visited the same number of times in a year. A health department is considering using data to \"target\" health inspections: i.e., sending inspectors out based on predicted violations.  The idea is that this could use public resources more efficiently and secure compliance in a better way. "
   ]
  },
  {
   "cell_type": "markdown",
   "metadata": {},
   "source": [
    "## The Data"
   ]
  },
  {
   "cell_type": "markdown",
   "metadata": {},
   "source": [
    "The `kcDat` data frame contains information on restaurant inspections in King County, Washington between 2006 and 2012. The inspection data has been merged with Yelp review information.\n",
    "\n",
    "\n",
    " - Variables of interest\n",
    "      - `score`: score for inspection; higher scores mean there were more violations/penalties\n",
    "      - `prior_score`: the inspection score for the prior inspection for that establishment\n",
    "      - `prior_avg_score`: the average of prior score from several years\n",
    "      - `year`: the year the inspection occurred (resulting in `score`) occurred\n",
    "      - `asian`: whether the restaurant serves Asian cuisine\n",
    "      - `yelp_reviews`: the number of reviews for that restaurant written on Yelp\n",
    "      - `yelp_rating`: the average star rating on Yelp\n"
   ]
  },
  {
   "cell_type": "markdown",
   "metadata": {},
   "source": [
    "Let's examine the first few rows of the dataset using the `head` command:"
   ]
  },
  {
   "cell_type": "code",
   "execution_count": 3,
   "metadata": {},
   "outputs": [
    {
     "data": {
      "text/html": [
       "<table>\n",
       "<thead><tr><th scope=col>score</th><th scope=col>prior_score</th><th scope=col>prior_avg_score</th><th scope=col>year</th><th scope=col>asian</th><th scope=col>yelp_reviews</th><th scope=col>yelp_rating</th></tr></thead>\n",
       "<tbody>\n",
       "\t<tr><td> 0  </td><td>35  </td><td>22.4</td><td>2012</td><td>1   </td><td>1   </td><td>5.00</td></tr>\n",
       "\t<tr><td> 0  </td><td>40  </td><td>23.3</td><td>2012</td><td>1   </td><td>3   </td><td>4.00</td></tr>\n",
       "\t<tr><td>40  </td><td>10  </td><td>21.6</td><td>2011</td><td>1   </td><td>7   </td><td>4.43</td></tr>\n",
       "\t<tr><td>10  </td><td>25  </td><td>22.9</td><td>2011</td><td>1   </td><td>3   </td><td>3.33</td></tr>\n",
       "\t<tr><td>25  </td><td> 0  </td><td>22.6</td><td>2010</td><td>1   </td><td>4   </td><td>3.25</td></tr>\n",
       "\t<tr><td> 0  </td><td>25  </td><td>25.9</td><td>2010</td><td>1   </td><td>1   </td><td>2.00</td></tr>\n",
       "</tbody>\n",
       "</table>\n"
      ],
      "text/latex": [
       "\\begin{tabular}{r|lllllll}\n",
       " score & prior\\_score & prior\\_avg\\_score & year & asian & yelp\\_reviews & yelp\\_rating\\\\\n",
       "\\hline\n",
       "\t  0   & 35   & 22.4 & 2012 & 1    & 1    & 5.00\\\\\n",
       "\t  0   & 40   & 23.3 & 2012 & 1    & 3    & 4.00\\\\\n",
       "\t 40   & 10   & 21.6 & 2011 & 1    & 7    & 4.43\\\\\n",
       "\t 10   & 25   & 22.9 & 2011 & 1    & 3    & 3.33\\\\\n",
       "\t 25   &  0   & 22.6 & 2010 & 1    & 4    & 3.25\\\\\n",
       "\t  0   & 25   & 25.9 & 2010 & 1    & 1    & 2.00\\\\\n",
       "\\end{tabular}\n"
      ],
      "text/markdown": [
       "\n",
       "| score | prior_score | prior_avg_score | year | asian | yelp_reviews | yelp_rating |\n",
       "|---|---|---|---|---|---|---|\n",
       "|  0   | 35   | 22.4 | 2012 | 1    | 1    | 5.00 |\n",
       "|  0   | 40   | 23.3 | 2012 | 1    | 3    | 4.00 |\n",
       "| 40   | 10   | 21.6 | 2011 | 1    | 7    | 4.43 |\n",
       "| 10   | 25   | 22.9 | 2011 | 1    | 3    | 3.33 |\n",
       "| 25   |  0   | 22.6 | 2010 | 1    | 4    | 3.25 |\n",
       "|  0   | 25   | 25.9 | 2010 | 1    | 1    | 2.00 |\n",
       "\n"
      ],
      "text/plain": [
       "  score prior_score prior_avg_score year asian yelp_reviews yelp_rating\n",
       "1  0    35          22.4            2012 1     1            5.00       \n",
       "2  0    40          23.3            2012 1     3            4.00       \n",
       "3 40    10          21.6            2011 1     7            4.43       \n",
       "4 10    25          22.9            2011 1     3            3.33       \n",
       "5 25     0          22.6            2010 1     4            3.25       \n",
       "6  0    25          25.9            2010 1     1            2.00       "
      ]
     },
     "metadata": {},
     "output_type": "display_data"
    }
   ],
   "source": [
    "head(kcDat)"
   ]
  },
  {
   "cell_type": "markdown",
   "metadata": {},
   "source": [
    "Let's posit that receiving an inspection score of 10 or more points counts as a serious violation. The health department is interested in targeting these establishments with more frequent inspections.  Please calculate a `serious_viol` indicator below and add it to the `kcDat` data frame. "
   ]
  },
  {
   "cell_type": "code",
   "execution_count": 4,
   "metadata": {},
   "outputs": [],
   "source": [
    "# WRITE CODE HERE\n",
    "# START solution\n",
    "kcDat <- kcDat %>% \n",
    "    mutate(serious_viol = score >= 10)\n",
    "# END solution"
   ]
  },
  {
   "cell_type": "markdown",
   "metadata": {},
   "source": [
    "## Test / Train Split \n",
    "As is conventional in machine learning, let's split the data into training and test sets. We will use the training dataset to develop the model and the test set to evaluate results. We'll set a random seed (to enable replicability) and use 70% of the data for training a model and 30% of the data for testing the model. "
   ]
  },
  {
   "cell_type": "code",
   "execution_count": 5,
   "metadata": {},
   "outputs": [],
   "source": [
    "#get a random subset of data to fit naive model\n",
    "set.seed(1231)\n",
    "\n",
    "#take 70% of data to train - leave 30% to evaluate accuracy\n",
    "train <- sample(1:nrow(kcDat), floor(nrow(kcDat)*.7), replace=FALSE)\n",
    "\n",
    "train_sub <- kcDat[train,]\n",
    "test_sub <- kcDat[-train,]"
   ]
  },
  {
   "cell_type": "markdown",
   "metadata": {},
   "source": [
    "## Baseline Accuracy\n",
    "Let's set up a baseline of predictive performance.  The baseline is really simple: we will predict the modal value of `serious_viol` in the training sample. Calculate the mean and mode  in the training data.  The calculate the accuracy in the test data, where accuracy is the percentage correctly predicted.  This is our baseline accuracy. "
   ]
  },
  {
   "cell_type": "code",
   "execution_count": 6,
   "metadata": {},
   "outputs": [
    {
     "data": {
      "text/html": [
       "<table>\n",
       "<thead><tr><th scope=col>serious_viol_rate</th><th scope=col>serious_viol_mode</th></tr></thead>\n",
       "<tbody>\n",
       "\t<tr><td>0.473</td><td>0    </td></tr>\n",
       "</tbody>\n",
       "</table>\n"
      ],
      "text/latex": [
       "\\begin{tabular}{r|ll}\n",
       " serious\\_viol\\_rate & serious\\_viol\\_mode\\\\\n",
       "\\hline\n",
       "\t 0.473 & 0    \\\\\n",
       "\\end{tabular}\n"
      ],
      "text/markdown": [
       "\n",
       "| serious_viol_rate | serious_viol_mode |\n",
       "|---|---|\n",
       "| 0.473 | 0     |\n",
       "\n"
      ],
      "text/plain": [
       "  serious_viol_rate serious_viol_mode\n",
       "1 0.473             0                "
      ]
     },
     "metadata": {},
     "output_type": "display_data"
    },
    {
     "data": {
      "text/html": [
       "<table>\n",
       "<thead><tr><th scope=col>accuracy</th></tr></thead>\n",
       "<tbody>\n",
       "\t<tr><td>0.516</td></tr>\n",
       "</tbody>\n",
       "</table>\n"
      ],
      "text/latex": [
       "\\begin{tabular}{r|l}\n",
       " accuracy\\\\\n",
       "\\hline\n",
       "\t 0.516\\\\\n",
       "\\end{tabular}\n"
      ],
      "text/markdown": [
       "\n",
       "| accuracy |\n",
       "|---|\n",
       "| 0.516 |\n",
       "\n"
      ],
      "text/plain": [
       "  accuracy\n",
       "1 0.516   "
      ]
     },
     "metadata": {},
     "output_type": "display_data"
    }
   ],
   "source": [
    "# Helper function to calculate mode in vector v\n",
    "get_mode <- function(v) {\n",
    "    uniqv <- unique(v)\n",
    "    my_mode <- uniqv[which.max(tabulate(match(v, uniqv)))]\n",
    "    as.numeric(my_mode)\n",
    "}\n",
    "\n",
    "# WRITE CODE HERE\n",
    "# START solution\n",
    "train_mode <- train_sub %>% \n",
    "        summarize(serious_viol_rate = mean(serious_viol),\n",
    "                  serious_viol_mode = get_mode(serious_viol))\n",
    "train_mode\n",
    "\n",
    "test_sub %>% \n",
    "    summarize(accuracy = mean(train_mode$serious_viol_mode == serious_viol))\n",
    "\n",
    "# END solution"
   ]
  },
  {
   "cell_type": "markdown",
   "metadata": {},
   "source": [
    "## Model 1: Logistic Regression\n",
    "\n",
    "Let's now fit a logistic regression to predict whether an establishment is likely to fail its inspection.  Let's use all variables above, except for the Asian cuisine indicator. \n",
    "\n",
    "Interpret the coefficients. Note that the intercept will represent the baseline year of 2006 (the omitted year). "
   ]
  },
  {
   "cell_type": "code",
   "execution_count": 7,
   "metadata": {},
   "outputs": [
    {
     "data": {
      "text/html": [
       "<dl class=dl-horizontal>\n",
       "\t<dt>(Intercept)</dt>\n",
       "\t\t<dd>0.827122965377809</dd>\n",
       "\t<dt>prior_score</dt>\n",
       "\t\t<dd>1.00502592099264</dd>\n",
       "\t<dt>prior_avg_score</dt>\n",
       "\t\t<dd>1.04263462104523</dd>\n",
       "\t<dt>year2007</dt>\n",
       "\t\t<dd>0.84008000487006</dd>\n",
       "\t<dt>year2008</dt>\n",
       "\t\t<dd>0.752082830373077</dd>\n",
       "\t<dt>year2009</dt>\n",
       "\t\t<dd>0.645260330132087</dd>\n",
       "\t<dt>year2010</dt>\n",
       "\t\t<dd>0.690225080536746</dd>\n",
       "\t<dt>year2011</dt>\n",
       "\t\t<dd>0.651943493496027</dd>\n",
       "\t<dt>year2012</dt>\n",
       "\t\t<dd>0.67916000926613</dd>\n",
       "\t<dt>year2013</dt>\n",
       "\t\t<dd>0.587375952014409</dd>\n",
       "\t<dt>yelp_reviews</dt>\n",
       "\t\t<dd>1.00086643759772</dd>\n",
       "\t<dt>yelp_rating</dt>\n",
       "\t\t<dd>0.955182731239761</dd>\n",
       "</dl>\n"
      ],
      "text/latex": [
       "\\begin{description*}\n",
       "\\item[(Intercept)] 0.827122965377809\n",
       "\\item[prior\\textbackslash{}\\_score] 1.00502592099264\n",
       "\\item[prior\\textbackslash{}\\_avg\\textbackslash{}\\_score] 1.04263462104523\n",
       "\\item[year2007] 0.84008000487006\n",
       "\\item[year2008] 0.752082830373077\n",
       "\\item[year2009] 0.645260330132087\n",
       "\\item[year2010] 0.690225080536746\n",
       "\\item[year2011] 0.651943493496027\n",
       "\\item[year2012] 0.67916000926613\n",
       "\\item[year2013] 0.587375952014409\n",
       "\\item[yelp\\textbackslash{}\\_reviews] 1.00086643759772\n",
       "\\item[yelp\\textbackslash{}\\_rating] 0.955182731239761\n",
       "\\end{description*}\n"
      ],
      "text/markdown": [
       "(Intercept)\n",
       ":   0.827122965377809prior_score\n",
       ":   1.00502592099264prior_avg_score\n",
       ":   1.04263462104523year2007\n",
       ":   0.84008000487006year2008\n",
       ":   0.752082830373077year2009\n",
       ":   0.645260330132087year2010\n",
       ":   0.690225080536746year2011\n",
       ":   0.651943493496027year2012\n",
       ":   0.67916000926613year2013\n",
       ":   0.587375952014409yelp_reviews\n",
       ":   1.00086643759772yelp_rating\n",
       ":   0.955182731239761\n",
       "\n"
      ],
      "text/plain": [
       "    (Intercept)     prior_score prior_avg_score        year2007        year2008 \n",
       "          0.827           1.005           1.043           0.840           0.752 \n",
       "       year2009        year2010        year2011        year2012        year2013 \n",
       "          0.645           0.690           0.652           0.679           0.587 \n",
       "   yelp_reviews     yelp_rating \n",
       "          1.001           0.955 "
      ]
     },
     "metadata": {},
     "output_type": "display_data"
    }
   ],
   "source": [
    "## Recall the syntax for logistic regression:\n",
    "##\n",
    "## glm_inspect <- glm(serious_viol ~ var1 + var2, data = train_sub, family = binomial)\n",
    "##\n",
    "## And that exponentiating the coeficients provides you with odds ratios\n",
    "##\n",
    "## exp(coef(glm_inspect))\n",
    "##\n",
    "\n",
    "# WRITE CODE HERE\n",
    "# START solution\n",
    "glm_inspect <- glm(serious_viol ~ prior_score + prior_avg_score + year + yelp_reviews + yelp_rating,\n",
    "                   data = train_sub, \n",
    "                   family = binomial)\n",
    "\n",
    "exp(coef(glm_inspect))\n",
    "# END solution"
   ]
  },
  {
   "cell_type": "markdown",
   "metadata": {},
   "source": [
    "### Assess prediction ability\n",
    "\n",
    "Now that we've fit a model, let's assess the accuracy of the predictions. \n",
    "\n",
    "Recall that you can predict new values from your model using the `predict()` function, which takes `newdata = test_sub` as an input to predict values on the test data, as well as `type = \"response\"` to predict values on a probability scale. \n",
    "\n",
    "For simplicity, let's use a threshold of 0.5 to predict when a restaurant will have a serious violation in the test set.  How often does this prediction equal the observed `serious_viol` in the test set, which is one measure of accuracy? "
   ]
  },
  {
   "cell_type": "code",
   "execution_count": 8,
   "metadata": {},
   "outputs": [
    {
     "data": {
      "text/html": [
       "0.608771929824561"
      ],
      "text/latex": [
       "0.608771929824561"
      ],
      "text/markdown": [
       "0.608771929824561"
      ],
      "text/plain": [
       "[1] 0.609"
      ]
     },
     "metadata": {},
     "output_type": "display_data"
    }
   ],
   "source": [
    "## Predicting serious violations on the test set \n",
    "score_pred_inspect <- predict(glm_inspect, newdata=test_sub, type=\"response\")\n",
    "\n",
    "## Accuracy\n",
    "mean((score_pred_inspect >= 0.5) == test_sub$serious_viol)"
   ]
  },
  {
   "cell_type": "markdown",
   "metadata": {},
   "source": [
    "## Model 2: Cuisine Category\n",
    "\n",
    "Now let's try adding the indicator for Asian cuisine to examine whether this will improve accuracy. \n",
    "\n",
    "Go through the same steps as before: (1) Fit the model and examine the odds ratio with Asian.  (2) Create a `score_pred` vector that stores all of the predictions in `test_sub`.  (3) Calculate the accuracy of these predictions. "
   ]
  },
  {
   "cell_type": "code",
   "execution_count": 9,
   "metadata": {},
   "outputs": [
    {
     "data": {
      "text/html": [
       "<dl class=dl-horizontal>\n",
       "\t<dt>(Intercept)</dt>\n",
       "\t\t<dd>0.655196874496801</dd>\n",
       "\t<dt>prior_score</dt>\n",
       "\t\t<dd>1.00528521258489</dd>\n",
       "\t<dt>prior_avg_score</dt>\n",
       "\t\t<dd>1.0372652905331</dd>\n",
       "\t<dt>year2007</dt>\n",
       "\t\t<dd>0.871822440746426</dd>\n",
       "\t<dt>year2008</dt>\n",
       "\t\t<dd>0.783458081964841</dd>\n",
       "\t<dt>year2009</dt>\n",
       "\t\t<dd>0.670554826778279</dd>\n",
       "\t<dt>year2010</dt>\n",
       "\t\t<dd>0.711665128863886</dd>\n",
       "\t<dt>year2011</dt>\n",
       "\t\t<dd>0.674151184640608</dd>\n",
       "\t<dt>year2012</dt>\n",
       "\t\t<dd>0.696161220753733</dd>\n",
       "\t<dt>year2013</dt>\n",
       "\t\t<dd>0.613187353208042</dd>\n",
       "\t<dt>asian</dt>\n",
       "\t\t<dd>1.43493355066523</dd>\n",
       "</dl>\n"
      ],
      "text/latex": [
       "\\begin{description*}\n",
       "\\item[(Intercept)] 0.655196874496801\n",
       "\\item[prior\\textbackslash{}\\_score] 1.00528521258489\n",
       "\\item[prior\\textbackslash{}\\_avg\\textbackslash{}\\_score] 1.0372652905331\n",
       "\\item[year2007] 0.871822440746426\n",
       "\\item[year2008] 0.783458081964841\n",
       "\\item[year2009] 0.670554826778279\n",
       "\\item[year2010] 0.711665128863886\n",
       "\\item[year2011] 0.674151184640608\n",
       "\\item[year2012] 0.696161220753733\n",
       "\\item[year2013] 0.613187353208042\n",
       "\\item[asian] 1.43493355066523\n",
       "\\end{description*}\n"
      ],
      "text/markdown": [
       "(Intercept)\n",
       ":   0.655196874496801prior_score\n",
       ":   1.00528521258489prior_avg_score\n",
       ":   1.0372652905331year2007\n",
       ":   0.871822440746426year2008\n",
       ":   0.783458081964841year2009\n",
       ":   0.670554826778279year2010\n",
       ":   0.711665128863886year2011\n",
       ":   0.674151184640608year2012\n",
       ":   0.696161220753733year2013\n",
       ":   0.613187353208042asian\n",
       ":   1.43493355066523\n",
       "\n"
      ],
      "text/plain": [
       "    (Intercept)     prior_score prior_avg_score        year2007        year2008 \n",
       "          0.655           1.005           1.037           0.872           0.783 \n",
       "       year2009        year2010        year2011        year2012        year2013 \n",
       "          0.671           0.712           0.674           0.696           0.613 \n",
       "          asian \n",
       "          1.435 "
      ]
     },
     "metadata": {},
     "output_type": "display_data"
    },
    {
     "data": {
      "text/html": [
       "0.610275689223058"
      ],
      "text/latex": [
       "0.610275689223058"
      ],
      "text/markdown": [
       "0.610275689223058"
      ],
      "text/plain": [
       "[1] 0.61"
      ]
     },
     "metadata": {},
     "output_type": "display_data"
    }
   ],
   "source": [
    "# WRITE CODE HERE\n",
    "# START solution\n",
    "glm_asian <- glm(serious_viol ~ prior_score + prior_avg_score + year + asian, data=train_sub, \n",
    "                 family = binomial)\n",
    "\n",
    "exp(coef(glm_asian))\n",
    "              \n",
    "score_pred <- predict(glm_asian, newdata = test_sub, type = \"response\")\n",
    "\n",
    "mean((score_pred >= 0.5) == test_sub$serious_viol)\n",
    "# END solution"
   ]
  },
  {
   "cell_type": "markdown",
   "metadata": {},
   "source": [
    "## Comparing False Positive Rates\n",
    "\n",
    "Let's examine the rate at which restaurants are predicted to have serious violations by cuisine.  "
   ]
  },
  {
   "cell_type": "code",
   "execution_count": 10,
   "metadata": {},
   "outputs": [
    {
     "data": {
      "text/html": [
       "<table>\n",
       "<thead><tr><th scope=col>asian</th><th scope=col>positive_rate</th></tr></thead>\n",
       "<tbody>\n",
       "\t<tr><td>0    </td><td>0.195</td></tr>\n",
       "\t<tr><td>1    </td><td>0.744</td></tr>\n",
       "</tbody>\n",
       "</table>\n"
      ],
      "text/latex": [
       "\\begin{tabular}{r|ll}\n",
       " asian & positive\\_rate\\\\\n",
       "\\hline\n",
       "\t 0     & 0.195\\\\\n",
       "\t 1     & 0.744\\\\\n",
       "\\end{tabular}\n"
      ],
      "text/markdown": [
       "\n",
       "| asian | positive_rate |\n",
       "|---|---|\n",
       "| 0     | 0.195 |\n",
       "| 1     | 0.744 |\n",
       "\n"
      ],
      "text/plain": [
       "  asian positive_rate\n",
       "1 0     0.195        \n",
       "2 1     0.744        "
      ]
     },
     "metadata": {},
     "output_type": "display_data"
    },
    {
     "data": {
      "text/html": [
       "<table>\n",
       "<thead><tr><th scope=col>asian</th><th scope=col>serious_viol</th><th scope=col>positive_rate</th></tr></thead>\n",
       "<tbody>\n",
       "\t<tr><td>0    </td><td>FALSE</td><td>0.132</td></tr>\n",
       "\t<tr><td>0    </td><td> TRUE</td><td>0.276</td></tr>\n",
       "\t<tr><td>1    </td><td>FALSE</td><td>0.671</td></tr>\n",
       "\t<tr><td>1    </td><td> TRUE</td><td>0.794</td></tr>\n",
       "</tbody>\n",
       "</table>\n"
      ],
      "text/latex": [
       "\\begin{tabular}{r|lll}\n",
       " asian & serious\\_viol & positive\\_rate\\\\\n",
       "\\hline\n",
       "\t 0     & FALSE & 0.132\\\\\n",
       "\t 0     &  TRUE & 0.276\\\\\n",
       "\t 1     & FALSE & 0.671\\\\\n",
       "\t 1     &  TRUE & 0.794\\\\\n",
       "\\end{tabular}\n"
      ],
      "text/markdown": [
       "\n",
       "| asian | serious_viol | positive_rate |\n",
       "|---|---|---|\n",
       "| 0     | FALSE | 0.132 |\n",
       "| 0     |  TRUE | 0.276 |\n",
       "| 1     | FALSE | 0.671 |\n",
       "| 1     |  TRUE | 0.794 |\n",
       "\n"
      ],
      "text/plain": [
       "  asian serious_viol positive_rate\n",
       "1 0     FALSE        0.132        \n",
       "2 0      TRUE        0.276        \n",
       "3 1     FALSE        0.671        \n",
       "4 1      TRUE        0.794        "
      ]
     },
     "metadata": {},
     "output_type": "display_data"
    }
   ],
   "source": [
    "## Let's add a variable to indicate whether the prediction is above the cutpoint\n",
    "test_sub <- test_sub %>% \n",
    "    mutate(pred_above_cut = score_pred >= 0.5)\n",
    "\n",
    "## Now calculate what the positive rate is by Asian vs. non-Asian establishment\n",
    "\n",
    "## Then do the same by whether the establishment actually had a serious violation.  \n",
    "\n",
    "# WRITE CODE HERE\n",
    "# START solution\n",
    "test_sub %>% \n",
    "    group_by(asian) %>%\n",
    "    summarize(positive_rate = mean(pred_above_cut))\n",
    "\n",
    "test_sub %>% \n",
    "    group_by(asian, serious_viol) %>%\n",
    "    summarize(positive_rate = mean(pred_above_cut))\n",
    "# END solution"
   ]
  },
  {
   "cell_type": "markdown",
   "metadata": {},
   "source": [
    "To understand what is driving this disparity, we can plot the densities of inspection scores grouped by cuisine. "
   ]
  },
  {
   "cell_type": "code",
   "execution_count": 11,
   "metadata": {},
   "outputs": [
    {
     "data": {
      "image/png": "[encoded data removed]",
      "text/plain": [
       "plot without title"
      ]
     },
     "metadata": {},
     "output_type": "display_data"
    }
   ],
   "source": [
    "#run this cell to plot the densities\n",
    "ggplot(kcDat, aes(x=score, fill=as.factor(asian))) +\n",
    "  geom_density(alpha=0.4) + geom_vline(xintercept = 10, linetype=\"dotted\")"
   ]
  },
  {
   "cell_type": "markdown",
   "metadata": {},
   "source": [
    "We can see from the distributions that no matter where the cutoff is set, more Asian restaurants will likely be predicted as high risk than non-Asian restaurants."
   ]
  },
  {
   "cell_type": "markdown",
   "metadata": {},
   "source": [
    "Discussion Questions: \n",
    "\n",
    "   - Which model would you pick? Why?\n",
    "   - How would you think about the fairness of this algorithmic targeting? \n",
    "   - Does the use of Yelp data worry you? \n",
    "   - What other data might you be interested in adding to your model? Are there any potential biases or drawbacks to adding the data?\n",
    "   - Consider the fact that some inspectors are more harsh than others when grading (see https://www.thestranger.com/seattle/mr-clean/Content?oid=568012). What will this mean for the allocation of inspection resources? "
   ]
  },
  {
   "cell_type": "markdown",
   "metadata": {},
   "source": [
    "References\n",
    "\n",
    "   - Kristen M. Altenburger and Daniel E. Ho, [Is Yelp Actually Cleaning Up the Restaurant Industry? A Re-Analysis on the Relative Usefulness of Consumer Reviews](https://dho.stanford.edu/wp-content/uploads/YelpReplicate_FinalWWW2019_neutral.pdf) WWW Proceedings (2019).\n",
    "   - Kristen M. Altenburger and Daniel E. Ho, [When Algorithms Import Private bias into Public Enforcement: The Promise and Limitations of Statistical Debiasing Solutions](https://dho.stanford.edu/wp-content/uploads/JITE-FinalVersion.pdf) 175 Journal of Institutional and Theoretical Economics 98-122 (2019)."
   ]
  }
 ],
 "metadata": {
  "kernelspec": {
   "display_name": "R",
   "language": "R",
   "name": "ir"
  },
  "language_info": {
   "codemirror_mode": "r",
   "file_extension": ".r",
   "mimetype": "text/x-r-source",
   "name": "R",
   "pygments_lexer": "r",
   "version": "3.5.1"
  }
 },
 "nbformat": 4,
 "nbformat_minor": 2
}
