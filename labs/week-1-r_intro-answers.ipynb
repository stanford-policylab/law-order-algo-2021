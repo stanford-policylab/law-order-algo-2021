{
 "cells": [
  {
   "cell_type": "markdown",
   "metadata": {},
   "source": [
    "# Law, Order, and Algorithms\n",
    "## Introduction to `R`"
   ]
  },
  {
   "cell_type": "code",
   "execution_count": 5,
   "metadata": {},
   "outputs": [],
   "source": [
    "# Some initial setup\n",
    "options(digits = 3)"
   ]
  },
  {
   "cell_type": "markdown",
   "metadata": {},
   "source": [
    "### `R` basics\n",
    "\n",
    "#### Assignment\n",
    "\n",
    "The convention for assigning values to variables in `R` is an arrow (`<-`), where the direction of the arrow indicates the direction of assignment.\n",
    "For example, if we want to assign the value `12` to a variable named `A`,"
   ]
  },
  {
   "cell_type": "code",
   "execution_count": 6,
   "metadata": {},
   "outputs": [
    {
     "name": "stdout",
     "output_type": "stream",
     "text": [
      "[1] 12\n",
      "[1] 12\n"
     ]
    }
   ],
   "source": [
    "A <- 12   # This works\n",
    "print(A)  # ... and this statement shows us (\"prints\") the value currently assigned to A\n",
    "12 -> A   # So does this\n",
    "print(A)"
   ]
  },
  {
   "cell_type": "markdown",
   "metadata": {},
   "source": [
    "The more \"standard\" assignment using equal sign (`=`) also works, but _only for assignment to the left_. In other words"
   ]
  },
  {
   "cell_type": "code",
   "execution_count": 7,
   "metadata": {},
   "outputs": [],
   "source": [
    "A = 12  # This works"
   ]
  },
  {
   "cell_type": "code",
   "execution_count": 8,
   "metadata": {},
   "outputs": [],
   "source": [
    "12 = A  # But this doesn't!"
   ]
  },
  {
   "cell_type": "markdown",
   "metadata": {},
   "source": [
    "#### Vectors\n",
    "\n",
    "The native unit for variables in `R` is a vector. For example, the `A` variable we created above is actually a _vector_ of length 1.\n",
    "We can create vectors of longer length by `c`ombining multiple values together."
   ]
  },
  {
   "cell_type": "code",
   "execution_count": 9,
   "metadata": {},
   "outputs": [
    {
     "name": "stdout",
     "output_type": "stream",
     "text": [
      "[1] 1 2 3\n",
      "[1] \"this\"  \"that\"  \"those\"\n"
     ]
    }
   ],
   "source": [
    "X <- c(1, 2, 3)\n",
    "print(X)\n",
    "Y <- c(\"this\", \"that\", \"those\")\n",
    "print(Y)"
   ]
  },
  {
   "cell_type": "markdown",
   "metadata": {},
   "source": [
    "A `seq`uence of numbers can be created using `seq(from, to, by = 1)`.\n",
    "In other words, there is a function called `seq()` which takes three arguments, each named `from`, `to`, and `by`. \n",
    "The last argument (`by`) is optional, and will be set to `by = 1` if not supplied. \n",
    "For example,"
   ]
  },
  {
   "cell_type": "code",
   "execution_count": 10,
   "metadata": {},
   "outputs": [
    {
     "data": {
      "text/html": [
       "<ol class=list-inline>\n",
       "\t<li>1</li>\n",
       "\t<li>2</li>\n",
       "\t<li>3</li>\n",
       "\t<li>4</li>\n",
       "\t<li>5</li>\n",
       "</ol>\n"
      ],
      "text/latex": [
       "\\begin{enumerate*}\n",
       "\\item 1\n",
       "\\item 2\n",
       "\\item 3\n",
       "\\item 4\n",
       "\\item 5\n",
       "\\end{enumerate*}\n"
      ],
      "text/markdown": [
       "1. 1\n",
       "2. 2\n",
       "3. 3\n",
       "4. 4\n",
       "5. 5\n",
       "\n",
       "\n"
      ],
      "text/plain": [
       "[1] 1 2 3 4 5"
      ]
     },
     "metadata": {},
     "output_type": "display_data"
    }
   ],
   "source": [
    "seq(1, 5)  # Creates a sequence of 1 to 5"
   ]
  },
  {
   "cell_type": "code",
   "execution_count": 11,
   "metadata": {},
   "outputs": [
    {
     "data": {
      "text/html": [
       "<ol class=list-inline>\n",
       "\t<li>1</li>\n",
       "\t<li>3</li>\n",
       "\t<li>5</li>\n",
       "</ol>\n"
      ],
      "text/latex": [
       "\\begin{enumerate*}\n",
       "\\item 1\n",
       "\\item 3\n",
       "\\item 5\n",
       "\\end{enumerate*}\n"
      ],
      "text/markdown": [
       "1. 1\n",
       "2. 3\n",
       "3. 5\n",
       "\n",
       "\n"
      ],
      "text/plain": [
       "[1] 1 3 5"
      ]
     },
     "metadata": {},
     "output_type": "display_data"
    }
   ],
   "source": [
    "seq(1, 5, 2)  # Creates a sequence of 1 to 5, but in steps of 2"
   ]
  },
  {
   "cell_type": "markdown",
   "metadata": {},
   "source": [
    "Since sequences in steps of 1 are created quite often, `R` provides a short-hand notation in the form `from:to`. \n",
    "For example,"
   ]
  },
  {
   "cell_type": "code",
   "execution_count": 12,
   "metadata": {},
   "outputs": [
    {
     "data": {
      "text/html": [
       "<ol class=list-inline>\n",
       "\t<li>1</li>\n",
       "\t<li>2</li>\n",
       "\t<li>3</li>\n",
       "\t<li>4</li>\n",
       "\t<li>5</li>\n",
       "</ol>\n"
      ],
      "text/latex": [
       "\\begin{enumerate*}\n",
       "\\item 1\n",
       "\\item 2\n",
       "\\item 3\n",
       "\\item 4\n",
       "\\item 5\n",
       "\\end{enumerate*}\n"
      ],
      "text/markdown": [
       "1. 1\n",
       "2. 2\n",
       "3. 3\n",
       "4. 4\n",
       "5. 5\n",
       "\n",
       "\n"
      ],
      "text/plain": [
       "[1] 1 2 3 4 5"
      ]
     },
     "metadata": {},
     "output_type": "display_data"
    }
   ],
   "source": [
    "1:5  # Short-hand notation for generating a sequence of 1 to 5, in increments of 1"
   ]
  },
  {
   "cell_type": "markdown",
   "metadata": {},
   "source": [
    "Use square braces (`[]`) to index a vector (the first element is at index `1`, _not_ `0`)"
   ]
  },
  {
   "cell_type": "code",
   "execution_count": 13,
   "metadata": {},
   "outputs": [
    {
     "data": {
      "text/html": [
       "10"
      ],
      "text/latex": [
       "10"
      ],
      "text/markdown": [
       "10"
      ],
      "text/plain": [
       "[1] 10"
      ]
     },
     "metadata": {},
     "output_type": "display_data"
    }
   ],
   "source": [
    "X <- c(10, 11, 12, 13)\n",
    "X[1]"
   ]
  },
  {
   "cell_type": "markdown",
   "metadata": {},
   "source": [
    "Note that you _can_ index a value that is larger than the length of the vector. \n",
    "`R` will NOT fail, but return a special value called `NA`."
   ]
  },
  {
   "cell_type": "code",
   "execution_count": 14,
   "metadata": {},
   "outputs": [
    {
     "data": {
      "text/html": [
       "&lt;NA&gt;"
      ],
      "text/latex": [
       "<NA>"
      ],
      "text/markdown": [
       "&lt;NA&gt;"
      ],
      "text/plain": [
       "[1] NA"
      ]
     },
     "metadata": {},
     "output_type": "display_data"
    }
   ],
   "source": [
    "X[500000]"
   ]
  },
  {
   "cell_type": "markdown",
   "metadata": {},
   "source": [
    "In `R`, a _negative_ index is used to _exclude_ elements."
   ]
  },
  {
   "cell_type": "code",
   "execution_count": 15,
   "metadata": {},
   "outputs": [
    {
     "data": {
      "text/html": [
       "<ol class=list-inline>\n",
       "\t<li>11</li>\n",
       "\t<li>12</li>\n",
       "\t<li>13</li>\n",
       "</ol>\n"
      ],
      "text/latex": [
       "\\begin{enumerate*}\n",
       "\\item 11\n",
       "\\item 12\n",
       "\\item 13\n",
       "\\end{enumerate*}\n"
      ],
      "text/markdown": [
       "1. 11\n",
       "2. 12\n",
       "3. 13\n",
       "\n",
       "\n"
      ],
      "text/plain": [
       "[1] 11 12 13"
      ]
     },
     "metadata": {},
     "output_type": "display_data"
    }
   ],
   "source": [
    "X[-1]  # This will return all but the first element of X"
   ]
  },
  {
   "cell_type": "markdown",
   "metadata": {},
   "source": [
    "A vector can also be used to index multiple elements of another vector.\n",
    "For example, if you want the second and fourth elements of `X`,"
   ]
  },
  {
   "cell_type": "code",
   "execution_count": 16,
   "metadata": {},
   "outputs": [
    {
     "data": {
      "text/html": [
       "<ol class=list-inline>\n",
       "\t<li>11</li>\n",
       "\t<li>13</li>\n",
       "</ol>\n"
      ],
      "text/latex": [
       "\\begin{enumerate*}\n",
       "\\item 11\n",
       "\\item 13\n",
       "\\end{enumerate*}\n"
      ],
      "text/markdown": [
       "1. 11\n",
       "2. 13\n",
       "\n",
       "\n"
      ],
      "text/plain": [
       "[1] 11 13"
      ]
     },
     "metadata": {},
     "output_type": "display_data"
    }
   ],
   "source": [
    "ind <- c(2, 4)  # A vector that we create for the sole purpose of indexing another vector, X\n",
    "X[ind]          # We get the second and fourth elements of X, because ind = (2, 4)"
   ]
  },
  {
   "cell_type": "markdown",
   "metadata": {},
   "source": [
    "#### Exercise: vector\n",
    "Create a sequence of numbers from 5 to 10, and then select the numbers 6, 7, and 8 from this sequence."
   ]
  },
  {
   "cell_type": "code",
   "execution_count": 17,
   "metadata": {},
   "outputs": [
    {
     "data": {
      "text/html": [
       "<ol class=list-inline>\n",
       "\t<li>6</li>\n",
       "\t<li>7</li>\n",
       "\t<li>8</li>\n",
       "</ol>\n"
      ],
      "text/latex": [
       "\\begin{enumerate*}\n",
       "\\item 6\n",
       "\\item 7\n",
       "\\item 8\n",
       "\\end{enumerate*}\n"
      ],
      "text/markdown": [
       "1. 6\n",
       "2. 7\n",
       "3. 8\n",
       "\n",
       "\n"
      ],
      "text/plain": [
       "[1] 6 7 8"
      ]
     },
     "metadata": {},
     "output_type": "display_data"
    }
   ],
   "source": [
    "# WRITE CODE HERE\n",
    "# START solution\n",
    "x <- 5:10\n",
    "x[c(2,3,4)]\n",
    "# END solution"
   ]
  },
  {
   "cell_type": "markdown",
   "metadata": {},
   "source": [
    "#### Vector operations\n",
    "\n",
    "Vector are a native data structure in `R`, and many operations are \"vectorized\", meaning that they work directly on vectors.\n",
    "Basic math operations are done element-wise."
   ]
  },
  {
   "cell_type": "code",
   "execution_count": 18,
   "metadata": {},
   "outputs": [
    {
     "data": {
      "text/html": [
       "<ol class=list-inline>\n",
       "\t<li>7</li>\n",
       "\t<li>4</li>\n",
       "</ol>\n"
      ],
      "text/latex": [
       "\\begin{enumerate*}\n",
       "\\item 7\n",
       "\\item 4\n",
       "\\end{enumerate*}\n"
      ],
      "text/markdown": [
       "1. 7\n",
       "2. 4\n",
       "\n",
       "\n"
      ],
      "text/plain": [
       "[1] 7 4"
      ]
     },
     "metadata": {},
     "output_type": "display_data"
    }
   ],
   "source": [
    "A <- c(1, 2)\n",
    "B <- c(6, 2)\n",
    "\n",
    "A + B  # == c(1 + 6, 2 + 2)"
   ]
  },
  {
   "cell_type": "code",
   "execution_count": 19,
   "metadata": {},
   "outputs": [
    {
     "data": {
      "text/html": [
       "<ol class=list-inline>\n",
       "\t<li>-5</li>\n",
       "\t<li>0</li>\n",
       "</ol>\n"
      ],
      "text/latex": [
       "\\begin{enumerate*}\n",
       "\\item -5\n",
       "\\item 0\n",
       "\\end{enumerate*}\n"
      ],
      "text/markdown": [
       "1. -5\n",
       "2. 0\n",
       "\n",
       "\n"
      ],
      "text/plain": [
       "[1] -5  0"
      ]
     },
     "metadata": {},
     "output_type": "display_data"
    }
   ],
   "source": [
    "A - B  # == c(1 - 6, 2 - 2)"
   ]
  },
  {
   "cell_type": "code",
   "execution_count": 20,
   "metadata": {},
   "outputs": [
    {
     "data": {
      "text/html": [
       "<ol class=list-inline>\n",
       "\t<li>6</li>\n",
       "\t<li>4</li>\n",
       "</ol>\n"
      ],
      "text/latex": [
       "\\begin{enumerate*}\n",
       "\\item 6\n",
       "\\item 4\n",
       "\\end{enumerate*}\n"
      ],
      "text/markdown": [
       "1. 6\n",
       "2. 4\n",
       "\n",
       "\n"
      ],
      "text/plain": [
       "[1] 6 4"
      ]
     },
     "metadata": {},
     "output_type": "display_data"
    }
   ],
   "source": [
    "A * B  # == c(1 * 6, 2 * 2)"
   ]
  },
  {
   "cell_type": "code",
   "execution_count": 21,
   "metadata": {},
   "outputs": [
    {
     "data": {
      "text/html": [
       "<ol class=list-inline>\n",
       "\t<li>6</li>\n",
       "\t<li>1</li>\n",
       "</ol>\n"
      ],
      "text/latex": [
       "\\begin{enumerate*}\n",
       "\\item 6\n",
       "\\item 1\n",
       "\\end{enumerate*}\n"
      ],
      "text/markdown": [
       "1. 6\n",
       "2. 1\n",
       "\n",
       "\n"
      ],
      "text/plain": [
       "[1] 6 1"
      ]
     },
     "metadata": {},
     "output_type": "display_data"
    }
   ],
   "source": [
    "B / A  # == c(6 / 1, 2 / 2)"
   ]
  },
  {
   "cell_type": "code",
   "execution_count": 22,
   "metadata": {},
   "outputs": [
    {
     "data": {
      "text/html": [
       "<ol class=list-inline>\n",
       "\t<li>36</li>\n",
       "\t<li>4</li>\n",
       "</ol>\n"
      ],
      "text/latex": [
       "\\begin{enumerate*}\n",
       "\\item 36\n",
       "\\item 4\n",
       "\\end{enumerate*}\n"
      ],
      "text/markdown": [
       "1. 36\n",
       "2. 4\n",
       "\n",
       "\n"
      ],
      "text/plain": [
       "[1] 36  4"
      ]
     },
     "metadata": {},
     "output_type": "display_data"
    }
   ],
   "source": [
    "B^2  # == c(6*6, 2*2)"
   ]
  },
  {
   "cell_type": "markdown",
   "metadata": {},
   "source": [
    "Comparisons are also done element-wise"
   ]
  },
  {
   "cell_type": "code",
   "execution_count": 23,
   "metadata": {},
   "outputs": [
    {
     "data": {
      "text/html": [
       "<ol class=list-inline>\n",
       "\t<li>FALSE</li>\n",
       "\t<li>TRUE</li>\n",
       "</ol>\n"
      ],
      "text/latex": [
       "\\begin{enumerate*}\n",
       "\\item FALSE\n",
       "\\item TRUE\n",
       "\\end{enumerate*}\n"
      ],
      "text/markdown": [
       "1. FALSE\n",
       "2. TRUE\n",
       "\n",
       "\n"
      ],
      "text/plain": [
       "[1] FALSE  TRUE"
      ]
     },
     "metadata": {},
     "output_type": "display_data"
    }
   ],
   "source": [
    "A == B  # == c(1 == 6, 2 == 2)"
   ]
  },
  {
   "cell_type": "markdown",
   "metadata": {},
   "source": [
    "Note the double equal sign (`==`) for comparing equality! (One equal sign would be assignment.)"
   ]
  },
  {
   "cell_type": "code",
   "execution_count": 24,
   "metadata": {},
   "outputs": [
    {
     "data": {
      "text/html": [
       "<ol class=list-inline>\n",
       "\t<li>TRUE</li>\n",
       "\t<li>FALSE</li>\n",
       "</ol>\n"
      ],
      "text/latex": [
       "\\begin{enumerate*}\n",
       "\\item TRUE\n",
       "\\item FALSE\n",
       "\\end{enumerate*}\n"
      ],
      "text/markdown": [
       "1. TRUE\n",
       "2. FALSE\n",
       "\n",
       "\n"
      ],
      "text/plain": [
       "[1]  TRUE FALSE"
      ]
     },
     "metadata": {},
     "output_type": "display_data"
    }
   ],
   "source": [
    "A < B  # == c(1 < 6, 2 < 2)"
   ]
  },
  {
   "cell_type": "markdown",
   "metadata": {},
   "source": [
    "There are many functions in `R` that operate on units of vectors. \n",
    "Some examples are:"
   ]
  },
  {
   "cell_type": "code",
   "execution_count": 25,
   "metadata": {},
   "outputs": [
    {
     "data": {
      "text/html": [
       "<ol class=list-inline>\n",
       "\t<li>-2.30258509299405</li>\n",
       "\t<li>0</li>\n",
       "\t<li>2.30258509299405</li>\n",
       "\t<li>4.60517018598809</li>\n",
       "</ol>\n"
      ],
      "text/latex": [
       "\\begin{enumerate*}\n",
       "\\item -2.30258509299405\n",
       "\\item 0\n",
       "\\item 2.30258509299405\n",
       "\\item 4.60517018598809\n",
       "\\end{enumerate*}\n"
      ],
      "text/markdown": [
       "1. -2.30258509299405\n",
       "2. 0\n",
       "3. 2.30258509299405\n",
       "4. 4.60517018598809\n",
       "\n",
       "\n"
      ],
      "text/plain": [
       "[1] -2.30  0.00  2.30  4.61"
      ]
     },
     "metadata": {},
     "output_type": "display_data"
    }
   ],
   "source": [
    "X <- c(0.1, 1, 10, 100)\n",
    "log(X)  # Element-wise log"
   ]
  },
  {
   "cell_type": "code",
   "execution_count": 26,
   "metadata": {},
   "outputs": [
    {
     "data": {
      "text/html": [
       "<ol class=list-inline>\n",
       "\t<li>1.10517091807565</li>\n",
       "\t<li>2.71828182845905</li>\n",
       "\t<li>22026.4657948067</li>\n",
       "\t<li>2.68811714181614e+43</li>\n",
       "</ol>\n"
      ],
      "text/latex": [
       "\\begin{enumerate*}\n",
       "\\item 1.10517091807565\n",
       "\\item 2.71828182845905\n",
       "\\item 22026.4657948067\n",
       "\\item 2.68811714181614e+43\n",
       "\\end{enumerate*}\n"
      ],
      "text/markdown": [
       "1. 1.10517091807565\n",
       "2. 2.71828182845905\n",
       "3. 22026.4657948067\n",
       "4. 2.68811714181614e+43\n",
       "\n",
       "\n"
      ],
      "text/plain": [
       "[1] 1.11e+00 2.72e+00 2.20e+04 2.69e+43"
      ]
     },
     "metadata": {},
     "output_type": "display_data"
    }
   ],
   "source": [
    "exp(X)  # Element-wise exponential"
   ]
  },
  {
   "cell_type": "code",
   "execution_count": 27,
   "metadata": {},
   "outputs": [
    {
     "data": {
      "text/html": [
       "<ol class=list-inline>\n",
       "\t<li>0.316227766016838</li>\n",
       "\t<li>1</li>\n",
       "\t<li>3.16227766016838</li>\n",
       "\t<li>10</li>\n",
       "</ol>\n"
      ],
      "text/latex": [
       "\\begin{enumerate*}\n",
       "\\item 0.316227766016838\n",
       "\\item 1\n",
       "\\item 3.16227766016838\n",
       "\\item 10\n",
       "\\end{enumerate*}\n"
      ],
      "text/markdown": [
       "1. 0.316227766016838\n",
       "2. 1\n",
       "3. 3.16227766016838\n",
       "4. 10\n",
       "\n",
       "\n"
      ],
      "text/plain": [
       "[1]  0.316  1.000  3.162 10.000"
      ]
     },
     "metadata": {},
     "output_type": "display_data"
    }
   ],
   "source": [
    "sqrt(X)  # Element-wise square-root"
   ]
  },
  {
   "cell_type": "code",
   "execution_count": 28,
   "metadata": {},
   "outputs": [
    {
     "data": {
      "text/html": [
       "27.775"
      ],
      "text/latex": [
       "27.775"
      ],
      "text/markdown": [
       "27.775"
      ],
      "text/plain": [
       "[1] 27.8"
      ]
     },
     "metadata": {},
     "output_type": "display_data"
    }
   ],
   "source": [
    "mean(X)  # Mean"
   ]
  },
  {
   "cell_type": "code",
   "execution_count": 29,
   "metadata": {},
   "outputs": [
    {
     "data": {
      "text/html": [
       "48.3570315466117"
      ],
      "text/latex": [
       "48.3570315466117"
      ],
      "text/markdown": [
       "48.3570315466117"
      ],
      "text/plain": [
       "[1] 48.4"
      ]
     },
     "metadata": {},
     "output_type": "display_data"
    }
   ],
   "source": [
    "sd(X)  # (Sample) standard deviation"
   ]
  },
  {
   "cell_type": "code",
   "execution_count": 30,
   "metadata": {},
   "outputs": [
    {
     "data": {
      "text/html": [
       "2338.4025"
      ],
      "text/latex": [
       "2338.4025"
      ],
      "text/markdown": [
       "2338.4025"
      ],
      "text/plain": [
       "[1] 2338"
      ]
     },
     "metadata": {},
     "output_type": "display_data"
    }
   ],
   "source": [
    "var(X)  # (Sample) variance"
   ]
  },
  {
   "cell_type": "code",
   "execution_count": 31,
   "metadata": {},
   "outputs": [
    {
     "data": {
      "text/html": [
       "100"
      ],
      "text/latex": [
       "100"
      ],
      "text/markdown": [
       "100"
      ],
      "text/plain": [
       "[1] 100"
      ]
     },
     "metadata": {},
     "output_type": "display_data"
    }
   ],
   "source": [
    "max(X)  # Maximum value"
   ]
  },
  {
   "cell_type": "code",
   "execution_count": 32,
   "metadata": {},
   "outputs": [
    {
     "data": {
      "text/html": [
       "0.1"
      ],
      "text/latex": [
       "0.1"
      ],
      "text/markdown": [
       "0.1"
      ],
      "text/plain": [
       "[1] 0.1"
      ]
     },
     "metadata": {},
     "output_type": "display_data"
    }
   ],
   "source": [
    "min(X)  # Minimum value"
   ]
  },
  {
   "cell_type": "code",
   "execution_count": 33,
   "metadata": {},
   "outputs": [
    {
     "data": {
      "text/html": [
       "5.5"
      ],
      "text/latex": [
       "5.5"
      ],
      "text/markdown": [
       "5.5"
      ],
      "text/plain": [
       "[1] 5.5"
      ]
     },
     "metadata": {},
     "output_type": "display_data"
    }
   ],
   "source": [
    "median(X)  # Median value"
   ]
  },
  {
   "cell_type": "code",
   "execution_count": 34,
   "metadata": {},
   "outputs": [
    {
     "data": {
      "text/html": [
       "111.1"
      ],
      "text/latex": [
       "111.1"
      ],
      "text/markdown": [
       "111.1"
      ],
      "text/plain": [
       "[1] 111"
      ]
     },
     "metadata": {},
     "output_type": "display_data"
    }
   ],
   "source": [
    "sum(X)  # Sum of all values"
   ]
  },
  {
   "cell_type": "code",
   "execution_count": 35,
   "metadata": {},
   "outputs": [
    {
     "data": {
      "text/html": [
       "100"
      ],
      "text/latex": [
       "100"
      ],
      "text/markdown": [
       "100"
      ],
      "text/plain": [
       "[1] 100"
      ]
     },
     "metadata": {},
     "output_type": "display_data"
    }
   ],
   "source": [
    "prod(X)  # Product of all values"
   ]
  },
  {
   "cell_type": "code",
   "execution_count": 36,
   "metadata": {},
   "outputs": [
    {
     "data": {
      "text/html": [
       "<dl class=dl-horizontal>\n",
       "\t<dt>10%</dt>\n",
       "\t\t<dd>0.37</dd>\n",
       "\t<dt>50%</dt>\n",
       "\t\t<dd>5.5</dd>\n",
       "\t<dt>90%</dt>\n",
       "\t\t<dd>73</dd>\n",
       "</dl>\n"
      ],
      "text/latex": [
       "\\begin{description*}\n",
       "\\item[10\\textbackslash{}\\%] 0.37\n",
       "\\item[50\\textbackslash{}\\%] 5.5\n",
       "\\item[90\\textbackslash{}\\%] 73\n",
       "\\end{description*}\n"
      ],
      "text/markdown": [
       "10%\n",
       ":   0.3750%\n",
       ":   5.590%\n",
       ":   73\n",
       "\n"
      ],
      "text/plain": [
       "  10%   50%   90% \n",
       " 0.37  5.50 73.00 "
      ]
     },
     "metadata": {},
     "output_type": "display_data"
    }
   ],
   "source": [
    "quantile(X, probs = c(.1, .5, .9))  # Quantile at specified probs"
   ]
  },
  {
   "cell_type": "code",
   "execution_count": 37,
   "metadata": {},
   "outputs": [
    {
     "data": {
      "text/html": [
       "4"
      ],
      "text/latex": [
       "4"
      ],
      "text/markdown": [
       "4"
      ],
      "text/plain": [
       "[1] 4"
      ]
     },
     "metadata": {},
     "output_type": "display_data"
    }
   ],
   "source": [
    "length(X)  # Length of vector"
   ]
  },
  {
   "cell_type": "markdown",
   "metadata": {},
   "source": [
    "#### Exercise: vector operations\n",
    "\n",
    "Generate a sequence of 1,000 random numbers between 0 and 1, and calculate their\n",
    "1. mean\n",
    "2. variance\n",
    "3. 25%, 50%, and 75% quantile\n",
    "\n",
    "Hint: you can use `runif(n)` to generate n random numbers between 0 and 1."
   ]
  },
  {
   "cell_type": "code",
   "execution_count": 38,
   "metadata": {},
   "outputs": [
    {
     "data": {
      "text/html": [
       "0.50337742927717"
      ],
      "text/latex": [
       "0.50337742927717"
      ],
      "text/markdown": [
       "0.50337742927717"
      ],
      "text/plain": [
       "[1] 0.503"
      ]
     },
     "metadata": {},
     "output_type": "display_data"
    },
    {
     "data": {
      "text/html": [
       "0.079222219216944"
      ],
      "text/latex": [
       "0.079222219216944"
      ],
      "text/markdown": [
       "0.079222219216944"
      ],
      "text/plain": [
       "[1] 0.0792"
      ]
     },
     "metadata": {},
     "output_type": "display_data"
    },
    {
     "data": {
      "text/html": [
       "<dl class=dl-horizontal>\n",
       "\t<dt>25%</dt>\n",
       "\t\t<dd>0.263894495146815</dd>\n",
       "\t<dt>50%</dt>\n",
       "\t\t<dd>0.508308651158586</dd>\n",
       "\t<dt>75%</dt>\n",
       "\t\t<dd>0.745992578740697</dd>\n",
       "</dl>\n"
      ],
      "text/latex": [
       "\\begin{description*}\n",
       "\\item[25\\textbackslash{}\\%] 0.263894495146815\n",
       "\\item[50\\textbackslash{}\\%] 0.508308651158586\n",
       "\\item[75\\textbackslash{}\\%] 0.745992578740697\n",
       "\\end{description*}\n"
      ],
      "text/markdown": [
       "25%\n",
       ":   0.26389449514681550%\n",
       ":   0.50830865115858675%\n",
       ":   0.745992578740697\n",
       "\n"
      ],
      "text/plain": [
       "  25%   50%   75% \n",
       "0.264 0.508 0.746 "
      ]
     },
     "metadata": {},
     "output_type": "display_data"
    }
   ],
   "source": [
    "# WRITE CODE HERE\n",
    "# START solution\n",
    "x <- runif(1000)\n",
    "\n",
    "# mean\n",
    "mean(x)\n",
    "\n",
    "# variance\n",
    "var(x)\n",
    "\n",
    "# 25%, 50%, and 75% quantile\n",
    "quantile(x, probs = c(.25, .5, .75))\n",
    "\n",
    "# END solution"
   ]
  },
  {
   "cell_type": "markdown",
   "metadata": {},
   "source": [
    "#### Strings\n",
    "\n",
    "Use the `paste` function to concatenate two or more strings. \n",
    "Numerical values are automatically converted to strings."
   ]
  },
  {
   "cell_type": "code",
   "execution_count": 39,
   "metadata": {},
   "outputs": [
    {
     "data": {
      "text/html": [
       "'One plus one equals 2 .'"
      ],
      "text/latex": [
       "'One plus one equals 2 .'"
      ],
      "text/markdown": [
       "'One plus one equals 2 .'"
      ],
      "text/plain": [
       "[1] \"One plus one equals 2 .\""
      ]
     },
     "metadata": {},
     "output_type": "display_data"
    }
   ],
   "source": [
    "paste(\"One plus one equals\", 1 + 1, \".\")"
   ]
  },
  {
   "cell_type": "markdown",
   "metadata": {},
   "source": [
    "The `paste()` function has an optional `sep` argument, which you can use to specify how the different strings are `paste`d together."
   ]
  },
  {
   "cell_type": "code",
   "execution_count": 40,
   "metadata": {},
   "outputs": [
    {
     "data": {
      "text/html": [
       "'One plus one = 2'"
      ],
      "text/latex": [
       "'One plus one = 2'"
      ],
      "text/markdown": [
       "'One plus one = 2'"
      ],
      "text/plain": [
       "[1] \"One plus one = 2\""
      ]
     },
     "metadata": {},
     "output_type": "display_data"
    }
   ],
   "source": [
    "paste(\"One plus one\", 1 + 1, sep = \" = \")"
   ]
  },
  {
   "cell_type": "markdown",
   "metadata": {},
   "source": [
    "Similar to `sep`, you can also use the optional `collapse` argument to concatenate a vector of strings instead of having them as individual arguments."
   ]
  },
  {
   "cell_type": "code",
   "execution_count": 41,
   "metadata": {},
   "outputs": [
    {
     "data": {
      "text/html": [
       "'one plus one equals two'"
      ],
      "text/latex": [
       "'one plus one equals two'"
      ],
      "text/markdown": [
       "'one plus one equals two'"
      ],
      "text/plain": [
       "[1] \"one plus one equals two\""
      ]
     },
     "metadata": {},
     "output_type": "display_data"
    }
   ],
   "source": [
    "my_strings <- c(\"one\", \"plus\", \"one\", \"equals\", \"two\")\n",
    "\n",
    "paste(my_strings, collapse=\" \")"
   ]
  },
  {
   "cell_type": "markdown",
   "metadata": {},
   "source": [
    "If you're familiar with `C`-style formatting, there is a `sprintf()` function, which literally calls the system `sprintf` `C`-library."
   ]
  },
  {
   "cell_type": "code",
   "execution_count": 42,
   "metadata": {},
   "outputs": [
    {
     "data": {
      "text/html": [
       "'One plus one = 2, and e = 2.718'"
      ],
      "text/latex": [
       "'One plus one = 2, and e = 2.718'"
      ],
      "text/markdown": [
       "'One plus one = 2, and e = 2.718'"
      ],
      "text/plain": [
       "[1] \"One plus one = 2, and e = 2.718\""
      ]
     },
     "metadata": {},
     "output_type": "display_data"
    }
   ],
   "source": [
    "sprintf(\"One plus one = %d, and e = %.3f\", 1 + 1, exp(1))"
   ]
  },
  {
   "cell_type": "markdown",
   "metadata": {},
   "source": [
    "#### Exercise: string operations\n",
    "\n",
    "Suppose you are given a vector of strings denoting items that you have. Write R code to turn this vector into a English sentence in the form of \"I have x, y, and z\". Pay extra attention to the \"and\" at the end.\n",
    "\n",
    "Example input: `c(\"one apple\", \"two pears\", \"three bananas\")`\n",
    "\n",
    "Example output: `I have one apple, two pears, and three bananas.`"
   ]
  },
  {
   "cell_type": "code",
   "execution_count": 43,
   "metadata": {},
   "outputs": [
    {
     "data": {
      "text/html": [
       "'I have a can of Coke, a bottle of Pepsi, and a glass of water'"
      ],
      "text/latex": [
       "'I have a can of Coke, a bottle of Pepsi, and a glass of water'"
      ],
      "text/markdown": [
       "'I have a can of Coke, a bottle of Pepsi, and a glass of water'"
      ],
      "text/plain": [
       "[1] \"I have a can of Coke, a bottle of Pepsi, and a glass of water\""
      ]
     },
     "metadata": {},
     "output_type": "display_data"
    },
    {
     "data": {
      "text/html": [
       "'I have a can of Coke, a bottle of Pepsi, and a glass of water'"
      ],
      "text/latex": [
       "'I have a can of Coke, a bottle of Pepsi, and a glass of water'"
      ],
      "text/markdown": [
       "'I have a can of Coke, a bottle of Pepsi, and a glass of water'"
      ],
      "text/plain": [
       "[1] \"I have a can of Coke, a bottle of Pepsi, and a glass of water\""
      ]
     },
     "metadata": {},
     "output_type": "display_data"
    }
   ],
   "source": [
    "my_items <- c(\"a can of Coke\", \"a bottle of Pepsi\", \"a glass of water\")\n",
    "\n",
    "# WRITE CODE HERE\n",
    "# START solution\n",
    "l <- length(my_items)\n",
    "\n",
    "items_str <- paste(my_items[1:(l-1)], collapse = \", \")\n",
    "\n",
    "paste(\"I have \", items_str, \", and \",my_items[l], sep=\"\")\n",
    "\n",
    "# or equivalently\n",
    "paste0(\"I have \", items_str, \", and \",my_items[l])\n",
    "\n",
    "# END solution"
   ]
  },
  {
   "cell_type": "markdown",
   "metadata": {},
   "source": [
    "### Packages\n",
    "\n",
    "`R` packages can be installed using the `install.packages()` function.\n",
    "For example, to install the `tidyverse` package (which will be used primarily in this course) you can run:\n",
    "`install.packages(\"tidyverse\")`\n",
    "\n",
    "This is like installing a piece of software, and only needs to be done once on any machine.\n",
    "\n",
    "Once a package is installed, it can be \"loaded\" into the current environment with the `library` function.\n",
    "For example, to load the `tidyverse` package, run"
   ]
  },
  {
   "cell_type": "code",
   "execution_count": 44,
   "metadata": {},
   "outputs": [
    {
     "name": "stderr",
     "output_type": "stream",
     "text": [
      "── \u001b[1mAttaching packages\u001b[22m ─────────────────────────────────────── tidyverse 1.3.0 ──\n",
      "\u001b[32m✔\u001b[39m \u001b[34mggplot2\u001b[39m 3.3.2     \u001b[32m✔\u001b[39m \u001b[34mpurrr  \u001b[39m 0.3.4\n",
      "\u001b[32m✔\u001b[39m \u001b[34mtibble \u001b[39m 3.0.3     \u001b[32m✔\u001b[39m \u001b[34mdplyr  \u001b[39m 1.0.0\n",
      "\u001b[32m✔\u001b[39m \u001b[34mtidyr  \u001b[39m 1.1.0     \u001b[32m✔\u001b[39m \u001b[34mstringr\u001b[39m 1.4.0\n",
      "\u001b[32m✔\u001b[39m \u001b[34mreadr  \u001b[39m 1.3.1     \u001b[32m✔\u001b[39m \u001b[34mforcats\u001b[39m 0.4.0\n",
      "── \u001b[1mConflicts\u001b[22m ────────────────────────────────────────── tidyverse_conflicts() ──\n",
      "\u001b[31m✖\u001b[39m \u001b[34mdplyr\u001b[39m::\u001b[32mfilter()\u001b[39m masks \u001b[34mstats\u001b[39m::filter()\n",
      "\u001b[31m✖\u001b[39m \u001b[34mdplyr\u001b[39m::\u001b[32mlag()\u001b[39m    masks \u001b[34mstats\u001b[39m::lag()\n"
     ]
    }
   ],
   "source": [
    "library(\"tidyverse\")"
   ]
  },
  {
   "cell_type": "markdown",
   "metadata": {},
   "source": [
    "Unlike `install.packages`, this needs to be done whenever you're on a new session/environment."
   ]
  }
 ],
 "metadata": {
  "kernelspec": {
   "display_name": "R",
   "language": "R",
   "name": "ir"
  },
  "language_info": {
   "codemirror_mode": "r",
   "file_extension": ".r",
   "mimetype": "text/x-r-source",
   "name": "R",
   "pygments_lexer": "r",
   "version": "3.6.3"
  }
 },
 "nbformat": 4,
 "nbformat_minor": 4
}
